{
 "cells": [
  {
   "cell_type": "markdown",
   "id": "59d209cc",
   "metadata": {},
   "source": [
    "# Film Distribution Data Analysis"
   ]
  },
  {
   "cell_type": "markdown",
   "id": "aad96e6e",
   "metadata": {},
   "source": [
    "\n",
    "**Research Objective:** To study the film distribution market and identify trends.\n",
    "\n",
    "**Source Data:** \n",
    "- Data published on the Open Data Portal of the Ministry of Culture;\n",
    "- The dataset includes information on distribution certificates, box office revenue, state funding for films, and data from the Kinopoisk website.\n",
    "\n",
    "**Research Stages:**\n",
    "- Data merging\n",
    "- Data preprocessing\n",
    "- Exploratory data analysis\n",
    "- Analysis of state-funded films\n",
    "- Conclusion\n",
    "\n",
    "**Data Description:** \n",
    "\n",
    "The *mkrf_movies table* contains information from the distribution certificate registry. A single film may have multiple distribution certificates.\n",
    "\n",
    "- `title` — film title;\n",
    "- `puNumber` — distribution certificate number;\n",
    "- `show_start_date` — film premiere date;\n",
    "- `type` — film type;\n",
    "- `film_studio` — production studio;\n",
    "- `production_country` — production country;\n",
    "- `director` — director;\n",
    "- `producer` — producer;\n",
    "- `age_restriction` — age rating;\n",
    "- `refundable_support` — amount of refundable state support;\n",
    "- `nonrefundable_support` — amount of non-refundable state support;\n",
    "- `financing_source` — source of state funding;\n",
    "- `budget` — total film budget. *This column already includes the full amount of state support. Data is available only for films that received state funding.*\n",
    "- `ratings` — film rating on Kinopoisk;\n",
    "- `genres` — film genre.\n",
    "\n",
    "*The mkrf_shows table* contains information on film screenings in Russian cinemas.\n",
    "\n",
    "- `puNumber` — distribution certificate number;\n",
    "- `box_office` — box office revenue (in rubles).\n"
   ]
  },
  {
   "cell_type": "markdown",
   "id": "301e4c27",
   "metadata": {},
   "source": [
    "## Merging Data into a Single DataFrame"
   ]
  },
  {
   "cell_type": "markdown",
   "id": "574ae310",
   "metadata": {},
   "source": [
    "> We merged the data in a way that ensures all records from the `mkrf_movies` dataset are included in the final DataFrame."
   ]
  },
  {
   "cell_type": "code",
   "execution_count": 1,
   "id": "ec5d5eea",
   "metadata": {},
   "outputs": [],
   "source": [
    "# Importing Libraries\n",
    "import pandas as pd  \n",
    "import matplotlib.pyplot as plt\n",
    "import seaborn as sns"
   ]
  },
  {
   "cell_type": "code",
   "execution_count": 2,
   "id": "650a1400",
   "metadata": {},
   "outputs": [],
   "source": [
    "# Formatting float output\n",
    "pd.set_option('display.float_format', '{:,.2f}'.format)  "
   ]
  },
  {
   "cell_type": "code",
   "execution_count": 3,
   "id": "db1cbd9c",
   "metadata": {},
   "outputs": [],
   "source": [
    "# Reading the dataset and saving it to a variable\n",
    "mkrf_movies = pd.read_csv('/datasets/mkrf_movies.csv', sep=',')  "
   ]
  },
  {
   "cell_type": "code",
   "execution_count": 4,
   "id": "04c48595",
   "metadata": {},
   "outputs": [
    {
     "data": {
      "text/html": [
       "<div>\n",
       "<style scoped>\n",
       "    .dataframe tbody tr th:only-of-type {\n",
       "        vertical-align: middle;\n",
       "    }\n",
       "\n",
       "    .dataframe tbody tr th {\n",
       "        vertical-align: top;\n",
       "    }\n",
       "\n",
       "    .dataframe thead th {\n",
       "        text-align: right;\n",
       "    }\n",
       "</style>\n",
       "<table border=\"1\" class=\"dataframe\">\n",
       "  <thead>\n",
       "    <tr style=\"text-align: right;\">\n",
       "      <th></th>\n",
       "      <th>title</th>\n",
       "      <th>puNumber</th>\n",
       "      <th>show_start_date</th>\n",
       "      <th>type</th>\n",
       "      <th>film_studio</th>\n",
       "      <th>production_country</th>\n",
       "      <th>director</th>\n",
       "      <th>producer</th>\n",
       "      <th>age_restriction</th>\n",
       "      <th>refundable_support</th>\n",
       "      <th>nonrefundable_support</th>\n",
       "      <th>budget</th>\n",
       "      <th>financing_source</th>\n",
       "      <th>ratings</th>\n",
       "      <th>genres</th>\n",
       "    </tr>\n",
       "  </thead>\n",
       "  <tbody>\n",
       "    <tr>\n",
       "      <th>0</th>\n",
       "      <td>Открытый простор</td>\n",
       "      <td>221048915</td>\n",
       "      <td>2015-11-27T12:00:00.000Z</td>\n",
       "      <td>Художественный</td>\n",
       "      <td>Тачстоун Пикчерз, Кобальт Пикчерз, Бикон Пикче...</td>\n",
       "      <td>США</td>\n",
       "      <td>Кевин Костнер</td>\n",
       "      <td>Дэвид Валдес, Кевин Костнер, Джейк Эбертс</td>\n",
       "      <td>«18+» - запрещено для детей</td>\n",
       "      <td>NaN</td>\n",
       "      <td>NaN</td>\n",
       "      <td>NaN</td>\n",
       "      <td>NaN</td>\n",
       "      <td>7.2</td>\n",
       "      <td>боевик,драма,мелодрама</td>\n",
       "    </tr>\n",
       "    <tr>\n",
       "      <th>1</th>\n",
       "      <td>Особо важное задание</td>\n",
       "      <td>111013716</td>\n",
       "      <td>2016-09-13T12:00:00.000Z</td>\n",
       "      <td>Художественный</td>\n",
       "      <td>Киностудия \"Мосфильм\"</td>\n",
       "      <td>СССР</td>\n",
       "      <td>Е.Матвеев</td>\n",
       "      <td>NaN</td>\n",
       "      <td>«6+» - для детей старше 6 лет</td>\n",
       "      <td>NaN</td>\n",
       "      <td>NaN</td>\n",
       "      <td>NaN</td>\n",
       "      <td>NaN</td>\n",
       "      <td>6.6</td>\n",
       "      <td>драма,военный</td>\n",
       "    </tr>\n",
       "    <tr>\n",
       "      <th>2</th>\n",
       "      <td>Особо опасен</td>\n",
       "      <td>221038416</td>\n",
       "      <td>2016-10-10T12:00:00.000Z</td>\n",
       "      <td>Художественный</td>\n",
       "      <td>Юниверсал Пикчерз, Кикстарт Продакшнз, Марк Пл...</td>\n",
       "      <td>США</td>\n",
       "      <td>Тимур Бекмамбетов</td>\n",
       "      <td>Джим Лемли, Джейсон Нетер, Марк Е.Платт, Яйн Смит</td>\n",
       "      <td>«18+» - запрещено для детей</td>\n",
       "      <td>NaN</td>\n",
       "      <td>NaN</td>\n",
       "      <td>NaN</td>\n",
       "      <td>NaN</td>\n",
       "      <td>6.8</td>\n",
       "      <td>фантастика,боевик,триллер</td>\n",
       "    </tr>\n",
       "    <tr>\n",
       "      <th>3</th>\n",
       "      <td>Особо опасен</td>\n",
       "      <td>221026916</td>\n",
       "      <td>2016-06-10T12:00:00.000Z</td>\n",
       "      <td>Художественный</td>\n",
       "      <td>Юниверсал Пикчерз, Кикстарт Продакшнз, Марк Пл...</td>\n",
       "      <td>США</td>\n",
       "      <td>Тимур Бекмамбетов</td>\n",
       "      <td>Джим Лемли, Джейсон Нетер, Марк Е.Платт, Яйн Смит</td>\n",
       "      <td>«18+» - запрещено для детей</td>\n",
       "      <td>NaN</td>\n",
       "      <td>NaN</td>\n",
       "      <td>NaN</td>\n",
       "      <td>NaN</td>\n",
       "      <td>6.8</td>\n",
       "      <td>фантастика,боевик,триллер</td>\n",
       "    </tr>\n",
       "    <tr>\n",
       "      <th>4</th>\n",
       "      <td>Особо опасен</td>\n",
       "      <td>221030815</td>\n",
       "      <td>2015-07-29T12:00:00.000Z</td>\n",
       "      <td>Художественный</td>\n",
       "      <td>Юниверсал Пикчерз, Кикстарт Продакшнз, Марк Пл...</td>\n",
       "      <td>США</td>\n",
       "      <td>Тимур Бекмамбетов</td>\n",
       "      <td>Джим Лемли, Джейсон Нетер, Марк Е.Платт, Яйн Смит</td>\n",
       "      <td>«18+» - запрещено для детей</td>\n",
       "      <td>NaN</td>\n",
       "      <td>NaN</td>\n",
       "      <td>NaN</td>\n",
       "      <td>NaN</td>\n",
       "      <td>6.8</td>\n",
       "      <td>фантастика,боевик,триллер</td>\n",
       "    </tr>\n",
       "    <tr>\n",
       "      <th>5</th>\n",
       "      <td>Остановился поезд</td>\n",
       "      <td>111013816</td>\n",
       "      <td>2016-09-13T12:00:00.000Z</td>\n",
       "      <td>Художественный</td>\n",
       "      <td>Киностудия \"Мосфильм\"</td>\n",
       "      <td>СССР</td>\n",
       "      <td>В.Абдрашитов</td>\n",
       "      <td>NaN</td>\n",
       "      <td>«6+» - для детей старше 6 лет</td>\n",
       "      <td>NaN</td>\n",
       "      <td>NaN</td>\n",
       "      <td>NaN</td>\n",
       "      <td>NaN</td>\n",
       "      <td>7.7</td>\n",
       "      <td>драма</td>\n",
       "    </tr>\n",
       "    <tr>\n",
       "      <th>6</th>\n",
       "      <td>Любовь и голуби</td>\n",
       "      <td>111007013</td>\n",
       "      <td>2013-10-18T12:00:00.000Z</td>\n",
       "      <td>Художественный</td>\n",
       "      <td>Киностудия \"Мосфильм\"</td>\n",
       "      <td>СССР</td>\n",
       "      <td>В.Меньшов</td>\n",
       "      <td>NaN</td>\n",
       "      <td>«12+» - для детей старше 12 лет</td>\n",
       "      <td>NaN</td>\n",
       "      <td>NaN</td>\n",
       "      <td>NaN</td>\n",
       "      <td>NaN</td>\n",
       "      <td>8.3</td>\n",
       "      <td>мелодрама,комедия</td>\n",
       "    </tr>\n",
       "    <tr>\n",
       "      <th>7</th>\n",
       "      <td>Любовь и сигареты</td>\n",
       "      <td>221074614</td>\n",
       "      <td>2014-12-29T12:00:00.000Z</td>\n",
       "      <td>Художественный</td>\n",
       "      <td>Юнайтед Артистс, Грин Стрит Филмз, Айкон Интер...</td>\n",
       "      <td>США</td>\n",
       "      <td>Джон Туртурро</td>\n",
       "      <td>Джон Пенотти, Джон Туртурро</td>\n",
       "      <td>«18+» - запрещено для детей</td>\n",
       "      <td>NaN</td>\n",
       "      <td>NaN</td>\n",
       "      <td>NaN</td>\n",
       "      <td>NaN</td>\n",
       "      <td>6.6</td>\n",
       "      <td>мюзикл,мелодрама,комедия</td>\n",
       "    </tr>\n",
       "    <tr>\n",
       "      <th>8</th>\n",
       "      <td>Отпетые мошенники.</td>\n",
       "      <td>121011416</td>\n",
       "      <td>2016-05-05T12:00:00.000Z</td>\n",
       "      <td>Художественный</td>\n",
       "      <td>Пульсар Продюксьон, ТФ1 Фильм</td>\n",
       "      <td>Франция</td>\n",
       "      <td>Эрик Беснард</td>\n",
       "      <td>Патрис Леду</td>\n",
       "      <td>«18+» - запрещено для детей</td>\n",
       "      <td>NaN</td>\n",
       "      <td>NaN</td>\n",
       "      <td>NaN</td>\n",
       "      <td>NaN</td>\n",
       "      <td>8.0</td>\n",
       "      <td>комедия,криминал</td>\n",
       "    </tr>\n",
       "    <tr>\n",
       "      <th>9</th>\n",
       "      <td>Отпуск за свой счет</td>\n",
       "      <td>111019114</td>\n",
       "      <td>2014-12-01T12:00:00.000Z</td>\n",
       "      <td>Художественный</td>\n",
       "      <td>Киностудия \"Мосфильм\", Телевидение ВНР</td>\n",
       "      <td>СССР, Венгрия</td>\n",
       "      <td>В.Титов</td>\n",
       "      <td>NaN</td>\n",
       "      <td>«12+» - для детей старше 12 лет</td>\n",
       "      <td>NaN</td>\n",
       "      <td>NaN</td>\n",
       "      <td>NaN</td>\n",
       "      <td>NaN</td>\n",
       "      <td>7.8</td>\n",
       "      <td>мелодрама,комедия</td>\n",
       "    </tr>\n",
       "  </tbody>\n",
       "</table>\n",
       "</div>"
      ],
      "text/plain": [
       "                  title   puNumber           show_start_date            type  \\\n",
       "0      Открытый простор  221048915  2015-11-27T12:00:00.000Z  Художественный   \n",
       "1  Особо важное задание  111013716  2016-09-13T12:00:00.000Z  Художественный   \n",
       "2          Особо опасен  221038416  2016-10-10T12:00:00.000Z  Художественный   \n",
       "3          Особо опасен  221026916  2016-06-10T12:00:00.000Z  Художественный   \n",
       "4          Особо опасен  221030815  2015-07-29T12:00:00.000Z  Художественный   \n",
       "5     Остановился поезд  111013816  2016-09-13T12:00:00.000Z  Художественный   \n",
       "6       Любовь и голуби  111007013  2013-10-18T12:00:00.000Z  Художественный   \n",
       "7     Любовь и сигареты  221074614  2014-12-29T12:00:00.000Z  Художественный   \n",
       "8    Отпетые мошенники.  121011416  2016-05-05T12:00:00.000Z  Художественный   \n",
       "9   Отпуск за свой счет  111019114  2014-12-01T12:00:00.000Z  Художественный   \n",
       "\n",
       "                                         film_studio production_country  \\\n",
       "0  Тачстоун Пикчерз, Кобальт Пикчерз, Бикон Пикче...                США   \n",
       "1                              Киностудия \"Мосфильм\"               СССР   \n",
       "2  Юниверсал Пикчерз, Кикстарт Продакшнз, Марк Пл...                США   \n",
       "3  Юниверсал Пикчерз, Кикстарт Продакшнз, Марк Пл...                США   \n",
       "4  Юниверсал Пикчерз, Кикстарт Продакшнз, Марк Пл...                США   \n",
       "5                              Киностудия \"Мосфильм\"               СССР   \n",
       "6                              Киностудия \"Мосфильм\"               СССР   \n",
       "7  Юнайтед Артистс, Грин Стрит Филмз, Айкон Интер...                США   \n",
       "8                     Пульсар Продюксьон, ТФ1 Фильм             Франция   \n",
       "9             Киностудия \"Мосфильм\", Телевидение ВНР      СССР, Венгрия   \n",
       "\n",
       "            director                                           producer  \\\n",
       "0      Кевин Костнер          Дэвид Валдес, Кевин Костнер, Джейк Эбертс   \n",
       "1          Е.Матвеев                                                NaN   \n",
       "2  Тимур Бекмамбетов  Джим Лемли, Джейсон Нетер, Марк Е.Платт, Яйн Смит   \n",
       "3  Тимур Бекмамбетов  Джим Лемли, Джейсон Нетер, Марк Е.Платт, Яйн Смит   \n",
       "4  Тимур Бекмамбетов  Джим Лемли, Джейсон Нетер, Марк Е.Платт, Яйн Смит   \n",
       "5       В.Абдрашитов                                                NaN   \n",
       "6          В.Меньшов                                                NaN   \n",
       "7      Джон Туртурро                        Джон Пенотти, Джон Туртурро   \n",
       "8       Эрик Беснард                                        Патрис Леду   \n",
       "9            В.Титов                                                NaN   \n",
       "\n",
       "                   age_restriction  refundable_support  nonrefundable_support  \\\n",
       "0      «18+» - запрещено для детей                 NaN                    NaN   \n",
       "1    «6+» - для детей старше 6 лет                 NaN                    NaN   \n",
       "2      «18+» - запрещено для детей                 NaN                    NaN   \n",
       "3      «18+» - запрещено для детей                 NaN                    NaN   \n",
       "4      «18+» - запрещено для детей                 NaN                    NaN   \n",
       "5    «6+» - для детей старше 6 лет                 NaN                    NaN   \n",
       "6  «12+» - для детей старше 12 лет                 NaN                    NaN   \n",
       "7      «18+» - запрещено для детей                 NaN                    NaN   \n",
       "8      «18+» - запрещено для детей                 NaN                    NaN   \n",
       "9  «12+» - для детей старше 12 лет                 NaN                    NaN   \n",
       "\n",
       "   budget financing_source ratings                     genres  \n",
       "0     NaN              NaN     7.2     боевик,драма,мелодрама  \n",
       "1     NaN              NaN     6.6              драма,военный  \n",
       "2     NaN              NaN     6.8  фантастика,боевик,триллер  \n",
       "3     NaN              NaN     6.8  фантастика,боевик,триллер  \n",
       "4     NaN              NaN     6.8  фантастика,боевик,триллер  \n",
       "5     NaN              NaN     7.7                      драма  \n",
       "6     NaN              NaN     8.3          мелодрама,комедия  \n",
       "7     NaN              NaN     6.6   мюзикл,мелодрама,комедия  \n",
       "8     NaN              NaN     8.0           комедия,криминал  \n",
       "9     NaN              NaN     7.8          мелодрама,комедия  "
      ]
     },
     "execution_count": 4,
     "metadata": {},
     "output_type": "execute_result"
    }
   ],
   "source": [
    "# Displaying the first 10 rows\n",
    "mkrf_movies.head(10)"
   ]
  },
  {
   "cell_type": "code",
   "execution_count": 5,
   "id": "46842f20",
   "metadata": {},
   "outputs": [
    {
     "name": "stdout",
     "output_type": "stream",
     "text": [
      "<class 'pandas.core.frame.DataFrame'>\n",
      "RangeIndex: 7486 entries, 0 to 7485\n",
      "Data columns (total 15 columns):\n",
      " #   Column                 Non-Null Count  Dtype  \n",
      "---  ------                 --------------  -----  \n",
      " 0   title                  7486 non-null   object \n",
      " 1   puNumber               7486 non-null   object \n",
      " 2   show_start_date        7486 non-null   object \n",
      " 3   type                   7486 non-null   object \n",
      " 4   film_studio            7468 non-null   object \n",
      " 5   production_country     7484 non-null   object \n",
      " 6   director               7477 non-null   object \n",
      " 7   producer               6918 non-null   object \n",
      " 8   age_restriction        7486 non-null   object \n",
      " 9   refundable_support     332 non-null    float64\n",
      " 10  nonrefundable_support  332 non-null    float64\n",
      " 11  budget                 332 non-null    float64\n",
      " 12  financing_source       332 non-null    object \n",
      " 13  ratings                6519 non-null   object \n",
      " 14  genres                 6510 non-null   object \n",
      "dtypes: float64(3), object(12)\n",
      "memory usage: 877.4+ KB\n"
     ]
    }
   ],
   "source": [
    "# Displaying general information about the dataset\n",
    "mkrf_movies.info()"
   ]
  },
  {
   "cell_type": "code",
   "execution_count": 6,
   "id": "7088aae3",
   "metadata": {},
   "outputs": [],
   "source": [
    "# Reading the shows dataset\n",
    "mkrf_shows = pd.read_csv('/datasets/mkrf_shows.csv', sep=',')"
   ]
  },
  {
   "cell_type": "code",
   "execution_count": 7,
   "id": "da330857",
   "metadata": {},
   "outputs": [
    {
     "data": {
      "text/html": [
       "<div>\n",
       "<style scoped>\n",
       "    .dataframe tbody tr th:only-of-type {\n",
       "        vertical-align: middle;\n",
       "    }\n",
       "\n",
       "    .dataframe tbody tr th {\n",
       "        vertical-align: top;\n",
       "    }\n",
       "\n",
       "    .dataframe thead th {\n",
       "        text-align: right;\n",
       "    }\n",
       "</style>\n",
       "<table border=\"1\" class=\"dataframe\">\n",
       "  <thead>\n",
       "    <tr style=\"text-align: right;\">\n",
       "      <th></th>\n",
       "      <th>puNumber</th>\n",
       "      <th>box_office</th>\n",
       "    </tr>\n",
       "  </thead>\n",
       "  <tbody>\n",
       "    <tr>\n",
       "      <th>0</th>\n",
       "      <td>111000113</td>\n",
       "      <td>2,450.00</td>\n",
       "    </tr>\n",
       "    <tr>\n",
       "      <th>1</th>\n",
       "      <td>111000115</td>\n",
       "      <td>61,040.00</td>\n",
       "    </tr>\n",
       "    <tr>\n",
       "      <th>2</th>\n",
       "      <td>111000116</td>\n",
       "      <td>153,030,013.40</td>\n",
       "    </tr>\n",
       "    <tr>\n",
       "      <th>3</th>\n",
       "      <td>111000117</td>\n",
       "      <td>12,260,956.00</td>\n",
       "    </tr>\n",
       "    <tr>\n",
       "      <th>4</th>\n",
       "      <td>111000118</td>\n",
       "      <td>163,684,057.79</td>\n",
       "    </tr>\n",
       "    <tr>\n",
       "      <th>5</th>\n",
       "      <td>111000119</td>\n",
       "      <td>4,293,649.51</td>\n",
       "    </tr>\n",
       "    <tr>\n",
       "      <th>6</th>\n",
       "      <td>111000212</td>\n",
       "      <td>200.00</td>\n",
       "    </tr>\n",
       "    <tr>\n",
       "      <th>7</th>\n",
       "      <td>111000216</td>\n",
       "      <td>355,567.00</td>\n",
       "    </tr>\n",
       "    <tr>\n",
       "      <th>8</th>\n",
       "      <td>111000313</td>\n",
       "      <td>710.00</td>\n",
       "    </tr>\n",
       "    <tr>\n",
       "      <th>9</th>\n",
       "      <td>111000314</td>\n",
       "      <td>1,607,970.00</td>\n",
       "    </tr>\n",
       "  </tbody>\n",
       "</table>\n",
       "</div>"
      ],
      "text/plain": [
       "    puNumber     box_office\n",
       "0  111000113       2,450.00\n",
       "1  111000115      61,040.00\n",
       "2  111000116 153,030,013.40\n",
       "3  111000117  12,260,956.00\n",
       "4  111000118 163,684,057.79\n",
       "5  111000119   4,293,649.51\n",
       "6  111000212         200.00\n",
       "7  111000216     355,567.00\n",
       "8  111000313         710.00\n",
       "9  111000314   1,607,970.00"
      ]
     },
     "execution_count": 7,
     "metadata": {},
     "output_type": "execute_result"
    }
   ],
   "source": [
    "# Displaying the first 10 rows\n",
    "mkrf_shows.head(10)"
   ]
  },
  {
   "cell_type": "code",
   "execution_count": 8,
   "id": "4634bb69",
   "metadata": {},
   "outputs": [
    {
     "name": "stdout",
     "output_type": "stream",
     "text": [
      "<class 'pandas.core.frame.DataFrame'>\n",
      "RangeIndex: 3158 entries, 0 to 3157\n",
      "Data columns (total 2 columns):\n",
      " #   Column      Non-Null Count  Dtype  \n",
      "---  ------      --------------  -----  \n",
      " 0   puNumber    3158 non-null   int64  \n",
      " 1   box_office  3158 non-null   float64\n",
      "dtypes: float64(1), int64(1)\n",
      "memory usage: 49.5 KB\n"
     ]
    }
   ],
   "source": [
    "# Displaying general information about the dataset\n",
    "mkrf_shows.info()"
   ]
  },
  {
   "cell_type": "markdown",
   "id": "ecc302c4",
   "metadata": {},
   "source": [
    "### Preparing Data for Merging"
   ]
  },
  {
   "cell_type": "markdown",
   "id": "d7f5cafc",
   "metadata": {},
   "source": [
    "> The datasets will be merged using the `puNumber` column. Before doing so, we need to ensure that its data type is consistent across both tables."
   ]
  },
  {
   "cell_type": "code",
   "execution_count": 9,
   "id": "30855c98",
   "metadata": {},
   "outputs": [],
   "source": [
    "# Converting 'puNumber' to a numeric type, replacing invalid values with NaN\n",
    "mkrf_movies['puNumber'] = pd.to_numeric(mkrf_movies['puNumber'], errors='coerce')"
   ]
  },
  {
   "cell_type": "code",
   "execution_count": 10,
   "id": "b7399d25",
   "metadata": {},
   "outputs": [
    {
     "data": {
      "text/plain": [
       "1"
      ]
     },
     "execution_count": 10,
     "metadata": {},
     "output_type": "execute_result"
    }
   ],
   "source": [
    "# Checking for missing values after conversion\n",
    "mkrf_movies['puNumber'].isna().sum()"
   ]
  },
  {
   "cell_type": "code",
   "execution_count": 11,
   "id": "77cd20c6",
   "metadata": {},
   "outputs": [],
   "source": [
    "# Dropping rows with missing 'puNumber' values to allow type conversion\n",
    "mkrf_movies = mkrf_movies.dropna(subset=['puNumber'])"
   ]
  },
  {
   "cell_type": "code",
   "execution_count": 12,
   "id": "cea2af7b",
   "metadata": {},
   "outputs": [],
   "source": [
    "# Converting 'puNumber' to an integer type\n",
    "mkrf_movies['puNumber'] = mkrf_movies['puNumber'].astype('int')"
   ]
  },
  {
   "cell_type": "markdown",
   "id": "aeb6ae15",
   "metadata": {},
   "source": [
    "### Merging DataFrames"
   ]
  },
  {
   "cell_type": "markdown",
   "id": "55427fe1",
   "metadata": {},
   "source": [
    "> To ensure that all columns from mkrf_movies are retained in the final dataset, we will use a **left join**."
   ]
  },
  {
   "cell_type": "code",
   "execution_count": 13,
   "id": "607c87b2",
   "metadata": {},
   "outputs": [],
   "source": [
    "df = mkrf_movies.merge(mkrf_shows, on='puNumber', how='left')"
   ]
  },
  {
   "cell_type": "code",
   "execution_count": 14,
   "id": "de23d7c5",
   "metadata": {},
   "outputs": [
    {
     "data": {
      "text/html": [
       "<div>\n",
       "<style scoped>\n",
       "    .dataframe tbody tr th:only-of-type {\n",
       "        vertical-align: middle;\n",
       "    }\n",
       "\n",
       "    .dataframe tbody tr th {\n",
       "        vertical-align: top;\n",
       "    }\n",
       "\n",
       "    .dataframe thead th {\n",
       "        text-align: right;\n",
       "    }\n",
       "</style>\n",
       "<table border=\"1\" class=\"dataframe\">\n",
       "  <thead>\n",
       "    <tr style=\"text-align: right;\">\n",
       "      <th></th>\n",
       "      <th>title</th>\n",
       "      <th>puNumber</th>\n",
       "      <th>show_start_date</th>\n",
       "      <th>type</th>\n",
       "      <th>film_studio</th>\n",
       "      <th>production_country</th>\n",
       "      <th>director</th>\n",
       "      <th>producer</th>\n",
       "      <th>age_restriction</th>\n",
       "      <th>refundable_support</th>\n",
       "      <th>nonrefundable_support</th>\n",
       "      <th>budget</th>\n",
       "      <th>financing_source</th>\n",
       "      <th>ratings</th>\n",
       "      <th>genres</th>\n",
       "      <th>box_office</th>\n",
       "    </tr>\n",
       "  </thead>\n",
       "  <tbody>\n",
       "    <tr>\n",
       "      <th>0</th>\n",
       "      <td>Открытый простор</td>\n",
       "      <td>221048915</td>\n",
       "      <td>2015-11-27T12:00:00.000Z</td>\n",
       "      <td>Художественный</td>\n",
       "      <td>Тачстоун Пикчерз, Кобальт Пикчерз, Бикон Пикче...</td>\n",
       "      <td>США</td>\n",
       "      <td>Кевин Костнер</td>\n",
       "      <td>Дэвид Валдес, Кевин Костнер, Джейк Эбертс</td>\n",
       "      <td>«18+» - запрещено для детей</td>\n",
       "      <td>NaN</td>\n",
       "      <td>NaN</td>\n",
       "      <td>NaN</td>\n",
       "      <td>NaN</td>\n",
       "      <td>7.2</td>\n",
       "      <td>боевик,драма,мелодрама</td>\n",
       "      <td>NaN</td>\n",
       "    </tr>\n",
       "    <tr>\n",
       "      <th>1</th>\n",
       "      <td>Особо важное задание</td>\n",
       "      <td>111013716</td>\n",
       "      <td>2016-09-13T12:00:00.000Z</td>\n",
       "      <td>Художественный</td>\n",
       "      <td>Киностудия \"Мосфильм\"</td>\n",
       "      <td>СССР</td>\n",
       "      <td>Е.Матвеев</td>\n",
       "      <td>NaN</td>\n",
       "      <td>«6+» - для детей старше 6 лет</td>\n",
       "      <td>NaN</td>\n",
       "      <td>NaN</td>\n",
       "      <td>NaN</td>\n",
       "      <td>NaN</td>\n",
       "      <td>6.6</td>\n",
       "      <td>драма,военный</td>\n",
       "      <td>NaN</td>\n",
       "    </tr>\n",
       "    <tr>\n",
       "      <th>2</th>\n",
       "      <td>Особо опасен</td>\n",
       "      <td>221038416</td>\n",
       "      <td>2016-10-10T12:00:00.000Z</td>\n",
       "      <td>Художественный</td>\n",
       "      <td>Юниверсал Пикчерз, Кикстарт Продакшнз, Марк Пл...</td>\n",
       "      <td>США</td>\n",
       "      <td>Тимур Бекмамбетов</td>\n",
       "      <td>Джим Лемли, Джейсон Нетер, Марк Е.Платт, Яйн Смит</td>\n",
       "      <td>«18+» - запрещено для детей</td>\n",
       "      <td>NaN</td>\n",
       "      <td>NaN</td>\n",
       "      <td>NaN</td>\n",
       "      <td>NaN</td>\n",
       "      <td>6.8</td>\n",
       "      <td>фантастика,боевик,триллер</td>\n",
       "      <td>NaN</td>\n",
       "    </tr>\n",
       "    <tr>\n",
       "      <th>3</th>\n",
       "      <td>Особо опасен</td>\n",
       "      <td>221026916</td>\n",
       "      <td>2016-06-10T12:00:00.000Z</td>\n",
       "      <td>Художественный</td>\n",
       "      <td>Юниверсал Пикчерз, Кикстарт Продакшнз, Марк Пл...</td>\n",
       "      <td>США</td>\n",
       "      <td>Тимур Бекмамбетов</td>\n",
       "      <td>Джим Лемли, Джейсон Нетер, Марк Е.Платт, Яйн Смит</td>\n",
       "      <td>«18+» - запрещено для детей</td>\n",
       "      <td>NaN</td>\n",
       "      <td>NaN</td>\n",
       "      <td>NaN</td>\n",
       "      <td>NaN</td>\n",
       "      <td>6.8</td>\n",
       "      <td>фантастика,боевик,триллер</td>\n",
       "      <td>NaN</td>\n",
       "    </tr>\n",
       "    <tr>\n",
       "      <th>4</th>\n",
       "      <td>Особо опасен</td>\n",
       "      <td>221030815</td>\n",
       "      <td>2015-07-29T12:00:00.000Z</td>\n",
       "      <td>Художественный</td>\n",
       "      <td>Юниверсал Пикчерз, Кикстарт Продакшнз, Марк Пл...</td>\n",
       "      <td>США</td>\n",
       "      <td>Тимур Бекмамбетов</td>\n",
       "      <td>Джим Лемли, Джейсон Нетер, Марк Е.Платт, Яйн Смит</td>\n",
       "      <td>«18+» - запрещено для детей</td>\n",
       "      <td>NaN</td>\n",
       "      <td>NaN</td>\n",
       "      <td>NaN</td>\n",
       "      <td>NaN</td>\n",
       "      <td>6.8</td>\n",
       "      <td>фантастика,боевик,триллер</td>\n",
       "      <td>NaN</td>\n",
       "    </tr>\n",
       "  </tbody>\n",
       "</table>\n",
       "</div>"
      ],
      "text/plain": [
       "                  title   puNumber           show_start_date            type  \\\n",
       "0      Открытый простор  221048915  2015-11-27T12:00:00.000Z  Художественный   \n",
       "1  Особо важное задание  111013716  2016-09-13T12:00:00.000Z  Художественный   \n",
       "2          Особо опасен  221038416  2016-10-10T12:00:00.000Z  Художественный   \n",
       "3          Особо опасен  221026916  2016-06-10T12:00:00.000Z  Художественный   \n",
       "4          Особо опасен  221030815  2015-07-29T12:00:00.000Z  Художественный   \n",
       "\n",
       "                                         film_studio production_country  \\\n",
       "0  Тачстоун Пикчерз, Кобальт Пикчерз, Бикон Пикче...                США   \n",
       "1                              Киностудия \"Мосфильм\"               СССР   \n",
       "2  Юниверсал Пикчерз, Кикстарт Продакшнз, Марк Пл...                США   \n",
       "3  Юниверсал Пикчерз, Кикстарт Продакшнз, Марк Пл...                США   \n",
       "4  Юниверсал Пикчерз, Кикстарт Продакшнз, Марк Пл...                США   \n",
       "\n",
       "            director                                           producer  \\\n",
       "0      Кевин Костнер          Дэвид Валдес, Кевин Костнер, Джейк Эбертс   \n",
       "1          Е.Матвеев                                                NaN   \n",
       "2  Тимур Бекмамбетов  Джим Лемли, Джейсон Нетер, Марк Е.Платт, Яйн Смит   \n",
       "3  Тимур Бекмамбетов  Джим Лемли, Джейсон Нетер, Марк Е.Платт, Яйн Смит   \n",
       "4  Тимур Бекмамбетов  Джим Лемли, Джейсон Нетер, Марк Е.Платт, Яйн Смит   \n",
       "\n",
       "                 age_restriction  refundable_support  nonrefundable_support  \\\n",
       "0    «18+» - запрещено для детей                 NaN                    NaN   \n",
       "1  «6+» - для детей старше 6 лет                 NaN                    NaN   \n",
       "2    «18+» - запрещено для детей                 NaN                    NaN   \n",
       "3    «18+» - запрещено для детей                 NaN                    NaN   \n",
       "4    «18+» - запрещено для детей                 NaN                    NaN   \n",
       "\n",
       "   budget financing_source ratings                     genres  box_office  \n",
       "0     NaN              NaN     7.2     боевик,драма,мелодрама         NaN  \n",
       "1     NaN              NaN     6.6              драма,военный         NaN  \n",
       "2     NaN              NaN     6.8  фантастика,боевик,триллер         NaN  \n",
       "3     NaN              NaN     6.8  фантастика,боевик,триллер         NaN  \n",
       "4     NaN              NaN     6.8  фантастика,боевик,триллер         NaN  "
      ]
     },
     "execution_count": 14,
     "metadata": {},
     "output_type": "execute_result"
    }
   ],
   "source": [
    "df.head()"
   ]
  },
  {
   "cell_type": "markdown",
   "id": "435358e6",
   "metadata": {},
   "source": [
    "### Interim Findings"
   ]
  },
  {
   "cell_type": "markdown",
   "id": "8b2f6b82",
   "metadata": {},
   "source": [
    "1. Changed the data type of the `puNumber` column from `object` to `int64`.\n",
    "2. Merged the tables using the `puNumber` column into a single DataFrame `df`."
   ]
  },
  {
   "cell_type": "markdown",
   "id": "8c74ff1e",
   "metadata": {},
   "source": [
    "## Data Preprocessing"
   ]
  },
  {
   "cell_type": "markdown",
   "id": "0a056c9c",
   "metadata": {},
   "source": [
    "### Checking Data Types"
   ]
  },
  {
   "cell_type": "markdown",
   "id": "a7f92fa9",
   "metadata": {},
   "source": [
    "- We check the data types in the DataFrame and convert them where necessary."
   ]
  },
  {
   "cell_type": "code",
   "execution_count": 15,
   "id": "e7105734",
   "metadata": {},
   "outputs": [
    {
     "name": "stdout",
     "output_type": "stream",
     "text": [
      "<class 'pandas.core.frame.DataFrame'>\n",
      "Int64Index: 7485 entries, 0 to 7484\n",
      "Data columns (total 16 columns):\n",
      " #   Column                 Non-Null Count  Dtype  \n",
      "---  ------                 --------------  -----  \n",
      " 0   title                  7485 non-null   object \n",
      " 1   puNumber               7485 non-null   int64  \n",
      " 2   show_start_date        7485 non-null   object \n",
      " 3   type                   7485 non-null   object \n",
      " 4   film_studio            7467 non-null   object \n",
      " 5   production_country     7483 non-null   object \n",
      " 6   director               7476 non-null   object \n",
      " 7   producer               6917 non-null   object \n",
      " 8   age_restriction        7485 non-null   object \n",
      " 9   refundable_support     332 non-null    float64\n",
      " 10  nonrefundable_support  332 non-null    float64\n",
      " 11  budget                 332 non-null    float64\n",
      " 12  financing_source       332 non-null    object \n",
      " 13  ratings                6519 non-null   object \n",
      " 14  genres                 6510 non-null   object \n",
      " 15  box_office             3158 non-null   float64\n",
      "dtypes: float64(4), int64(1), object(11)\n",
      "memory usage: 994.1+ KB\n"
     ]
    }
   ],
   "source": [
    "# Displaying information about the DataFrame\n",
    "df.info()"
   ]
  },
  {
   "cell_type": "code",
   "execution_count": 16,
   "id": "0b885f6e",
   "metadata": {},
   "outputs": [],
   "source": [
    "# Converting 'show_start_date' to datetime format\n",
    "df['show_start_date'] = pd.to_datetime(df['show_start_date'], format='%Y-%m-%dT%H:%M:%S.%fZ')"
   ]
  },
  {
   "cell_type": "code",
   "execution_count": 17,
   "id": "4c5def1f",
   "metadata": {},
   "outputs": [],
   "source": [
    "# Changing the 'ratings' column format to float\n",
    "df['ratings'] = pd.to_numeric(df['ratings'], errors='coerce') "
   ]
  },
  {
   "cell_type": "code",
   "execution_count": 18,
   "id": "513139b8",
   "metadata": {},
   "outputs": [],
   "source": [
    "# Converting 'box_office' to millions\n",
    "df['box_office'] = df['box_office'] / 1_000_000"
   ]
  },
  {
   "cell_type": "code",
   "execution_count": 19,
   "id": "e0e92f8c",
   "metadata": {},
   "outputs": [],
   "source": [
    "# Rounding the 'box_office' values\n",
    "df['box_office'] = df['box_office'].round()"
   ]
  },
  {
   "cell_type": "markdown",
   "id": "94ce12a8",
   "metadata": {},
   "source": [
    "### Examining Missing Values in the DataFrame"
   ]
  },
  {
   "cell_type": "code",
   "execution_count": 20,
   "id": "028e3fb9",
   "metadata": {},
   "outputs": [
    {
     "data": {
      "text/plain": [
       "title                       0\n",
       "puNumber                    0\n",
       "show_start_date             0\n",
       "type                        0\n",
       "film_studio                18\n",
       "production_country          2\n",
       "director                    9\n",
       "producer                  568\n",
       "age_restriction             0\n",
       "refundable_support       7153\n",
       "nonrefundable_support    7153\n",
       "budget                   7153\n",
       "financing_source         7153\n",
       "ratings                   995\n",
       "genres                    975\n",
       "box_office               4327\n",
       "dtype: int64"
      ]
     },
     "execution_count": 20,
     "metadata": {},
     "output_type": "execute_result"
    }
   ],
   "source": [
    "# Checking for missing values in the dataset\n",
    "df.isna().sum()"
   ]
  },
  {
   "cell_type": "code",
   "execution_count": 21,
   "id": "26d73e25",
   "metadata": {},
   "outputs": [
    {
     "data": {
      "text/html": [
       "<style  type=\"text/css\" >\n",
       "#T_eb1f3_row0_col0,#T_eb1f3_row1_col0,#T_eb1f3_row2_col0,#T_eb1f3_row3_col0,#T_eb1f3_row4_col0,#T_eb1f3_row5_col0,#T_eb1f3_row6_col0,#T_eb1f3_row8_col0{\n",
       "            background-color:  #3b4cc0;\n",
       "            color:  #f1f1f1;\n",
       "        }#T_eb1f3_row7_col0{\n",
       "            background-color:  #536edd;\n",
       "            color:  #000000;\n",
       "        }#T_eb1f3_row9_col0,#T_eb1f3_row10_col0,#T_eb1f3_row11_col0,#T_eb1f3_row12_col0{\n",
       "            background-color:  #b40426;\n",
       "            color:  #f1f1f1;\n",
       "        }#T_eb1f3_row13_col0{\n",
       "            background-color:  #6687ed;\n",
       "            color:  #000000;\n",
       "        }#T_eb1f3_row14_col0{\n",
       "            background-color:  #6485ec;\n",
       "            color:  #000000;\n",
       "        }#T_eb1f3_row15_col0{\n",
       "            background-color:  #f2cab5;\n",
       "            color:  #000000;\n",
       "        }</style><table id=\"T_eb1f3_\" ><thead>    <tr>        <th class=\"blank level0\" ></th>        <th class=\"col_heading level0 col0\" >0</th>    </tr></thead><tbody>\n",
       "                <tr>\n",
       "                        <th id=\"T_eb1f3_level0_row0\" class=\"row_heading level0 row0\" >title</th>\n",
       "                        <td id=\"T_eb1f3_row0_col0\" class=\"data row0 col0\" >0.000000</td>\n",
       "            </tr>\n",
       "            <tr>\n",
       "                        <th id=\"T_eb1f3_level0_row1\" class=\"row_heading level0 row1\" >puNumber</th>\n",
       "                        <td id=\"T_eb1f3_row1_col0\" class=\"data row1 col0\" >0.000000</td>\n",
       "            </tr>\n",
       "            <tr>\n",
       "                        <th id=\"T_eb1f3_level0_row2\" class=\"row_heading level0 row2\" >show_start_date</th>\n",
       "                        <td id=\"T_eb1f3_row2_col0\" class=\"data row2 col0\" >0.000000</td>\n",
       "            </tr>\n",
       "            <tr>\n",
       "                        <th id=\"T_eb1f3_level0_row3\" class=\"row_heading level0 row3\" >type</th>\n",
       "                        <td id=\"T_eb1f3_row3_col0\" class=\"data row3 col0\" >0.000000</td>\n",
       "            </tr>\n",
       "            <tr>\n",
       "                        <th id=\"T_eb1f3_level0_row4\" class=\"row_heading level0 row4\" >film_studio</th>\n",
       "                        <td id=\"T_eb1f3_row4_col0\" class=\"data row4 col0\" >0.240000</td>\n",
       "            </tr>\n",
       "            <tr>\n",
       "                        <th id=\"T_eb1f3_level0_row5\" class=\"row_heading level0 row5\" >production_country</th>\n",
       "                        <td id=\"T_eb1f3_row5_col0\" class=\"data row5 col0\" >0.030000</td>\n",
       "            </tr>\n",
       "            <tr>\n",
       "                        <th id=\"T_eb1f3_level0_row6\" class=\"row_heading level0 row6\" >director</th>\n",
       "                        <td id=\"T_eb1f3_row6_col0\" class=\"data row6 col0\" >0.120000</td>\n",
       "            </tr>\n",
       "            <tr>\n",
       "                        <th id=\"T_eb1f3_level0_row7\" class=\"row_heading level0 row7\" >producer</th>\n",
       "                        <td id=\"T_eb1f3_row7_col0\" class=\"data row7 col0\" >7.590000</td>\n",
       "            </tr>\n",
       "            <tr>\n",
       "                        <th id=\"T_eb1f3_level0_row8\" class=\"row_heading level0 row8\" >age_restriction</th>\n",
       "                        <td id=\"T_eb1f3_row8_col0\" class=\"data row8 col0\" >0.000000</td>\n",
       "            </tr>\n",
       "            <tr>\n",
       "                        <th id=\"T_eb1f3_level0_row9\" class=\"row_heading level0 row9\" >refundable_support</th>\n",
       "                        <td id=\"T_eb1f3_row9_col0\" class=\"data row9 col0\" >95.560000</td>\n",
       "            </tr>\n",
       "            <tr>\n",
       "                        <th id=\"T_eb1f3_level0_row10\" class=\"row_heading level0 row10\" >nonrefundable_support</th>\n",
       "                        <td id=\"T_eb1f3_row10_col0\" class=\"data row10 col0\" >95.560000</td>\n",
       "            </tr>\n",
       "            <tr>\n",
       "                        <th id=\"T_eb1f3_level0_row11\" class=\"row_heading level0 row11\" >budget</th>\n",
       "                        <td id=\"T_eb1f3_row11_col0\" class=\"data row11 col0\" >95.560000</td>\n",
       "            </tr>\n",
       "            <tr>\n",
       "                        <th id=\"T_eb1f3_level0_row12\" class=\"row_heading level0 row12\" >financing_source</th>\n",
       "                        <td id=\"T_eb1f3_row12_col0\" class=\"data row12 col0\" >95.560000</td>\n",
       "            </tr>\n",
       "            <tr>\n",
       "                        <th id=\"T_eb1f3_level0_row13\" class=\"row_heading level0 row13\" >ratings</th>\n",
       "                        <td id=\"T_eb1f3_row13_col0\" class=\"data row13 col0\" >13.290000</td>\n",
       "            </tr>\n",
       "            <tr>\n",
       "                        <th id=\"T_eb1f3_level0_row14\" class=\"row_heading level0 row14\" >genres</th>\n",
       "                        <td id=\"T_eb1f3_row14_col0\" class=\"data row14 col0\" >13.030000</td>\n",
       "            </tr>\n",
       "            <tr>\n",
       "                        <th id=\"T_eb1f3_level0_row15\" class=\"row_heading level0 row15\" >box_office</th>\n",
       "                        <td id=\"T_eb1f3_row15_col0\" class=\"data row15 col0\" >57.810000</td>\n",
       "            </tr>\n",
       "    </tbody></table>"
      ],
      "text/plain": [
       "<pandas.io.formats.style.Styler at 0x7fc7f0665ee0>"
      ]
     },
     "execution_count": 21,
     "metadata": {},
     "output_type": "execute_result"
    }
   ],
   "source": [
    "# Calculating the percentage of missing values and visualizing them\n",
    "pd.DataFrame(round(df.isna().mean() * 100, 2)).style.background_gradient('coolwarm')"
   ]
  },
  {
   "cell_type": "markdown",
   "id": "4d3a8627",
   "metadata": {},
   "source": [
    "> We identified missing values in four columns: `refundable_support`, `nonrefundable_support`, `budget`, and `financing_source`, all of which have 95.56% missing data. According to the documentation, the budget column contains data only for films that received government funding. Therefore, we can infer that the missing values in these columns indicate that:\n",
    "> - The film did not receive government funding and was financed through alternative sources;\n",
    "> - The film was produced in a different country."
   ]
  },
  {
   "cell_type": "markdown",
   "id": "5429ddda",
   "metadata": {},
   "source": [
    "> Additionally, there is 57.8% missing data in the `box_office` column. This column was sourced from a table containing information on film screenings in Russian cinemas. The missing values likely suggest that these films were not shown in Russian theaters. We will not fill in these gaps, as doing so would reduce the quality of the DataFrame."
   ]
  },
  {
   "cell_type": "markdown",
   "id": "07f0cb4c",
   "metadata": {},
   "source": [
    "> There are also missing values in the `producer` (7.59%), `ratings` (13.29%), and `genres` (13.03%) columns, as well as minor gaps in `production_country` (0.03%) and `director` (0.12%). However, these proportions are low and should not significantly impact the analysis."
   ]
  },
  {
   "cell_type": "markdown",
   "id": "cab9dc5a",
   "metadata": {},
   "source": [
    "### Duplicate Analysis in the DataFrame"
   ]
  },
  {
   "cell_type": "code",
   "execution_count": 22,
   "id": "6ef91347",
   "metadata": {},
   "outputs": [
    {
     "data": {
      "text/plain": [
       "0"
      ]
     },
     "execution_count": 22,
     "metadata": {},
     "output_type": "execute_result"
    }
   ],
   "source": [
    "# Checking for exact duplicate rows\n",
    "df.duplicated().sum()"
   ]
  },
  {
   "cell_type": "markdown",
   "id": "e245f2e4",
   "metadata": {},
   "source": [
    "> Instead of searching for duplicates across entire rows, we focus on potential duplicates in key columns that should be unique—`title` and `puNumber`."
   ]
  },
  {
   "cell_type": "code",
   "execution_count": 23,
   "id": "eecb3e56",
   "metadata": {},
   "outputs": [],
   "source": [
    "# Standardizing the title column by converting it to lowercase\n",
    "df['title'] = df['title'].str.lower()"
   ]
  },
  {
   "cell_type": "code",
   "execution_count": 24,
   "id": "dfc99085",
   "metadata": {},
   "outputs": [
    {
     "data": {
      "text/plain": [
       "title                    6761\n",
       "puNumber                 7483\n",
       "show_start_date          1964\n",
       "type                        8\n",
       "film_studio              5490\n",
       "production_country        950\n",
       "director                 4811\n",
       "producer                 5349\n",
       "age_restriction             5\n",
       "refundable_support         34\n",
       "nonrefundable_support      75\n",
       "budget                    290\n",
       "financing_source            3\n",
       "ratings                    80\n",
       "genres                    742\n",
       "box_office                433\n",
       "dtype: int64"
      ]
     },
     "execution_count": 24,
     "metadata": {},
     "output_type": "execute_result"
    }
   ],
   "source": [
    "# Checking the number of unique values in each column\n",
    "df.nunique()"
   ]
  },
  {
   "cell_type": "markdown",
   "id": "638d5389",
   "metadata": {},
   "source": [
    "> The number of unique values in `title` confirms that a single movie may have multiple distribution certificates, as stated in the documentation."
   ]
  },
  {
   "cell_type": "code",
   "execution_count": 25,
   "id": "65a4c301",
   "metadata": {},
   "outputs": [
    {
     "data": {
      "text/plain": [
       "724"
      ]
     },
     "execution_count": 25,
     "metadata": {},
     "output_type": "execute_result"
    }
   ],
   "source": [
    "# Checking the number of duplicate titles\n",
    "df['title'].duplicated().sum()"
   ]
  },
  {
   "cell_type": "code",
   "execution_count": 26,
   "id": "af5fb814",
   "metadata": {},
   "outputs": [
    {
     "data": {
      "text/plain": [
       "день святого валентина_                                        5\n",
       "код доступа \"кейптаун\"                                         4\n",
       "шерлок холмс                                                   4\n",
       "дорога /по новелле кормака мккарфи/                            4\n",
       "не брать живым /по книге раджива чандрасекарана/               4\n",
       "гарри поттер и дары смерти - часть 1/по роману дж.к.ролинг/    4\n",
       "химера                                                         4\n",
       "дитя тьмы                                                      4\n",
       "красавчик-2                                                    4\n",
       "кошмар на улице вязов /фильм ужасов/                           4\n",
       "двойной копец                                                  4\n",
       "робин гуд (robin hood)                                         4\n",
       "безумцы                                                        4\n",
       "начало_                                                        4\n",
       "кошки против собак: месть китти галор                          4\n",
       "прощание                                                       4\n",
       "непокоренный.                                                  4\n",
       "дом грёз                                                       4\n",
       "рапунцель: запутанная история                                  4\n",
       "лузеры                                                         4\n",
       "Name: title, dtype: int64"
      ]
     },
     "execution_count": 26,
     "metadata": {},
     "output_type": "execute_result"
    }
   ],
   "source": [
    "# Examining the most frequent titles\n",
    "df['title'].value_counts().head(20)"
   ]
  },
  {
   "cell_type": "code",
   "execution_count": 27,
   "id": "a09a71ff",
   "metadata": {},
   "outputs": [
    {
     "data": {
      "text/html": [
       "<div>\n",
       "<style scoped>\n",
       "    .dataframe tbody tr th:only-of-type {\n",
       "        vertical-align: middle;\n",
       "    }\n",
       "\n",
       "    .dataframe tbody tr th {\n",
       "        vertical-align: top;\n",
       "    }\n",
       "\n",
       "    .dataframe thead th {\n",
       "        text-align: right;\n",
       "    }\n",
       "</style>\n",
       "<table border=\"1\" class=\"dataframe\">\n",
       "  <thead>\n",
       "    <tr style=\"text-align: right;\">\n",
       "      <th></th>\n",
       "      <th>title</th>\n",
       "      <th>puNumber</th>\n",
       "      <th>show_start_date</th>\n",
       "      <th>type</th>\n",
       "      <th>film_studio</th>\n",
       "      <th>production_country</th>\n",
       "      <th>director</th>\n",
       "      <th>producer</th>\n",
       "      <th>age_restriction</th>\n",
       "      <th>refundable_support</th>\n",
       "      <th>nonrefundable_support</th>\n",
       "      <th>budget</th>\n",
       "      <th>financing_source</th>\n",
       "      <th>ratings</th>\n",
       "      <th>genres</th>\n",
       "      <th>box_office</th>\n",
       "    </tr>\n",
       "  </thead>\n",
       "  <tbody>\n",
       "    <tr>\n",
       "      <th>454</th>\n",
       "      <td>100 миллионов евро</td>\n",
       "      <td>221024616</td>\n",
       "      <td>2016-05-25 12:00:00</td>\n",
       "      <td>Художественный</td>\n",
       "      <td>Патэ, Эсквуд, Серенити Фильм, ТФ1 Фильм Продюк...</td>\n",
       "      <td>Франция</td>\n",
       "      <td>Оливер Барру</td>\n",
       "      <td>Ричард Грандпьерр</td>\n",
       "      <td>«16+» - для детей старше 16 лет</td>\n",
       "      <td>NaN</td>\n",
       "      <td>NaN</td>\n",
       "      <td>NaN</td>\n",
       "      <td>NaN</td>\n",
       "      <td>6.10</td>\n",
       "      <td>комедия</td>\n",
       "      <td>NaN</td>\n",
       "    </tr>\n",
       "    <tr>\n",
       "      <th>455</th>\n",
       "      <td>100 миллионов евро</td>\n",
       "      <td>121013712</td>\n",
       "      <td>2012-06-06 12:00:00</td>\n",
       "      <td>Художественный</td>\n",
       "      <td>Патэ, Эсквуд, Серенити Фильм, ТФ1 Фильм Продюк...</td>\n",
       "      <td>Франция</td>\n",
       "      <td>Оливер Барру</td>\n",
       "      <td>Ричард Грандпьерр</td>\n",
       "      <td>«16+» - для детей старше 16 лет</td>\n",
       "      <td>NaN</td>\n",
       "      <td>NaN</td>\n",
       "      <td>NaN</td>\n",
       "      <td>NaN</td>\n",
       "      <td>6.10</td>\n",
       "      <td>комедия</td>\n",
       "      <td>NaN</td>\n",
       "    </tr>\n",
       "    <tr>\n",
       "      <th>5057</th>\n",
       "      <td>127 часов</td>\n",
       "      <td>221069011</td>\n",
       "      <td>2011-05-18 12:00:00</td>\n",
       "      <td>Художественный</td>\n",
       "      <td>Фокс Серчлайт Пикчерз, Клод Эйт Филмз, Филм Фо...</td>\n",
       "      <td>США - Великобритания</td>\n",
       "      <td>Дэнни Бойл</td>\n",
       "      <td>Бернард Беллью, Тесса Росс, Гаррет Смит</td>\n",
       "      <td>«16+» - для детей старше 16 лет</td>\n",
       "      <td>NaN</td>\n",
       "      <td>NaN</td>\n",
       "      <td>NaN</td>\n",
       "      <td>NaN</td>\n",
       "      <td>7.70</td>\n",
       "      <td>триллер,биография,драма</td>\n",
       "      <td>NaN</td>\n",
       "    </tr>\n",
       "    <tr>\n",
       "      <th>4851</th>\n",
       "      <td>127 часов</td>\n",
       "      <td>121000811</td>\n",
       "      <td>2011-01-27 12:00:00</td>\n",
       "      <td>Художественный</td>\n",
       "      <td>Фокс Серчлайт Пикчерз, Клод Эйт Филмз, Филм Фо...</td>\n",
       "      <td>США - Великобритания</td>\n",
       "      <td>Дэнни Бойл</td>\n",
       "      <td>Бернард Беллью, Тесса Росс, Гаррет Смит</td>\n",
       "      <td>«16+» - для детей старше 16 лет</td>\n",
       "      <td>NaN</td>\n",
       "      <td>NaN</td>\n",
       "      <td>NaN</td>\n",
       "      <td>NaN</td>\n",
       "      <td>7.70</td>\n",
       "      <td>триллер,биография,драма</td>\n",
       "      <td>NaN</td>\n",
       "    </tr>\n",
       "    <tr>\n",
       "      <th>3129</th>\n",
       "      <td>13 часов: тайные солдаты бенгази</td>\n",
       "      <td>121001016</td>\n",
       "      <td>2016-01-15 12:00:00</td>\n",
       "      <td>Художественный</td>\n",
       "      <td>Парамаунт, Дан Филмз, Латина Пикчарз,3 Арт Инт...</td>\n",
       "      <td>США</td>\n",
       "      <td>Майкл Бэй</td>\n",
       "      <td>Майкл Бэй, Эрвин Стофф</td>\n",
       "      <td>«18+» - запрещено для детей</td>\n",
       "      <td>NaN</td>\n",
       "      <td>NaN</td>\n",
       "      <td>NaN</td>\n",
       "      <td>NaN</td>\n",
       "      <td>6.70</td>\n",
       "      <td>боевик,триллер,драма</td>\n",
       "      <td>18.00</td>\n",
       "    </tr>\n",
       "  </tbody>\n",
       "</table>\n",
       "</div>"
      ],
      "text/plain": [
       "                                 title   puNumber     show_start_date  \\\n",
       "454                 100 миллионов евро  221024616 2016-05-25 12:00:00   \n",
       "455                 100 миллионов евро  121013712 2012-06-06 12:00:00   \n",
       "5057                         127 часов  221069011 2011-05-18 12:00:00   \n",
       "4851                         127 часов  121000811 2011-01-27 12:00:00   \n",
       "3129  13 часов: тайные солдаты бенгази  121001016 2016-01-15 12:00:00   \n",
       "\n",
       "                type                                        film_studio  \\\n",
       "454   Художественный  Патэ, Эсквуд, Серенити Фильм, ТФ1 Фильм Продюк...   \n",
       "455   Художественный  Патэ, Эсквуд, Серенити Фильм, ТФ1 Фильм Продюк...   \n",
       "5057  Художественный  Фокс Серчлайт Пикчерз, Клод Эйт Филмз, Филм Фо...   \n",
       "4851  Художественный  Фокс Серчлайт Пикчерз, Клод Эйт Филмз, Филм Фо...   \n",
       "3129  Художественный  Парамаунт, Дан Филмз, Латина Пикчарз,3 Арт Инт...   \n",
       "\n",
       "        production_country      director  \\\n",
       "454                Франция  Оливер Барру   \n",
       "455                Франция  Оливер Барру   \n",
       "5057  США - Великобритания    Дэнни Бойл   \n",
       "4851  США - Великобритания    Дэнни Бойл   \n",
       "3129                   США     Майкл Бэй   \n",
       "\n",
       "                                     producer  \\\n",
       "454                         Ричард Грандпьерр   \n",
       "455                         Ричард Грандпьерр   \n",
       "5057  Бернард Беллью, Тесса Росс, Гаррет Смит   \n",
       "4851  Бернард Беллью, Тесса Росс, Гаррет Смит   \n",
       "3129                   Майкл Бэй, Эрвин Стофф   \n",
       "\n",
       "                      age_restriction  refundable_support  \\\n",
       "454   «16+» - для детей старше 16 лет                 NaN   \n",
       "455   «16+» - для детей старше 16 лет                 NaN   \n",
       "5057  «16+» - для детей старше 16 лет                 NaN   \n",
       "4851  «16+» - для детей старше 16 лет                 NaN   \n",
       "3129      «18+» - запрещено для детей                 NaN   \n",
       "\n",
       "      nonrefundable_support  budget financing_source  ratings  \\\n",
       "454                     NaN     NaN              NaN     6.10   \n",
       "455                     NaN     NaN              NaN     6.10   \n",
       "5057                    NaN     NaN              NaN     7.70   \n",
       "4851                    NaN     NaN              NaN     7.70   \n",
       "3129                    NaN     NaN              NaN     6.70   \n",
       "\n",
       "                       genres  box_office  \n",
       "454                   комедия         NaN  \n",
       "455                   комедия         NaN  \n",
       "5057  триллер,биография,драма         NaN  \n",
       "4851  триллер,биография,драма         NaN  \n",
       "3129     боевик,триллер,драма       18.00  "
      ]
     },
     "execution_count": 27,
     "metadata": {},
     "output_type": "execute_result"
    }
   ],
   "source": [
    "# Displaying potential duplicate titles\n",
    "df.loc[df['title'].duplicated(keep=False)].sort_values(by='title').head()"
   ]
  },
  {
   "cell_type": "code",
   "execution_count": 28,
   "id": "91bf1ebb",
   "metadata": {},
   "outputs": [
    {
     "data": {
      "text/plain": [
       "2"
      ]
     },
     "execution_count": 28,
     "metadata": {},
     "output_type": "execute_result"
    }
   ],
   "source": [
    "# Checking the number of duplicate distribution certificate numbers\n",
    "df['puNumber'].duplicated().sum()"
   ]
  },
  {
   "cell_type": "code",
   "execution_count": 29,
   "id": "4472a72a",
   "metadata": {},
   "outputs": [
    {
     "data": {
      "text/html": [
       "<div>\n",
       "<style scoped>\n",
       "    .dataframe tbody tr th:only-of-type {\n",
       "        vertical-align: middle;\n",
       "    }\n",
       "\n",
       "    .dataframe tbody tr th {\n",
       "        vertical-align: top;\n",
       "    }\n",
       "\n",
       "    .dataframe thead th {\n",
       "        text-align: right;\n",
       "    }\n",
       "</style>\n",
       "<table border=\"1\" class=\"dataframe\">\n",
       "  <thead>\n",
       "    <tr style=\"text-align: right;\">\n",
       "      <th></th>\n",
       "      <th>title</th>\n",
       "      <th>puNumber</th>\n",
       "      <th>show_start_date</th>\n",
       "      <th>type</th>\n",
       "      <th>film_studio</th>\n",
       "      <th>production_country</th>\n",
       "      <th>director</th>\n",
       "      <th>producer</th>\n",
       "      <th>age_restriction</th>\n",
       "      <th>refundable_support</th>\n",
       "      <th>nonrefundable_support</th>\n",
       "      <th>budget</th>\n",
       "      <th>financing_source</th>\n",
       "      <th>ratings</th>\n",
       "      <th>genres</th>\n",
       "      <th>box_office</th>\n",
       "    </tr>\n",
       "  </thead>\n",
       "  <tbody>\n",
       "    <tr>\n",
       "      <th>5066</th>\n",
       "      <td>анализируй это!</td>\n",
       "      <td>221054410</td>\n",
       "      <td>2010-05-25 12:00:00</td>\n",
       "      <td>Художественный</td>\n",
       "      <td>Уорнер Бразерс, Вилладж Роудшоу Филмз ЛТД</td>\n",
       "      <td>США-Австралия</td>\n",
       "      <td>ХЭрольд Рэмис</td>\n",
       "      <td>Джейн Розенталь, Пола Уейнстейн</td>\n",
       "      <td>«16+» - для детей старше 16 лет</td>\n",
       "      <td>NaN</td>\n",
       "      <td>NaN</td>\n",
       "      <td>NaN</td>\n",
       "      <td>NaN</td>\n",
       "      <td>7.40</td>\n",
       "      <td>комедия,криминал</td>\n",
       "      <td>NaN</td>\n",
       "    </tr>\n",
       "    <tr>\n",
       "      <th>5067</th>\n",
       "      <td>анализируй то!</td>\n",
       "      <td>221054410</td>\n",
       "      <td>2010-05-25 12:00:00</td>\n",
       "      <td>Художественный</td>\n",
       "      <td>Уорнер Бразерс, Виллидж Роадшоу Пикчерз, Эн-Пи...</td>\n",
       "      <td>США</td>\n",
       "      <td>Гарольд Реймис</td>\n",
       "      <td>Джейн Розенталь, Паул Уэйнстейн</td>\n",
       "      <td>«12+» - для детей старше 12 лет</td>\n",
       "      <td>NaN</td>\n",
       "      <td>NaN</td>\n",
       "      <td>NaN</td>\n",
       "      <td>NaN</td>\n",
       "      <td>6.80</td>\n",
       "      <td>комедия,криминал</td>\n",
       "      <td>NaN</td>\n",
       "    </tr>\n",
       "    <tr>\n",
       "      <th>4637</th>\n",
       "      <td>как жениться и остаться холостым</td>\n",
       "      <td>221154310</td>\n",
       "      <td>2010-12-17 12:00:00</td>\n",
       "      <td>Художественный</td>\n",
       "      <td>Ше Вам, Скрипт Ассосье, Тэ Фэ 1 Фильм Продюксь...</td>\n",
       "      <td>Франция</td>\n",
       "      <td>Эрик Лартиго</td>\n",
       "      <td>Амандин Било, Алан Шаба</td>\n",
       "      <td>«16+» - для детей старше 16 лет</td>\n",
       "      <td>NaN</td>\n",
       "      <td>NaN</td>\n",
       "      <td>NaN</td>\n",
       "      <td>NaN</td>\n",
       "      <td>7.00</td>\n",
       "      <td>мелодрама,комедия</td>\n",
       "      <td>NaN</td>\n",
       "    </tr>\n",
       "    <tr>\n",
       "      <th>4638</th>\n",
       "      <td>иоанна - женщина на папском престоле /по роман...</td>\n",
       "      <td>221154310</td>\n",
       "      <td>2010-12-17 12:00:00</td>\n",
       "      <td>Художественный</td>\n",
       "      <td>Константин Фильм, А Эр Ди Дегето Фильм, Дюне ...</td>\n",
       "      <td>Германия - Великобритания - Италия - Испания</td>\n",
       "      <td>Зенке Вортманн</td>\n",
       "      <td>Оливер Бербен, Дорис Д.Хайнце, Фарук Элтан</td>\n",
       "      <td>«16+» - для детей старше 16 лет</td>\n",
       "      <td>NaN</td>\n",
       "      <td>NaN</td>\n",
       "      <td>NaN</td>\n",
       "      <td>NaN</td>\n",
       "      <td>7.60</td>\n",
       "      <td>драма,мелодрама,история</td>\n",
       "      <td>NaN</td>\n",
       "    </tr>\n",
       "  </tbody>\n",
       "</table>\n",
       "</div>"
      ],
      "text/plain": [
       "                                                  title   puNumber  \\\n",
       "5066                                    анализируй это!  221054410   \n",
       "5067                                     анализируй то!  221054410   \n",
       "4637                   как жениться и остаться холостым  221154310   \n",
       "4638  иоанна - женщина на папском престоле /по роман...  221154310   \n",
       "\n",
       "         show_start_date            type  \\\n",
       "5066 2010-05-25 12:00:00  Художественный   \n",
       "5067 2010-05-25 12:00:00  Художественный   \n",
       "4637 2010-12-17 12:00:00  Художественный   \n",
       "4638 2010-12-17 12:00:00  Художественный   \n",
       "\n",
       "                                            film_studio  \\\n",
       "5066          Уорнер Бразерс, Вилладж Роудшоу Филмз ЛТД   \n",
       "5067  Уорнер Бразерс, Виллидж Роадшоу Пикчерз, Эн-Пи...   \n",
       "4637  Ше Вам, Скрипт Ассосье, Тэ Фэ 1 Фильм Продюксь...   \n",
       "4638   Константин Фильм, А Эр Ди Дегето Фильм, Дюне ...   \n",
       "\n",
       "                                production_country        director  \\\n",
       "5066                                 США-Австралия   ХЭрольд Рэмис   \n",
       "5067                                           США  Гарольд Реймис   \n",
       "4637                                       Франция    Эрик Лартиго   \n",
       "4638  Германия - Великобритания - Италия - Испания  Зенке Вортманн   \n",
       "\n",
       "                                        producer  \\\n",
       "5066             Джейн Розенталь, Пола Уейнстейн   \n",
       "5067             Джейн Розенталь, Паул Уэйнстейн   \n",
       "4637                     Амандин Било, Алан Шаба   \n",
       "4638  Оливер Бербен, Дорис Д.Хайнце, Фарук Элтан   \n",
       "\n",
       "                      age_restriction  refundable_support  \\\n",
       "5066  «16+» - для детей старше 16 лет                 NaN   \n",
       "5067  «12+» - для детей старше 12 лет                 NaN   \n",
       "4637  «16+» - для детей старше 16 лет                 NaN   \n",
       "4638  «16+» - для детей старше 16 лет                 NaN   \n",
       "\n",
       "      nonrefundable_support  budget financing_source  ratings  \\\n",
       "5066                    NaN     NaN              NaN     7.40   \n",
       "5067                    NaN     NaN              NaN     6.80   \n",
       "4637                    NaN     NaN              NaN     7.00   \n",
       "4638                    NaN     NaN              NaN     7.60   \n",
       "\n",
       "                       genres  box_office  \n",
       "5066         комедия,криминал         NaN  \n",
       "5067         комедия,криминал         NaN  \n",
       "4637        мелодрама,комедия         NaN  \n",
       "4638  драма,мелодрама,история         NaN  "
      ]
     },
     "execution_count": 29,
     "metadata": {},
     "output_type": "execute_result"
    }
   ],
   "source": [
    "# Displaying potential duplicate distribution certificate numbers\n",
    "df.loc[df['puNumber'].duplicated(keep=False)].sort_values(by='puNumber').head()"
   ]
  },
  {
   "cell_type": "markdown",
   "id": "a4c811c5",
   "metadata": {},
   "source": [
    "> **Potential explanations for duplicate `titles`:**\n",
    "> 1. Different movies may share the same title (e.g., Sherlock Holmes or Good Morning).\n",
    "> 2. The same movie may have been screened at different times under different distribution certificates.\n",
    "\n",
    "> **Findings regarding duplicate `puNumber` values:**\n",
    "> In two cases, the same certificate number appears twice:\n",
    "> 1. The same movie with an identical premiere date but different age ratings—possibly due to a revision in the movies’s age restrictions.\n",
    "> 2. Different movies with the same premiere date—likely a data entry error.\n",
    "\n",
    "> Since removing these duplicates could compromise data integrity, we will retain them."
   ]
  },
  {
   "cell_type": "markdown",
   "id": "2773b79f",
   "metadata": {},
   "source": [
    "### Analysis of Categorical Values"
   ]
  },
  {
   "cell_type": "markdown",
   "id": "1dea1600",
   "metadata": {},
   "source": [
    "- Identify common issues in categorical columns.\n",
    "\n",
    "- Correct inconsistencies in the `type` column."
   ]
  },
  {
   "cell_type": "code",
   "execution_count": 30,
   "id": "cf38fbd6",
   "metadata": {},
   "outputs": [
    {
     "name": "stdout",
     "output_type": "stream",
     "text": [
      "<class 'pandas.core.frame.DataFrame'>\n",
      "Int64Index: 7485 entries, 0 to 7484\n",
      "Data columns (total 16 columns):\n",
      " #   Column                 Non-Null Count  Dtype         \n",
      "---  ------                 --------------  -----         \n",
      " 0   title                  7485 non-null   object        \n",
      " 1   puNumber               7485 non-null   int64         \n",
      " 2   show_start_date        7485 non-null   datetime64[ns]\n",
      " 3   type                   7485 non-null   object        \n",
      " 4   film_studio            7467 non-null   object        \n",
      " 5   production_country     7483 non-null   object        \n",
      " 6   director               7476 non-null   object        \n",
      " 7   producer               6917 non-null   object        \n",
      " 8   age_restriction        7485 non-null   object        \n",
      " 9   refundable_support     332 non-null    float64       \n",
      " 10  nonrefundable_support  332 non-null    float64       \n",
      " 11  budget                 332 non-null    float64       \n",
      " 12  financing_source       332 non-null    object        \n",
      " 13  ratings                6490 non-null   float64       \n",
      " 14  genres                 6510 non-null   object        \n",
      " 15  box_office             3158 non-null   float64       \n",
      "dtypes: datetime64[ns](1), float64(5), int64(1), object(9)\n",
      "memory usage: 994.1+ KB\n"
     ]
    }
   ],
   "source": [
    "# Checking data types and column information\n",
    "df.info()"
   ]
  },
  {
   "cell_type": "code",
   "execution_count": 31,
   "id": "ad03edb7",
   "metadata": {},
   "outputs": [
    {
     "data": {
      "text/plain": [
       "Киностудия \"Мосфильм\"                        341\n",
       "ООО \"Мульт в кино\"                            57\n",
       "Анимаккорд Лтд                                23\n",
       "ООО \"Мульт в кино\"                            18\n",
       "ФГУП \"ТПО \"Киностудия \"Союзмультфильм\"        16\n",
       "ООО \"ТаББаК\"                                  15\n",
       "Р А И Синема                                  14\n",
       "Опус Арте                                     14\n",
       "ООО \"Студия анимационного кино \"Мельница\"     14\n",
       "ООО \"Кинокомпания \"СТВ\"                       13\n",
       "Name: film_studio, dtype: int64"
      ]
     },
     "execution_count": 31,
     "metadata": {},
     "output_type": "execute_result"
    }
   ],
   "source": [
    "# Reviewing the most frequent values in key categorical columns\n",
    "df['film_studio'].value_counts().head(10)"
   ]
  },
  {
   "cell_type": "code",
   "execution_count": 32,
   "id": "4ff9d40e",
   "metadata": {},
   "outputs": [
    {
     "data": {
      "text/plain": [
       "США                     2172\n",
       "Россия                  1820\n",
       "СССР                     347\n",
       "Франция                  301\n",
       "Великобритания           257\n",
       "Италия                   129\n",
       "Германия                 110\n",
       "США - Великобритания      88\n",
       "Япония                    77\n",
       "Испания                   74\n",
       "Франция - Бельгия         55\n",
       "Канада                    52\n",
       "Австралия                 50\n",
       "США - Канада              44\n",
       "Великобритания - США      40\n",
       "КНР                       33\n",
       "Республика Кипр           31\n",
       "США - Франция             29\n",
       "США-Австралия             29\n",
       "США - Германия            29\n",
       "Южная Корея               25\n",
       "США - Австралия           22\n",
       "Индия                     22\n",
       "СССР                      20\n",
       "США-Германия              19\n",
       "Норвегия                  19\n",
       "Дания                     18\n",
       "Швеция                    15\n",
       "Ирландия                  14\n",
       "Украина                   14\n",
       "Name: production_country, dtype: int64"
      ]
     },
     "execution_count": 32,
     "metadata": {},
     "output_type": "execute_result"
    }
   ],
   "source": [
    "df['production_country'].value_counts().head(30)"
   ]
  },
  {
   "cell_type": "code",
   "execution_count": 33,
   "id": "deaa9504",
   "metadata": {},
   "outputs": [
    {
     "data": {
      "text/plain": [
       "О.Семёнова          47\n",
       "Стивен Содерберг    17\n",
       "Д.Червяцов          17\n",
       "Ридли Скотт         16\n",
       "Тиль Швайгер        14\n",
       "Клинт Иствуд        13\n",
       "Вуди Аллен          13\n",
       "Питер Джексон       13\n",
       "Стивен Спилберг     12\n",
       "Дэвид Финчер        12\n",
       "Name: director, dtype: int64"
      ]
     },
     "execution_count": 33,
     "metadata": {},
     "output_type": "execute_result"
    }
   ],
   "source": [
    "df['director'].value_counts().head(10)"
   ]
  },
  {
   "cell_type": "markdown",
   "id": "959a0d06",
   "metadata": {},
   "source": [
    "> Many categorical columns contain inconsistencies due to variations in spelling, extra spaces, word order, or the presence/absence of quotation marks. As a result, identical values are mistakenly treated as distinct. For example, *USA - France* and *France - USA* are stored as separate categories despite referring to the same countries."
   ]
  },
  {
   "cell_type": "code",
   "execution_count": 34,
   "id": "9140dc93",
   "metadata": {},
   "outputs": [
    {
     "data": {
      "text/plain": [
       "array([nan, 'Министерство культуры', 'Фонд кино',\n",
       "       'Министерство культуры, Фонд кино'], dtype=object)"
      ]
     },
     "execution_count": 34,
     "metadata": {},
     "output_type": "execute_result"
    }
   ],
   "source": [
    "# Checking unique financing sources\n",
    "df['financing_source'].unique()"
   ]
  },
  {
   "cell_type": "markdown",
   "id": "fd989c60",
   "metadata": {},
   "source": [
    "> At first glance, financing sources may appear duplicated, but they are not. Some films receive funding from multiple government sources, which are listed together, separated by commas."
   ]
  },
  {
   "cell_type": "code",
   "execution_count": 35,
   "id": "277b3571",
   "metadata": {},
   "outputs": [
    {
     "data": {
      "text/plain": [
       "array(['«18+» - запрещено для детей', '«6+» - для детей старше 6 лет',\n",
       "       '«12+» - для детей старше 12 лет',\n",
       "       '«16+» - для детей старше 16 лет',\n",
       "       '«0+» - для любой зрительской аудитории'], dtype=object)"
      ]
     },
     "execution_count": 35,
     "metadata": {},
     "output_type": "execute_result"
    }
   ],
   "source": [
    "# Checking unique values in key categorical columns\n",
    "df['age_restriction'].unique()"
   ]
  },
  {
   "cell_type": "code",
   "execution_count": 36,
   "id": "1156d8d8",
   "metadata": {},
   "outputs": [
    {
     "data": {
      "text/plain": [
       "array(['Художественный', 'Анимационный', 'Прочие', 'Документальный',\n",
       "       'Научно-популярный', ' Художественный', ' Анимационный',\n",
       "       'Музыкально-развлекательный'], dtype=object)"
      ]
     },
     "execution_count": 36,
     "metadata": {},
     "output_type": "execute_result"
    }
   ],
   "source": [
    "df['type'].unique()"
   ]
  },
  {
   "cell_type": "code",
   "execution_count": 37,
   "id": "48781268",
   "metadata": {},
   "outputs": [],
   "source": [
    "# Removing unnecessary spaces in the 'type' column\n",
    "df['type'] = df['type'].str.strip()"
   ]
  },
  {
   "cell_type": "code",
   "execution_count": 38,
   "id": "42361f16",
   "metadata": {},
   "outputs": [
    {
     "data": {
      "text/plain": [
       "array(['Художественный', 'Анимационный', 'Прочие', 'Документальный',\n",
       "       'Научно-популярный', 'Музыкально-развлекательный'], dtype=object)"
      ]
     },
     "execution_count": 38,
     "metadata": {},
     "output_type": "execute_result"
    }
   ],
   "source": [
    "# Verifying corrections\n",
    "df['type'].unique()"
   ]
  },
  {
   "cell_type": "markdown",
   "id": "ca678eb2",
   "metadata": {},
   "source": [
    "### Verification of Numerical Values"
   ]
  },
  {
   "cell_type": "markdown",
   "id": "c7e18585",
   "metadata": {},
   "source": [
    "> We will examine suspicious data in specific columns."
   ]
  },
  {
   "cell_type": "code",
   "execution_count": 39,
   "id": "3a479123",
   "metadata": {},
   "outputs": [
    {
     "data": {
      "text/html": [
       "<div>\n",
       "<style scoped>\n",
       "    .dataframe tbody tr th:only-of-type {\n",
       "        vertical-align: middle;\n",
       "    }\n",
       "\n",
       "    .dataframe tbody tr th {\n",
       "        vertical-align: top;\n",
       "    }\n",
       "\n",
       "    .dataframe thead th {\n",
       "        text-align: right;\n",
       "    }\n",
       "</style>\n",
       "<table border=\"1\" class=\"dataframe\">\n",
       "  <thead>\n",
       "    <tr style=\"text-align: right;\">\n",
       "      <th></th>\n",
       "      <th>nonrefundable_support</th>\n",
       "      <th>budget</th>\n",
       "      <th>refundable_support</th>\n",
       "    </tr>\n",
       "  </thead>\n",
       "  <tbody>\n",
       "    <tr>\n",
       "      <th>1281</th>\n",
       "      <td>26,500,000.00</td>\n",
       "      <td>79,411,900.00</td>\n",
       "      <td>0.00</td>\n",
       "    </tr>\n",
       "    <tr>\n",
       "      <th>1448</th>\n",
       "      <td>26,000,000.00</td>\n",
       "      <td>37,142,857.00</td>\n",
       "      <td>0.00</td>\n",
       "    </tr>\n",
       "    <tr>\n",
       "      <th>1498</th>\n",
       "      <td>107,847,945.00</td>\n",
       "      <td>176,023,490.00</td>\n",
       "      <td>0.00</td>\n",
       "    </tr>\n",
       "    <tr>\n",
       "      <th>1524</th>\n",
       "      <td>28,000,000.00</td>\n",
       "      <td>40,574,140.00</td>\n",
       "      <td>0.00</td>\n",
       "    </tr>\n",
       "    <tr>\n",
       "      <th>1792</th>\n",
       "      <td>25,000,000.00</td>\n",
       "      <td>40,015,122.00</td>\n",
       "      <td>0.00</td>\n",
       "    </tr>\n",
       "    <tr>\n",
       "      <th>...</th>\n",
       "      <td>...</td>\n",
       "      <td>...</td>\n",
       "      <td>...</td>\n",
       "    </tr>\n",
       "    <tr>\n",
       "      <th>7463</th>\n",
       "      <td>400,000,000.00</td>\n",
       "      <td>980,000,000.00</td>\n",
       "      <td>100,000,000.00</td>\n",
       "    </tr>\n",
       "    <tr>\n",
       "      <th>7465</th>\n",
       "      <td>0.00</td>\n",
       "      <td>190,000,000.00</td>\n",
       "      <td>100,000,000.00</td>\n",
       "    </tr>\n",
       "    <tr>\n",
       "      <th>7473</th>\n",
       "      <td>400,000,000.00</td>\n",
       "      <td>944,000,000.00</td>\n",
       "      <td>100,000,000.00</td>\n",
       "    </tr>\n",
       "    <tr>\n",
       "      <th>7475</th>\n",
       "      <td>30,000,000.00</td>\n",
       "      <td>46,154,000.00</td>\n",
       "      <td>0.00</td>\n",
       "    </tr>\n",
       "    <tr>\n",
       "      <th>7477</th>\n",
       "      <td>60,000,000.00</td>\n",
       "      <td>150,147,502.00</td>\n",
       "      <td>40,000,000.00</td>\n",
       "    </tr>\n",
       "  </tbody>\n",
       "</table>\n",
       "<p>332 rows × 3 columns</p>\n",
       "</div>"
      ],
      "text/plain": [
       "      nonrefundable_support         budget  refundable_support\n",
       "1281          26,500,000.00  79,411,900.00                0.00\n",
       "1448          26,000,000.00  37,142,857.00                0.00\n",
       "1498         107,847,945.00 176,023,490.00                0.00\n",
       "1524          28,000,000.00  40,574,140.00                0.00\n",
       "1792          25,000,000.00  40,015,122.00                0.00\n",
       "...                     ...            ...                 ...\n",
       "7463         400,000,000.00 980,000,000.00      100,000,000.00\n",
       "7465                   0.00 190,000,000.00      100,000,000.00\n",
       "7473         400,000,000.00 944,000,000.00      100,000,000.00\n",
       "7475          30,000,000.00  46,154,000.00                0.00\n",
       "7477          60,000,000.00 150,147,502.00       40,000,000.00\n",
       "\n",
       "[332 rows x 3 columns]"
      ]
     },
     "execution_count": 39,
     "metadata": {},
     "output_type": "execute_result"
    }
   ],
   "source": [
    "# Extracting a subset of columns related to funding and budget\n",
    "part_df = df[['nonrefundable_support', 'budget', 'refundable_support']]\n",
    "part_df[part_df.notna().any(axis=1)]  # Examining rows with non-null values in these columns"
   ]
  },
  {
   "cell_type": "markdown",
   "id": "a222e43a",
   "metadata": {},
   "source": [
    "> The `budget` column should be the sum of `refundable_support` and `nonrefundable_support`, with potential additional funds from alternative sources (which we do not have information on). Therefore, we will verify whether the total budget follows the rule that it cannot be less than the sum of refundable and nonrefundable government support:"
   ]
  },
  {
   "cell_type": "code",
   "execution_count": 40,
   "id": "9346c1df",
   "metadata": {},
   "outputs": [
    {
     "data": {
      "text/plain": [
       "nonrefundable_support    17\n",
       "budget                   17\n",
       "refundable_support       17\n",
       "dtype: int64"
      ]
     },
     "execution_count": 40,
     "metadata": {},
     "output_type": "execute_result"
    }
   ],
   "source": [
    "# Checking if budget is less than the sum of refundable and nonrefundable support\n",
    "part_df[part_df['budget'] < part_df['refundable_support'] + part_df['nonrefundable_support']].count()"
   ]
  },
  {
   "cell_type": "markdown",
   "id": "3bff909d",
   "metadata": {},
   "source": [
    "> In 17 rows, the condition is not met. **There are three possible solutions:**\n",
    "> 1. Replace these cells with the sum of refundable and nonrefundable government support.\n",
    "> 2. Replace with the median value.\n",
    "> 3. Drop these 17 rows, as discarding them preserves the overall data quality, despite the limited number of rows with both support and revenue information. I will go with the third option."
   ]
  },
  {
   "cell_type": "code",
   "execution_count": 41,
   "id": "c284e7c0",
   "metadata": {},
   "outputs": [],
   "source": [
    "# Dropping the rows where the budget is less than the sum of the support values\n",
    "df = df.drop(df[df['budget'] < df['refundable_support'] + df['nonrefundable_support']].index)"
   ]
  },
  {
   "cell_type": "markdown",
   "id": "4125d445",
   "metadata": {},
   "source": [
    "### Adding New Columns"
   ]
  },
  {
   "cell_type": "markdown",
   "id": "87495437",
   "metadata": {},
   "source": [
    "> We will create new columns to enrich the dataset with additional insights:\n",
    "\n",
    "> 1. **Year of Release:** Extracting the year from the show_start_date column."
   ]
  },
  {
   "cell_type": "code",
   "execution_count": 42,
   "id": "7c837b25",
   "metadata": {},
   "outputs": [],
   "source": [
    "# Creating a new column with the year of release\n",
    "df['show_start_year'] = pd.DatetimeIndex(df['show_start_date']).year"
   ]
  },
  {
   "cell_type": "markdown",
   "id": "1144d5df",
   "metadata": {},
   "source": [
    "> 2. **Main Director and First Genre:** Extracting the first director's name and the main genre for each film."
   ]
  },
  {
   "cell_type": "code",
   "execution_count": 43,
   "id": "683c0746",
   "metadata": {},
   "outputs": [],
   "source": [
    "# Removing rows with missing director and genre data to apply the function\n",
    "df = df.dropna(subset=['director'])\n",
    "df = df.dropna(subset=['genres'])"
   ]
  },
  {
   "cell_type": "code",
   "execution_count": 44,
   "id": "37969302",
   "metadata": {},
   "outputs": [],
   "source": [
    "# Function to extract the first value from a comma-separated string\n",
    "def get_first_value(s):\n",
    "    values = s.split(',')\n",
    "    return values[0]"
   ]
  },
  {
   "cell_type": "code",
   "execution_count": 45,
   "id": "857a7466",
   "metadata": {},
   "outputs": [],
   "source": [
    "# Creating new columns for the main director and the first genre\n",
    "df['main_director'] = df['director'].apply(get_first_value)\n",
    "df['first_genre'] = df['genres'].apply(get_first_value)"
   ]
  },
  {
   "cell_type": "markdown",
   "id": "ea17af09",
   "metadata": {},
   "source": [
    "> 3. **State Funding as a Share of Total Budget:** Calculating the proportion of the total budget represented by government support."
   ]
  },
  {
   "cell_type": "code",
   "execution_count": 46,
   "id": "25db8e70",
   "metadata": {},
   "outputs": [],
   "source": [
    "# Calculating the share of state funding in the total budget\n",
    "df['state_in_total_budget'] = df['budget'] / (df['refundable_support'] + df['nonrefundable_support'])"
   ]
  },
  {
   "cell_type": "markdown",
   "id": "36bf751e",
   "metadata": {},
   "source": [
    "> Finally, let's take a look at the updated dataset:"
   ]
  },
  {
   "cell_type": "code",
   "execution_count": 47,
   "id": "411aac75",
   "metadata": {},
   "outputs": [
    {
     "data": {
      "text/html": [
       "<div>\n",
       "<style scoped>\n",
       "    .dataframe tbody tr th:only-of-type {\n",
       "        vertical-align: middle;\n",
       "    }\n",
       "\n",
       "    .dataframe tbody tr th {\n",
       "        vertical-align: top;\n",
       "    }\n",
       "\n",
       "    .dataframe thead th {\n",
       "        text-align: right;\n",
       "    }\n",
       "</style>\n",
       "<table border=\"1\" class=\"dataframe\">\n",
       "  <thead>\n",
       "    <tr style=\"text-align: right;\">\n",
       "      <th></th>\n",
       "      <th>title</th>\n",
       "      <th>puNumber</th>\n",
       "      <th>show_start_date</th>\n",
       "      <th>type</th>\n",
       "      <th>film_studio</th>\n",
       "      <th>production_country</th>\n",
       "      <th>director</th>\n",
       "      <th>producer</th>\n",
       "      <th>age_restriction</th>\n",
       "      <th>refundable_support</th>\n",
       "      <th>nonrefundable_support</th>\n",
       "      <th>budget</th>\n",
       "      <th>financing_source</th>\n",
       "      <th>ratings</th>\n",
       "      <th>genres</th>\n",
       "      <th>box_office</th>\n",
       "      <th>show_start_year</th>\n",
       "      <th>main_director</th>\n",
       "      <th>first_genre</th>\n",
       "      <th>state_in_total_budget</th>\n",
       "    </tr>\n",
       "  </thead>\n",
       "  <tbody>\n",
       "    <tr>\n",
       "      <th>0</th>\n",
       "      <td>открытый простор</td>\n",
       "      <td>221048915</td>\n",
       "      <td>2015-11-27 12:00:00</td>\n",
       "      <td>Художественный</td>\n",
       "      <td>Тачстоун Пикчерз, Кобальт Пикчерз, Бикон Пикче...</td>\n",
       "      <td>США</td>\n",
       "      <td>Кевин Костнер</td>\n",
       "      <td>Дэвид Валдес, Кевин Костнер, Джейк Эбертс</td>\n",
       "      <td>«18+» - запрещено для детей</td>\n",
       "      <td>NaN</td>\n",
       "      <td>NaN</td>\n",
       "      <td>NaN</td>\n",
       "      <td>NaN</td>\n",
       "      <td>7.20</td>\n",
       "      <td>боевик,драма,мелодрама</td>\n",
       "      <td>NaN</td>\n",
       "      <td>2015</td>\n",
       "      <td>Кевин Костнер</td>\n",
       "      <td>боевик</td>\n",
       "      <td>NaN</td>\n",
       "    </tr>\n",
       "    <tr>\n",
       "      <th>1</th>\n",
       "      <td>особо важное задание</td>\n",
       "      <td>111013716</td>\n",
       "      <td>2016-09-13 12:00:00</td>\n",
       "      <td>Художественный</td>\n",
       "      <td>Киностудия \"Мосфильм\"</td>\n",
       "      <td>СССР</td>\n",
       "      <td>Е.Матвеев</td>\n",
       "      <td>NaN</td>\n",
       "      <td>«6+» - для детей старше 6 лет</td>\n",
       "      <td>NaN</td>\n",
       "      <td>NaN</td>\n",
       "      <td>NaN</td>\n",
       "      <td>NaN</td>\n",
       "      <td>6.60</td>\n",
       "      <td>драма,военный</td>\n",
       "      <td>NaN</td>\n",
       "      <td>2016</td>\n",
       "      <td>Е.Матвеев</td>\n",
       "      <td>драма</td>\n",
       "      <td>NaN</td>\n",
       "    </tr>\n",
       "    <tr>\n",
       "      <th>2</th>\n",
       "      <td>особо опасен</td>\n",
       "      <td>221038416</td>\n",
       "      <td>2016-10-10 12:00:00</td>\n",
       "      <td>Художественный</td>\n",
       "      <td>Юниверсал Пикчерз, Кикстарт Продакшнз, Марк Пл...</td>\n",
       "      <td>США</td>\n",
       "      <td>Тимур Бекмамбетов</td>\n",
       "      <td>Джим Лемли, Джейсон Нетер, Марк Е.Платт, Яйн Смит</td>\n",
       "      <td>«18+» - запрещено для детей</td>\n",
       "      <td>NaN</td>\n",
       "      <td>NaN</td>\n",
       "      <td>NaN</td>\n",
       "      <td>NaN</td>\n",
       "      <td>6.80</td>\n",
       "      <td>фантастика,боевик,триллер</td>\n",
       "      <td>NaN</td>\n",
       "      <td>2016</td>\n",
       "      <td>Тимур Бекмамбетов</td>\n",
       "      <td>фантастика</td>\n",
       "      <td>NaN</td>\n",
       "    </tr>\n",
       "    <tr>\n",
       "      <th>3</th>\n",
       "      <td>особо опасен</td>\n",
       "      <td>221026916</td>\n",
       "      <td>2016-06-10 12:00:00</td>\n",
       "      <td>Художественный</td>\n",
       "      <td>Юниверсал Пикчерз, Кикстарт Продакшнз, Марк Пл...</td>\n",
       "      <td>США</td>\n",
       "      <td>Тимур Бекмамбетов</td>\n",
       "      <td>Джим Лемли, Джейсон Нетер, Марк Е.Платт, Яйн Смит</td>\n",
       "      <td>«18+» - запрещено для детей</td>\n",
       "      <td>NaN</td>\n",
       "      <td>NaN</td>\n",
       "      <td>NaN</td>\n",
       "      <td>NaN</td>\n",
       "      <td>6.80</td>\n",
       "      <td>фантастика,боевик,триллер</td>\n",
       "      <td>NaN</td>\n",
       "      <td>2016</td>\n",
       "      <td>Тимур Бекмамбетов</td>\n",
       "      <td>фантастика</td>\n",
       "      <td>NaN</td>\n",
       "    </tr>\n",
       "    <tr>\n",
       "      <th>4</th>\n",
       "      <td>особо опасен</td>\n",
       "      <td>221030815</td>\n",
       "      <td>2015-07-29 12:00:00</td>\n",
       "      <td>Художественный</td>\n",
       "      <td>Юниверсал Пикчерз, Кикстарт Продакшнз, Марк Пл...</td>\n",
       "      <td>США</td>\n",
       "      <td>Тимур Бекмамбетов</td>\n",
       "      <td>Джим Лемли, Джейсон Нетер, Марк Е.Платт, Яйн Смит</td>\n",
       "      <td>«18+» - запрещено для детей</td>\n",
       "      <td>NaN</td>\n",
       "      <td>NaN</td>\n",
       "      <td>NaN</td>\n",
       "      <td>NaN</td>\n",
       "      <td>6.80</td>\n",
       "      <td>фантастика,боевик,триллер</td>\n",
       "      <td>NaN</td>\n",
       "      <td>2015</td>\n",
       "      <td>Тимур Бекмамбетов</td>\n",
       "      <td>фантастика</td>\n",
       "      <td>NaN</td>\n",
       "    </tr>\n",
       "  </tbody>\n",
       "</table>\n",
       "</div>"
      ],
      "text/plain": [
       "                  title   puNumber     show_start_date            type  \\\n",
       "0      открытый простор  221048915 2015-11-27 12:00:00  Художественный   \n",
       "1  особо важное задание  111013716 2016-09-13 12:00:00  Художественный   \n",
       "2          особо опасен  221038416 2016-10-10 12:00:00  Художественный   \n",
       "3          особо опасен  221026916 2016-06-10 12:00:00  Художественный   \n",
       "4          особо опасен  221030815 2015-07-29 12:00:00  Художественный   \n",
       "\n",
       "                                         film_studio production_country  \\\n",
       "0  Тачстоун Пикчерз, Кобальт Пикчерз, Бикон Пикче...                США   \n",
       "1                              Киностудия \"Мосфильм\"               СССР   \n",
       "2  Юниверсал Пикчерз, Кикстарт Продакшнз, Марк Пл...                США   \n",
       "3  Юниверсал Пикчерз, Кикстарт Продакшнз, Марк Пл...                США   \n",
       "4  Юниверсал Пикчерз, Кикстарт Продакшнз, Марк Пл...                США   \n",
       "\n",
       "            director                                           producer  \\\n",
       "0      Кевин Костнер          Дэвид Валдес, Кевин Костнер, Джейк Эбертс   \n",
       "1          Е.Матвеев                                                NaN   \n",
       "2  Тимур Бекмамбетов  Джим Лемли, Джейсон Нетер, Марк Е.Платт, Яйн Смит   \n",
       "3  Тимур Бекмамбетов  Джим Лемли, Джейсон Нетер, Марк Е.Платт, Яйн Смит   \n",
       "4  Тимур Бекмамбетов  Джим Лемли, Джейсон Нетер, Марк Е.Платт, Яйн Смит   \n",
       "\n",
       "                 age_restriction  refundable_support  nonrefundable_support  \\\n",
       "0    «18+» - запрещено для детей                 NaN                    NaN   \n",
       "1  «6+» - для детей старше 6 лет                 NaN                    NaN   \n",
       "2    «18+» - запрещено для детей                 NaN                    NaN   \n",
       "3    «18+» - запрещено для детей                 NaN                    NaN   \n",
       "4    «18+» - запрещено для детей                 NaN                    NaN   \n",
       "\n",
       "   budget financing_source  ratings                     genres  box_office  \\\n",
       "0     NaN              NaN     7.20     боевик,драма,мелодрама         NaN   \n",
       "1     NaN              NaN     6.60              драма,военный         NaN   \n",
       "2     NaN              NaN     6.80  фантастика,боевик,триллер         NaN   \n",
       "3     NaN              NaN     6.80  фантастика,боевик,триллер         NaN   \n",
       "4     NaN              NaN     6.80  фантастика,боевик,триллер         NaN   \n",
       "\n",
       "   show_start_year      main_director first_genre  state_in_total_budget  \n",
       "0             2015      Кевин Костнер      боевик                    NaN  \n",
       "1             2016          Е.Матвеев       драма                    NaN  \n",
       "2             2016  Тимур Бекмамбетов  фантастика                    NaN  \n",
       "3             2016  Тимур Бекмамбетов  фантастика                    NaN  \n",
       "4             2015  Тимур Бекмамбетов  фантастика                    NaN  "
      ]
     },
     "execution_count": 47,
     "metadata": {},
     "output_type": "execute_result"
    }
   ],
   "source": [
    "# Displaying the first few rows of the dataframe\n",
    "df.head()"
   ]
  },
  {
   "cell_type": "code",
   "execution_count": 48,
   "id": "aedc8f35",
   "metadata": {},
   "outputs": [
    {
     "name": "stdout",
     "output_type": "stream",
     "text": [
      "<class 'pandas.core.frame.DataFrame'>\n",
      "Int64Index: 6491 entries, 0 to 7484\n",
      "Data columns (total 20 columns):\n",
      " #   Column                 Non-Null Count  Dtype         \n",
      "---  ------                 --------------  -----         \n",
      " 0   title                  6491 non-null   object        \n",
      " 1   puNumber               6491 non-null   int64         \n",
      " 2   show_start_date        6491 non-null   datetime64[ns]\n",
      " 3   type                   6491 non-null   object        \n",
      " 4   film_studio            6487 non-null   object        \n",
      " 5   production_country     6490 non-null   object        \n",
      " 6   director               6491 non-null   object        \n",
      " 7   producer               6014 non-null   object        \n",
      " 8   age_restriction        6491 non-null   object        \n",
      " 9   refundable_support     300 non-null    float64       \n",
      " 10  nonrefundable_support  300 non-null    float64       \n",
      " 11  budget                 300 non-null    float64       \n",
      " 12  financing_source       300 non-null    object        \n",
      " 13  ratings                6465 non-null   float64       \n",
      " 14  genres                 6491 non-null   object        \n",
      " 15  box_office             2893 non-null   float64       \n",
      " 16  show_start_year        6491 non-null   int64         \n",
      " 17  main_director          6491 non-null   object        \n",
      " 18  first_genre            6491 non-null   object        \n",
      " 19  state_in_total_budget  300 non-null    float64       \n",
      "dtypes: datetime64[ns](1), float64(6), int64(2), object(11)\n",
      "memory usage: 1.0+ MB\n"
     ]
    }
   ],
   "source": [
    "# Checking the updated info of the dataframe\n",
    "df.info()"
   ]
  },
  {
   "cell_type": "markdown",
   "id": "a9d75f4f",
   "metadata": {},
   "source": [
    " ### Interim Findings"
   ]
  },
  {
   "cell_type": "markdown",
   "id": "1d3b4a5a",
   "metadata": {},
   "source": [
    "1. We converted the data type of the `show_start_date` column from object to datetime and the `ratings` column from object to float.\n",
    "2. We transformed the `box_office` column into millions and rounded the values.\n",
    "3. We examined the missing values but chose not to impute them:\n",
    "- In four columns—`refundable_support`, `nonrefundable_support`, `budget`, and `financing_source`—we observed 96% missing values. We hypothesized that the missing data in these columns indicates that: a. The film did not receive state funding and was financed through alternative sources; b. The film was produced in another country.\n",
    "- We found 58% missing data in the `box_office` column, which we assume is due to the films not being released in Russian cinemas.\n",
    "- We also observed missing values in the `producer` (8%), `ratings` (13%), and `genres` (13%) columns.\n",
    "4. We identified implicit duplicates in the `puNumber` and `title` columns and explained their occurrence. We decided not to remove the duplicates.\n",
    "5. We found an issue in the categorical columns, where identical information was duplicated as unique values.\n",
    "6. We corrected the problematic values in the `type` column.\n",
    "7. We discovered anomalous values in the `budget` column and cleaned the dataframe by removing rows where the budget was less than the sum of refundable and non-refundable support.\n",
    "8. We created four new columns: `show_start_year` (year of release), `main_director` (the main director's name), `first_genre` (the primary genre of the film), and `state_in_total_budget` (the share of government funding in the total budget)."
   ]
  },
  {
   "cell_type": "markdown",
   "id": "4f0fdef7",
   "metadata": {},
   "source": [
    " ## Exploratory Data Analysis (EDA)"
   ]
  },
  {
   "cell_type": "markdown",
   "id": "13bc4baf",
   "metadata": {},
   "source": [
    "- Let’s examine how many films were released each year. *Box office data is not available for all films.*\n",
    "- Using a pivot table, we will calculate the average and median box office revenue for each year."
   ]
  },
  {
   "cell_type": "code",
   "execution_count": 49,
   "id": "272333ea",
   "metadata": {},
   "outputs": [
    {
     "data": {
      "text/html": [
       "<div>\n",
       "<style scoped>\n",
       "    .dataframe tbody tr th:only-of-type {\n",
       "        vertical-align: middle;\n",
       "    }\n",
       "\n",
       "    .dataframe tbody tr th {\n",
       "        vertical-align: top;\n",
       "    }\n",
       "\n",
       "    .dataframe thead th {\n",
       "        text-align: right;\n",
       "    }\n",
       "</style>\n",
       "<table border=\"1\" class=\"dataframe\">\n",
       "  <thead>\n",
       "    <tr style=\"text-align: right;\">\n",
       "      <th></th>\n",
       "      <th>count_movies_per_year</th>\n",
       "      <th>sum_box_office</th>\n",
       "      <th>mean_box_office</th>\n",
       "      <th>median_box_office</th>\n",
       "    </tr>\n",
       "    <tr>\n",
       "      <th>show_start_year</th>\n",
       "      <th></th>\n",
       "      <th></th>\n",
       "      <th></th>\n",
       "      <th></th>\n",
       "    </tr>\n",
       "  </thead>\n",
       "  <tbody>\n",
       "    <tr>\n",
       "      <th>2010</th>\n",
       "      <td>102</td>\n",
       "      <td>1.00</td>\n",
       "      <td>0.01</td>\n",
       "      <td>0.00</td>\n",
       "    </tr>\n",
       "    <tr>\n",
       "      <th>2011</th>\n",
       "      <td>104</td>\n",
       "      <td>1.00</td>\n",
       "      <td>0.01</td>\n",
       "      <td>0.00</td>\n",
       "    </tr>\n",
       "    <tr>\n",
       "      <th>2012</th>\n",
       "      <td>123</td>\n",
       "      <td>4.00</td>\n",
       "      <td>0.03</td>\n",
       "      <td>0.00</td>\n",
       "    </tr>\n",
       "    <tr>\n",
       "      <th>2013</th>\n",
       "      <td>180</td>\n",
       "      <td>26.00</td>\n",
       "      <td>0.14</td>\n",
       "      <td>0.00</td>\n",
       "    </tr>\n",
       "    <tr>\n",
       "      <th>2014</th>\n",
       "      <td>262</td>\n",
       "      <td>7,297.00</td>\n",
       "      <td>27.85</td>\n",
       "      <td>0.00</td>\n",
       "    </tr>\n",
       "    <tr>\n",
       "      <th>2015</th>\n",
       "      <td>413</td>\n",
       "      <td>37,168.00</td>\n",
       "      <td>90.00</td>\n",
       "      <td>7.00</td>\n",
       "    </tr>\n",
       "    <tr>\n",
       "      <th>2016</th>\n",
       "      <td>461</td>\n",
       "      <td>44,673.00</td>\n",
       "      <td>96.90</td>\n",
       "      <td>5.00</td>\n",
       "    </tr>\n",
       "    <tr>\n",
       "      <th>2017</th>\n",
       "      <td>330</td>\n",
       "      <td>46,007.00</td>\n",
       "      <td>139.42</td>\n",
       "      <td>10.50</td>\n",
       "    </tr>\n",
       "    <tr>\n",
       "      <th>2018</th>\n",
       "      <td>441</td>\n",
       "      <td>46,413.00</td>\n",
       "      <td>105.24</td>\n",
       "      <td>10.00</td>\n",
       "    </tr>\n",
       "    <tr>\n",
       "      <th>2019</th>\n",
       "      <td>477</td>\n",
       "      <td>48,146.00</td>\n",
       "      <td>100.94</td>\n",
       "      <td>6.00</td>\n",
       "    </tr>\n",
       "  </tbody>\n",
       "</table>\n",
       "</div>"
      ],
      "text/plain": [
       "                 count_movies_per_year  sum_box_office  mean_box_office  \\\n",
       "show_start_year                                                           \n",
       "2010                               102            1.00             0.01   \n",
       "2011                               104            1.00             0.01   \n",
       "2012                               123            4.00             0.03   \n",
       "2013                               180           26.00             0.14   \n",
       "2014                               262        7,297.00            27.85   \n",
       "2015                               413       37,168.00            90.00   \n",
       "2016                               461       44,673.00            96.90   \n",
       "2017                               330       46,007.00           139.42   \n",
       "2018                               441       46,413.00           105.24   \n",
       "2019                               477       48,146.00           100.94   \n",
       "\n",
       "                 median_box_office  \n",
       "show_start_year                     \n",
       "2010                          0.00  \n",
       "2011                          0.00  \n",
       "2012                          0.00  \n",
       "2013                          0.00  \n",
       "2014                          0.00  \n",
       "2015                          7.00  \n",
       "2016                          5.00  \n",
       "2017                         10.50  \n",
       "2018                         10.00  \n",
       "2019                          6.00  "
      ]
     },
     "execution_count": 49,
     "metadata": {},
     "output_type": "execute_result"
    }
   ],
   "source": [
    "movies_per_year = df.pivot_table(index='show_start_year',\n",
    "                                 values='box_office',\n",
    "                                 aggfunc = ['count', 'sum', 'mean', 'median'])\n",
    "# Create a pivot table\n",
    "movies_per_year.columns = ['count_movies_per_year',\n",
    "                           'sum_box_office', 'mean_box_office', 'median_box_office']\n",
    "\n",
    "movies_per_year.head(10)"
   ]
  },
  {
   "cell_type": "code",
   "execution_count": 50,
   "id": "3d5730cd",
   "metadata": {},
   "outputs": [
    {
     "data": {
      "image/png": "[encoded data removed]",
      "text/plain": [
       "<Figure size 432x288 with 1 Axes>"
      ]
     },
     "metadata": {
      "needs_background": "light"
     },
     "output_type": "display_data"
    }
   ],
   "source": [
    "movies_per_year['count_movies_per_year'].plot(kind='bar', \n",
    "                                              legend=True, \n",
    "                                              grid=True,\n",
    "                                              title = 'Number of Movies Released by Year');"
   ]
  },
  {
   "cell_type": "markdown",
   "id": "daf5d06d",
   "metadata": {},
   "source": [
    "> The number of movies released steadily increased from 2010 to 2016, with a decline in 2017, followed by a recovery in 2019, surpassing the previous levels."
   ]
  },
  {
   "cell_type": "markdown",
   "id": "978357cd",
   "metadata": {},
   "source": [
    "- Next, let’s calculate the proportion of films with available box office data."
   ]
  },
  {
   "cell_type": "code",
   "execution_count": 51,
   "id": "0ddd40bb",
   "metadata": {},
   "outputs": [
    {
     "data": {
      "text/plain": [
       "'Proportion of films with box office information:'"
      ]
     },
     "metadata": {},
     "output_type": "display_data"
    },
    {
     "data": {
      "text/plain": [
       "0.4456940378986289"
      ]
     },
     "metadata": {},
     "output_type": "display_data"
    }
   ],
   "source": [
    "display('Proportion of films with box office information:',\n",
    "        df['box_office'].count() / df['show_start_year'].count())"
   ]
  },
  {
   "cell_type": "markdown",
   "id": "a7bcb720",
   "metadata": {},
   "source": [
    "- We’ll explore the box office revenue trends by year: a) In which year was the revenue the lowest? b) In which year was it the highest?"
   ]
  },
  {
   "cell_type": "code",
   "execution_count": 52,
   "id": "737d19fa",
   "metadata": {},
   "outputs": [
    {
     "data": {
      "image/png": "[encoded data removed]",
      "text/plain": [
       "<Figure size 432x288 with 1 Axes>"
      ]
     },
     "metadata": {
      "needs_background": "light"
     },
     "output_type": "display_data"
    }
   ],
   "source": [
    "movies_per_year['sum_box_office'].plot(style='o-', \n",
    "                                       legend=True, \n",
    "                                       grid=True,\n",
    "                                       title = 'Box Office Revenue Trends by Year');"
   ]
  },
  {
   "cell_type": "markdown",
   "id": "952d480b",
   "metadata": {},
   "source": [
    "> From 2013, the box office revenue started to grow steadily. The graph does not distinguish small changes, so we refer to the pivot table above. The lowest revenue was recorded in 2011, and the highest in 2019."
   ]
  },
  {
   "cell_type": "code",
   "execution_count": 53,
   "id": "47b4b5d9",
   "metadata": {},
   "outputs": [
    {
     "data": {
      "image/png": "[encoded data removed]",
      "text/plain": [
       "<Figure size 432x288 with 1 Axes>"
      ]
     },
     "metadata": {
      "needs_background": "light"
     },
     "output_type": "display_data"
    }
   ],
   "source": [
    "movies_per_year.plot(style='o-', y=['mean_box_office', 'median_box_office'],\n",
    "                     title= 'Average and Median Box Office Revenue by Year');"
   ]
  },
  {
   "cell_type": "markdown",
   "id": "19154996",
   "metadata": {},
   "source": [
    "> The average and median values differ significantly. We hypothesize that this is due to a large number of outliers in the data."
   ]
  },
  {
   "cell_type": "code",
   "execution_count": 54,
   "id": "52d18977",
   "metadata": {},
   "outputs": [
    {
     "data": {
      "text/html": [
       "<div>\n",
       "<style scoped>\n",
       "    .dataframe tbody tr th:only-of-type {\n",
       "        vertical-align: middle;\n",
       "    }\n",
       "\n",
       "    .dataframe tbody tr th {\n",
       "        vertical-align: top;\n",
       "    }\n",
       "\n",
       "    .dataframe thead th {\n",
       "        text-align: right;\n",
       "    }\n",
       "</style>\n",
       "<table border=\"1\" class=\"dataframe\">\n",
       "  <thead>\n",
       "    <tr style=\"text-align: right;\">\n",
       "      <th></th>\n",
       "      <th>box_office</th>\n",
       "    </tr>\n",
       "  </thead>\n",
       "  <tbody>\n",
       "    <tr>\n",
       "      <th>count</th>\n",
       "      <td>2,893.00</td>\n",
       "    </tr>\n",
       "    <tr>\n",
       "      <th>mean</th>\n",
       "      <td>79.41</td>\n",
       "    </tr>\n",
       "    <tr>\n",
       "      <th>std</th>\n",
       "      <td>245.81</td>\n",
       "    </tr>\n",
       "    <tr>\n",
       "      <th>min</th>\n",
       "      <td>0.00</td>\n",
       "    </tr>\n",
       "    <tr>\n",
       "      <th>25%</th>\n",
       "      <td>0.00</td>\n",
       "    </tr>\n",
       "    <tr>\n",
       "      <th>50%</th>\n",
       "      <td>3.00</td>\n",
       "    </tr>\n",
       "    <tr>\n",
       "      <th>75%</th>\n",
       "      <td>28.00</td>\n",
       "    </tr>\n",
       "    <tr>\n",
       "      <th>max</th>\n",
       "      <td>3,074.00</td>\n",
       "    </tr>\n",
       "  </tbody>\n",
       "</table>\n",
       "</div>"
      ],
      "text/plain": [
       "       box_office\n",
       "count    2,893.00\n",
       "mean        79.41\n",
       "std        245.81\n",
       "min          0.00\n",
       "25%          0.00\n",
       "50%          3.00\n",
       "75%         28.00\n",
       "max      3,074.00"
      ]
     },
     "execution_count": 54,
     "metadata": {},
     "output_type": "execute_result"
    }
   ],
   "source": [
    "df[['box_office']].describe()"
   ]
  },
  {
   "cell_type": "markdown",
   "id": "2979a0a6",
   "metadata": {},
   "source": [
    "We will determine whether age restrictions (such as \"6+\", \"12+\", \"16+\", \"18+\", etc.) affect a film's box office revenue from 2015 to 2019. Specifically, we’ll answer the following questions:\n",
    "1. Which age restriction category generated the most revenue?\n",
    "2. Does this change over the years?"
   ]
  },
  {
   "cell_type": "code",
   "execution_count": 55,
   "id": "acae858d",
   "metadata": {},
   "outputs": [
    {
     "data": {
      "text/html": [
       "<div>\n",
       "<style scoped>\n",
       "    .dataframe tbody tr th:only-of-type {\n",
       "        vertical-align: middle;\n",
       "    }\n",
       "\n",
       "    .dataframe tbody tr th {\n",
       "        vertical-align: top;\n",
       "    }\n",
       "\n",
       "    .dataframe thead th {\n",
       "        text-align: right;\n",
       "    }\n",
       "</style>\n",
       "<table border=\"1\" class=\"dataframe\">\n",
       "  <thead>\n",
       "    <tr style=\"text-align: right;\">\n",
       "      <th>age_restriction</th>\n",
       "      <th>«0+» - для любой зрительской аудитории</th>\n",
       "      <th>«12+» - для детей старше 12 лет</th>\n",
       "      <th>«16+» - для детей старше 16 лет</th>\n",
       "      <th>«18+» - запрещено для детей</th>\n",
       "      <th>«6+» - для детей старше 6 лет</th>\n",
       "    </tr>\n",
       "    <tr>\n",
       "      <th>show_start_year</th>\n",
       "      <th></th>\n",
       "      <th></th>\n",
       "      <th></th>\n",
       "      <th></th>\n",
       "      <th></th>\n",
       "    </tr>\n",
       "  </thead>\n",
       "  <tbody>\n",
       "    <tr>\n",
       "      <th>2015</th>\n",
       "      <td>328.00</td>\n",
       "      <td>13,419.00</td>\n",
       "      <td>10,469.00</td>\n",
       "      <td>5,272.00</td>\n",
       "      <td>7,680.00</td>\n",
       "    </tr>\n",
       "    <tr>\n",
       "      <th>2016</th>\n",
       "      <td>77.00</td>\n",
       "      <td>11,135.00</td>\n",
       "      <td>15,887.00</td>\n",
       "      <td>6,764.00</td>\n",
       "      <td>10,810.00</td>\n",
       "    </tr>\n",
       "    <tr>\n",
       "      <th>2017</th>\n",
       "      <td>228.00</td>\n",
       "      <td>7,350.00</td>\n",
       "      <td>17,788.00</td>\n",
       "      <td>9,619.00</td>\n",
       "      <td>11,022.00</td>\n",
       "    </tr>\n",
       "    <tr>\n",
       "      <th>2018</th>\n",
       "      <td>4.00</td>\n",
       "      <td>12,473.00</td>\n",
       "      <td>15,284.00</td>\n",
       "      <td>8,743.00</td>\n",
       "      <td>9,909.00</td>\n",
       "    </tr>\n",
       "    <tr>\n",
       "      <th>2019</th>\n",
       "      <td>14.00</td>\n",
       "      <td>12,665.00</td>\n",
       "      <td>12,715.00</td>\n",
       "      <td>10,074.00</td>\n",
       "      <td>12,678.00</td>\n",
       "    </tr>\n",
       "  </tbody>\n",
       "</table>\n",
       "</div>"
      ],
      "text/plain": [
       "age_restriction  «0+» - для любой зрительской аудитории  \\\n",
       "show_start_year                                           \n",
       "2015                                             328.00   \n",
       "2016                                              77.00   \n",
       "2017                                             228.00   \n",
       "2018                                               4.00   \n",
       "2019                                              14.00   \n",
       "\n",
       "age_restriction  «12+» - для детей старше 12 лет  \\\n",
       "show_start_year                                    \n",
       "2015                                   13,419.00   \n",
       "2016                                   11,135.00   \n",
       "2017                                    7,350.00   \n",
       "2018                                   12,473.00   \n",
       "2019                                   12,665.00   \n",
       "\n",
       "age_restriction  «16+» - для детей старше 16 лет  «18+» - запрещено для детей  \\\n",
       "show_start_year                                                                 \n",
       "2015                                   10,469.00                     5,272.00   \n",
       "2016                                   15,887.00                     6,764.00   \n",
       "2017                                   17,788.00                     9,619.00   \n",
       "2018                                   15,284.00                     8,743.00   \n",
       "2019                                   12,715.00                    10,074.00   \n",
       "\n",
       "age_restriction  «6+» - для детей старше 6 лет  \n",
       "show_start_year                                 \n",
       "2015                                  7,680.00  \n",
       "2016                                 10,810.00  \n",
       "2017                                 11,022.00  \n",
       "2018                                  9,909.00  \n",
       "2019                                 12,678.00  "
      ]
     },
     "execution_count": 55,
     "metadata": {},
     "output_type": "execute_result"
    }
   ],
   "source": [
    "age_box_office = df.pivot_table(index='show_start_year',\n",
    "                                columns='age_restriction',\n",
    "                                values='box_office',\n",
    "                                aggfunc='sum')\n",
    "age_box_office.tail()"
   ]
  },
  {
   "cell_type": "code",
   "execution_count": 56,
   "id": "c4848c38",
   "metadata": {},
   "outputs": [
    {
     "data": {
      "image/png": "[encoded data removed]",
      "text/plain": [
       "<Figure size 720x504 with 1 Axes>"
      ]
     },
     "metadata": {
      "needs_background": "light"
     },
     "output_type": "display_data"
    }
   ],
   "source": [
    "age_box_office.plot(style='o-', \n",
    "                    xlim=[2015, 2019],\n",
    "                    figsize=(10, 7),\n",
    "                    grid = True,\n",
    "                    title='Impact of Age Restrictions on Box Office Revenue (2015-2019)');"
   ]
  },
  {
   "cell_type": "markdown",
   "id": "14321588",
   "metadata": {},
   "source": [
    "> Age restrictions clearly influence box office revenue: films with the \"16+\" rating earn the most, while \"0+\" films earn the least (most likely due to the fact that this category only includes animated movies for young children, which are rarely watched in theaters).\n",
    "\n",
    "> We also observe the following trends:\n",
    "> - Box office revenue for \"18+\" films roughly doubled during the period.\n",
    "> - \"6+\" films saw a revenue increase of around 40%.\n",
    "> - \"12+\" films experienced a sharp drop in 2017 but recovered by 2019.\n",
    "> - \"0+\" films saw a massive drop from 327 million in 2015 to 13 million in 2019."
   ]
  },
  {
   "cell_type": "code",
   "execution_count": 57,
   "id": "fe5991c8",
   "metadata": {},
   "outputs": [
    {
     "data": {
      "text/html": [
       "<div>\n",
       "<style scoped>\n",
       "    .dataframe tbody tr th:only-of-type {\n",
       "        vertical-align: middle;\n",
       "    }\n",
       "\n",
       "    .dataframe tbody tr th {\n",
       "        vertical-align: top;\n",
       "    }\n",
       "\n",
       "    .dataframe thead th {\n",
       "        text-align: right;\n",
       "    }\n",
       "</style>\n",
       "<table border=\"1\" class=\"dataframe\">\n",
       "  <thead>\n",
       "    <tr style=\"text-align: right;\">\n",
       "      <th></th>\n",
       "      <th>sum_box_office</th>\n",
       "    </tr>\n",
       "    <tr>\n",
       "      <th>age_restriction</th>\n",
       "      <th></th>\n",
       "    </tr>\n",
       "  </thead>\n",
       "  <tbody>\n",
       "    <tr>\n",
       "      <th>«0+» - для любой зрительской аудитории</th>\n",
       "      <td>1,027.00</td>\n",
       "    </tr>\n",
       "    <tr>\n",
       "      <th>«12+» - для детей старше 12 лет</th>\n",
       "      <td>59,643.00</td>\n",
       "    </tr>\n",
       "    <tr>\n",
       "      <th>«16+» - для детей старше 16 лет</th>\n",
       "      <td>72,574.00</td>\n",
       "    </tr>\n",
       "    <tr>\n",
       "      <th>«18+» - запрещено для детей</th>\n",
       "      <td>42,686.00</td>\n",
       "    </tr>\n",
       "    <tr>\n",
       "      <th>«6+» - для детей старше 6 лет</th>\n",
       "      <td>53,806.00</td>\n",
       "    </tr>\n",
       "  </tbody>\n",
       "</table>\n",
       "</div>"
      ],
      "text/plain": [
       "                                        sum_box_office\n",
       "age_restriction                                       \n",
       "«0+» - для любой зрительской аудитории        1,027.00\n",
       "«12+» - для детей старше 12 лет              59,643.00\n",
       "«16+» - для детей старше 16 лет              72,574.00\n",
       "«18+» - запрещено для детей                  42,686.00\n",
       "«6+» - для детей старше 6 лет                53,806.00"
      ]
     },
     "execution_count": 57,
     "metadata": {},
     "output_type": "execute_result"
    }
   ],
   "source": [
    "age_pivot = df.pivot_table(index='age_restriction',\n",
    "                                values='box_office',\n",
    "                                aggfunc='sum')\n",
    "age_pivot.columns = ['sum_box_office']\n",
    "age_pivot"
   ]
  },
  {
   "cell_type": "code",
   "execution_count": 58,
   "id": "be8b49f1",
   "metadata": {},
   "outputs": [
    {
     "data": {
      "image/png": "[encoded data removed]",
      "text/plain": [
       "<Figure size 720x360 with 1 Axes>"
      ]
     },
     "metadata": {
      "needs_background": "light"
     },
     "output_type": "display_data"
    }
   ],
   "source": [
    "age_pivot.sort_values(by = 'sum_box_office')\\\n",
    "    .plot(kind='barh', title = 'Total Box Office Revenue by Age Category for the Entire Period',\n",
    "         figsize = (10,5),\n",
    "         legend = None)\n",
    "plt.show()"
   ]
  },
  {
   "cell_type": "markdown",
   "id": "6cd79d0f",
   "metadata": {},
   "source": [
    "### Interim Findings"
   ]
  },
  {
   "cell_type": "markdown",
   "id": "2e64eef4",
   "metadata": {},
   "source": [
    "1. The number of films released steadily increased from 2010 to 2016, with a decline in 2017, but by 2019, it had surpassed previous levels.\n",
    "2. The proportion of films with available box office data is 0.44.\n",
    "3. We analyzed box office trends by year: since 2013, box office earnings have been steadily growing. The lowest revenue was recorded in 2011, while the highest was in 2019.\n",
    "4. We found that the average and median values differ significantly, which we believe is due to a large number of outliers.\n",
    "5. We concluded that age restrictions influence box office revenue: films rated \"16+\" earned the most, while \"0+\" films earned the least."
   ]
  },
  {
   "cell_type": "markdown",
   "id": "ba18ea5b",
   "metadata": {},
   "source": [
    "## Analysis of Films Receiving Government Support"
   ]
  },
  {
   "cell_type": "markdown",
   "id": "41cfc64e",
   "metadata": {},
   "source": [
    "### Distribution of Government Funding Over the Years"
   ]
  },
  {
   "cell_type": "code",
   "execution_count": 59,
   "id": "bdee7dfa",
   "metadata": {},
   "outputs": [],
   "source": [
    "# Calculate the total amount of state support\n",
    "df['state_support'] = df['refundable_support'] + df['nonrefundable_support']"
   ]
  },
  {
   "cell_type": "code",
   "execution_count": 60,
   "id": "c495d129",
   "metadata": {},
   "outputs": [],
   "source": [
    "# Convert values to millions for better readability\n",
    "df['state_support'] = df['state_support'] / 1_000_000  "
   ]
  },
  {
   "cell_type": "code",
   "execution_count": 61,
   "id": "638312d5",
   "metadata": {},
   "outputs": [],
   "source": [
    "# Round values for clarity\n",
    "df['state_support'] = df['state_support'].round()"
   ]
  },
  {
   "cell_type": "code",
   "execution_count": 62,
   "id": "34badb32",
   "metadata": {},
   "outputs": [
    {
     "data": {
      "text/html": [
       "<div>\n",
       "<style scoped>\n",
       "    .dataframe tbody tr th:only-of-type {\n",
       "        vertical-align: middle;\n",
       "    }\n",
       "\n",
       "    .dataframe tbody tr th {\n",
       "        vertical-align: top;\n",
       "    }\n",
       "\n",
       "    .dataframe thead th {\n",
       "        text-align: right;\n",
       "    }\n",
       "</style>\n",
       "<table border=\"1\" class=\"dataframe\">\n",
       "  <thead>\n",
       "    <tr style=\"text-align: right;\">\n",
       "      <th></th>\n",
       "      <th>state_support_cases</th>\n",
       "      <th>sum_state_support</th>\n",
       "      <th>mean_state_support</th>\n",
       "      <th>median_state_support</th>\n",
       "    </tr>\n",
       "    <tr>\n",
       "      <th>show_start_year</th>\n",
       "      <th></th>\n",
       "      <th></th>\n",
       "      <th></th>\n",
       "      <th></th>\n",
       "    </tr>\n",
       "  </thead>\n",
       "  <tbody>\n",
       "    <tr>\n",
       "      <th>2010</th>\n",
       "      <td>0</td>\n",
       "      <td>0.00</td>\n",
       "      <td>NaN</td>\n",
       "      <td>NaN</td>\n",
       "    </tr>\n",
       "    <tr>\n",
       "      <th>2011</th>\n",
       "      <td>0</td>\n",
       "      <td>0.00</td>\n",
       "      <td>NaN</td>\n",
       "      <td>NaN</td>\n",
       "    </tr>\n",
       "    <tr>\n",
       "      <th>2012</th>\n",
       "      <td>0</td>\n",
       "      <td>0.00</td>\n",
       "      <td>NaN</td>\n",
       "      <td>NaN</td>\n",
       "    </tr>\n",
       "    <tr>\n",
       "      <th>2013</th>\n",
       "      <td>2</td>\n",
       "      <td>134.00</td>\n",
       "      <td>67.00</td>\n",
       "      <td>67.00</td>\n",
       "    </tr>\n",
       "    <tr>\n",
       "      <th>2014</th>\n",
       "      <td>14</td>\n",
       "      <td>523.00</td>\n",
       "      <td>37.36</td>\n",
       "      <td>28.00</td>\n",
       "    </tr>\n",
       "    <tr>\n",
       "      <th>2015</th>\n",
       "      <td>77</td>\n",
       "      <td>3,129.00</td>\n",
       "      <td>40.64</td>\n",
       "      <td>30.00</td>\n",
       "    </tr>\n",
       "    <tr>\n",
       "      <th>2016</th>\n",
       "      <td>54</td>\n",
       "      <td>3,828.00</td>\n",
       "      <td>70.89</td>\n",
       "      <td>35.00</td>\n",
       "    </tr>\n",
       "    <tr>\n",
       "      <th>2017</th>\n",
       "      <td>37</td>\n",
       "      <td>3,049.00</td>\n",
       "      <td>82.41</td>\n",
       "      <td>40.00</td>\n",
       "    </tr>\n",
       "    <tr>\n",
       "      <th>2018</th>\n",
       "      <td>50</td>\n",
       "      <td>2,983.00</td>\n",
       "      <td>59.66</td>\n",
       "      <td>37.50</td>\n",
       "    </tr>\n",
       "    <tr>\n",
       "      <th>2019</th>\n",
       "      <td>66</td>\n",
       "      <td>4,614.00</td>\n",
       "      <td>69.91</td>\n",
       "      <td>40.00</td>\n",
       "    </tr>\n",
       "  </tbody>\n",
       "</table>\n",
       "</div>"
      ],
      "text/plain": [
       "                 state_support_cases  sum_state_support  mean_state_support  \\\n",
       "show_start_year                                                               \n",
       "2010                               0               0.00                 NaN   \n",
       "2011                               0               0.00                 NaN   \n",
       "2012                               0               0.00                 NaN   \n",
       "2013                               2             134.00               67.00   \n",
       "2014                              14             523.00               37.36   \n",
       "2015                              77           3,129.00               40.64   \n",
       "2016                              54           3,828.00               70.89   \n",
       "2017                              37           3,049.00               82.41   \n",
       "2018                              50           2,983.00               59.66   \n",
       "2019                              66           4,614.00               69.91   \n",
       "\n",
       "                 median_state_support  \n",
       "show_start_year                        \n",
       "2010                              NaN  \n",
       "2011                              NaN  \n",
       "2012                              NaN  \n",
       "2013                            67.00  \n",
       "2014                            28.00  \n",
       "2015                            30.00  \n",
       "2016                            35.00  \n",
       "2017                            40.00  \n",
       "2018                            37.50  \n",
       "2019                            40.00  "
      ]
     },
     "execution_count": 62,
     "metadata": {},
     "output_type": "execute_result"
    }
   ],
   "source": [
    "year_support = df.pivot_table(index='show_start_year',\n",
    "                              values='state_support',\n",
    "                              aggfunc=['count', 'sum', 'mean', 'median'])\n",
    "\n",
    "year_support.columns = ['state_support_cases', 'sum_state_support', \n",
    "                        'mean_state_support', 'median_state_support']\n",
    "year_support"
   ]
  },
  {
   "cell_type": "markdown",
   "id": "5cbe45fd",
   "metadata": {},
   "source": [
    "#### Number of Films Receiving Government Support by Year"
   ]
  },
  {
   "cell_type": "code",
   "execution_count": 63,
   "id": "b23a2f63",
   "metadata": {},
   "outputs": [
    {
     "data": {
      "image/png": "[encoded data removed]",
      "text/plain": [
       "<Figure size 720x432 with 1 Axes>"
      ]
     },
     "metadata": {
      "needs_background": "light"
     },
     "output_type": "display_data"
    }
   ],
   "source": [
    "plt.figure(figsize=(10,6))\n",
    "ax = sns.barplot(\n",
    "    x=year_support.index, \n",
    "    y=year_support['state_support_cases'], \n",
    "    color='#4C72B0'\n",
    ")\n",
    "\n",
    "plt.xticks(rotation=45, fontsize=11)\n",
    "plt.yticks(fontsize=11)\n",
    "plt.grid(axis='y', linestyle='--', alpha=0.6)\n",
    "plt.title('Number of Films Receiving Government Support by Year', fontsize=14, fontweight='bold')\n",
    "plt.xlabel('Year', fontsize=12, fontweight='bold')\n",
    "plt.ylabel('Number of Films', fontsize=12, fontweight='bold')\n",
    "\n",
    "for p in ax.patches:\n",
    "    ax.annotate(\n",
    "        f'{int(p.get_height())}',\n",
    "        (p.get_x() + p.get_width() / 2, p.get_height()),  \n",
    "        ha='center', va='bottom', fontsize=11, fontweight='bold', color='black'\n",
    "    )\n",
    "\n",
    "sns.despine(top=True, right=True)\n",
    "\n",
    "plt.show()"
   ]
  },
  {
   "cell_type": "markdown",
   "id": "503ff9b9",
   "metadata": {},
   "source": [
    "> - Only films released between 2013 and 2019 received government support.\n",
    "> - The highest number of funded films (77) was released in 2015."
   ]
  },
  {
   "cell_type": "markdown",
   "id": "5eb18c4e",
   "metadata": {},
   "source": [
    "#### Total Government Funding by Year"
   ]
  },
  {
   "cell_type": "code",
   "execution_count": 64,
   "id": "3b8d2b49",
   "metadata": {},
   "outputs": [
    {
     "data": {
      "image/png": "[encoded data removed]",
      "text/plain": [
       "<Figure size 720x432 with 1 Axes>"
      ]
     },
     "metadata": {
      "needs_background": "light"
     },
     "output_type": "display_data"
    }
   ],
   "source": [
    "plt.figure(figsize=(10,6))\n",
    "ax = sns.barplot(\n",
    "    x=year_support.index, \n",
    "    y=year_support['sum_state_support'], \n",
    "    color='#55A868'\n",
    ")\n",
    "\n",
    "plt.xticks(rotation=45, fontsize=11)\n",
    "plt.yticks(fontsize=11)\n",
    "plt.grid(axis='y', linestyle='--', alpha=0.6)\n",
    "plt.title('Total Amount of Government Funding by Year', fontsize=14, fontweight='bold')\n",
    "plt.xlabel('Year', fontsize=12, fontweight='bold')\n",
    "plt.ylabel('Total Funding (Million RUB)', fontsize=12, fontweight='bold')\n",
    "\n",
    "for p in ax.patches:\n",
    "    ax.annotate(\n",
    "        f'{int(p.get_height())}',  \n",
    "        (p.get_x() + p.get_width() / 2, p.get_height()),  \n",
    "        ha='center', va='bottom', fontsize=11, fontweight='bold', color='black'\n",
    "    )\n",
    "\n",
    "sns.despine(top=True, right=True)\n",
    "\n",
    "plt.show()"
   ]
  },
  {
   "cell_type": "markdown",
   "id": "1463a1cd",
   "metadata": {},
   "source": [
    "> - The highest total government funding was allocated to films released in 2019 (4.6B RUB). In contrast, although more films were funded in 2015, the funding amounts per film were smaller."
   ]
  },
  {
   "cell_type": "markdown",
   "id": "3a055469",
   "metadata": {},
   "source": [
    "#### Median Government Funding per Film by Year"
   ]
  },
  {
   "cell_type": "code",
   "execution_count": 65,
   "id": "ec453963",
   "metadata": {},
   "outputs": [
    {
     "data": {
      "image/png": "[encoded data removed]",
      "text/plain": [
       "<Figure size 720x432 with 1 Axes>"
      ]
     },
     "metadata": {
      "needs_background": "light"
     },
     "output_type": "display_data"
    }
   ],
   "source": [
    "plt.figure(figsize=(10,6))\n",
    "sns.lineplot(x=year_support.index, y=year_support['median_state_support'], marker='o', color='darkred')\n",
    "plt.grid(axis='y', linestyle='--', alpha=0.7)\n",
    "plt.title('Median Government Funding per Film by Year', fontsize=14)\n",
    "plt.xlabel('Year', fontsize=12)\n",
    "plt.ylabel('Funding (in million)', fontsize=12)\n",
    "plt.show()"
   ]
  },
  {
   "cell_type": "markdown",
   "id": "33d280a8",
   "metadata": {},
   "source": [
    "> - In 2015, the highest number of films received government subsidies, resulting in an average of approximately 30 million per film.\n",
    "> - The highest government funding per film was observed in 2013, when only two films were supported."
   ]
  },
  {
   "cell_type": "markdown",
   "id": "2c4a9b50",
   "metadata": {},
   "source": [
    "### Government Funding by Genre"
   ]
  },
  {
   "cell_type": "code",
   "execution_count": 66,
   "id": "36a2b835",
   "metadata": {},
   "outputs": [
    {
     "data": {
      "text/html": [
       "<style  type=\"text/css\" >\n",
       "#T_5fbb1_row0_col0,#T_5fbb1_row14_col1{\n",
       "            background-color:  #b40426;\n",
       "            color:  #f1f1f1;\n",
       "        }#T_5fbb1_row0_col1,#T_5fbb1_row6_col1{\n",
       "            background-color:  #3e51c5;\n",
       "            color:  #f1f1f1;\n",
       "        }#T_5fbb1_row1_col0{\n",
       "            background-color:  #f59d7e;\n",
       "            color:  #000000;\n",
       "        }#T_5fbb1_row1_col1{\n",
       "            background-color:  #4257c9;\n",
       "            color:  #f1f1f1;\n",
       "        }#T_5fbb1_row2_col0{\n",
       "            background-color:  #98b9ff;\n",
       "            color:  #000000;\n",
       "        }#T_5fbb1_row2_col1{\n",
       "            background-color:  #6b8df0;\n",
       "            color:  #000000;\n",
       "        }#T_5fbb1_row3_col0,#T_5fbb1_row4_col0{\n",
       "            background-color:  #6a8bef;\n",
       "            color:  #000000;\n",
       "        }#T_5fbb1_row3_col1,#T_5fbb1_row15_col1{\n",
       "            background-color:  #4961d2;\n",
       "            color:  #f1f1f1;\n",
       "        }#T_5fbb1_row4_col1,#T_5fbb1_row7_col1,#T_5fbb1_row18_col1,#T_5fbb1_row20_col0,#T_5fbb1_row21_col0,#T_5fbb1_row22_col0,#T_5fbb1_row23_col0,#T_5fbb1_row24_col0,#T_5fbb1_row25_col0,#T_5fbb1_row26_col0,#T_5fbb1_row27_col0{\n",
       "            background-color:  #3b4cc0;\n",
       "            color:  #f1f1f1;\n",
       "        }#T_5fbb1_row5_col0,#T_5fbb1_row19_col1{\n",
       "            background-color:  #5f7fe8;\n",
       "            color:  #000000;\n",
       "        }#T_5fbb1_row5_col1{\n",
       "            background-color:  #4358cb;\n",
       "            color:  #f1f1f1;\n",
       "        }#T_5fbb1_row6_col0,#T_5fbb1_row7_col0{\n",
       "            background-color:  #5b7ae5;\n",
       "            color:  #000000;\n",
       "        }#T_5fbb1_row8_col0{\n",
       "            background-color:  #5977e3;\n",
       "            color:  #000000;\n",
       "        }#T_5fbb1_row8_col1{\n",
       "            background-color:  #5470de;\n",
       "            color:  #000000;\n",
       "        }#T_5fbb1_row9_col0,#T_5fbb1_row10_col0{\n",
       "            background-color:  #516ddb;\n",
       "            color:  #000000;\n",
       "        }#T_5fbb1_row9_col1,#T_5fbb1_row12_col1{\n",
       "            background-color:  #455cce;\n",
       "            color:  #f1f1f1;\n",
       "        }#T_5fbb1_row10_col1,#T_5fbb1_row16_col1,#T_5fbb1_row17_col1{\n",
       "            background-color:  #4c66d6;\n",
       "            color:  #000000;\n",
       "        }#T_5fbb1_row11_col0,#T_5fbb1_row12_col0{\n",
       "            background-color:  #4a63d3;\n",
       "            color:  #f1f1f1;\n",
       "        }#T_5fbb1_row11_col1{\n",
       "            background-color:  #6384eb;\n",
       "            color:  #000000;\n",
       "        }#T_5fbb1_row13_col0,#T_5fbb1_row14_col0,#T_5fbb1_row15_col0{\n",
       "            background-color:  #485fd1;\n",
       "            color:  #f1f1f1;\n",
       "        }#T_5fbb1_row13_col1,#T_5fbb1_row19_col0{\n",
       "            background-color:  #3d50c3;\n",
       "            color:  #f1f1f1;\n",
       "        }#T_5fbb1_row16_col0,#T_5fbb1_row17_col0,#T_5fbb1_row18_col0{\n",
       "            background-color:  #445acc;\n",
       "            color:  #f1f1f1;\n",
       "        }#T_5fbb1_row20_col1,#T_5fbb1_row21_col1,#T_5fbb1_row22_col1,#T_5fbb1_row23_col1,#T_5fbb1_row24_col1,#T_5fbb1_row25_col1,#T_5fbb1_row26_col1,#T_5fbb1_row27_col1{\n",
       "            background-color:  #000000;\n",
       "            color:  #f1f1f1;\n",
       "        }</style><table id=\"T_5fbb1_\" ><thead>    <tr>        <th class=\"blank level0\" ></th>        <th class=\"col_heading level0 col0\" >count_genre</th>        <th class=\"col_heading level0 col1\" >median_support</th>    </tr>    <tr>        <th class=\"index_name level0\" >first_genre</th>        <th class=\"blank\" ></th>        <th class=\"blank\" ></th>    </tr></thead><tbody>\n",
       "                <tr>\n",
       "                        <th id=\"T_5fbb1_level0_row0\" class=\"row_heading level0 row0\" >драма</th>\n",
       "                        <td id=\"T_5fbb1_row0_col0\" class=\"data row0 col0\" >92</td>\n",
       "                        <td id=\"T_5fbb1_row0_col1\" class=\"data row0 col1\" >30.000000</td>\n",
       "            </tr>\n",
       "            <tr>\n",
       "                        <th id=\"T_5fbb1_level0_row1\" class=\"row_heading level0 row1\" >комедия</th>\n",
       "                        <td id=\"T_5fbb1_row1_col0\" class=\"data row1 col0\" >68</td>\n",
       "                        <td id=\"T_5fbb1_row1_col1\" class=\"data row1 col1\" >32.500000</td>\n",
       "            </tr>\n",
       "            <tr>\n",
       "                        <th id=\"T_5fbb1_level0_row2\" class=\"row_heading level0 row2\" >мультфильм</th>\n",
       "                        <td id=\"T_5fbb1_row2_col0\" class=\"data row2 col0\" >26</td>\n",
       "                        <td id=\"T_5fbb1_row2_col1\" class=\"data row2 col1\" >60.000000</td>\n",
       "            </tr>\n",
       "            <tr>\n",
       "                        <th id=\"T_5fbb1_level0_row3\" class=\"row_heading level0 row3\" >триллер</th>\n",
       "                        <td id=\"T_5fbb1_row3_col0\" class=\"data row3 col0\" >14</td>\n",
       "                        <td id=\"T_5fbb1_row3_col1\" class=\"data row3 col1\" >37.500000</td>\n",
       "            </tr>\n",
       "            <tr>\n",
       "                        <th id=\"T_5fbb1_level0_row4\" class=\"row_heading level0 row4\" >мелодрама</th>\n",
       "                        <td id=\"T_5fbb1_row4_col0\" class=\"data row4 col0\" >14</td>\n",
       "                        <td id=\"T_5fbb1_row4_col1\" class=\"data row4 col1\" >28.000000</td>\n",
       "            </tr>\n",
       "            <tr>\n",
       "                        <th id=\"T_5fbb1_level0_row5\" class=\"row_heading level0 row5\" >фэнтези</th>\n",
       "                        <td id=\"T_5fbb1_row5_col0\" class=\"data row5 col0\" >11</td>\n",
       "                        <td id=\"T_5fbb1_row5_col1\" class=\"data row5 col1\" >34.000000</td>\n",
       "            </tr>\n",
       "            <tr>\n",
       "                        <th id=\"T_5fbb1_level0_row6\" class=\"row_heading level0 row6\" >ужасы</th>\n",
       "                        <td id=\"T_5fbb1_row6_col0\" class=\"data row6 col0\" >10</td>\n",
       "                        <td id=\"T_5fbb1_row6_col1\" class=\"data row6 col1\" >30.000000</td>\n",
       "            </tr>\n",
       "            <tr>\n",
       "                        <th id=\"T_5fbb1_level0_row7\" class=\"row_heading level0 row7\" >фантастика</th>\n",
       "                        <td id=\"T_5fbb1_row7_col0\" class=\"data row7 col0\" >10</td>\n",
       "                        <td id=\"T_5fbb1_row7_col1\" class=\"data row7 col1\" >27.500000</td>\n",
       "            </tr>\n",
       "            <tr>\n",
       "                        <th id=\"T_5fbb1_level0_row8\" class=\"row_heading level0 row8\" >военный</th>\n",
       "                        <td id=\"T_5fbb1_row8_col0\" class=\"data row8 col0\" >9</td>\n",
       "                        <td id=\"T_5fbb1_row8_col1\" class=\"data row8 col1\" >45.000000</td>\n",
       "            </tr>\n",
       "            <tr>\n",
       "                        <th id=\"T_5fbb1_level0_row9\" class=\"row_heading level0 row9\" >семейный</th>\n",
       "                        <td id=\"T_5fbb1_row9_col0\" class=\"data row9 col0\" >7</td>\n",
       "                        <td id=\"T_5fbb1_row9_col1\" class=\"data row9 col1\" >35.000000</td>\n",
       "            </tr>\n",
       "            <tr>\n",
       "                        <th id=\"T_5fbb1_level0_row10\" class=\"row_heading level0 row10\" >приключения</th>\n",
       "                        <td id=\"T_5fbb1_row10_col0\" class=\"data row10 col0\" >7</td>\n",
       "                        <td id=\"T_5fbb1_row10_col1\" class=\"data row10 col1\" >40.000000</td>\n",
       "            </tr>\n",
       "            <tr>\n",
       "                        <th id=\"T_5fbb1_level0_row11\" class=\"row_heading level0 row11\" >детектив</th>\n",
       "                        <td id=\"T_5fbb1_row11_col0\" class=\"data row11 col0\" >5</td>\n",
       "                        <td id=\"T_5fbb1_row11_col1\" class=\"data row11 col1\" >55.000000</td>\n",
       "            </tr>\n",
       "            <tr>\n",
       "                        <th id=\"T_5fbb1_level0_row12\" class=\"row_heading level0 row12\" >боевик</th>\n",
       "                        <td id=\"T_5fbb1_row12_col0\" class=\"data row12 col0\" >5</td>\n",
       "                        <td id=\"T_5fbb1_row12_col1\" class=\"data row12 col1\" >35.000000</td>\n",
       "            </tr>\n",
       "            <tr>\n",
       "                        <th id=\"T_5fbb1_level0_row13\" class=\"row_heading level0 row13\" >детский</th>\n",
       "                        <td id=\"T_5fbb1_row13_col0\" class=\"data row13 col0\" >4</td>\n",
       "                        <td id=\"T_5fbb1_row13_col1\" class=\"data row13 col1\" >29.500000</td>\n",
       "            </tr>\n",
       "            <tr>\n",
       "                        <th id=\"T_5fbb1_level0_row14\" class=\"row_heading level0 row14\" >история</th>\n",
       "                        <td id=\"T_5fbb1_row14_col0\" class=\"data row14 col0\" >4</td>\n",
       "                        <td id=\"T_5fbb1_row14_col1\" class=\"data row14 col1\" >240.000000</td>\n",
       "            </tr>\n",
       "            <tr>\n",
       "                        <th id=\"T_5fbb1_level0_row15\" class=\"row_heading level0 row15\" >мюзикл</th>\n",
       "                        <td id=\"T_5fbb1_row15_col0\" class=\"data row15 col0\" >4</td>\n",
       "                        <td id=\"T_5fbb1_row15_col1\" class=\"data row15 col1\" >37.500000</td>\n",
       "            </tr>\n",
       "            <tr>\n",
       "                        <th id=\"T_5fbb1_level0_row16\" class=\"row_heading level0 row16\" >спорт</th>\n",
       "                        <td id=\"T_5fbb1_row16_col0\" class=\"data row16 col0\" >3</td>\n",
       "                        <td id=\"T_5fbb1_row16_col1\" class=\"data row16 col1\" >40.000000</td>\n",
       "            </tr>\n",
       "            <tr>\n",
       "                        <th id=\"T_5fbb1_level0_row17\" class=\"row_heading level0 row17\" >криминал</th>\n",
       "                        <td id=\"T_5fbb1_row17_col0\" class=\"data row17 col0\" >3</td>\n",
       "                        <td id=\"T_5fbb1_row17_col1\" class=\"data row17 col1\" >40.000000</td>\n",
       "            </tr>\n",
       "            <tr>\n",
       "                        <th id=\"T_5fbb1_level0_row18\" class=\"row_heading level0 row18\" >биография</th>\n",
       "                        <td id=\"T_5fbb1_row18_col0\" class=\"data row18 col0\" >3</td>\n",
       "                        <td id=\"T_5fbb1_row18_col1\" class=\"data row18 col1\" >28.000000</td>\n",
       "            </tr>\n",
       "            <tr>\n",
       "                        <th id=\"T_5fbb1_level0_row19\" class=\"row_heading level0 row19\" >реальное ТВ</th>\n",
       "                        <td id=\"T_5fbb1_row19_col0\" class=\"data row19 col0\" >1</td>\n",
       "                        <td id=\"T_5fbb1_row19_col1\" class=\"data row19 col1\" >53.000000</td>\n",
       "            </tr>\n",
       "            <tr>\n",
       "                        <th id=\"T_5fbb1_level0_row20\" class=\"row_heading level0 row20\" >музыка</th>\n",
       "                        <td id=\"T_5fbb1_row20_col0\" class=\"data row20 col0\" >0</td>\n",
       "                        <td id=\"T_5fbb1_row20_col1\" class=\"data row20 col1\" >nan</td>\n",
       "            </tr>\n",
       "            <tr>\n",
       "                        <th id=\"T_5fbb1_level0_row21\" class=\"row_heading level0 row21\" >короткометражка</th>\n",
       "                        <td id=\"T_5fbb1_row21_col0\" class=\"data row21 col0\" >0</td>\n",
       "                        <td id=\"T_5fbb1_row21_col1\" class=\"data row21 col1\" >nan</td>\n",
       "            </tr>\n",
       "            <tr>\n",
       "                        <th id=\"T_5fbb1_level0_row22\" class=\"row_heading level0 row22\" >концерт</th>\n",
       "                        <td id=\"T_5fbb1_row22_col0\" class=\"data row22 col0\" >0</td>\n",
       "                        <td id=\"T_5fbb1_row22_col1\" class=\"data row22 col1\" >nan</td>\n",
       "            </tr>\n",
       "            <tr>\n",
       "                        <th id=\"T_5fbb1_level0_row23\" class=\"row_heading level0 row23\" >документальный</th>\n",
       "                        <td id=\"T_5fbb1_row23_col0\" class=\"data row23 col0\" >0</td>\n",
       "                        <td id=\"T_5fbb1_row23_col1\" class=\"data row23 col1\" >nan</td>\n",
       "            </tr>\n",
       "            <tr>\n",
       "                        <th id=\"T_5fbb1_level0_row24\" class=\"row_heading level0 row24\" >для взрослых</th>\n",
       "                        <td id=\"T_5fbb1_row24_col0\" class=\"data row24 col0\" >0</td>\n",
       "                        <td id=\"T_5fbb1_row24_col1\" class=\"data row24 col1\" >nan</td>\n",
       "            </tr>\n",
       "            <tr>\n",
       "                        <th id=\"T_5fbb1_level0_row25\" class=\"row_heading level0 row25\" >вестерн</th>\n",
       "                        <td id=\"T_5fbb1_row25_col0\" class=\"data row25 col0\" >0</td>\n",
       "                        <td id=\"T_5fbb1_row25_col1\" class=\"data row25 col1\" >nan</td>\n",
       "            </tr>\n",
       "            <tr>\n",
       "                        <th id=\"T_5fbb1_level0_row26\" class=\"row_heading level0 row26\" >фильм-нуар</th>\n",
       "                        <td id=\"T_5fbb1_row26_col0\" class=\"data row26 col0\" >0</td>\n",
       "                        <td id=\"T_5fbb1_row26_col1\" class=\"data row26 col1\" >nan</td>\n",
       "            </tr>\n",
       "            <tr>\n",
       "                        <th id=\"T_5fbb1_level0_row27\" class=\"row_heading level0 row27\" >аниме</th>\n",
       "                        <td id=\"T_5fbb1_row27_col0\" class=\"data row27 col0\" >0</td>\n",
       "                        <td id=\"T_5fbb1_row27_col1\" class=\"data row27 col1\" >nan</td>\n",
       "            </tr>\n",
       "    </tbody></table>"
      ],
      "text/plain": [
       "<pandas.io.formats.style.Styler at 0x7fc7e7c85cd0>"
      ]
     },
     "execution_count": 66,
     "metadata": {},
     "output_type": "execute_result"
    }
   ],
   "source": [
    "genre_support = df.pivot_table(index='first_genre',\n",
    "                                 values='state_support',\n",
    "                                 aggfunc = ['count','median'])\n",
    "genre_support.columns = ['count_genre', 'median_support']\n",
    "genre_support.sort_values('count_genre', ascending=False).style.background_gradient('coolwarm')"
   ]
  },
  {
   "cell_type": "markdown",
   "id": "bd8f8ff9",
   "metadata": {},
   "source": [
    "> - Historical films receive the highest funding per project, while children's films receive the lowest."
   ]
  },
  {
   "cell_type": "markdown",
   "id": "59f3ab74",
   "metadata": {},
   "source": [
    "#### Number of Films Receiving Government Support by Genre"
   ]
  },
  {
   "cell_type": "code",
   "execution_count": 81,
   "id": "de8d2d02",
   "metadata": {},
   "outputs": [
    {
     "data": {
      "image/png": "[encoded data removed]",
      "text/plain": [
       "<Figure size 864x504 with 1 Axes>"
      ]
     },
     "metadata": {
      "needs_background": "light"
     },
     "output_type": "display_data"
    }
   ],
   "source": [
    "genre_support_sorted = genre_support.sort_values(by='count_genre', ascending=False)\n",
    "\n",
    "plt.figure(figsize=(12,7))\n",
    "sns.barplot(y=genre_support_sorted.index, x=genre_support_sorted['count_genre'], palette='coolwarm')\n",
    "plt.grid(axis='x', linestyle='--', alpha=0.7)\n",
    "plt.title('Number of Films Receiving Government Support by Genre', fontsize=14)\n",
    "plt.xlabel('Number of Films', fontsize=12)\n",
    "plt.ylabel('Genre', fontsize=12)\n",
    "\n",
    "plt.show()"
   ]
  },
  {
   "cell_type": "markdown",
   "id": "65190166",
   "metadata": {},
   "source": [
    "> - Drama and comedy receive government support most frequently.\n",
    "> - *Surprisingly, short films are not among the funded genres, despite frequent government-backed festivals and contests.*"
   ]
  },
  {
   "cell_type": "markdown",
   "id": "4dbf61a5",
   "metadata": {},
   "source": [
    "### Movie Payback Analysis"
   ]
  },
  {
   "cell_type": "code",
   "execution_count": 68,
   "id": "81352c10",
   "metadata": {},
   "outputs": [
    {
     "data": {
      "text/html": [
       "<style  type=\"text/css\" >\n",
       "#T_9d87f_row0_col0,#T_9d87f_row11_col1{\n",
       "            background-color:  #b40426;\n",
       "            color:  #f1f1f1;\n",
       "        }#T_9d87f_row0_col1,#T_9d87f_row20_col1,#T_9d87f_row23_col1{\n",
       "            background-color:  #4c66d6;\n",
       "            color:  #000000;\n",
       "        }#T_9d87f_row1_col0{\n",
       "            background-color:  #bbd1f8;\n",
       "            color:  #000000;\n",
       "        }#T_9d87f_row1_col1{\n",
       "            background-color:  #5f7fe8;\n",
       "            color:  #000000;\n",
       "        }#T_9d87f_row2_col0{\n",
       "            background-color:  #a3c2fe;\n",
       "            color:  #000000;\n",
       "        }#T_9d87f_row2_col1,#T_9d87f_row7_col1,#T_9d87f_row19_col1,#T_9d87f_row24_col0,#T_9d87f_row25_col0,#T_9d87f_row26_col0,#T_9d87f_row27_col0{\n",
       "            background-color:  #3b4cc0;\n",
       "            color:  #f1f1f1;\n",
       "        }#T_9d87f_row3_col0{\n",
       "            background-color:  #6e90f2;\n",
       "            color:  #000000;\n",
       "        }#T_9d87f_row3_col1{\n",
       "            background-color:  #6384eb;\n",
       "            color:  #000000;\n",
       "        }#T_9d87f_row4_col0{\n",
       "            background-color:  #6282ea;\n",
       "            color:  #000000;\n",
       "        }#T_9d87f_row4_col1,#T_9d87f_row10_col1{\n",
       "            background-color:  #455cce;\n",
       "            color:  #f1f1f1;\n",
       "        }#T_9d87f_row5_col0{\n",
       "            background-color:  #5e7de7;\n",
       "            color:  #000000;\n",
       "        }#T_9d87f_row5_col1,#T_9d87f_row17_col1{\n",
       "            background-color:  #3e51c5;\n",
       "            color:  #f1f1f1;\n",
       "        }#T_9d87f_row6_col0,#T_9d87f_row7_col0{\n",
       "            background-color:  #5a78e4;\n",
       "            color:  #000000;\n",
       "        }#T_9d87f_row6_col1,#T_9d87f_row9_col1{\n",
       "            background-color:  #4961d2;\n",
       "            color:  #f1f1f1;\n",
       "        }#T_9d87f_row8_col0{\n",
       "            background-color:  #5572df;\n",
       "            color:  #000000;\n",
       "        }#T_9d87f_row8_col1{\n",
       "            background-color:  #5470de;\n",
       "            color:  #000000;\n",
       "        }#T_9d87f_row9_col0,#T_9d87f_row10_col0,#T_9d87f_row11_col0{\n",
       "            background-color:  #485fd1;\n",
       "            color:  #f1f1f1;\n",
       "        }#T_9d87f_row12_col0,#T_9d87f_row13_col0,#T_9d87f_row16_col1{\n",
       "            background-color:  #4358cb;\n",
       "            color:  #f1f1f1;\n",
       "        }#T_9d87f_row12_col1{\n",
       "            background-color:  #4257c9;\n",
       "            color:  #f1f1f1;\n",
       "        }#T_9d87f_row13_col1{\n",
       "            background-color:  #6b8df0;\n",
       "            color:  #000000;\n",
       "        }#T_9d87f_row14_col0,#T_9d87f_row15_col0,#T_9d87f_row16_col0,#T_9d87f_row17_col0,#T_9d87f_row18_col0{\n",
       "            background-color:  #4055c8;\n",
       "            color:  #f1f1f1;\n",
       "        }#T_9d87f_row14_col1,#T_9d87f_row15_col1,#T_9d87f_row18_col1,#T_9d87f_row21_col1,#T_9d87f_row22_col1,#T_9d87f_row24_col1,#T_9d87f_row25_col1,#T_9d87f_row27_col1{\n",
       "            background-color:  #000000;\n",
       "            color:  #f1f1f1;\n",
       "        }#T_9d87f_row19_col0,#T_9d87f_row20_col0,#T_9d87f_row21_col0,#T_9d87f_row22_col0,#T_9d87f_row26_col1{\n",
       "            background-color:  #3d50c3;\n",
       "            color:  #f1f1f1;\n",
       "        }#T_9d87f_row23_col0{\n",
       "            background-color:  #3c4ec2;\n",
       "            color:  #f1f1f1;\n",
       "        }</style><table id=\"T_9d87f_\" ><thead>    <tr>        <th class=\"blank level0\" ></th>        <th class=\"col_heading level0 col0\" >median_box_office</th>        <th class=\"col_heading level0 col1\" >median_state_support</th>    </tr>    <tr>        <th class=\"index_name level0\" >first_genre</th>        <th class=\"blank\" ></th>        <th class=\"blank\" ></th>    </tr></thead><tbody>\n",
       "                <tr>\n",
       "                        <th id=\"T_9d87f_level0_row0\" class=\"row_heading level0 row0\" >спорт</th>\n",
       "                        <td id=\"T_9d87f_row0_col0\" class=\"data row0 col0\" >86.000000</td>\n",
       "                        <td id=\"T_9d87f_row0_col1\" class=\"data row0 col1\" >40.000000</td>\n",
       "            </tr>\n",
       "            <tr>\n",
       "                        <th id=\"T_9d87f_level0_row1\" class=\"row_heading level0 row1\" >реальное ТВ</th>\n",
       "                        <td id=\"T_9d87f_row1_col0\" class=\"data row1 col0\" >33.000000</td>\n",
       "                        <td id=\"T_9d87f_row1_col1\" class=\"data row1 col1\" >53.000000</td>\n",
       "            </tr>\n",
       "            <tr>\n",
       "                        <th id=\"T_9d87f_level0_row2\" class=\"row_heading level0 row2\" >фантастика</th>\n",
       "                        <td id=\"T_9d87f_row2_col0\" class=\"data row2 col0\" >27.000000</td>\n",
       "                        <td id=\"T_9d87f_row2_col1\" class=\"data row2 col1\" >27.500000</td>\n",
       "            </tr>\n",
       "            <tr>\n",
       "                        <th id=\"T_9d87f_level0_row3\" class=\"row_heading level0 row3\" >детектив</th>\n",
       "                        <td id=\"T_9d87f_row3_col0\" class=\"data row3 col0\" >14.000000</td>\n",
       "                        <td id=\"T_9d87f_row3_col1\" class=\"data row3 col1\" >55.000000</td>\n",
       "            </tr>\n",
       "            <tr>\n",
       "                        <th id=\"T_9d87f_level0_row4\" class=\"row_heading level0 row4\" >боевик</th>\n",
       "                        <td id=\"T_9d87f_row4_col0\" class=\"data row4 col0\" >11.000000</td>\n",
       "                        <td id=\"T_9d87f_row4_col1\" class=\"data row4 col1\" >35.000000</td>\n",
       "            </tr>\n",
       "            <tr>\n",
       "                        <th id=\"T_9d87f_level0_row5\" class=\"row_heading level0 row5\" >ужасы</th>\n",
       "                        <td id=\"T_9d87f_row5_col0\" class=\"data row5 col0\" >10.000000</td>\n",
       "                        <td id=\"T_9d87f_row5_col1\" class=\"data row5 col1\" >30.000000</td>\n",
       "            </tr>\n",
       "            <tr>\n",
       "                        <th id=\"T_9d87f_level0_row6\" class=\"row_heading level0 row6\" >мюзикл</th>\n",
       "                        <td id=\"T_9d87f_row6_col0\" class=\"data row6 col0\" >9.000000</td>\n",
       "                        <td id=\"T_9d87f_row6_col1\" class=\"data row6 col1\" >37.500000</td>\n",
       "            </tr>\n",
       "            <tr>\n",
       "                        <th id=\"T_9d87f_level0_row7\" class=\"row_heading level0 row7\" >биография</th>\n",
       "                        <td id=\"T_9d87f_row7_col0\" class=\"data row7 col0\" >9.000000</td>\n",
       "                        <td id=\"T_9d87f_row7_col1\" class=\"data row7 col1\" >28.000000</td>\n",
       "            </tr>\n",
       "            <tr>\n",
       "                        <th id=\"T_9d87f_level0_row8\" class=\"row_heading level0 row8\" >военный</th>\n",
       "                        <td id=\"T_9d87f_row8_col0\" class=\"data row8 col0\" >7.500000</td>\n",
       "                        <td id=\"T_9d87f_row8_col1\" class=\"data row8 col1\" >45.000000</td>\n",
       "            </tr>\n",
       "            <tr>\n",
       "                        <th id=\"T_9d87f_level0_row9\" class=\"row_heading level0 row9\" >триллер</th>\n",
       "                        <td id=\"T_9d87f_row9_col0\" class=\"data row9 col0\" >4.000000</td>\n",
       "                        <td id=\"T_9d87f_row9_col1\" class=\"data row9 col1\" >37.500000</td>\n",
       "            </tr>\n",
       "            <tr>\n",
       "                        <th id=\"T_9d87f_level0_row10\" class=\"row_heading level0 row10\" >семейный</th>\n",
       "                        <td id=\"T_9d87f_row10_col0\" class=\"data row10 col0\" >4.000000</td>\n",
       "                        <td id=\"T_9d87f_row10_col1\" class=\"data row10 col1\" >35.000000</td>\n",
       "            </tr>\n",
       "            <tr>\n",
       "                        <th id=\"T_9d87f_level0_row11\" class=\"row_heading level0 row11\" >история</th>\n",
       "                        <td id=\"T_9d87f_row11_col0\" class=\"data row11 col0\" >4.000000</td>\n",
       "                        <td id=\"T_9d87f_row11_col1\" class=\"data row11 col1\" >240.000000</td>\n",
       "            </tr>\n",
       "            <tr>\n",
       "                        <th id=\"T_9d87f_level0_row12\" class=\"row_heading level0 row12\" >комедия</th>\n",
       "                        <td id=\"T_9d87f_row12_col0\" class=\"data row12 col0\" >2.500000</td>\n",
       "                        <td id=\"T_9d87f_row12_col1\" class=\"data row12 col1\" >32.500000</td>\n",
       "            </tr>\n",
       "            <tr>\n",
       "                        <th id=\"T_9d87f_level0_row13\" class=\"row_heading level0 row13\" >мультфильм</th>\n",
       "                        <td id=\"T_9d87f_row13_col0\" class=\"data row13 col0\" >2.500000</td>\n",
       "                        <td id=\"T_9d87f_row13_col1\" class=\"data row13 col1\" >60.000000</td>\n",
       "            </tr>\n",
       "            <tr>\n",
       "                        <th id=\"T_9d87f_level0_row14\" class=\"row_heading level0 row14\" >аниме</th>\n",
       "                        <td id=\"T_9d87f_row14_col0\" class=\"data row14 col0\" >2.000000</td>\n",
       "                        <td id=\"T_9d87f_row14_col1\" class=\"data row14 col1\" >nan</td>\n",
       "            </tr>\n",
       "            <tr>\n",
       "                        <th id=\"T_9d87f_level0_row15\" class=\"row_heading level0 row15\" >музыка</th>\n",
       "                        <td id=\"T_9d87f_row15_col0\" class=\"data row15 col0\" >2.000000</td>\n",
       "                        <td id=\"T_9d87f_row15_col1\" class=\"data row15 col1\" >nan</td>\n",
       "            </tr>\n",
       "            <tr>\n",
       "                        <th id=\"T_9d87f_level0_row16\" class=\"row_heading level0 row16\" >фэнтези</th>\n",
       "                        <td id=\"T_9d87f_row16_col0\" class=\"data row16 col0\" >2.000000</td>\n",
       "                        <td id=\"T_9d87f_row16_col1\" class=\"data row16 col1\" >34.000000</td>\n",
       "            </tr>\n",
       "            <tr>\n",
       "                        <th id=\"T_9d87f_level0_row17\" class=\"row_heading level0 row17\" >драма</th>\n",
       "                        <td id=\"T_9d87f_row17_col0\" class=\"data row17 col0\" >2.000000</td>\n",
       "                        <td id=\"T_9d87f_row17_col1\" class=\"data row17 col1\" >30.000000</td>\n",
       "            </tr>\n",
       "            <tr>\n",
       "                        <th id=\"T_9d87f_level0_row18\" class=\"row_heading level0 row18\" >вестерн</th>\n",
       "                        <td id=\"T_9d87f_row18_col0\" class=\"data row18 col0\" >2.000000</td>\n",
       "                        <td id=\"T_9d87f_row18_col1\" class=\"data row18 col1\" >nan</td>\n",
       "            </tr>\n",
       "            <tr>\n",
       "                        <th id=\"T_9d87f_level0_row19\" class=\"row_heading level0 row19\" >мелодрама</th>\n",
       "                        <td id=\"T_9d87f_row19_col0\" class=\"data row19 col0\" >1.000000</td>\n",
       "                        <td id=\"T_9d87f_row19_col1\" class=\"data row19 col1\" >28.000000</td>\n",
       "            </tr>\n",
       "            <tr>\n",
       "                        <th id=\"T_9d87f_level0_row20\" class=\"row_heading level0 row20\" >приключения</th>\n",
       "                        <td id=\"T_9d87f_row20_col0\" class=\"data row20 col0\" >1.000000</td>\n",
       "                        <td id=\"T_9d87f_row20_col1\" class=\"data row20 col1\" >40.000000</td>\n",
       "            </tr>\n",
       "            <tr>\n",
       "                        <th id=\"T_9d87f_level0_row21\" class=\"row_heading level0 row21\" >документальный</th>\n",
       "                        <td id=\"T_9d87f_row21_col0\" class=\"data row21 col0\" >1.000000</td>\n",
       "                        <td id=\"T_9d87f_row21_col1\" class=\"data row21 col1\" >nan</td>\n",
       "            </tr>\n",
       "            <tr>\n",
       "                        <th id=\"T_9d87f_level0_row22\" class=\"row_heading level0 row22\" >для взрослых</th>\n",
       "                        <td id=\"T_9d87f_row22_col0\" class=\"data row22 col0\" >1.000000</td>\n",
       "                        <td id=\"T_9d87f_row22_col1\" class=\"data row22 col1\" >nan</td>\n",
       "            </tr>\n",
       "            <tr>\n",
       "                        <th id=\"T_9d87f_level0_row23\" class=\"row_heading level0 row23\" >криминал</th>\n",
       "                        <td id=\"T_9d87f_row23_col0\" class=\"data row23 col0\" >0.500000</td>\n",
       "                        <td id=\"T_9d87f_row23_col1\" class=\"data row23 col1\" >40.000000</td>\n",
       "            </tr>\n",
       "            <tr>\n",
       "                        <th id=\"T_9d87f_level0_row24\" class=\"row_heading level0 row24\" >короткометражка</th>\n",
       "                        <td id=\"T_9d87f_row24_col0\" class=\"data row24 col0\" >0.000000</td>\n",
       "                        <td id=\"T_9d87f_row24_col1\" class=\"data row24 col1\" >nan</td>\n",
       "            </tr>\n",
       "            <tr>\n",
       "                        <th id=\"T_9d87f_level0_row25\" class=\"row_heading level0 row25\" >концерт</th>\n",
       "                        <td id=\"T_9d87f_row25_col0\" class=\"data row25 col0\" >0.000000</td>\n",
       "                        <td id=\"T_9d87f_row25_col1\" class=\"data row25 col1\" >nan</td>\n",
       "            </tr>\n",
       "            <tr>\n",
       "                        <th id=\"T_9d87f_level0_row26\" class=\"row_heading level0 row26\" >детский</th>\n",
       "                        <td id=\"T_9d87f_row26_col0\" class=\"data row26 col0\" >0.000000</td>\n",
       "                        <td id=\"T_9d87f_row26_col1\" class=\"data row26 col1\" >29.500000</td>\n",
       "            </tr>\n",
       "            <tr>\n",
       "                        <th id=\"T_9d87f_level0_row27\" class=\"row_heading level0 row27\" >фильм-нуар</th>\n",
       "                        <td id=\"T_9d87f_row27_col0\" class=\"data row27 col0\" >0.000000</td>\n",
       "                        <td id=\"T_9d87f_row27_col1\" class=\"data row27 col1\" >nan</td>\n",
       "            </tr>\n",
       "    </tbody></table>"
      ],
      "text/plain": [
       "<pandas.io.formats.style.Styler at 0x7fc7e7d50160>"
      ]
     },
     "execution_count": 68,
     "metadata": {},
     "output_type": "execute_result"
    }
   ],
   "source": [
    "movies_payback = df.pivot_table(index='first_genre',\n",
    "                                values=['box_office', 'state_support'],\n",
    "                                aggfunc='median')\n",
    "\n",
    "movies_payback.columns = ['median_box_office', 'median_state_support']\n",
    "\n",
    "movies_payback.sort_values('median_box_office', ascending=False).style.background_gradient('coolwarm')"
   ]
  },
  {
   "cell_type": "code",
   "execution_count": 69,
   "id": "ed772f08",
   "metadata": {},
   "outputs": [
    {
     "data": {
      "image/png": "[encoded data removed]",
      "text/plain": [
       "<Figure size 864x504 with 1 Axes>"
      ]
     },
     "metadata": {
      "needs_background": "light"
     },
     "output_type": "display_data"
    }
   ],
   "source": [
    "movies_payback_sorted = movies_payback.sort_values('median_box_office', ascending=False)\n",
    "\n",
    "plt.figure(figsize=(12, 7))\n",
    "\n",
    "plt.bar(movies_payback_sorted.index, movies_payback_sorted['median_box_office'], \n",
    "        color='royalblue', label='Median Box Office')\n",
    "\n",
    "plt.bar(movies_payback_sorted.index, movies_payback_sorted['median_state_support'], \n",
    "        bottom=movies_payback_sorted['median_box_office'], color='darkorange', label='Median State Support')\n",
    "\n",
    "plt.title('Movie Payback by Genre', fontsize=16)\n",
    "plt.xlabel('Genre', fontsize=12)\n",
    "plt.ylabel('Amount (in million)', fontsize=12)\n",
    "\n",
    "plt.xticks(rotation=45)\n",
    "\n",
    "plt.grid(axis='y', linestyle='--', alpha=0.7)\n",
    "\n",
    "plt.legend(title='Metrics')\n",
    "\n",
    "plt.tight_layout()\n",
    "\n",
    "plt.show()"
   ]
  },
  {
   "cell_type": "markdown",
   "id": "37163a72",
   "metadata": {},
   "source": [
    "> - **Top 3 most profitable genres:** Sports, Reality TV, and Sci-Fi.\n",
    "> - **Most unprofitable genre:** Kids."
   ]
  },
  {
   "cell_type": "markdown",
   "id": "613bf8ac",
   "metadata": {},
   "source": [
    "### Dependence of Government Funding on Age Categories"
   ]
  },
  {
   "cell_type": "code",
   "execution_count": 70,
   "id": "0f894627",
   "metadata": {},
   "outputs": [
    {
     "data": {
      "text/html": [
       "<style  type=\"text/css\" >\n",
       "#T_d05e5_row0_col0,#T_d05e5_row2_col1{\n",
       "            background-color:  #b40426;\n",
       "            color:  #f1f1f1;\n",
       "        }#T_d05e5_row0_col1,#T_d05e5_row3_col1{\n",
       "            background-color:  #8db0fe;\n",
       "            color:  #000000;\n",
       "        }#T_d05e5_row1_col0{\n",
       "            background-color:  #e8765c;\n",
       "            color:  #000000;\n",
       "        }#T_d05e5_row1_col1{\n",
       "            background-color:  #c53334;\n",
       "            color:  #f1f1f1;\n",
       "        }#T_d05e5_row2_col0{\n",
       "            background-color:  #d7dce3;\n",
       "            color:  #000000;\n",
       "        }#T_d05e5_row3_col0{\n",
       "            background-color:  #7093f3;\n",
       "            color:  #000000;\n",
       "        }#T_d05e5_row4_col0,#T_d05e5_row4_col1{\n",
       "            background-color:  #3b4cc0;\n",
       "            color:  #f1f1f1;\n",
       "        }</style><table id=\"T_d05e5_\" ><thead>    <tr>        <th class=\"blank level0\" ></th>        <th class=\"col_heading level0 col0\" >count_cases</th>        <th class=\"col_heading level0 col1\" >median_support</th>    </tr>    <tr>        <th class=\"index_name level0\" >age_restriction</th>        <th class=\"blank\" ></th>        <th class=\"blank\" ></th>    </tr></thead><tbody>\n",
       "                <tr>\n",
       "                        <th id=\"T_d05e5_level0_row0\" class=\"row_heading level0 row0\" >«16+» - для детей старше 16 лет</th>\n",
       "                        <td id=\"T_d05e5_row0_col0\" class=\"data row0 col0\" >114</td>\n",
       "                        <td id=\"T_d05e5_row0_col1\" class=\"data row0 col1\" >30.000000</td>\n",
       "            </tr>\n",
       "            <tr>\n",
       "                        <th id=\"T_d05e5_level0_row1\" class=\"row_heading level0 row1\" >«12+» - для детей старше 12 лет</th>\n",
       "                        <td id=\"T_d05e5_row1_col0\" class=\"data row1 col0\" >96</td>\n",
       "                        <td id=\"T_d05e5_row1_col1\" class=\"data row1 col1\" >44.000000</td>\n",
       "            </tr>\n",
       "            <tr>\n",
       "                        <th id=\"T_d05e5_level0_row2\" class=\"row_heading level0 row2\" >«6+» - для детей старше 6 лет</th>\n",
       "                        <td id=\"T_d05e5_row2_col0\" class=\"data row2 col0\" >58</td>\n",
       "                        <td id=\"T_d05e5_row2_col1\" class=\"data row2 col1\" >45.000000</td>\n",
       "            </tr>\n",
       "            <tr>\n",
       "                        <th id=\"T_d05e5_level0_row3\" class=\"row_heading level0 row3\" >«18+» - запрещено для детей</th>\n",
       "                        <td id=\"T_d05e5_row3_col0\" class=\"data row3 col0\" >25</td>\n",
       "                        <td id=\"T_d05e5_row3_col1\" class=\"data row3 col1\" >30.000000</td>\n",
       "            </tr>\n",
       "            <tr>\n",
       "                        <th id=\"T_d05e5_level0_row4\" class=\"row_heading level0 row4\" >«0+» - для любой зрительской аудитории</th>\n",
       "                        <td id=\"T_d05e5_row4_col0\" class=\"data row4 col0\" >7</td>\n",
       "                        <td id=\"T_d05e5_row4_col1\" class=\"data row4 col1\" >25.000000</td>\n",
       "            </tr>\n",
       "    </tbody></table>"
      ],
      "text/plain": [
       "<pandas.io.formats.style.Styler at 0x7fc7e7c256a0>"
      ]
     },
     "execution_count": 70,
     "metadata": {},
     "output_type": "execute_result"
    }
   ],
   "source": [
    "age_restriction_support = df.pivot_table(index='age_restriction',\n",
    "                                 values='state_support',\n",
    "                                 aggfunc = ['count','median'])\n",
    "age_restriction_support.columns = ['count_cases', 'median_support']\n",
    "age_restriction_support.sort_values('count_cases', ascending=False).style.background_gradient('coolwarm')"
   ]
  },
  {
   "cell_type": "code",
   "execution_count": 71,
   "id": "5450e95d",
   "metadata": {},
   "outputs": [
    {
     "data": {
      "image/png": "[encoded data removed]",
      "text/plain": [
       "<Figure size 720x432 with 1 Axes>"
      ]
     },
     "metadata": {
      "needs_background": "light"
     },
     "output_type": "display_data"
    }
   ],
   "source": [
    "age_restriction_support_sorted = age_restriction_support.sort_values('count_cases', ascending=False)\n",
    "\n",
    "plt.figure(figsize=(10, 6))\n",
    "\n",
    "sns.barplot(x=age_restriction_support_sorted.index, \n",
    "            y=age_restriction_support_sorted['count_cases'], \n",
    "            palette='Blues_r')\n",
    "\n",
    "plt.title('Number of Films Receiving Government Support by Age Category', fontsize=14)\n",
    "plt.xlabel('Age Category', fontsize=12)\n",
    "plt.ylabel('Number of Films', fontsize=12)\n",
    "\n",
    "plt.xticks(rotation=45)\n",
    "\n",
    "plt.grid(axis='y', linestyle='--', alpha=0.7)\n",
    "\n",
    "for i in range(len(age_restriction_support_sorted)):\n",
    "    plt.text(i, age_restriction_support_sorted['count_cases'].iloc[i] + 0.2, \n",
    "             f'{age_restriction_support_sorted[\"count_cases\"].iloc[i]:,.0f}', \n",
    "             ha='center', fontsize=10, color='black')\n",
    "\n",
    "plt.tight_layout()\n",
    "plt.show()"
   ]
  },
  {
   "cell_type": "markdown",
   "id": "5b93297b",
   "metadata": {},
   "source": [
    "> - **Most supported age category:** 16+ films.\n",
    "> - **Least supported:** 0+ films, and they receive the smallest amount of funding.."
   ]
  },
  {
   "cell_type": "markdown",
   "id": "70e8253c",
   "metadata": {},
   "source": [
    "### Correlation between Government Funding and Movie Rating"
   ]
  },
  {
   "cell_type": "code",
   "execution_count": 72,
   "id": "bf5e2c01",
   "metadata": {},
   "outputs": [
    {
     "data": {
      "text/html": [
       "<style  type=\"text/css\" >\n",
       "#T_d40dc_row0_col0,#T_d40dc_row51_col1{\n",
       "            background-color:  #b40426;\n",
       "            color:  #f1f1f1;\n",
       "        }#T_d40dc_row0_col1,#T_d40dc_row5_col1,#T_d40dc_row15_col1,#T_d40dc_row37_col1,#T_d40dc_row45_col1,#T_d40dc_row52_col1{\n",
       "            background-color:  #536edd;\n",
       "            color:  #000000;\n",
       "        }#T_d40dc_row1_col0{\n",
       "            background-color:  #f39475;\n",
       "            color:  #000000;\n",
       "        }#T_d40dc_row1_col1,#T_d40dc_row16_col1,#T_d40dc_row17_col1,#T_d40dc_row33_col1{\n",
       "            background-color:  #6384eb;\n",
       "            color:  #000000;\n",
       "        }#T_d40dc_row2_col0{\n",
       "            background-color:  #f7a889;\n",
       "            color:  #000000;\n",
       "        }#T_d40dc_row2_col1,#T_d40dc_row18_col1{\n",
       "            background-color:  #5b7ae5;\n",
       "            color:  #000000;\n",
       "        }#T_d40dc_row3_col0,#T_d40dc_row4_col0{\n",
       "            background-color:  #f7b89c;\n",
       "            color:  #000000;\n",
       "        }#T_d40dc_row3_col1,#T_d40dc_row25_col1,#T_d40dc_row42_col1{\n",
       "            background-color:  #4b64d5;\n",
       "            color:  #f1f1f1;\n",
       "        }#T_d40dc_row4_col1,#T_d40dc_row21_col1{\n",
       "            background-color:  #5a78e4;\n",
       "            color:  #000000;\n",
       "        }#T_d40dc_row5_col0{\n",
       "            background-color:  #f4c6af;\n",
       "            color:  #000000;\n",
       "        }#T_d40dc_row6_col0,#T_d40dc_row7_col0,#T_d40dc_row8_col0{\n",
       "            background-color:  #d6dce4;\n",
       "            color:  #000000;\n",
       "        }#T_d40dc_row6_col1,#T_d40dc_row24_col1,#T_d40dc_row40_col1{\n",
       "            background-color:  #6c8ff1;\n",
       "            color:  #000000;\n",
       "        }#T_d40dc_row7_col1,#T_d40dc_row9_col1,#T_d40dc_row48_col1{\n",
       "            background-color:  #89acfd;\n",
       "            color:  #000000;\n",
       "        }#T_d40dc_row8_col1{\n",
       "            background-color:  #85a8fc;\n",
       "            color:  #000000;\n",
       "        }#T_d40dc_row9_col0{\n",
       "            background-color:  #c9d7f0;\n",
       "            color:  #000000;\n",
       "        }#T_d40dc_row10_col0,#T_d40dc_row11_col0,#T_d40dc_row12_col0,#T_d40dc_row13_col0{\n",
       "            background-color:  #bad0f8;\n",
       "            color:  #000000;\n",
       "        }#T_d40dc_row10_col1,#T_d40dc_row20_col1,#T_d40dc_row44_col1,#T_d40dc_row50_col1{\n",
       "            background-color:  #4a63d3;\n",
       "            color:  #f1f1f1;\n",
       "        }#T_d40dc_row11_col1,#T_d40dc_row34_col1{\n",
       "            background-color:  #80a3fa;\n",
       "            color:  #000000;\n",
       "        }#T_d40dc_row12_col1,#T_d40dc_row32_col0,#T_d40dc_row33_col0,#T_d40dc_row34_col0{\n",
       "            background-color:  #6788ee;\n",
       "            color:  #000000;\n",
       "        }#T_d40dc_row13_col1,#T_d40dc_row29_col1{\n",
       "            background-color:  #5673e0;\n",
       "            color:  #000000;\n",
       "        }#T_d40dc_row14_col0,#T_d40dc_row15_col0,#T_d40dc_row16_col0,#T_d40dc_row17_col0,#T_d40dc_row18_col0{\n",
       "            background-color:  #aac7fd;\n",
       "            color:  #000000;\n",
       "        }#T_d40dc_row14_col1{\n",
       "            background-color:  #5e7de7;\n",
       "            color:  #000000;\n",
       "        }#T_d40dc_row19_col0,#T_d40dc_row20_col0,#T_d40dc_row21_col0,#T_d40dc_row22_col0,#T_d40dc_row23_col0,#T_d40dc_row24_col0{\n",
       "            background-color:  #9abbff;\n",
       "            color:  #000000;\n",
       "        }#T_d40dc_row19_col1,#T_d40dc_row31_col1{\n",
       "            background-color:  #4e68d8;\n",
       "            color:  #000000;\n",
       "        }#T_d40dc_row22_col1{\n",
       "            background-color:  #afcafc;\n",
       "            color:  #000000;\n",
       "        }#T_d40dc_row23_col1{\n",
       "            background-color:  #688aef;\n",
       "            color:  #000000;\n",
       "        }#T_d40dc_row25_col0{\n",
       "            background-color:  #88abfd;\n",
       "            color:  #000000;\n",
       "        }#T_d40dc_row26_col0,#T_d40dc_row27_col0,#T_d40dc_row28_col0,#T_d40dc_row29_col0,#T_d40dc_row30_col0,#T_d40dc_row31_col0{\n",
       "            background-color:  #779af7;\n",
       "            color:  #000000;\n",
       "        }#T_d40dc_row26_col1,#T_d40dc_row30_col1{\n",
       "            background-color:  #7699f6;\n",
       "            color:  #000000;\n",
       "        }#T_d40dc_row27_col1{\n",
       "            background-color:  #c1d4f4;\n",
       "            color:  #000000;\n",
       "        }#T_d40dc_row28_col1{\n",
       "            background-color:  #6a8bef;\n",
       "            color:  #000000;\n",
       "        }#T_d40dc_row32_col1{\n",
       "            background-color:  #6b8df0;\n",
       "            color:  #000000;\n",
       "        }#T_d40dc_row35_col0,#T_d40dc_row36_col0,#T_d40dc_row37_col0,#T_d40dc_row38_col0,#T_d40dc_row39_col0,#T_d40dc_row40_col0,#T_d40dc_row41_col0{\n",
       "            background-color:  #5875e1;\n",
       "            color:  #000000;\n",
       "        }#T_d40dc_row35_col1,#T_d40dc_row46_col1{\n",
       "            background-color:  #4257c9;\n",
       "            color:  #f1f1f1;\n",
       "        }#T_d40dc_row36_col1,#T_d40dc_row53_col0,#T_d40dc_row54_col0,#T_d40dc_row55_col0,#T_d40dc_row56_col0,#T_d40dc_row57_col0,#T_d40dc_row58_col0,#T_d40dc_row59_col0,#T_d40dc_row60_col0,#T_d40dc_row61_col0,#T_d40dc_row62_col0,#T_d40dc_row63_col0,#T_d40dc_row64_col0,#T_d40dc_row65_col0,#T_d40dc_row66_col0,#T_d40dc_row67_col0,#T_d40dc_row68_col0,#T_d40dc_row69_col0,#T_d40dc_row70_col0,#T_d40dc_row71_col0,#T_d40dc_row72_col0,#T_d40dc_row73_col0,#T_d40dc_row74_col0,#T_d40dc_row75_col0,#T_d40dc_row76_col0,#T_d40dc_row77_col0,#T_d40dc_row78_col0,#T_d40dc_row79_col0{\n",
       "            background-color:  #3b4cc0;\n",
       "            color:  #f1f1f1;\n",
       "        }#T_d40dc_row38_col1{\n",
       "            background-color:  #dedcdb;\n",
       "            color:  #000000;\n",
       "        }#T_d40dc_row39_col1{\n",
       "            background-color:  #d85646;\n",
       "            color:  #000000;\n",
       "        }#T_d40dc_row41_col1{\n",
       "            background-color:  #4c66d6;\n",
       "            color:  #000000;\n",
       "        }#T_d40dc_row42_col0,#T_d40dc_row43_col0,#T_d40dc_row44_col0,#T_d40dc_row45_col0,#T_d40dc_row46_col0,#T_d40dc_row47_col0,#T_d40dc_row48_col0,#T_d40dc_row49_col0,#T_d40dc_row50_col0,#T_d40dc_row51_col0,#T_d40dc_row52_col0{\n",
       "            background-color:  #4961d2;\n",
       "            color:  #f1f1f1;\n",
       "        }#T_d40dc_row43_col1{\n",
       "            background-color:  #f7b599;\n",
       "            color:  #000000;\n",
       "        }#T_d40dc_row47_col1{\n",
       "            background-color:  #4f69d9;\n",
       "            color:  #000000;\n",
       "        }#T_d40dc_row49_col1{\n",
       "            background-color:  #d2dbe8;\n",
       "            color:  #000000;\n",
       "        }#T_d40dc_row53_col1,#T_d40dc_row54_col1,#T_d40dc_row55_col1,#T_d40dc_row56_col1,#T_d40dc_row57_col1,#T_d40dc_row58_col1,#T_d40dc_row59_col1,#T_d40dc_row60_col1,#T_d40dc_row61_col1,#T_d40dc_row62_col1,#T_d40dc_row63_col1,#T_d40dc_row64_col1,#T_d40dc_row65_col1,#T_d40dc_row66_col1,#T_d40dc_row67_col1,#T_d40dc_row68_col1,#T_d40dc_row69_col1,#T_d40dc_row70_col1,#T_d40dc_row71_col1,#T_d40dc_row72_col1,#T_d40dc_row73_col1,#T_d40dc_row74_col1,#T_d40dc_row75_col1,#T_d40dc_row76_col1,#T_d40dc_row77_col1,#T_d40dc_row78_col1,#T_d40dc_row79_col1{\n",
       "            background-color:  #000000;\n",
       "            color:  #f1f1f1;\n",
       "        }</style><table id=\"T_d40dc_\" ><thead>    <tr>        <th class=\"blank level0\" ></th>        <th class=\"col_heading level0 col0\" >count_rating</th>        <th class=\"col_heading level0 col1\" >median_state_support</th>    </tr>    <tr>        <th class=\"index_name level0\" >ratings</th>        <th class=\"blank\" ></th>        <th class=\"blank\" ></th>    </tr></thead><tbody>\n",
       "                <tr>\n",
       "                        <th id=\"T_d40dc_level0_row0\" class=\"row_heading level0 row0\" >6.2</th>\n",
       "                        <td id=\"T_d40dc_row0_col0\" class=\"data row0 col0\" >21</td>\n",
       "                        <td id=\"T_d40dc_row0_col1\" class=\"data row0 col1\" >30.000000</td>\n",
       "            </tr>\n",
       "            <tr>\n",
       "                        <th id=\"T_d40dc_level0_row1\" class=\"row_heading level0 row1\" >5.8</th>\n",
       "                        <td id=\"T_d40dc_row1_col0\" class=\"data row1 col0\" >16</td>\n",
       "                        <td id=\"T_d40dc_row1_col1\" class=\"data row1 col1\" >40.000000</td>\n",
       "            </tr>\n",
       "            <tr>\n",
       "                        <th id=\"T_d40dc_level0_row2\" class=\"row_heading level0 row2\" >6.6</th>\n",
       "                        <td id=\"T_d40dc_row2_col0\" class=\"data row2 col0\" >15</td>\n",
       "                        <td id=\"T_d40dc_row2_col1\" class=\"data row2 col1\" >35.000000</td>\n",
       "            </tr>\n",
       "            <tr>\n",
       "                        <th id=\"T_d40dc_level0_row3\" class=\"row_heading level0 row3\" >6.3</th>\n",
       "                        <td id=\"T_d40dc_row3_col0\" class=\"data row3 col0\" >14</td>\n",
       "                        <td id=\"T_d40dc_row3_col1\" class=\"data row3 col1\" >26.000000</td>\n",
       "            </tr>\n",
       "            <tr>\n",
       "                        <th id=\"T_d40dc_level0_row4\" class=\"row_heading level0 row4\" >6.7</th>\n",
       "                        <td id=\"T_d40dc_row4_col0\" class=\"data row4 col0\" >14</td>\n",
       "                        <td id=\"T_d40dc_row4_col1\" class=\"data row4 col1\" >34.500000</td>\n",
       "            </tr>\n",
       "            <tr>\n",
       "                        <th id=\"T_d40dc_level0_row5\" class=\"row_heading level0 row5\" >6.1</th>\n",
       "                        <td id=\"T_d40dc_row5_col0\" class=\"data row5 col0\" >13</td>\n",
       "                        <td id=\"T_d40dc_row5_col1\" class=\"data row5 col1\" >30.000000</td>\n",
       "            </tr>\n",
       "            <tr>\n",
       "                        <th id=\"T_d40dc_level0_row6\" class=\"row_heading level0 row6\" >6.5</th>\n",
       "                        <td id=\"T_d40dc_row6_col0\" class=\"data row6 col0\" >10</td>\n",
       "                        <td id=\"T_d40dc_row6_col1\" class=\"data row6 col1\" >45.000000</td>\n",
       "            </tr>\n",
       "            <tr>\n",
       "                        <th id=\"T_d40dc_level0_row7\" class=\"row_heading level0 row7\" >6.9</th>\n",
       "                        <td id=\"T_d40dc_row7_col0\" class=\"data row7 col0\" >10</td>\n",
       "                        <td id=\"T_d40dc_row7_col1\" class=\"data row7 col1\" >60.000000</td>\n",
       "            </tr>\n",
       "            <tr>\n",
       "                        <th id=\"T_d40dc_level0_row8\" class=\"row_heading level0 row8\" >6.8</th>\n",
       "                        <td id=\"T_d40dc_row8_col0\" class=\"data row8 col0\" >10</td>\n",
       "                        <td id=\"T_d40dc_row8_col1\" class=\"data row8 col1\" >57.500000</td>\n",
       "            </tr>\n",
       "            <tr>\n",
       "                        <th id=\"T_d40dc_level0_row9\" class=\"row_heading level0 row9\" >6.4</th>\n",
       "                        <td id=\"T_d40dc_row9_col0\" class=\"data row9 col0\" >9</td>\n",
       "                        <td id=\"T_d40dc_row9_col1\" class=\"data row9 col1\" >60.000000</td>\n",
       "            </tr>\n",
       "            <tr>\n",
       "                        <th id=\"T_d40dc_level0_row10\" class=\"row_heading level0 row10\" >5.4</th>\n",
       "                        <td id=\"T_d40dc_row10_col0\" class=\"data row10 col0\" >8</td>\n",
       "                        <td id=\"T_d40dc_row10_col1\" class=\"data row10 col1\" >25.500000</td>\n",
       "            </tr>\n",
       "            <tr>\n",
       "                        <th id=\"T_d40dc_level0_row11\" class=\"row_heading level0 row11\" >6.0</th>\n",
       "                        <td id=\"T_d40dc_row11_col0\" class=\"data row11 col0\" >8</td>\n",
       "                        <td id=\"T_d40dc_row11_col1\" class=\"data row11 col1\" >55.000000</td>\n",
       "            </tr>\n",
       "            <tr>\n",
       "                        <th id=\"T_d40dc_level0_row12\" class=\"row_heading level0 row12\" >5.7</th>\n",
       "                        <td id=\"T_d40dc_row12_col0\" class=\"data row12 col0\" >8</td>\n",
       "                        <td id=\"T_d40dc_row12_col1\" class=\"data row12 col1\" >42.000000</td>\n",
       "            </tr>\n",
       "            <tr>\n",
       "                        <th id=\"T_d40dc_level0_row13\" class=\"row_heading level0 row13\" >5.3</th>\n",
       "                        <td id=\"T_d40dc_row13_col0\" class=\"data row13 col0\" >8</td>\n",
       "                        <td id=\"T_d40dc_row13_col1\" class=\"data row13 col1\" >32.500000</td>\n",
       "            </tr>\n",
       "            <tr>\n",
       "                        <th id=\"T_d40dc_level0_row14\" class=\"row_heading level0 row14\" >7.0</th>\n",
       "                        <td id=\"T_d40dc_row14_col0\" class=\"data row14 col0\" >7</td>\n",
       "                        <td id=\"T_d40dc_row14_col1\" class=\"data row14 col1\" >37.000000</td>\n",
       "            </tr>\n",
       "            <tr>\n",
       "                        <th id=\"T_d40dc_level0_row15\" class=\"row_heading level0 row15\" >7.3</th>\n",
       "                        <td id=\"T_d40dc_row15_col0\" class=\"data row15 col0\" >7</td>\n",
       "                        <td id=\"T_d40dc_row15_col1\" class=\"data row15 col1\" >30.000000</td>\n",
       "            </tr>\n",
       "            <tr>\n",
       "                        <th id=\"T_d40dc_level0_row16\" class=\"row_heading level0 row16\" >5.1</th>\n",
       "                        <td id=\"T_d40dc_row16_col0\" class=\"data row16 col0\" >7</td>\n",
       "                        <td id=\"T_d40dc_row16_col1\" class=\"data row16 col1\" >40.000000</td>\n",
       "            </tr>\n",
       "            <tr>\n",
       "                        <th id=\"T_d40dc_level0_row17\" class=\"row_heading level0 row17\" >4.9</th>\n",
       "                        <td id=\"T_d40dc_row17_col0\" class=\"data row17 col0\" >7</td>\n",
       "                        <td id=\"T_d40dc_row17_col1\" class=\"data row17 col1\" >40.000000</td>\n",
       "            </tr>\n",
       "            <tr>\n",
       "                        <th id=\"T_d40dc_level0_row18\" class=\"row_heading level0 row18\" >5.9</th>\n",
       "                        <td id=\"T_d40dc_row18_col0\" class=\"data row18 col0\" >7</td>\n",
       "                        <td id=\"T_d40dc_row18_col1\" class=\"data row18 col1\" >35.000000</td>\n",
       "            </tr>\n",
       "            <tr>\n",
       "                        <th id=\"T_d40dc_level0_row19\" class=\"row_heading level0 row19\" >5.6</th>\n",
       "                        <td id=\"T_d40dc_row19_col0\" class=\"data row19 col0\" >6</td>\n",
       "                        <td id=\"T_d40dc_row19_col1\" class=\"data row19 col1\" >27.500000</td>\n",
       "            </tr>\n",
       "            <tr>\n",
       "                        <th id=\"T_d40dc_level0_row20\" class=\"row_heading level0 row20\" >5.2</th>\n",
       "                        <td id=\"T_d40dc_row20_col0\" class=\"data row20 col0\" >6</td>\n",
       "                        <td id=\"T_d40dc_row20_col1\" class=\"data row20 col1\" >25.000000</td>\n",
       "            </tr>\n",
       "            <tr>\n",
       "                        <th id=\"T_d40dc_level0_row21\" class=\"row_heading level0 row21\" >7.4</th>\n",
       "                        <td id=\"T_d40dc_row21_col0\" class=\"data row21 col0\" >6</td>\n",
       "                        <td id=\"T_d40dc_row21_col1\" class=\"data row21 col1\" >34.500000</td>\n",
       "            </tr>\n",
       "            <tr>\n",
       "                        <th id=\"T_d40dc_level0_row22\" class=\"row_heading level0 row22\" >7.5</th>\n",
       "                        <td id=\"T_d40dc_row22_col0\" class=\"data row22 col0\" >6</td>\n",
       "                        <td id=\"T_d40dc_row22_col1\" class=\"data row22 col1\" >80.000000</td>\n",
       "            </tr>\n",
       "            <tr>\n",
       "                        <th id=\"T_d40dc_level0_row23\" class=\"row_heading level0 row23\" >5.0</th>\n",
       "                        <td id=\"T_d40dc_row23_col0\" class=\"data row23 col0\" >6</td>\n",
       "                        <td id=\"T_d40dc_row23_col1\" class=\"data row23 col1\" >42.500000</td>\n",
       "            </tr>\n",
       "            <tr>\n",
       "                        <th id=\"T_d40dc_level0_row24\" class=\"row_heading level0 row24\" >4.8</th>\n",
       "                        <td id=\"T_d40dc_row24_col0\" class=\"data row24 col0\" >6</td>\n",
       "                        <td id=\"T_d40dc_row24_col1\" class=\"data row24 col1\" >45.000000</td>\n",
       "            </tr>\n",
       "            <tr>\n",
       "                        <th id=\"T_d40dc_level0_row25\" class=\"row_heading level0 row25\" >4.7</th>\n",
       "                        <td id=\"T_d40dc_row25_col0\" class=\"data row25 col0\" >5</td>\n",
       "                        <td id=\"T_d40dc_row25_col1\" class=\"data row25 col1\" >26.000000</td>\n",
       "            </tr>\n",
       "            <tr>\n",
       "                        <th id=\"T_d40dc_level0_row26\" class=\"row_heading level0 row26\" >5.5</th>\n",
       "                        <td id=\"T_d40dc_row26_col0\" class=\"data row26 col0\" >4</td>\n",
       "                        <td id=\"T_d40dc_row26_col1\" class=\"data row26 col1\" >50.000000</td>\n",
       "            </tr>\n",
       "            <tr>\n",
       "                        <th id=\"T_d40dc_level0_row27\" class=\"row_heading level0 row27\" >4.5</th>\n",
       "                        <td id=\"T_d40dc_row27_col0\" class=\"data row27 col0\" >4</td>\n",
       "                        <td id=\"T_d40dc_row27_col1\" class=\"data row27 col1\" >90.000000</td>\n",
       "            </tr>\n",
       "            <tr>\n",
       "                        <th id=\"T_d40dc_level0_row28\" class=\"row_heading level0 row28\" >7.1</th>\n",
       "                        <td id=\"T_d40dc_row28_col0\" class=\"data row28 col0\" >4</td>\n",
       "                        <td id=\"T_d40dc_row28_col1\" class=\"data row28 col1\" >43.500000</td>\n",
       "            </tr>\n",
       "            <tr>\n",
       "                        <th id=\"T_d40dc_level0_row29\" class=\"row_heading level0 row29\" >7.7</th>\n",
       "                        <td id=\"T_d40dc_row29_col0\" class=\"data row29 col0\" >4</td>\n",
       "                        <td id=\"T_d40dc_row29_col1\" class=\"data row29 col1\" >32.500000</td>\n",
       "            </tr>\n",
       "            <tr>\n",
       "                        <th id=\"T_d40dc_level0_row30\" class=\"row_heading level0 row30\" >3.2</th>\n",
       "                        <td id=\"T_d40dc_row30_col0\" class=\"data row30 col0\" >4</td>\n",
       "                        <td id=\"T_d40dc_row30_col1\" class=\"data row30 col1\" >50.000000</td>\n",
       "            </tr>\n",
       "            <tr>\n",
       "                        <th id=\"T_d40dc_level0_row31\" class=\"row_heading level0 row31\" >7.2</th>\n",
       "                        <td id=\"T_d40dc_row31_col0\" class=\"data row31 col0\" >4</td>\n",
       "                        <td id=\"T_d40dc_row31_col1\" class=\"data row31 col1\" >27.500000</td>\n",
       "            </tr>\n",
       "            <tr>\n",
       "                        <th id=\"T_d40dc_level0_row32\" class=\"row_heading level0 row32\" >4.3</th>\n",
       "                        <td id=\"T_d40dc_row32_col0\" class=\"data row32 col0\" >3</td>\n",
       "                        <td id=\"T_d40dc_row32_col1\" class=\"data row32 col1\" >44.000000</td>\n",
       "            </tr>\n",
       "            <tr>\n",
       "                        <th id=\"T_d40dc_level0_row33\" class=\"row_heading level0 row33\" >7.8</th>\n",
       "                        <td id=\"T_d40dc_row33_col0\" class=\"data row33 col0\" >3</td>\n",
       "                        <td id=\"T_d40dc_row33_col1\" class=\"data row33 col1\" >40.000000</td>\n",
       "            </tr>\n",
       "            <tr>\n",
       "                        <th id=\"T_d40dc_level0_row34\" class=\"row_heading level0 row34\" >7.6</th>\n",
       "                        <td id=\"T_d40dc_row34_col0\" class=\"data row34 col0\" >3</td>\n",
       "                        <td id=\"T_d40dc_row34_col1\" class=\"data row34 col1\" >55.000000</td>\n",
       "            </tr>\n",
       "            <tr>\n",
       "                        <th id=\"T_d40dc_level0_row35\" class=\"row_heading level0 row35\" >8.0</th>\n",
       "                        <td id=\"T_d40dc_row35_col0\" class=\"data row35 col0\" >2</td>\n",
       "                        <td id=\"T_d40dc_row35_col1\" class=\"data row35 col1\" >20.000000</td>\n",
       "            </tr>\n",
       "            <tr>\n",
       "                        <th id=\"T_d40dc_level0_row36\" class=\"row_heading level0 row36\" >4.0</th>\n",
       "                        <td id=\"T_d40dc_row36_col0\" class=\"data row36 col0\" >2</td>\n",
       "                        <td id=\"T_d40dc_row36_col1\" class=\"data row36 col1\" >15.500000</td>\n",
       "            </tr>\n",
       "            <tr>\n",
       "                        <th id=\"T_d40dc_level0_row37\" class=\"row_heading level0 row37\" >3.9</th>\n",
       "                        <td id=\"T_d40dc_row37_col0\" class=\"data row37 col0\" >2</td>\n",
       "                        <td id=\"T_d40dc_row37_col1\" class=\"data row37 col1\" >30.000000</td>\n",
       "            </tr>\n",
       "            <tr>\n",
       "                        <th id=\"T_d40dc_level0_row38\" class=\"row_heading level0 row38\" >7.9</th>\n",
       "                        <td id=\"T_d40dc_row38_col0\" class=\"data row38 col0\" >2</td>\n",
       "                        <td id=\"T_d40dc_row38_col1\" class=\"data row38 col1\" >108.500000</td>\n",
       "            </tr>\n",
       "            <tr>\n",
       "                        <th id=\"T_d40dc_level0_row39\" class=\"row_heading level0 row39\" >8.5</th>\n",
       "                        <td id=\"T_d40dc_row39_col0\" class=\"data row39 col0\" >2</td>\n",
       "                        <td id=\"T_d40dc_row39_col1\" class=\"data row39 col1\" >180.000000</td>\n",
       "            </tr>\n",
       "            <tr>\n",
       "                        <th id=\"T_d40dc_level0_row40\" class=\"row_heading level0 row40\" >2.9</th>\n",
       "                        <td id=\"T_d40dc_row40_col0\" class=\"data row40 col0\" >2</td>\n",
       "                        <td id=\"T_d40dc_row40_col1\" class=\"data row40 col1\" >45.000000</td>\n",
       "            </tr>\n",
       "            <tr>\n",
       "                        <th id=\"T_d40dc_level0_row41\" class=\"row_heading level0 row41\" >4.2</th>\n",
       "                        <td id=\"T_d40dc_row41_col0\" class=\"data row41 col0\" >2</td>\n",
       "                        <td id=\"T_d40dc_row41_col1\" class=\"data row41 col1\" >26.500000</td>\n",
       "            </tr>\n",
       "            <tr>\n",
       "                        <th id=\"T_d40dc_level0_row42\" class=\"row_heading level0 row42\" >8.1</th>\n",
       "                        <td id=\"T_d40dc_row42_col0\" class=\"data row42 col0\" >1</td>\n",
       "                        <td id=\"T_d40dc_row42_col1\" class=\"data row42 col1\" >26.000000</td>\n",
       "            </tr>\n",
       "            <tr>\n",
       "                        <th id=\"T_d40dc_level0_row43\" class=\"row_heading level0 row43\" >8.2</th>\n",
       "                        <td id=\"T_d40dc_row43_col0\" class=\"data row43 col0\" >1</td>\n",
       "                        <td id=\"T_d40dc_row43_col1\" class=\"data row43 col1\" >140.000000</td>\n",
       "            </tr>\n",
       "            <tr>\n",
       "                        <th id=\"T_d40dc_level0_row44\" class=\"row_heading level0 row44\" >1.0</th>\n",
       "                        <td id=\"T_d40dc_row44_col0\" class=\"data row44 col0\" >1</td>\n",
       "                        <td id=\"T_d40dc_row44_col1\" class=\"data row44 col1\" >25.000000</td>\n",
       "            </tr>\n",
       "            <tr>\n",
       "                        <th id=\"T_d40dc_level0_row45\" class=\"row_heading level0 row45\" >3.1</th>\n",
       "                        <td id=\"T_d40dc_row45_col0\" class=\"data row45 col0\" >1</td>\n",
       "                        <td id=\"T_d40dc_row45_col1\" class=\"data row45 col1\" >30.000000</td>\n",
       "            </tr>\n",
       "            <tr>\n",
       "                        <th id=\"T_d40dc_level0_row46\" class=\"row_heading level0 row46\" >3.8</th>\n",
       "                        <td id=\"T_d40dc_row46_col0\" class=\"data row46 col0\" >1</td>\n",
       "                        <td id=\"T_d40dc_row46_col1\" class=\"data row46 col1\" >20.000000</td>\n",
       "            </tr>\n",
       "            <tr>\n",
       "                        <th id=\"T_d40dc_level0_row47\" class=\"row_heading level0 row47\" >4.6</th>\n",
       "                        <td id=\"T_d40dc_row47_col0\" class=\"data row47 col0\" >1</td>\n",
       "                        <td id=\"T_d40dc_row47_col1\" class=\"data row47 col1\" >28.000000</td>\n",
       "            </tr>\n",
       "            <tr>\n",
       "                        <th id=\"T_d40dc_level0_row48\" class=\"row_heading level0 row48\" >3.5</th>\n",
       "                        <td id=\"T_d40dc_row48_col0\" class=\"data row48 col0\" >1</td>\n",
       "                        <td id=\"T_d40dc_row48_col1\" class=\"data row48 col1\" >60.000000</td>\n",
       "            </tr>\n",
       "            <tr>\n",
       "                        <th id=\"T_d40dc_level0_row49\" class=\"row_heading level0 row49\" >2.5</th>\n",
       "                        <td id=\"T_d40dc_row49_col0\" class=\"data row49 col0\" >1</td>\n",
       "                        <td id=\"T_d40dc_row49_col1\" class=\"data row49 col1\" >100.000000</td>\n",
       "            </tr>\n",
       "            <tr>\n",
       "                        <th id=\"T_d40dc_level0_row50\" class=\"row_heading level0 row50\" >3.3</th>\n",
       "                        <td id=\"T_d40dc_row50_col0\" class=\"data row50 col0\" >1</td>\n",
       "                        <td id=\"T_d40dc_row50_col1\" class=\"data row50 col1\" >25.000000</td>\n",
       "            </tr>\n",
       "            <tr>\n",
       "                        <th id=\"T_d40dc_level0_row51\" class=\"row_heading level0 row51\" >3.0</th>\n",
       "                        <td id=\"T_d40dc_row51_col0\" class=\"data row51 col0\" >1</td>\n",
       "                        <td id=\"T_d40dc_row51_col1\" class=\"data row51 col1\" >200.000000</td>\n",
       "            </tr>\n",
       "            <tr>\n",
       "                        <th id=\"T_d40dc_level0_row52\" class=\"row_heading level0 row52\" >2.8</th>\n",
       "                        <td id=\"T_d40dc_row52_col0\" class=\"data row52 col0\" >1</td>\n",
       "                        <td id=\"T_d40dc_row52_col1\" class=\"data row52 col1\" >30.000000</td>\n",
       "            </tr>\n",
       "            <tr>\n",
       "                        <th id=\"T_d40dc_level0_row53\" class=\"row_heading level0 row53\" >8.6</th>\n",
       "                        <td id=\"T_d40dc_row53_col0\" class=\"data row53 col0\" >0</td>\n",
       "                        <td id=\"T_d40dc_row53_col1\" class=\"data row53 col1\" >nan</td>\n",
       "            </tr>\n",
       "            <tr>\n",
       "                        <th id=\"T_d40dc_level0_row54\" class=\"row_heading level0 row54\" >1.3</th>\n",
       "                        <td id=\"T_d40dc_row54_col0\" class=\"data row54 col0\" >0</td>\n",
       "                        <td id=\"T_d40dc_row54_col1\" class=\"data row54 col1\" >nan</td>\n",
       "            </tr>\n",
       "            <tr>\n",
       "                        <th id=\"T_d40dc_level0_row55\" class=\"row_heading level0 row55\" >8.3</th>\n",
       "                        <td id=\"T_d40dc_row55_col0\" class=\"data row55 col0\" >0</td>\n",
       "                        <td id=\"T_d40dc_row55_col1\" class=\"data row55 col1\" >nan</td>\n",
       "            </tr>\n",
       "            <tr>\n",
       "                        <th id=\"T_d40dc_level0_row56\" class=\"row_heading level0 row56\" >8.4</th>\n",
       "                        <td id=\"T_d40dc_row56_col0\" class=\"data row56 col0\" >0</td>\n",
       "                        <td id=\"T_d40dc_row56_col1\" class=\"data row56 col1\" >nan</td>\n",
       "            </tr>\n",
       "            <tr>\n",
       "                        <th id=\"T_d40dc_level0_row57\" class=\"row_heading level0 row57\" >1.2</th>\n",
       "                        <td id=\"T_d40dc_row57_col0\" class=\"data row57 col0\" >0</td>\n",
       "                        <td id=\"T_d40dc_row57_col1\" class=\"data row57 col1\" >nan</td>\n",
       "            </tr>\n",
       "            <tr>\n",
       "                        <th id=\"T_d40dc_level0_row58\" class=\"row_heading level0 row58\" >1.1</th>\n",
       "                        <td id=\"T_d40dc_row58_col0\" class=\"data row58 col0\" >0</td>\n",
       "                        <td id=\"T_d40dc_row58_col1\" class=\"data row58 col1\" >nan</td>\n",
       "            </tr>\n",
       "            <tr>\n",
       "                        <th id=\"T_d40dc_level0_row59\" class=\"row_heading level0 row59\" >1.5</th>\n",
       "                        <td id=\"T_d40dc_row59_col0\" class=\"data row59 col0\" >0</td>\n",
       "                        <td id=\"T_d40dc_row59_col1\" class=\"data row59 col1\" >nan</td>\n",
       "            </tr>\n",
       "            <tr>\n",
       "                        <th id=\"T_d40dc_level0_row60\" class=\"row_heading level0 row60\" >8.7</th>\n",
       "                        <td id=\"T_d40dc_row60_col0\" class=\"data row60 col0\" >0</td>\n",
       "                        <td id=\"T_d40dc_row60_col1\" class=\"data row60 col1\" >nan</td>\n",
       "            </tr>\n",
       "            <tr>\n",
       "                        <th id=\"T_d40dc_level0_row61\" class=\"row_heading level0 row61\" >8.8</th>\n",
       "                        <td id=\"T_d40dc_row61_col0\" class=\"data row61 col0\" >0</td>\n",
       "                        <td id=\"T_d40dc_row61_col1\" class=\"data row61 col1\" >nan</td>\n",
       "            </tr>\n",
       "            <tr>\n",
       "                        <th id=\"T_d40dc_level0_row62\" class=\"row_heading level0 row62\" >8.9</th>\n",
       "                        <td id=\"T_d40dc_row62_col0\" class=\"data row62 col0\" >0</td>\n",
       "                        <td id=\"T_d40dc_row62_col1\" class=\"data row62 col1\" >nan</td>\n",
       "            </tr>\n",
       "            <tr>\n",
       "                        <th id=\"T_d40dc_level0_row63\" class=\"row_heading level0 row63\" >9.0</th>\n",
       "                        <td id=\"T_d40dc_row63_col0\" class=\"data row63 col0\" >0</td>\n",
       "                        <td id=\"T_d40dc_row63_col1\" class=\"data row63 col1\" >nan</td>\n",
       "            </tr>\n",
       "            <tr>\n",
       "                        <th id=\"T_d40dc_level0_row64\" class=\"row_heading level0 row64\" >9.1</th>\n",
       "                        <td id=\"T_d40dc_row64_col0\" class=\"data row64 col0\" >0</td>\n",
       "                        <td id=\"T_d40dc_row64_col1\" class=\"data row64 col1\" >nan</td>\n",
       "            </tr>\n",
       "            <tr>\n",
       "                        <th id=\"T_d40dc_level0_row65\" class=\"row_heading level0 row65\" >1.4</th>\n",
       "                        <td id=\"T_d40dc_row65_col0\" class=\"data row65 col0\" >0</td>\n",
       "                        <td id=\"T_d40dc_row65_col1\" class=\"data row65 col1\" >nan</td>\n",
       "            </tr>\n",
       "            <tr>\n",
       "                        <th id=\"T_d40dc_level0_row66\" class=\"row_heading level0 row66\" >2.1</th>\n",
       "                        <td id=\"T_d40dc_row66_col0\" class=\"data row66 col0\" >0</td>\n",
       "                        <td id=\"T_d40dc_row66_col1\" class=\"data row66 col1\" >nan</td>\n",
       "            </tr>\n",
       "            <tr>\n",
       "                        <th id=\"T_d40dc_level0_row67\" class=\"row_heading level0 row67\" >1.6</th>\n",
       "                        <td id=\"T_d40dc_row67_col0\" class=\"data row67 col0\" >0</td>\n",
       "                        <td id=\"T_d40dc_row67_col1\" class=\"data row67 col1\" >nan</td>\n",
       "            </tr>\n",
       "            <tr>\n",
       "                        <th id=\"T_d40dc_level0_row68\" class=\"row_heading level0 row68\" >1.7</th>\n",
       "                        <td id=\"T_d40dc_row68_col0\" class=\"data row68 col0\" >0</td>\n",
       "                        <td id=\"T_d40dc_row68_col1\" class=\"data row68 col1\" >nan</td>\n",
       "            </tr>\n",
       "            <tr>\n",
       "                        <th id=\"T_d40dc_level0_row69\" class=\"row_heading level0 row69\" >1.8</th>\n",
       "                        <td id=\"T_d40dc_row69_col0\" class=\"data row69 col0\" >0</td>\n",
       "                        <td id=\"T_d40dc_row69_col1\" class=\"data row69 col1\" >nan</td>\n",
       "            </tr>\n",
       "            <tr>\n",
       "                        <th id=\"T_d40dc_level0_row70\" class=\"row_heading level0 row70\" >1.9</th>\n",
       "                        <td id=\"T_d40dc_row70_col0\" class=\"data row70 col0\" >0</td>\n",
       "                        <td id=\"T_d40dc_row70_col1\" class=\"data row70 col1\" >nan</td>\n",
       "            </tr>\n",
       "            <tr>\n",
       "                        <th id=\"T_d40dc_level0_row71\" class=\"row_heading level0 row71\" >2.4</th>\n",
       "                        <td id=\"T_d40dc_row71_col0\" class=\"data row71 col0\" >0</td>\n",
       "                        <td id=\"T_d40dc_row71_col1\" class=\"data row71 col1\" >nan</td>\n",
       "            </tr>\n",
       "            <tr>\n",
       "                        <th id=\"T_d40dc_level0_row72\" class=\"row_heading level0 row72\" >2.6</th>\n",
       "                        <td id=\"T_d40dc_row72_col0\" class=\"data row72 col0\" >0</td>\n",
       "                        <td id=\"T_d40dc_row72_col1\" class=\"data row72 col1\" >nan</td>\n",
       "            </tr>\n",
       "            <tr>\n",
       "                        <th id=\"T_d40dc_level0_row73\" class=\"row_heading level0 row73\" >2.7</th>\n",
       "                        <td id=\"T_d40dc_row73_col0\" class=\"data row73 col0\" >0</td>\n",
       "                        <td id=\"T_d40dc_row73_col1\" class=\"data row73 col1\" >nan</td>\n",
       "            </tr>\n",
       "            <tr>\n",
       "                        <th id=\"T_d40dc_level0_row74\" class=\"row_heading level0 row74\" >3.4</th>\n",
       "                        <td id=\"T_d40dc_row74_col0\" class=\"data row74 col0\" >0</td>\n",
       "                        <td id=\"T_d40dc_row74_col1\" class=\"data row74 col1\" >nan</td>\n",
       "            </tr>\n",
       "            <tr>\n",
       "                        <th id=\"T_d40dc_level0_row75\" class=\"row_heading level0 row75\" >3.6</th>\n",
       "                        <td id=\"T_d40dc_row75_col0\" class=\"data row75 col0\" >0</td>\n",
       "                        <td id=\"T_d40dc_row75_col1\" class=\"data row75 col1\" >nan</td>\n",
       "            </tr>\n",
       "            <tr>\n",
       "                        <th id=\"T_d40dc_level0_row76\" class=\"row_heading level0 row76\" >3.7</th>\n",
       "                        <td id=\"T_d40dc_row76_col0\" class=\"data row76 col0\" >0</td>\n",
       "                        <td id=\"T_d40dc_row76_col1\" class=\"data row76 col1\" >nan</td>\n",
       "            </tr>\n",
       "            <tr>\n",
       "                        <th id=\"T_d40dc_level0_row77\" class=\"row_heading level0 row77\" >4.1</th>\n",
       "                        <td id=\"T_d40dc_row77_col0\" class=\"data row77 col0\" >0</td>\n",
       "                        <td id=\"T_d40dc_row77_col1\" class=\"data row77 col1\" >nan</td>\n",
       "            </tr>\n",
       "            <tr>\n",
       "                        <th id=\"T_d40dc_level0_row78\" class=\"row_heading level0 row78\" >4.4</th>\n",
       "                        <td id=\"T_d40dc_row78_col0\" class=\"data row78 col0\" >0</td>\n",
       "                        <td id=\"T_d40dc_row78_col1\" class=\"data row78 col1\" >nan</td>\n",
       "            </tr>\n",
       "            <tr>\n",
       "                        <th id=\"T_d40dc_level0_row79\" class=\"row_heading level0 row79\" >9.2</th>\n",
       "                        <td id=\"T_d40dc_row79_col0\" class=\"data row79 col0\" >0</td>\n",
       "                        <td id=\"T_d40dc_row79_col1\" class=\"data row79 col1\" >nan</td>\n",
       "            </tr>\n",
       "    </tbody></table>"
      ],
      "text/plain": [
       "<pandas.io.formats.style.Styler at 0x7fc7e7e7d610>"
      ]
     },
     "execution_count": 72,
     "metadata": {},
     "output_type": "execute_result"
    }
   ],
   "source": [
    "rating_corr = df.pivot_table(index='ratings', values=['state_support'], aggfunc = ['count', 'median'])\n",
    "rating_corr.columns = ['count_rating', 'median_state_support']\n",
    "rating_corr.sort_values('count_rating', ascending=False).style.background_gradient('coolwarm')"
   ]
  },
  {
   "cell_type": "code",
   "execution_count": 73,
   "id": "cb630caf",
   "metadata": {},
   "outputs": [
    {
     "data": {
      "text/plain": [
       "0.12467214318922078"
      ]
     },
     "execution_count": 73,
     "metadata": {},
     "output_type": "execute_result"
    }
   ],
   "source": [
    "df['ratings'].corr(df['state_support'])"
   ]
  },
  {
   "cell_type": "markdown",
   "id": "427ce8a5",
   "metadata": {},
   "source": [
    "> - **Most common rating for supported films:** 6.2\n",
    "> - **The film receiving the highest government funding** has a rating of 3.0.\n",
    "> - There is **a weak positive correlation (0.12)** between movie ratings and government funding, which indicates only a slight relationship. This means that, the amount of government funding a film receives does not strongly depend on its rating."
   ]
  },
  {
   "cell_type": "markdown",
   "id": "064e94a0",
   "metadata": {},
   "source": [
    "### Analysis of Funding Sources"
   ]
  },
  {
   "cell_type": "code",
   "execution_count": 74,
   "id": "16e352b4",
   "metadata": {},
   "outputs": [
    {
     "data": {
      "image/png": "[encoded data removed]",
      "text/plain": [
       "<Figure size 576x576 with 1 Axes>"
      ]
     },
     "metadata": {},
     "output_type": "display_data"
    }
   ],
   "source": [
    "source_value_counts = df['financing_source'].value_counts()\n",
    "\n",
    "plt.figure(figsize=(8, 8))\n",
    "source_value_counts.plot(kind='pie', autopct='%1.1f%%', legend=False, \n",
    "                         colors=['#F4A6C4', '#A3D2CA', '#F9D88C', '#A9C4E0', '#F6B0C4'],\n",
    "                         startangle=90, wedgeprops={'edgecolor': 'none'})\n",
    "plt.title('Distribution of Government Financing Sources', fontsize=14)\n",
    "plt.ylabel('')\n",
    "plt.show()"
   ]
  },
  {
   "cell_type": "markdown",
   "id": "c1115f68",
   "metadata": {},
   "source": [
    "> - Half of all funding comes from **the Ministry of Culture.**"
   ]
  },
  {
   "cell_type": "code",
   "execution_count": 75,
   "id": "27897c3e",
   "metadata": {},
   "outputs": [
    {
     "data": {
      "text/html": [
       "<div>\n",
       "<style scoped>\n",
       "    .dataframe tbody tr th:only-of-type {\n",
       "        vertical-align: middle;\n",
       "    }\n",
       "\n",
       "    .dataframe tbody tr th {\n",
       "        vertical-align: top;\n",
       "    }\n",
       "\n",
       "    .dataframe thead th {\n",
       "        text-align: right;\n",
       "    }\n",
       "</style>\n",
       "<table border=\"1\" class=\"dataframe\">\n",
       "  <thead>\n",
       "    <tr style=\"text-align: right;\">\n",
       "      <th></th>\n",
       "      <th>financing_source_cases</th>\n",
       "      <th>sum_financing_source</th>\n",
       "      <th>mean_financing_source</th>\n",
       "      <th>median_financing_source</th>\n",
       "    </tr>\n",
       "    <tr>\n",
       "      <th>financing_source</th>\n",
       "      <th></th>\n",
       "      <th></th>\n",
       "      <th></th>\n",
       "      <th></th>\n",
       "    </tr>\n",
       "  </thead>\n",
       "  <tbody>\n",
       "    <tr>\n",
       "      <th>Министерство культуры</th>\n",
       "      <td>152</td>\n",
       "      <td>4,491.00</td>\n",
       "      <td>29.55</td>\n",
       "      <td>28.00</td>\n",
       "    </tr>\n",
       "    <tr>\n",
       "      <th>Министерство культуры, Фонд кино</th>\n",
       "      <td>20</td>\n",
       "      <td>1,107.00</td>\n",
       "      <td>55.35</td>\n",
       "      <td>48.00</td>\n",
       "    </tr>\n",
       "    <tr>\n",
       "      <th>Фонд кино</th>\n",
       "      <td>128</td>\n",
       "      <td>12,662.00</td>\n",
       "      <td>98.92</td>\n",
       "      <td>60.00</td>\n",
       "    </tr>\n",
       "  </tbody>\n",
       "</table>\n",
       "</div>"
      ],
      "text/plain": [
       "                                  financing_source_cases  \\\n",
       "financing_source                                           \n",
       "Министерство культуры                                152   \n",
       "Министерство культуры, Фонд кино                      20   \n",
       "Фонд кино                                            128   \n",
       "\n",
       "                                  sum_financing_source  mean_financing_source  \\\n",
       "financing_source                                                                \n",
       "Министерство культуры                         4,491.00                  29.55   \n",
       "Министерство культуры, Фонд кино              1,107.00                  55.35   \n",
       "Фонд кино                                    12,662.00                  98.92   \n",
       "\n",
       "                                  median_financing_source  \n",
       "financing_source                                           \n",
       "Министерство культуры                               28.00  \n",
       "Министерство культуры, Фонд кино                    48.00  \n",
       "Фонд кино                                           60.00  "
      ]
     },
     "execution_count": 75,
     "metadata": {},
     "output_type": "execute_result"
    }
   ],
   "source": [
    "source_support = df.pivot_table(index='financing_source',\n",
    "                                 values='state_support',\n",
    "                                 aggfunc = ['count', 'sum', 'mean', 'median'])\n",
    "source_support.columns = ['financing_source_cases',\n",
    "                           'sum_financing_source', 'mean_financing_source', 'median_financing_source']\n",
    "source_support"
   ]
  },
  {
   "cell_type": "code",
   "execution_count": 76,
   "id": "96694632",
   "metadata": {},
   "outputs": [
    {
     "data": {
      "image/png": "[encoded data removed]",
      "text/plain": [
       "<Figure size 720x432 with 1 Axes>"
      ]
     },
     "metadata": {
      "needs_background": "light"
     },
     "output_type": "display_data"
    }
   ],
   "source": [
    "plt.figure(figsize=(10,6))\n",
    "source_support['sum_financing_source'].plot(kind='bar', \n",
    "                                              legend=True, \n",
    "                                              grid=True, \n",
    "                                              color=['#F4A6C4', '#A3D2CA', '#F9D88C', '#A9C4E0', '#F6B0C4'],\n",
    "                                              title = 'Total Government Financing by Source and Year')\n",
    "plt.xlabel('Year', fontsize=12)\n",
    "plt.ylabel('Financing Amount (in millions)', fontsize=12)\n",
    "plt.xticks(rotation=45)\n",
    "plt.grid(axis='y', linestyle='--', alpha=0.7)\n",
    "plt.show()"
   ]
  },
  {
   "cell_type": "markdown",
   "id": "71e614eb",
   "metadata": {},
   "source": [
    "> - The largest amount of funding comes from **the Film Foundation**, but the Ministry of Culture finances more films."
   ]
  },
  {
   "cell_type": "markdown",
   "id": "b121cfb2",
   "metadata": {},
   "source": [
    "### Comparing Russian Films with and without Government Support"
   ]
  },
  {
   "cell_type": "markdown",
   "id": "66130895",
   "metadata": {},
   "source": [
    "- To evaluate the effectiveness of government support, we will split the dataset into two dataframes: one for Russian films that received government support and another for those that did not. Then, we will compare these films in terms of their ratings and box office revenues."
   ]
  },
  {
   "cell_type": "code",
   "execution_count": 77,
   "id": "414617cf",
   "metadata": {},
   "outputs": [
    {
     "data": {
      "text/html": [
       "<div>\n",
       "<style scoped>\n",
       "    .dataframe tbody tr th:only-of-type {\n",
       "        vertical-align: middle;\n",
       "    }\n",
       "\n",
       "    .dataframe tbody tr th {\n",
       "        vertical-align: top;\n",
       "    }\n",
       "\n",
       "    .dataframe thead th {\n",
       "        text-align: right;\n",
       "    }\n",
       "</style>\n",
       "<table border=\"1\" class=\"dataframe\">\n",
       "  <thead>\n",
       "    <tr style=\"text-align: right;\">\n",
       "      <th></th>\n",
       "      <th>title</th>\n",
       "      <th>puNumber</th>\n",
       "      <th>show_start_date</th>\n",
       "      <th>type</th>\n",
       "      <th>film_studio</th>\n",
       "      <th>production_country</th>\n",
       "      <th>director</th>\n",
       "      <th>producer</th>\n",
       "      <th>age_restriction</th>\n",
       "      <th>refundable_support</th>\n",
       "      <th>...</th>\n",
       "      <th>budget</th>\n",
       "      <th>financing_source</th>\n",
       "      <th>ratings</th>\n",
       "      <th>genres</th>\n",
       "      <th>box_office</th>\n",
       "      <th>show_start_year</th>\n",
       "      <th>main_director</th>\n",
       "      <th>first_genre</th>\n",
       "      <th>state_in_total_budget</th>\n",
       "      <th>state_support</th>\n",
       "    </tr>\n",
       "  </thead>\n",
       "  <tbody>\n",
       "    <tr>\n",
       "      <th>1281</th>\n",
       "      <td>пока еще жива</td>\n",
       "      <td>111005313</td>\n",
       "      <td>2013-10-11 12:00:00</td>\n",
       "      <td>Художественный</td>\n",
       "      <td>АНО содействия развитию кинематографии \"Ангел-...</td>\n",
       "      <td>Россия</td>\n",
       "      <td>А.Атанесян</td>\n",
       "      <td>А.Атанесян, М.Бабаханов, Р.Бутко</td>\n",
       "      <td>«16+» - для детей старше 16 лет</td>\n",
       "      <td>0.00</td>\n",
       "      <td>...</td>\n",
       "      <td>79,411,900.00</td>\n",
       "      <td>Министерство культуры</td>\n",
       "      <td>8.10</td>\n",
       "      <td>драма,мелодрама</td>\n",
       "      <td>0.00</td>\n",
       "      <td>2013</td>\n",
       "      <td>А.Атанесян</td>\n",
       "      <td>драма</td>\n",
       "      <td>3.00</td>\n",
       "      <td>26.00</td>\n",
       "    </tr>\n",
       "    <tr>\n",
       "      <th>1498</th>\n",
       "      <td>невидимки</td>\n",
       "      <td>111004213</td>\n",
       "      <td>2013-09-10 12:00:00</td>\n",
       "      <td>Художественный</td>\n",
       "      <td>ООО \"Компания \"РЕАЛ-ДАКОТА\"</td>\n",
       "      <td>Россия</td>\n",
       "      <td>Р.Давлетьяров, С.Комаров</td>\n",
       "      <td>Р.Давлетьяров, А.Котелевский, А.Олейников</td>\n",
       "      <td>«12+» - для детей старше 12 лет</td>\n",
       "      <td>0.00</td>\n",
       "      <td>...</td>\n",
       "      <td>176,023,490.00</td>\n",
       "      <td>Фонд кино</td>\n",
       "      <td>5.30</td>\n",
       "      <td>комедия,фантастика</td>\n",
       "      <td>20.00</td>\n",
       "      <td>2013</td>\n",
       "      <td>Р.Давлетьяров</td>\n",
       "      <td>комедия</td>\n",
       "      <td>1.63</td>\n",
       "      <td>108.00</td>\n",
       "    </tr>\n",
       "    <tr>\n",
       "      <th>1524</th>\n",
       "      <td>берцы</td>\n",
       "      <td>111004314</td>\n",
       "      <td>2014-05-05 12:00:00</td>\n",
       "      <td>Художественный</td>\n",
       "      <td>ООО \"Студия \"Пассажир\"</td>\n",
       "      <td>Россия</td>\n",
       "      <td>Е.Миндадзе (псевдоним Катя Шагалова)</td>\n",
       "      <td>Л.Антонова</td>\n",
       "      <td>«16+» - для детей старше 16 лет</td>\n",
       "      <td>0.00</td>\n",
       "      <td>...</td>\n",
       "      <td>40,574,140.00</td>\n",
       "      <td>Министерство культуры</td>\n",
       "      <td>4.20</td>\n",
       "      <td>драма</td>\n",
       "      <td>0.00</td>\n",
       "      <td>2014</td>\n",
       "      <td>Е.Миндадзе (псевдоним Катя Шагалова)</td>\n",
       "      <td>драма</td>\n",
       "      <td>1.45</td>\n",
       "      <td>28.00</td>\n",
       "    </tr>\n",
       "    <tr>\n",
       "      <th>1792</th>\n",
       "      <td>братья ч</td>\n",
       "      <td>111004414</td>\n",
       "      <td>2014-04-23 12:00:00</td>\n",
       "      <td>Художественный</td>\n",
       "      <td>ООО \"Студия \"Пассажир\"</td>\n",
       "      <td>Россия</td>\n",
       "      <td>М.Угаров</td>\n",
       "      <td>А.Миндадзе, Л.Антонова</td>\n",
       "      <td>«16+» - для детей старше 16 лет</td>\n",
       "      <td>0.00</td>\n",
       "      <td>...</td>\n",
       "      <td>40,015,122.00</td>\n",
       "      <td>Министерство культуры</td>\n",
       "      <td>6.40</td>\n",
       "      <td>драма</td>\n",
       "      <td>0.00</td>\n",
       "      <td>2014</td>\n",
       "      <td>М.Угаров</td>\n",
       "      <td>драма</td>\n",
       "      <td>1.60</td>\n",
       "      <td>25.00</td>\n",
       "    </tr>\n",
       "    <tr>\n",
       "      <th>1853</th>\n",
       "      <td>тайна сухаревой башни. чародей равновесия</td>\n",
       "      <td>114000115</td>\n",
       "      <td>2015-02-18 12:00:00</td>\n",
       "      <td>Анимационный</td>\n",
       "      <td>ООО \"Студия \"Мастер-Фильм\"</td>\n",
       "      <td>Россия</td>\n",
       "      <td>С.Серегин</td>\n",
       "      <td>А.Герасимов</td>\n",
       "      <td>«6+» - для детей старше 6 лет</td>\n",
       "      <td>0.00</td>\n",
       "      <td>...</td>\n",
       "      <td>51,850,000.00</td>\n",
       "      <td>Министерство культуры</td>\n",
       "      <td>6.10</td>\n",
       "      <td>мультфильм,фэнтези,история</td>\n",
       "      <td>15.00</td>\n",
       "      <td>2015</td>\n",
       "      <td>С.Серегин</td>\n",
       "      <td>мультфильм</td>\n",
       "      <td>2.07</td>\n",
       "      <td>25.00</td>\n",
       "    </tr>\n",
       "  </tbody>\n",
       "</table>\n",
       "<p>5 rows × 21 columns</p>\n",
       "</div>"
      ],
      "text/plain": [
       "                                          title   puNumber  \\\n",
       "1281                              пока еще жива  111005313   \n",
       "1498                                  невидимки  111004213   \n",
       "1524                                      берцы  111004314   \n",
       "1792                                   братья ч  111004414   \n",
       "1853  тайна сухаревой башни. чародей равновесия  114000115   \n",
       "\n",
       "         show_start_date            type  \\\n",
       "1281 2013-10-11 12:00:00  Художественный   \n",
       "1498 2013-09-10 12:00:00  Художественный   \n",
       "1524 2014-05-05 12:00:00  Художественный   \n",
       "1792 2014-04-23 12:00:00  Художественный   \n",
       "1853 2015-02-18 12:00:00    Анимационный   \n",
       "\n",
       "                                            film_studio production_country  \\\n",
       "1281  АНО содействия развитию кинематографии \"Ангел-...             Россия   \n",
       "1498                        ООО \"Компания \"РЕАЛ-ДАКОТА\"             Россия   \n",
       "1524                             ООО \"Студия \"Пассажир\"             Россия   \n",
       "1792                             ООО \"Студия \"Пассажир\"             Россия   \n",
       "1853                        ООО \"Студия \"Мастер-Фильм\"              Россия   \n",
       "\n",
       "                                  director  \\\n",
       "1281                            А.Атанесян   \n",
       "1498              Р.Давлетьяров, С.Комаров   \n",
       "1524  Е.Миндадзе (псевдоним Катя Шагалова)   \n",
       "1792                              М.Угаров   \n",
       "1853                             С.Серегин   \n",
       "\n",
       "                                       producer  \\\n",
       "1281           А.Атанесян, М.Бабаханов, Р.Бутко   \n",
       "1498  Р.Давлетьяров, А.Котелевский, А.Олейников   \n",
       "1524                                 Л.Антонова   \n",
       "1792                     А.Миндадзе, Л.Антонова   \n",
       "1853                                А.Герасимов   \n",
       "\n",
       "                      age_restriction  refundable_support  ...         budget  \\\n",
       "1281  «16+» - для детей старше 16 лет                0.00  ...  79,411,900.00   \n",
       "1498  «12+» - для детей старше 12 лет                0.00  ... 176,023,490.00   \n",
       "1524  «16+» - для детей старше 16 лет                0.00  ...  40,574,140.00   \n",
       "1792  «16+» - для детей старше 16 лет                0.00  ...  40,015,122.00   \n",
       "1853    «6+» - для детей старше 6 лет                0.00  ...  51,850,000.00   \n",
       "\n",
       "           financing_source ratings                      genres box_office  \\\n",
       "1281  Министерство культуры    8.10             драма,мелодрама       0.00   \n",
       "1498              Фонд кино    5.30          комедия,фантастика      20.00   \n",
       "1524  Министерство культуры    4.20                       драма       0.00   \n",
       "1792  Министерство культуры    6.40                       драма       0.00   \n",
       "1853  Министерство культуры    6.10  мультфильм,фэнтези,история      15.00   \n",
       "\n",
       "      show_start_year                         main_director first_genre  \\\n",
       "1281             2013                            А.Атанесян       драма   \n",
       "1498             2013                         Р.Давлетьяров     комедия   \n",
       "1524             2014  Е.Миндадзе (псевдоним Катя Шагалова)       драма   \n",
       "1792             2014                              М.Угаров       драма   \n",
       "1853             2015                             С.Серегин  мультфильм   \n",
       "\n",
       "     state_in_total_budget  state_support  \n",
       "1281                  3.00          26.00  \n",
       "1498                  1.63         108.00  \n",
       "1524                  1.45          28.00  \n",
       "1792                  1.60          25.00  \n",
       "1853                  2.07          25.00  \n",
       "\n",
       "[5 rows x 21 columns]"
      ]
     },
     "execution_count": 77,
     "metadata": {},
     "output_type": "execute_result"
    }
   ],
   "source": [
    "with_support = df[(df['production_country'] == 'Россия') & (df['budget'] >= 0)]\n",
    "with_support.head()"
   ]
  },
  {
   "cell_type": "code",
   "execution_count": 78,
   "id": "92be4f66",
   "metadata": {},
   "outputs": [
    {
     "data": {
      "text/html": [
       "<div>\n",
       "<style scoped>\n",
       "    .dataframe tbody tr th:only-of-type {\n",
       "        vertical-align: middle;\n",
       "    }\n",
       "\n",
       "    .dataframe tbody tr th {\n",
       "        vertical-align: top;\n",
       "    }\n",
       "\n",
       "    .dataframe thead th {\n",
       "        text-align: right;\n",
       "    }\n",
       "</style>\n",
       "<table border=\"1\" class=\"dataframe\">\n",
       "  <thead>\n",
       "    <tr style=\"text-align: right;\">\n",
       "      <th></th>\n",
       "      <th>title</th>\n",
       "      <th>puNumber</th>\n",
       "      <th>show_start_date</th>\n",
       "      <th>type</th>\n",
       "      <th>film_studio</th>\n",
       "      <th>production_country</th>\n",
       "      <th>director</th>\n",
       "      <th>producer</th>\n",
       "      <th>age_restriction</th>\n",
       "      <th>refundable_support</th>\n",
       "      <th>...</th>\n",
       "      <th>budget</th>\n",
       "      <th>financing_source</th>\n",
       "      <th>ratings</th>\n",
       "      <th>genres</th>\n",
       "      <th>box_office</th>\n",
       "      <th>show_start_year</th>\n",
       "      <th>main_director</th>\n",
       "      <th>first_genre</th>\n",
       "      <th>state_in_total_budget</th>\n",
       "      <th>state_support</th>\n",
       "    </tr>\n",
       "  </thead>\n",
       "  <tbody>\n",
       "    <tr>\n",
       "      <th>336</th>\n",
       "      <td>каникулы строгого режима</td>\n",
       "      <td>111008514</td>\n",
       "      <td>2014-08-07 12:00:00</td>\n",
       "      <td>Художественный</td>\n",
       "      <td>ООО \"Кинобазза\" по  заказу ЗАО \"Дирекция Кино\"</td>\n",
       "      <td>Россия</td>\n",
       "      <td>И.Зайцев</td>\n",
       "      <td>А.Максимов, Н.Попов, Д.Файзиев</td>\n",
       "      <td>«12+» - для детей старше 12 лет</td>\n",
       "      <td>NaN</td>\n",
       "      <td>...</td>\n",
       "      <td>NaN</td>\n",
       "      <td>NaN</td>\n",
       "      <td>7.10</td>\n",
       "      <td>драма,комедия,приключения</td>\n",
       "      <td>0.00</td>\n",
       "      <td>2014</td>\n",
       "      <td>И.Зайцев</td>\n",
       "      <td>драма</td>\n",
       "      <td>NaN</td>\n",
       "      <td>NaN</td>\n",
       "    </tr>\n",
       "    <tr>\n",
       "      <th>462</th>\n",
       "      <td>август. восьмого</td>\n",
       "      <td>111000612</td>\n",
       "      <td>2012-02-07 12:00:00</td>\n",
       "      <td>Художественный</td>\n",
       "      <td>ЗАО \"ПК \"ГЛАВКИНО\"</td>\n",
       "      <td>Россия</td>\n",
       "      <td>Д.Файзиев</td>\n",
       "      <td>Д.Файзиев, Ф.Бондарчук, И.Бачурин</td>\n",
       "      <td>«12+» - для детей старше 12 лет</td>\n",
       "      <td>NaN</td>\n",
       "      <td>...</td>\n",
       "      <td>NaN</td>\n",
       "      <td>NaN</td>\n",
       "      <td>6.10</td>\n",
       "      <td>драма,военный</td>\n",
       "      <td>0.00</td>\n",
       "      <td>2012</td>\n",
       "      <td>Д.Файзиев</td>\n",
       "      <td>драма</td>\n",
       "      <td>NaN</td>\n",
       "      <td>NaN</td>\n",
       "    </tr>\n",
       "    <tr>\n",
       "      <th>463</th>\n",
       "      <td>тот еще...!</td>\n",
       "      <td>111001612</td>\n",
       "      <td>2012-02-20 12:00:00</td>\n",
       "      <td>Художественный</td>\n",
       "      <td>ООО \"Энджой мувиз\"</td>\n",
       "      <td>Россия</td>\n",
       "      <td>С.Андреасян</td>\n",
       "      <td>Г.Малков</td>\n",
       "      <td>«12+» - для детей старше 12 лет</td>\n",
       "      <td>NaN</td>\n",
       "      <td>...</td>\n",
       "      <td>NaN</td>\n",
       "      <td>NaN</td>\n",
       "      <td>2.60</td>\n",
       "      <td>фэнтези,комедия,семейный</td>\n",
       "      <td>0.00</td>\n",
       "      <td>2012</td>\n",
       "      <td>С.Андреасян</td>\n",
       "      <td>фэнтези</td>\n",
       "      <td>NaN</td>\n",
       "      <td>NaN</td>\n",
       "    </tr>\n",
       "    <tr>\n",
       "      <th>464</th>\n",
       "      <td>кококо</td>\n",
       "      <td>111003112</td>\n",
       "      <td>2012-06-05 12:00:00</td>\n",
       "      <td>Художественный</td>\n",
       "      <td>ООО Кинокомпания \"Глобус-фильм\"</td>\n",
       "      <td>Россия</td>\n",
       "      <td>А.Смирнова</td>\n",
       "      <td>С.Сельянов</td>\n",
       "      <td>«18+» - запрещено для детей</td>\n",
       "      <td>NaN</td>\n",
       "      <td>...</td>\n",
       "      <td>NaN</td>\n",
       "      <td>NaN</td>\n",
       "      <td>6.90</td>\n",
       "      <td>драма,комедия</td>\n",
       "      <td>0.00</td>\n",
       "      <td>2012</td>\n",
       "      <td>А.Смирнова</td>\n",
       "      <td>драма</td>\n",
       "      <td>NaN</td>\n",
       "      <td>NaN</td>\n",
       "    </tr>\n",
       "    <tr>\n",
       "      <th>469</th>\n",
       "      <td>разговор</td>\n",
       "      <td>111000712</td>\n",
       "      <td>2012-02-07 12:00:00</td>\n",
       "      <td>Художественный</td>\n",
       "      <td>ООО \"Кинокомпания \"КВФильм-Продакшн\", ООО \"Ком...</td>\n",
       "      <td>Россия</td>\n",
       "      <td>В.Иванов, С.Комаров</td>\n",
       "      <td>В.Карев</td>\n",
       "      <td>«16+» - для детей старше 16 лет</td>\n",
       "      <td>NaN</td>\n",
       "      <td>...</td>\n",
       "      <td>NaN</td>\n",
       "      <td>NaN</td>\n",
       "      <td>7.60</td>\n",
       "      <td>триллер,драма,детектив</td>\n",
       "      <td>NaN</td>\n",
       "      <td>2012</td>\n",
       "      <td>В.Иванов</td>\n",
       "      <td>триллер</td>\n",
       "      <td>NaN</td>\n",
       "      <td>NaN</td>\n",
       "    </tr>\n",
       "  </tbody>\n",
       "</table>\n",
       "<p>5 rows × 21 columns</p>\n",
       "</div>"
      ],
      "text/plain": [
       "                        title   puNumber     show_start_date            type  \\\n",
       "336  каникулы строгого режима  111008514 2014-08-07 12:00:00  Художественный   \n",
       "462          август. восьмого  111000612 2012-02-07 12:00:00  Художественный   \n",
       "463               тот еще...!  111001612 2012-02-20 12:00:00  Художественный   \n",
       "464                    кококо  111003112 2012-06-05 12:00:00  Художественный   \n",
       "469                  разговор  111000712 2012-02-07 12:00:00  Художественный   \n",
       "\n",
       "                                           film_studio production_country  \\\n",
       "336     ООО \"Кинобазза\" по  заказу ЗАО \"Дирекция Кино\"             Россия   \n",
       "462                                 ЗАО \"ПК \"ГЛАВКИНО\"             Россия   \n",
       "463                                 ООО \"Энджой мувиз\"             Россия   \n",
       "464                    ООО Кинокомпания \"Глобус-фильм\"             Россия   \n",
       "469  ООО \"Кинокомпания \"КВФильм-Продакшн\", ООО \"Ком...             Россия   \n",
       "\n",
       "                director                           producer  \\\n",
       "336             И.Зайцев     А.Максимов, Н.Попов, Д.Файзиев   \n",
       "462            Д.Файзиев  Д.Файзиев, Ф.Бондарчук, И.Бачурин   \n",
       "463          С.Андреасян                           Г.Малков   \n",
       "464           А.Смирнова                         С.Сельянов   \n",
       "469  В.Иванов, С.Комаров                            В.Карев   \n",
       "\n",
       "                     age_restriction  refundable_support  ...  budget  \\\n",
       "336  «12+» - для детей старше 12 лет                 NaN  ...     NaN   \n",
       "462  «12+» - для детей старше 12 лет                 NaN  ...     NaN   \n",
       "463  «12+» - для детей старше 12 лет                 NaN  ...     NaN   \n",
       "464      «18+» - запрещено для детей                 NaN  ...     NaN   \n",
       "469  «16+» - для детей старше 16 лет                 NaN  ...     NaN   \n",
       "\n",
       "     financing_source ratings                     genres box_office  \\\n",
       "336               NaN    7.10  драма,комедия,приключения       0.00   \n",
       "462               NaN    6.10              драма,военный       0.00   \n",
       "463               NaN    2.60   фэнтези,комедия,семейный       0.00   \n",
       "464               NaN    6.90              драма,комедия       0.00   \n",
       "469               NaN    7.60     триллер,драма,детектив        NaN   \n",
       "\n",
       "     show_start_year  main_director first_genre state_in_total_budget  \\\n",
       "336             2014       И.Зайцев       драма                   NaN   \n",
       "462             2012      Д.Файзиев       драма                   NaN   \n",
       "463             2012    С.Андреасян     фэнтези                   NaN   \n",
       "464             2012     А.Смирнова       драма                   NaN   \n",
       "469             2012       В.Иванов     триллер                   NaN   \n",
       "\n",
       "     state_support  \n",
       "336            NaN  \n",
       "462            NaN  \n",
       "463            NaN  \n",
       "464            NaN  \n",
       "469            NaN  \n",
       "\n",
       "[5 rows x 21 columns]"
      ]
     },
     "execution_count": 78,
     "metadata": {},
     "output_type": "execute_result"
    }
   ],
   "source": [
    "without_support = df[(df['production_country'] == 'Россия')]\n",
    "without_support['budget'].isna()\n",
    "without_support.head()"
   ]
  },
  {
   "cell_type": "code",
   "execution_count": 79,
   "id": "e9bd3b28",
   "metadata": {},
   "outputs": [
    {
     "data": {
      "text/html": [
       "<div>\n",
       "<style scoped>\n",
       "    .dataframe tbody tr th:only-of-type {\n",
       "        vertical-align: middle;\n",
       "    }\n",
       "\n",
       "    .dataframe tbody tr th {\n",
       "        vertical-align: top;\n",
       "    }\n",
       "\n",
       "    .dataframe thead tr th {\n",
       "        text-align: left;\n",
       "    }\n",
       "\n",
       "    .dataframe thead tr:last-of-type th {\n",
       "        text-align: right;\n",
       "    }\n",
       "</style>\n",
       "<table border=\"1\" class=\"dataframe\">\n",
       "  <thead>\n",
       "    <tr>\n",
       "      <th></th>\n",
       "      <th colspan=\"2\" halign=\"left\">median</th>\n",
       "      <th colspan=\"2\" halign=\"left\">mean</th>\n",
       "    </tr>\n",
       "    <tr>\n",
       "      <th></th>\n",
       "      <th>box_office</th>\n",
       "      <th>ratings</th>\n",
       "      <th>box_office</th>\n",
       "      <th>ratings</th>\n",
       "    </tr>\n",
       "    <tr>\n",
       "      <th>production_country</th>\n",
       "      <th></th>\n",
       "      <th></th>\n",
       "      <th></th>\n",
       "      <th></th>\n",
       "    </tr>\n",
       "  </thead>\n",
       "  <tbody>\n",
       "    <tr>\n",
       "      <th>Россия</th>\n",
       "      <td>17.00</td>\n",
       "      <td>6.20</td>\n",
       "      <td>134.33</td>\n",
       "      <td>6.00</td>\n",
       "    </tr>\n",
       "  </tbody>\n",
       "</table>\n",
       "</div>"
      ],
      "text/plain": [
       "                       median               mean        \n",
       "                   box_office ratings box_office ratings\n",
       "production_country                                      \n",
       "Россия                  17.00    6.20     134.33    6.00"
      ]
     },
     "execution_count": 79,
     "metadata": {},
     "output_type": "execute_result"
    }
   ],
   "source": [
    "with_support_pivot = with_support.pivot_table(index = 'production_country',\n",
    "                                              values = ['ratings','box_office'],\n",
    "                                                    aggfunc = ['median', 'mean'])\n",
    "with_support_pivot"
   ]
  },
  {
   "cell_type": "code",
   "execution_count": 80,
   "id": "6c86913f",
   "metadata": {},
   "outputs": [
    {
     "data": {
      "text/html": [
       "<div>\n",
       "<style scoped>\n",
       "    .dataframe tbody tr th:only-of-type {\n",
       "        vertical-align: middle;\n",
       "    }\n",
       "\n",
       "    .dataframe tbody tr th {\n",
       "        vertical-align: top;\n",
       "    }\n",
       "\n",
       "    .dataframe thead tr th {\n",
       "        text-align: left;\n",
       "    }\n",
       "\n",
       "    .dataframe thead tr:last-of-type th {\n",
       "        text-align: right;\n",
       "    }\n",
       "</style>\n",
       "<table border=\"1\" class=\"dataframe\">\n",
       "  <thead>\n",
       "    <tr>\n",
       "      <th></th>\n",
       "      <th colspan=\"2\" halign=\"left\">median</th>\n",
       "      <th colspan=\"2\" halign=\"left\">mean</th>\n",
       "    </tr>\n",
       "    <tr>\n",
       "      <th></th>\n",
       "      <th>box_office</th>\n",
       "      <th>ratings</th>\n",
       "      <th>box_office</th>\n",
       "      <th>ratings</th>\n",
       "    </tr>\n",
       "    <tr>\n",
       "      <th>production_country</th>\n",
       "      <th></th>\n",
       "      <th></th>\n",
       "      <th></th>\n",
       "      <th></th>\n",
       "    </tr>\n",
       "  </thead>\n",
       "  <tbody>\n",
       "    <tr>\n",
       "      <th>Россия</th>\n",
       "      <td>1.00</td>\n",
       "      <td>6.30</td>\n",
       "      <td>70.17</td>\n",
       "      <td>6.12</td>\n",
       "    </tr>\n",
       "  </tbody>\n",
       "</table>\n",
       "</div>"
      ],
      "text/plain": [
       "                       median               mean        \n",
       "                   box_office ratings box_office ratings\n",
       "production_country                                      \n",
       "Россия                   1.00    6.30      70.17    6.12"
      ]
     },
     "execution_count": 80,
     "metadata": {},
     "output_type": "execute_result"
    }
   ],
   "source": [
    "without_support_pivot = without_support.pivot_table(index = 'production_country',\n",
    "                                              values = ['ratings','box_office'],\n",
    "                                                    aggfunc = ['median', 'mean'])\n",
    "without_support_pivot"
   ]
  },
  {
   "cell_type": "markdown",
   "id": "4757fabf",
   "metadata": {},
   "source": [
    "> - **Box Office Performance:** Films with government support tend to have much higher box office earnings, especially when considering the mean value, which is much larger than that for films without support.\n",
    "> - **Ratings:** The ratings of films with and without government support are fairly close, with a slight advantage for films without support at the median. However, the difference in ratings is relatively small, suggesting that government support does not have a major impact on how audiences rate the films.\n",
    "> - Additionally, it is possible that films with government support benefit from easier marketing and promotion. Government-backed films may receive more attention, better distribution channels, and greater visibility, which could contribute to their higher box office performance. This marketing advantage might explain the higher revenue, even though the ratings between supported and non-supported films are quite similar."
   ]
  },
  {
   "cell_type": "markdown",
   "id": "d5c8706e",
   "metadata": {},
   "source": [
    "### Interim Findings"
   ]
  },
  {
   "cell_type": "markdown",
   "id": "47cf0bf4",
   "metadata": {},
   "source": [
    "1. **Creation of `state_support` Column:** We combined the amounts of both non-refundable and refundable government support into a single column.\n",
    "\n",
    "2. **Analysis of Government Budget Distribution by Year:**\n",
    "- Only films released between 2013 and 2019 received government support. The highest number of funded films (77) were released in 2015.\n",
    "- The largest total government funding was allocated to films released in 2019. This suggests that while more films were funded in 2015, the funding per film was lower.\n",
    "- The highest number of government-supported films came out in 2015, but the highest funding per film was recorded in 2013 when only two films were subsidized.\n",
    "\n",
    "3. **Genre-Based Government Funding Trends:**\n",
    "- The most frequently funded genres are **drama** and **comedy**.\n",
    "- However, **historical films** receive the largest total funding, while **children’s films** receive the least.\n",
    "\n",
    "4. **Profitability Analysis of Government-Funded Films:**\n",
    "- The top 3 most profitable genres are **sports, reality TV, and sci-fi**.\n",
    "- The least profitable genre is **children’s films**.\n",
    "\n",
    "5. **Funding Distribution by Age Category:**\n",
    "- Films rated **16+** receive government support most often.\n",
    "- Films rated **0+** receive the least government funding.\n",
    "\n",
    "6. **Correlation Between Movie Ratings and Government Funding:**\n",
    "- The most common rating for supported films is **6.2**.\n",
    "- The film that received the highest government funding has a rating of **3.0**.\n",
    "- There is **a weak positive correlation (0.12)** between movie ratings and government funding, meaning that while some relationship exists, the amount of funding a film receives does not strongly depend on its rating.\n",
    "\n",
    "7. **Analysis of Funding Sources:**\n",
    "- The **largest total funding** comes from **the Cinema Fund**.\n",
    "- However, **the Ministry of Culture** is the most frequent financier, supporting **50.7%** of all funded films.\n",
    "\n",
    "8. **Comparison of Films With and Without Government Support:**\n",
    "- Films with government support have **higher box office earnings**, both in terms of mean and median values.\n",
    "- However, **films without government support have a slightly higher average rating**."
   ]
  },
  {
   "cell_type": "markdown",
   "id": "4b346768",
   "metadata": {},
   "source": [
    "## Overall Conclusion"
   ]
  },
  {
   "cell_type": "markdown",
   "id": "e24680c6",
   "metadata": {},
   "source": [
    "The study examined the characteristics of Russian films, focusing on data preprocessing, exploratory data analysis (EDA), and the impact of government funding on box office performance and ratings.\n",
    "\n",
    "**Key Findings:**\n",
    "1. **Data Preprocessing and Cleaning:**\n",
    "- The dataset was consolidated into a single DataFrame, and various data types were adjusted for accuracy.\n",
    "- Missing values were analyzed, particularly in funding-related columns, revealing that many films were either privately financed or produced outside Russia.\n",
    "- Duplicate and anomalous values were identified and handled, ensuring data consistency.\n",
    "\n",
    "2. **General Film Industry Trends:**\n",
    "- The number of films released steadily increased from 2010 to 2016, with a temporary decline in 2017 before surpassing previous levels by 2019.\n",
    "- Box office revenue has been growing since 2013, with the highest earnings recorded in 2019.\n",
    "- Age restrictions influence box office success, with 16+ films generating the most revenue and 0+ films the least.\n",
    "\n",
    "3. **Government Support and Its Impact:**\n",
    "- **Funding trends:** Government support was only provided between 2013 and 2019, with the highest number of supported films released in 2015. However, the largest total funding was allocated to films released in 2019.\n",
    "- **Genre preferences:** The most commonly supported genres were drama and comedy, but historical films received the highest funding, while children’s films received the least.\n",
    "- **Profitability:** The most profitable government-funded genres were sports, reality TV, and sci-fi, whereas children’s films were the least profitable.\n",
    "- **Age categories:** Films rated 16+ received the most government support, while 0+ films were supported the least.\n",
    "- **Funding sources:** The Cinema Fund provided the largest total funding, but the Ministry of Culture financed the highest number of films (50.7%).\n",
    "\n",
    "4. **Box Office and Ratings Comparison (With vs. Without Government Support):**\n",
    "- Films with government support had significantly higher box office earnings (both mean and median).\n",
    "- However, films without government support had slightly higher average ratings, suggesting that government funding primarily aids in box office performance rather than improving audience reception.\n",
    "- A weak positive correlation (0.12) between government funding and ratings suggests that funding has little impact on film ratings.\n",
    "\n",
    "5. **Possible Explanation for the Box Office Boost in Supported Films:**\n",
    "- One potential reason why government-backed films achieve higher box office earnings could be their greater access to marketing and promotion, making them more visible to audiences.\n",
    "\n",
    "**Final Thought:**\n",
    "Government funding plays a crucial role in the Russian film industry, primarily influencing the financial success of films rather than their perceived quality. While it helps certain genres thrive and boosts overall box office revenue, it does not necessarily correlate with higher audience ratings."
   ]
  }
 ],
 "metadata": {
  "ExecuteTimeLog": [
   {
    "duration": 1007,
    "start_time": "2025-02-13T14:39:46.296Z"
   },
   {
    "duration": 5,
    "start_time": "2025-02-13T14:40:19.215Z"
   },
   {
    "duration": 4,
    "start_time": "2025-02-13T14:40:35.700Z"
   },
   {
    "duration": 2,
    "start_time": "2025-02-13T14:41:20.760Z"
   },
   {
    "duration": 124,
    "start_time": "2025-02-13T14:41:30.402Z"
   },
   {
    "duration": 21,
    "start_time": "2025-02-13T14:41:33.257Z"
   },
   {
    "duration": 25,
    "start_time": "2025-02-13T14:45:43.304Z"
   },
   {
    "duration": 126,
    "start_time": "2025-02-13T14:45:53.892Z"
   },
   {
    "duration": 19,
    "start_time": "2025-02-13T14:49:32.414Z"
   },
   {
    "duration": 38,
    "start_time": "2025-02-13T14:50:07.106Z"
   },
   {
    "duration": 39,
    "start_time": "2025-02-13T14:51:09.280Z"
   },
   {
    "duration": 44,
    "start_time": "2025-02-13T14:51:12.118Z"
   },
   {
    "duration": 36,
    "start_time": "2025-02-13T14:51:39.631Z"
   },
   {
    "duration": 8,
    "start_time": "2025-02-13T14:51:40.152Z"
   },
   {
    "duration": 10,
    "start_time": "2025-02-13T14:51:54.628Z"
   },
   {
    "duration": 11,
    "start_time": "2025-02-13T14:55:59.295Z"
   },
   {
    "duration": 13,
    "start_time": "2025-02-13T14:58:10.192Z"
   },
   {
    "duration": 5,
    "start_time": "2025-02-13T14:58:24.583Z"
   },
   {
    "duration": 11,
    "start_time": "2025-02-13T14:58:34.639Z"
   },
   {
    "duration": 5,
    "start_time": "2025-02-13T14:58:44.770Z"
   },
   {
    "duration": 4,
    "start_time": "2025-02-13T15:04:51.238Z"
   },
   {
    "duration": 84,
    "start_time": "2025-02-13T15:05:45.490Z"
   },
   {
    "duration": 16,
    "start_time": "2025-02-13T15:06:13.175Z"
   },
   {
    "duration": 8,
    "start_time": "2025-02-13T15:06:25.494Z"
   },
   {
    "duration": 13,
    "start_time": "2025-02-13T15:06:27.260Z"
   },
   {
    "duration": 8,
    "start_time": "2025-02-13T15:06:27.528Z"
   },
   {
    "duration": 14,
    "start_time": "2025-02-13T15:06:53.261Z"
   },
   {
    "duration": 16,
    "start_time": "2025-02-13T15:06:54.075Z"
   },
   {
    "duration": 892,
    "start_time": "2025-02-14T10:14:13.494Z"
   },
   {
    "duration": 3,
    "start_time": "2025-02-14T10:14:15.843Z"
   },
   {
    "duration": 103,
    "start_time": "2025-02-14T10:14:16.236Z"
   },
   {
    "duration": 22,
    "start_time": "2025-02-14T10:14:17.661Z"
   },
   {
    "duration": 18,
    "start_time": "2025-02-14T10:14:18.544Z"
   },
   {
    "duration": 39,
    "start_time": "2025-02-14T10:14:19.326Z"
   },
   {
    "duration": 11,
    "start_time": "2025-02-14T10:14:20.133Z"
   },
   {
    "duration": 12,
    "start_time": "2025-02-14T10:14:30.016Z"
   },
   {
    "duration": 9,
    "start_time": "2025-02-14T10:14:34.365Z"
   },
   {
    "duration": 6,
    "start_time": "2025-02-14T10:14:34.905Z"
   },
   {
    "duration": 11,
    "start_time": "2025-02-14T10:14:35.349Z"
   },
   {
    "duration": 5,
    "start_time": "2025-02-14T10:14:36.430Z"
   },
   {
    "duration": 15,
    "start_time": "2025-02-14T10:14:40.149Z"
   },
   {
    "duration": 16,
    "start_time": "2025-02-14T10:14:40.436Z"
   },
   {
    "duration": 16,
    "start_time": "2025-02-14T10:22:10.822Z"
   },
   {
    "duration": 14,
    "start_time": "2025-02-14T10:22:26.634Z"
   },
   {
    "duration": 6,
    "start_time": "2025-02-14T10:22:38.517Z"
   },
   {
    "duration": 3,
    "start_time": "2025-02-14T10:22:44.140Z"
   },
   {
    "duration": 3,
    "start_time": "2025-02-14T10:22:50.022Z"
   },
   {
    "duration": 15,
    "start_time": "2025-02-14T10:30:30.031Z"
   },
   {
    "duration": 81,
    "start_time": "2025-02-14T10:30:46.322Z"
   },
   {
    "duration": 19,
    "start_time": "2025-02-14T11:27:54.761Z"
   },
   {
    "duration": 21,
    "start_time": "2025-02-14T11:28:26.405Z"
   },
   {
    "duration": 9,
    "start_time": "2025-02-14T11:28:32.661Z"
   },
   {
    "duration": 8,
    "start_time": "2025-02-14T11:28:34.863Z"
   },
   {
    "duration": 30,
    "start_time": "2025-02-14T11:28:43.822Z"
   },
   {
    "duration": 9,
    "start_time": "2025-02-14T11:29:20.679Z"
   },
   {
    "duration": 8,
    "start_time": "2025-02-14T11:29:39.170Z"
   },
   {
    "duration": 25,
    "start_time": "2025-02-14T11:29:39.408Z"
   },
   {
    "duration": 6,
    "start_time": "2025-02-14T11:37:29.543Z"
   },
   {
    "duration": 10,
    "start_time": "2025-02-14T11:37:36.293Z"
   },
   {
    "duration": 24,
    "start_time": "2025-02-14T11:37:59.177Z"
   },
   {
    "duration": 6,
    "start_time": "2025-02-14T11:38:11.788Z"
   },
   {
    "duration": 19,
    "start_time": "2025-02-14T11:38:21.167Z"
   },
   {
    "duration": 17,
    "start_time": "2025-02-14T11:52:48.791Z"
   },
   {
    "duration": 15,
    "start_time": "2025-02-14T11:53:07.005Z"
   },
   {
    "duration": 10,
    "start_time": "2025-02-14T11:53:15.708Z"
   },
   {
    "duration": 8,
    "start_time": "2025-02-14T11:53:25.034Z"
   },
   {
    "duration": 9,
    "start_time": "2025-02-14T11:53:46.056Z"
   },
   {
    "duration": 6,
    "start_time": "2025-02-14T11:55:05.819Z"
   },
   {
    "duration": 7,
    "start_time": "2025-02-14T11:55:39.603Z"
   },
   {
    "duration": 5,
    "start_time": "2025-02-14T11:55:46.459Z"
   },
   {
    "duration": 6,
    "start_time": "2025-02-14T11:55:51.276Z"
   },
   {
    "duration": 6,
    "start_time": "2025-02-14T11:56:05.014Z"
   },
   {
    "duration": 6,
    "start_time": "2025-02-14T11:56:12.186Z"
   },
   {
    "duration": 739,
    "start_time": "2025-02-14T11:57:17.576Z"
   },
   {
    "duration": 3,
    "start_time": "2025-02-14T11:57:18.318Z"
   },
   {
    "duration": 106,
    "start_time": "2025-02-14T11:57:18.322Z"
   },
   {
    "duration": 21,
    "start_time": "2025-02-14T11:57:18.430Z"
   },
   {
    "duration": 31,
    "start_time": "2025-02-14T11:57:18.453Z"
   },
   {
    "duration": 39,
    "start_time": "2025-02-14T11:57:18.486Z"
   },
   {
    "duration": 8,
    "start_time": "2025-02-14T11:57:18.527Z"
   },
   {
    "duration": 21,
    "start_time": "2025-02-14T11:57:18.537Z"
   },
   {
    "duration": 13,
    "start_time": "2025-02-14T11:57:18.560Z"
   },
   {
    "duration": 8,
    "start_time": "2025-02-14T11:57:18.576Z"
   },
   {
    "duration": 10,
    "start_time": "2025-02-14T11:57:18.586Z"
   },
   {
    "duration": 5,
    "start_time": "2025-02-14T11:57:18.597Z"
   },
   {
    "duration": 18,
    "start_time": "2025-02-14T11:57:18.604Z"
   },
   {
    "duration": 18,
    "start_time": "2025-02-14T11:57:18.624Z"
   },
   {
    "duration": 20,
    "start_time": "2025-02-14T11:57:18.671Z"
   },
   {
    "duration": 15,
    "start_time": "2025-02-14T11:57:18.693Z"
   },
   {
    "duration": 31,
    "start_time": "2025-02-14T11:57:18.710Z"
   },
   {
    "duration": 9,
    "start_time": "2025-02-14T11:57:18.743Z"
   },
   {
    "duration": 16,
    "start_time": "2025-02-14T11:57:18.754Z"
   },
   {
    "duration": 12,
    "start_time": "2025-02-14T11:57:18.772Z"
   },
   {
    "duration": 62,
    "start_time": "2025-02-14T11:57:18.785Z"
   },
   {
    "duration": 39,
    "start_time": "2025-02-14T11:57:18.848Z"
   },
   {
    "duration": 13,
    "start_time": "2025-02-14T11:57:18.889Z"
   },
   {
    "duration": 45,
    "start_time": "2025-02-14T11:57:18.903Z"
   },
   {
    "duration": 7,
    "start_time": "2025-02-14T11:57:18.949Z"
   },
   {
    "duration": 26,
    "start_time": "2025-02-14T11:57:18.957Z"
   },
   {
    "duration": 47,
    "start_time": "2025-02-14T11:57:18.985Z"
   },
   {
    "duration": 8,
    "start_time": "2025-02-14T11:57:19.037Z"
   },
   {
    "duration": 30,
    "start_time": "2025-02-14T11:57:19.047Z"
   },
   {
    "duration": 16,
    "start_time": "2025-02-14T11:57:19.079Z"
   },
   {
    "duration": 25,
    "start_time": "2025-02-14T11:57:19.096Z"
   },
   {
    "duration": 8,
    "start_time": "2025-02-14T11:57:19.123Z"
   },
   {
    "duration": 28,
    "start_time": "2025-02-14T11:57:19.132Z"
   },
   {
    "duration": 14,
    "start_time": "2025-02-14T11:57:19.162Z"
   },
   {
    "duration": 6,
    "start_time": "2025-02-14T11:57:19.177Z"
   },
   {
    "duration": 9,
    "start_time": "2025-02-14T11:57:19.184Z"
   },
   {
    "duration": 18,
    "start_time": "2025-02-14T11:57:19.195Z"
   },
   {
    "duration": 21,
    "start_time": "2025-02-14T11:57:19.215Z"
   },
   {
    "duration": 12,
    "start_time": "2025-02-14T12:01:41.418Z"
   },
   {
    "duration": 12,
    "start_time": "2025-02-14T12:01:45.826Z"
   },
   {
    "duration": 9,
    "start_time": "2025-02-14T12:02:49.413Z"
   },
   {
    "duration": 8,
    "start_time": "2025-02-14T12:02:51.616Z"
   },
   {
    "duration": 7,
    "start_time": "2025-02-14T12:04:54.397Z"
   },
   {
    "duration": 5,
    "start_time": "2025-02-14T12:12:35.125Z"
   },
   {
    "duration": 4,
    "start_time": "2025-02-14T12:12:37.258Z"
   },
   {
    "duration": 4,
    "start_time": "2025-02-14T12:13:21.753Z"
   },
   {
    "duration": 14,
    "start_time": "2025-02-14T12:14:21.706Z"
   },
   {
    "duration": 3,
    "start_time": "2025-02-14T12:14:29.190Z"
   },
   {
    "duration": 11,
    "start_time": "2025-02-14T12:14:40.643Z"
   },
   {
    "duration": 5,
    "start_time": "2025-02-14T12:15:20.542Z"
   },
   {
    "duration": 4,
    "start_time": "2025-02-14T12:15:22.369Z"
   },
   {
    "duration": 19,
    "start_time": "2025-02-14T12:15:47.502Z"
   },
   {
    "duration": 18,
    "start_time": "2025-02-14T12:15:55.727Z"
   },
   {
    "duration": 53,
    "start_time": "2025-02-14T12:57:29.142Z"
   },
   {
    "duration": 669,
    "start_time": "2025-02-14T12:57:43.827Z"
   },
   {
    "duration": 3,
    "start_time": "2025-02-14T12:57:44.498Z"
   },
   {
    "duration": 106,
    "start_time": "2025-02-14T12:57:44.503Z"
   },
   {
    "duration": 21,
    "start_time": "2025-02-14T12:57:44.612Z"
   },
   {
    "duration": 38,
    "start_time": "2025-02-14T12:57:44.634Z"
   },
   {
    "duration": 39,
    "start_time": "2025-02-14T12:57:44.674Z"
   },
   {
    "duration": 7,
    "start_time": "2025-02-14T12:57:44.716Z"
   },
   {
    "duration": 10,
    "start_time": "2025-02-14T12:57:44.725Z"
   },
   {
    "duration": 9,
    "start_time": "2025-02-14T12:57:44.737Z"
   },
   {
    "duration": 7,
    "start_time": "2025-02-14T12:57:44.749Z"
   },
   {
    "duration": 9,
    "start_time": "2025-02-14T12:57:44.757Z"
   },
   {
    "duration": 4,
    "start_time": "2025-02-14T12:57:44.768Z"
   },
   {
    "duration": 14,
    "start_time": "2025-02-14T12:57:44.773Z"
   },
   {
    "duration": 16,
    "start_time": "2025-02-14T12:57:44.788Z"
   },
   {
    "duration": 17,
    "start_time": "2025-02-14T12:57:44.806Z"
   },
   {
    "duration": 15,
    "start_time": "2025-02-14T12:57:44.825Z"
   },
   {
    "duration": 6,
    "start_time": "2025-02-14T12:57:44.842Z"
   },
   {
    "duration": 4,
    "start_time": "2025-02-14T12:57:44.851Z"
   },
   {
    "duration": 16,
    "start_time": "2025-02-14T12:57:44.856Z"
   },
   {
    "duration": 12,
    "start_time": "2025-02-14T12:57:44.874Z"
   },
   {
    "duration": 80,
    "start_time": "2025-02-14T12:57:44.887Z"
   },
   {
    "duration": 24,
    "start_time": "2025-02-14T12:57:44.968Z"
   },
   {
    "duration": 9,
    "start_time": "2025-02-14T12:57:44.994Z"
   },
   {
    "duration": 101,
    "start_time": "2025-02-14T12:57:45.004Z"
   },
   {
    "duration": 27,
    "start_time": "2025-02-14T12:57:45.107Z"
   },
   {
    "duration": 57,
    "start_time": "2025-02-14T12:57:45.136Z"
   },
   {
    "duration": 48,
    "start_time": "2025-02-14T12:57:45.195Z"
   },
   {
    "duration": 32,
    "start_time": "2025-02-14T12:57:45.247Z"
   },
   {
    "duration": 38,
    "start_time": "2025-02-14T12:57:45.280Z"
   },
   {
    "duration": 53,
    "start_time": "2025-02-14T12:57:45.319Z"
   },
   {
    "duration": 11,
    "start_time": "2025-02-14T12:57:45.374Z"
   },
   {
    "duration": 37,
    "start_time": "2025-02-14T12:57:45.387Z"
   },
   {
    "duration": 24,
    "start_time": "2025-02-14T12:57:45.426Z"
   },
   {
    "duration": 22,
    "start_time": "2025-02-14T12:57:45.452Z"
   },
   {
    "duration": 12,
    "start_time": "2025-02-14T12:57:45.475Z"
   },
   {
    "duration": 6,
    "start_time": "2025-02-14T12:57:45.489Z"
   },
   {
    "duration": 12,
    "start_time": "2025-02-14T12:57:45.497Z"
   },
   {
    "duration": 8,
    "start_time": "2025-02-14T12:57:45.512Z"
   },
   {
    "duration": 17,
    "start_time": "2025-02-14T12:57:45.522Z"
   },
   {
    "duration": 8,
    "start_time": "2025-02-14T12:57:45.541Z"
   },
   {
    "duration": 9,
    "start_time": "2025-02-14T12:57:45.573Z"
   },
   {
    "duration": 36,
    "start_time": "2025-02-14T12:57:45.584Z"
   },
   {
    "duration": 21,
    "start_time": "2025-02-14T12:57:45.622Z"
   },
   {
    "duration": 16,
    "start_time": "2025-02-14T12:57:45.644Z"
   },
   {
    "duration": 10,
    "start_time": "2025-02-14T12:57:45.662Z"
   },
   {
    "duration": 6,
    "start_time": "2025-02-14T12:57:45.674Z"
   },
   {
    "duration": 28,
    "start_time": "2025-02-14T12:57:45.681Z"
   },
   {
    "duration": 42,
    "start_time": "2025-02-14T12:57:45.711Z"
   },
   {
    "duration": 37,
    "start_time": "2025-02-14T12:57:45.754Z"
   },
   {
    "duration": 198,
    "start_time": "2025-02-14T12:58:54.086Z"
   },
   {
    "duration": 6,
    "start_time": "2025-02-14T13:00:13.781Z"
   },
   {
    "duration": 6,
    "start_time": "2025-02-14T13:00:15.830Z"
   },
   {
    "duration": 159,
    "start_time": "2025-02-14T13:00:46.339Z"
   },
   {
    "duration": 156,
    "start_time": "2025-02-14T13:00:48.221Z"
   },
   {
    "duration": 244,
    "start_time": "2025-02-14T13:01:17.535Z"
   },
   {
    "duration": 16,
    "start_time": "2025-02-14T13:01:41.197Z"
   },
   {
    "duration": 13,
    "start_time": "2025-02-14T13:01:42.933Z"
   },
   {
    "duration": 292,
    "start_time": "2025-02-14T13:02:51.826Z"
   },
   {
    "duration": 29,
    "start_time": "2025-02-14T13:03:03.297Z"
   },
   {
    "duration": 289,
    "start_time": "2025-02-14T13:03:07.136Z"
   },
   {
    "duration": 193,
    "start_time": "2025-02-14T13:05:36.392Z"
   },
   {
    "duration": 79,
    "start_time": "2025-02-14T13:05:46.468Z"
   },
   {
    "duration": 193,
    "start_time": "2025-02-14T13:06:03.537Z"
   },
   {
    "duration": 15,
    "start_time": "2025-02-14T13:06:10.889Z"
   },
   {
    "duration": 47,
    "start_time": "2025-02-14T15:42:50.418Z"
   },
   {
    "duration": 773,
    "start_time": "2025-02-14T15:42:55.025Z"
   },
   {
    "duration": 3,
    "start_time": "2025-02-14T15:42:55.800Z"
   },
   {
    "duration": 100,
    "start_time": "2025-02-14T15:42:55.804Z"
   },
   {
    "duration": 17,
    "start_time": "2025-02-14T15:42:55.906Z"
   },
   {
    "duration": 15,
    "start_time": "2025-02-14T15:42:55.925Z"
   },
   {
    "duration": 39,
    "start_time": "2025-02-14T15:42:55.941Z"
   },
   {
    "duration": 6,
    "start_time": "2025-02-14T15:42:55.982Z"
   },
   {
    "duration": 10,
    "start_time": "2025-02-14T15:42:55.990Z"
   },
   {
    "duration": 11,
    "start_time": "2025-02-14T15:42:56.002Z"
   },
   {
    "duration": 4,
    "start_time": "2025-02-14T15:42:56.016Z"
   },
   {
    "duration": 11,
    "start_time": "2025-02-14T15:42:56.021Z"
   },
   {
    "duration": 6,
    "start_time": "2025-02-14T15:42:56.033Z"
   },
   {
    "duration": 12,
    "start_time": "2025-02-14T15:42:56.041Z"
   },
   {
    "duration": 15,
    "start_time": "2025-02-14T15:42:56.060Z"
   },
   {
    "duration": 16,
    "start_time": "2025-02-14T15:42:56.076Z"
   },
   {
    "duration": 13,
    "start_time": "2025-02-14T15:42:56.094Z"
   },
   {
    "duration": 6,
    "start_time": "2025-02-14T15:42:56.109Z"
   },
   {
    "duration": 17,
    "start_time": "2025-02-14T15:42:56.117Z"
   },
   {
    "duration": 4,
    "start_time": "2025-02-14T15:42:56.135Z"
   },
   {
    "duration": 28,
    "start_time": "2025-02-14T15:42:56.141Z"
   },
   {
    "duration": 55,
    "start_time": "2025-02-14T15:42:56.170Z"
   },
   {
    "duration": 40,
    "start_time": "2025-02-14T15:42:56.226Z"
   },
   {
    "duration": 8,
    "start_time": "2025-02-14T15:42:56.267Z"
   },
   {
    "duration": 33,
    "start_time": "2025-02-14T15:42:56.277Z"
   },
   {
    "duration": 6,
    "start_time": "2025-02-14T15:42:56.311Z"
   },
   {
    "duration": 16,
    "start_time": "2025-02-14T15:42:56.318Z"
   },
   {
    "duration": 37,
    "start_time": "2025-02-14T15:42:56.335Z"
   },
   {
    "duration": 5,
    "start_time": "2025-02-14T15:42:56.376Z"
   },
   {
    "duration": 17,
    "start_time": "2025-02-14T15:42:56.382Z"
   },
   {
    "duration": 14,
    "start_time": "2025-02-14T15:42:56.401Z"
   },
   {
    "duration": 12,
    "start_time": "2025-02-14T15:42:56.416Z"
   },
   {
    "duration": 34,
    "start_time": "2025-02-14T15:42:56.429Z"
   },
   {
    "duration": 10,
    "start_time": "2025-02-14T15:42:56.464Z"
   },
   {
    "duration": 11,
    "start_time": "2025-02-14T15:42:56.476Z"
   },
   {
    "duration": 8,
    "start_time": "2025-02-14T15:42:56.489Z"
   },
   {
    "duration": 32,
    "start_time": "2025-02-14T15:42:56.498Z"
   },
   {
    "duration": 7,
    "start_time": "2025-02-14T15:42:56.531Z"
   },
   {
    "duration": 7,
    "start_time": "2025-02-14T15:42:56.539Z"
   },
   {
    "duration": 16,
    "start_time": "2025-02-14T15:42:56.547Z"
   },
   {
    "duration": 8,
    "start_time": "2025-02-14T15:42:56.565Z"
   },
   {
    "duration": 13,
    "start_time": "2025-02-14T15:42:56.575Z"
   },
   {
    "duration": 7,
    "start_time": "2025-02-14T15:42:56.589Z"
   },
   {
    "duration": 18,
    "start_time": "2025-02-14T15:42:56.597Z"
   },
   {
    "duration": 12,
    "start_time": "2025-02-14T15:42:56.616Z"
   },
   {
    "duration": 16,
    "start_time": "2025-02-14T15:42:56.630Z"
   },
   {
    "duration": 4,
    "start_time": "2025-02-14T15:42:56.647Z"
   },
   {
    "duration": 17,
    "start_time": "2025-02-14T15:42:56.661Z"
   },
   {
    "duration": 22,
    "start_time": "2025-02-14T15:42:56.681Z"
   },
   {
    "duration": 28,
    "start_time": "2025-02-14T15:42:56.705Z"
   },
   {
    "duration": 180,
    "start_time": "2025-02-14T15:42:56.735Z"
   },
   {
    "duration": 6,
    "start_time": "2025-02-14T15:42:56.917Z"
   },
   {
    "duration": 174,
    "start_time": "2025-02-14T15:42:56.925Z"
   },
   {
    "duration": 146,
    "start_time": "2025-02-14T15:42:57.101Z"
   },
   {
    "duration": 19,
    "start_time": "2025-02-14T15:42:57.249Z"
   },
   {
    "duration": 17,
    "start_time": "2025-02-14T15:42:57.270Z"
   },
   {
    "duration": 302,
    "start_time": "2025-02-14T15:42:57.289Z"
   },
   {
    "duration": 12,
    "start_time": "2025-02-14T15:42:57.593Z"
   },
   {
    "duration": 174,
    "start_time": "2025-02-14T15:42:57.607Z"
   },
   {
    "duration": 151,
    "start_time": "2025-02-14T15:42:57.783Z"
   },
   {
    "duration": 800,
    "start_time": "2025-02-21T14:32:46.908Z"
   },
   {
    "duration": 3,
    "start_time": "2025-02-21T14:32:47.710Z"
   },
   {
    "duration": 117,
    "start_time": "2025-02-21T14:32:47.714Z"
   },
   {
    "duration": 61,
    "start_time": "2025-02-21T14:32:47.833Z"
   },
   {
    "duration": 110,
    "start_time": "2025-02-21T14:32:47.895Z"
   },
   {
    "duration": 56,
    "start_time": "2025-02-21T14:32:48.007Z"
   },
   {
    "duration": 7,
    "start_time": "2025-02-21T14:32:48.065Z"
   },
   {
    "duration": 12,
    "start_time": "2025-02-21T14:32:48.073Z"
   },
   {
    "duration": 9,
    "start_time": "2025-02-21T14:32:48.087Z"
   },
   {
    "duration": 5,
    "start_time": "2025-02-21T14:32:48.098Z"
   },
   {
    "duration": 26,
    "start_time": "2025-02-21T14:32:48.104Z"
   },
   {
    "duration": 7,
    "start_time": "2025-02-21T14:32:48.132Z"
   },
   {
    "duration": 42,
    "start_time": "2025-02-21T14:32:48.140Z"
   },
   {
    "duration": 112,
    "start_time": "2025-02-21T14:32:48.184Z"
   },
   {
    "duration": 26,
    "start_time": "2025-02-21T14:32:48.298Z"
   },
   {
    "duration": 12,
    "start_time": "2025-02-21T14:32:48.325Z"
   },
   {
    "duration": 8,
    "start_time": "2025-02-21T14:32:48.338Z"
   },
   {
    "duration": 12,
    "start_time": "2025-02-21T14:32:48.349Z"
   },
   {
    "duration": 33,
    "start_time": "2025-02-21T14:32:48.362Z"
   },
   {
    "duration": 27,
    "start_time": "2025-02-21T14:32:48.397Z"
   },
   {
    "duration": 63,
    "start_time": "2025-02-21T14:32:48.425Z"
   },
   {
    "duration": 18,
    "start_time": "2025-02-21T14:32:48.489Z"
   },
   {
    "duration": 7,
    "start_time": "2025-02-21T14:32:48.508Z"
   },
   {
    "duration": 129,
    "start_time": "2025-02-21T14:32:48.517Z"
   },
   {
    "duration": 12,
    "start_time": "2025-02-21T14:32:48.648Z"
   },
   {
    "duration": 12,
    "start_time": "2025-02-21T14:32:48.662Z"
   },
   {
    "duration": 27,
    "start_time": "2025-02-21T14:32:48.675Z"
   },
   {
    "duration": 4,
    "start_time": "2025-02-21T14:32:48.706Z"
   },
   {
    "duration": 29,
    "start_time": "2025-02-21T14:32:48.711Z"
   },
   {
    "duration": 40,
    "start_time": "2025-02-21T14:32:48.741Z"
   },
   {
    "duration": 7,
    "start_time": "2025-02-21T14:32:48.783Z"
   },
   {
    "duration": 14,
    "start_time": "2025-02-21T14:32:48.791Z"
   },
   {
    "duration": 29,
    "start_time": "2025-02-21T14:32:48.806Z"
   },
   {
    "duration": 10,
    "start_time": "2025-02-21T14:32:48.837Z"
   },
   {
    "duration": 15,
    "start_time": "2025-02-21T14:32:48.852Z"
   },
   {
    "duration": 37,
    "start_time": "2025-02-21T14:32:48.868Z"
   },
   {
    "duration": 21,
    "start_time": "2025-02-21T14:32:48.906Z"
   },
   {
    "duration": 10,
    "start_time": "2025-02-21T14:32:48.929Z"
   },
   {
    "duration": 44,
    "start_time": "2025-02-21T14:32:48.940Z"
   },
   {
    "duration": 92,
    "start_time": "2025-02-21T14:32:48.985Z"
   },
   {
    "duration": 9,
    "start_time": "2025-02-21T14:32:49.079Z"
   },
   {
    "duration": 4,
    "start_time": "2025-02-21T14:32:49.090Z"
   },
   {
    "duration": 11,
    "start_time": "2025-02-21T14:32:49.095Z"
   },
   {
    "duration": 8,
    "start_time": "2025-02-21T14:32:49.108Z"
   },
   {
    "duration": 13,
    "start_time": "2025-02-21T14:32:49.118Z"
   },
   {
    "duration": 30,
    "start_time": "2025-02-21T14:32:49.133Z"
   },
   {
    "duration": 26,
    "start_time": "2025-02-21T14:32:49.164Z"
   },
   {
    "duration": 47,
    "start_time": "2025-02-21T14:32:49.191Z"
   },
   {
    "duration": 33,
    "start_time": "2025-02-21T14:32:49.240Z"
   },
   {
    "duration": 167,
    "start_time": "2025-02-21T14:32:49.274Z"
   },
   {
    "duration": 20,
    "start_time": "2025-02-21T14:32:49.442Z"
   },
   {
    "duration": 164,
    "start_time": "2025-02-21T14:32:49.464Z"
   },
   {
    "duration": 162,
    "start_time": "2025-02-21T14:32:49.630Z"
   },
   {
    "duration": 13,
    "start_time": "2025-02-21T14:32:49.794Z"
   },
   {
    "duration": 87,
    "start_time": "2025-02-21T14:32:49.808Z"
   },
   {
    "duration": 420,
    "start_time": "2025-02-21T14:32:49.896Z"
   },
   {
    "duration": 14,
    "start_time": "2025-02-21T14:32:50.318Z"
   },
   {
    "duration": 157,
    "start_time": "2025-02-21T14:32:50.334Z"
   },
   {
    "duration": 665,
    "start_time": "2025-02-21T14:45:46.185Z"
   },
   {
    "duration": 6,
    "start_time": "2025-02-21T14:45:46.852Z"
   },
   {
    "duration": 99,
    "start_time": "2025-02-21T14:45:46.860Z"
   },
   {
    "duration": 19,
    "start_time": "2025-02-21T14:45:46.961Z"
   },
   {
    "duration": 16,
    "start_time": "2025-02-21T14:45:46.982Z"
   },
   {
    "duration": 36,
    "start_time": "2025-02-21T14:45:47.000Z"
   },
   {
    "duration": 7,
    "start_time": "2025-02-21T14:45:47.038Z"
   },
   {
    "duration": 115,
    "start_time": "2025-02-21T14:45:47.046Z"
   },
   {
    "duration": 11,
    "start_time": "2025-02-21T14:45:47.165Z"
   },
   {
    "duration": 6,
    "start_time": "2025-02-21T14:45:47.179Z"
   },
   {
    "duration": 32,
    "start_time": "2025-02-21T14:45:47.186Z"
   },
   {
    "duration": 76,
    "start_time": "2025-02-21T14:45:47.220Z"
   },
   {
    "duration": 33,
    "start_time": "2025-02-21T14:45:47.299Z"
   },
   {
    "duration": 128,
    "start_time": "2025-02-21T14:45:47.335Z"
   },
   {
    "duration": 15,
    "start_time": "2025-02-21T14:45:47.465Z"
   },
   {
    "duration": 12,
    "start_time": "2025-02-21T14:45:47.482Z"
   },
   {
    "duration": 14,
    "start_time": "2025-02-21T14:45:47.495Z"
   },
   {
    "duration": 5,
    "start_time": "2025-02-21T14:45:47.510Z"
   },
   {
    "duration": 31,
    "start_time": "2025-02-21T14:45:47.516Z"
   },
   {
    "duration": 10,
    "start_time": "2025-02-21T14:45:47.560Z"
   },
   {
    "duration": 53,
    "start_time": "2025-02-21T14:45:47.572Z"
   },
   {
    "duration": 34,
    "start_time": "2025-02-21T14:45:47.628Z"
   },
   {
    "duration": 9,
    "start_time": "2025-02-21T14:45:47.664Z"
   },
   {
    "duration": 32,
    "start_time": "2025-02-21T14:45:47.674Z"
   },
   {
    "duration": 5,
    "start_time": "2025-02-21T14:45:47.708Z"
   },
   {
    "duration": 9,
    "start_time": "2025-02-21T14:45:47.715Z"
   },
   {
    "duration": 42,
    "start_time": "2025-02-21T14:45:47.726Z"
   },
   {
    "duration": 5,
    "start_time": "2025-02-21T14:45:47.772Z"
   },
   {
    "duration": 161,
    "start_time": "2025-02-21T14:45:47.778Z"
   },
   {
    "duration": 24,
    "start_time": "2025-02-21T14:45:47.940Z"
   },
   {
    "duration": 79,
    "start_time": "2025-02-21T14:45:47.966Z"
   },
   {
    "duration": 17,
    "start_time": "2025-02-21T14:45:48.046Z"
   },
   {
    "duration": 10,
    "start_time": "2025-02-21T14:45:48.066Z"
   },
   {
    "duration": 5,
    "start_time": "2025-02-21T14:45:48.078Z"
   },
   {
    "duration": 8,
    "start_time": "2025-02-21T14:45:48.085Z"
   },
   {
    "duration": 4,
    "start_time": "2025-02-21T14:45:48.095Z"
   },
   {
    "duration": 7,
    "start_time": "2025-02-21T14:45:48.101Z"
   },
   {
    "duration": 7,
    "start_time": "2025-02-21T14:45:48.110Z"
   },
   {
    "duration": 19,
    "start_time": "2025-02-21T14:45:48.150Z"
   },
   {
    "duration": 8,
    "start_time": "2025-02-21T14:45:48.171Z"
   },
   {
    "duration": 8,
    "start_time": "2025-02-21T14:45:48.181Z"
   },
   {
    "duration": 4,
    "start_time": "2025-02-21T14:45:48.190Z"
   },
   {
    "duration": 13,
    "start_time": "2025-02-21T14:45:48.196Z"
   },
   {
    "duration": 4,
    "start_time": "2025-02-21T14:45:48.210Z"
   },
   {
    "duration": 88,
    "start_time": "2025-02-21T14:45:48.252Z"
   },
   {
    "duration": 9,
    "start_time": "2025-02-21T14:45:48.342Z"
   },
   {
    "duration": 23,
    "start_time": "2025-02-21T14:45:48.357Z"
   },
   {
    "duration": 27,
    "start_time": "2025-02-21T14:45:48.381Z"
   },
   {
    "duration": 47,
    "start_time": "2025-02-21T14:45:48.410Z"
   },
   {
    "duration": 209,
    "start_time": "2025-02-21T14:45:48.463Z"
   },
   {
    "duration": 7,
    "start_time": "2025-02-21T14:45:48.674Z"
   },
   {
    "duration": 179,
    "start_time": "2025-02-21T14:45:48.682Z"
   },
   {
    "duration": 164,
    "start_time": "2025-02-21T14:45:48.864Z"
   },
   {
    "duration": 25,
    "start_time": "2025-02-21T14:45:49.030Z"
   },
   {
    "duration": 89,
    "start_time": "2025-02-21T14:45:49.056Z"
   },
   {
    "duration": 369,
    "start_time": "2025-02-21T14:45:49.147Z"
   },
   {
    "duration": 12,
    "start_time": "2025-02-21T14:45:49.518Z"
   },
   {
    "duration": 186,
    "start_time": "2025-02-21T14:45:49.531Z"
   },
   {
    "duration": 2,
    "start_time": "2025-02-21T14:49:09.290Z"
   },
   {
    "duration": 4,
    "start_time": "2025-02-21T14:49:24.313Z"
   },
   {
    "duration": 4,
    "start_time": "2025-02-21T14:49:51.646Z"
   },
   {
    "duration": 3,
    "start_time": "2025-02-21T14:49:54.313Z"
   },
   {
    "duration": 4,
    "start_time": "2025-02-21T14:50:13.500Z"
   },
   {
    "duration": 28,
    "start_time": "2025-02-21T14:50:37.361Z"
   },
   {
    "duration": 674,
    "start_time": "2025-02-21T14:50:52.561Z"
   },
   {
    "duration": 3,
    "start_time": "2025-02-21T14:50:53.236Z"
   },
   {
    "duration": 90,
    "start_time": "2025-02-21T14:50:53.241Z"
   },
   {
    "duration": 28,
    "start_time": "2025-02-21T14:50:53.333Z"
   },
   {
    "duration": 102,
    "start_time": "2025-02-21T14:50:53.362Z"
   },
   {
    "duration": 38,
    "start_time": "2025-02-21T14:50:53.466Z"
   },
   {
    "duration": 7,
    "start_time": "2025-02-21T14:50:53.506Z"
   },
   {
    "duration": 9,
    "start_time": "2025-02-21T14:50:53.514Z"
   },
   {
    "duration": 13,
    "start_time": "2025-02-21T14:50:53.524Z"
   },
   {
    "duration": 4,
    "start_time": "2025-02-21T14:50:53.540Z"
   },
   {
    "duration": 23,
    "start_time": "2025-02-21T14:50:53.545Z"
   },
   {
    "duration": 3,
    "start_time": "2025-02-21T14:50:53.570Z"
   },
   {
    "duration": 15,
    "start_time": "2025-02-21T14:50:53.575Z"
   },
   {
    "duration": 13,
    "start_time": "2025-02-21T14:50:53.591Z"
   },
   {
    "duration": 12,
    "start_time": "2025-02-21T14:50:53.606Z"
   },
   {
    "duration": 16,
    "start_time": "2025-02-21T14:50:53.619Z"
   },
   {
    "duration": 14,
    "start_time": "2025-02-21T14:50:53.637Z"
   },
   {
    "duration": 12,
    "start_time": "2025-02-21T14:50:53.653Z"
   },
   {
    "duration": 4,
    "start_time": "2025-02-21T14:50:53.666Z"
   },
   {
    "duration": 10,
    "start_time": "2025-02-21T14:50:53.671Z"
   },
   {
    "duration": 79,
    "start_time": "2025-02-21T14:50:53.682Z"
   },
   {
    "duration": 21,
    "start_time": "2025-02-21T14:50:53.763Z"
   },
   {
    "duration": 8,
    "start_time": "2025-02-21T14:50:53.785Z"
   },
   {
    "duration": 174,
    "start_time": "2025-02-21T14:50:53.795Z"
   },
   {
    "duration": 5,
    "start_time": "2025-02-21T14:50:53.970Z"
   },
   {
    "duration": 88,
    "start_time": "2025-02-21T14:50:53.976Z"
   },
   {
    "duration": 27,
    "start_time": "2025-02-21T14:50:54.066Z"
   },
   {
    "duration": 11,
    "start_time": "2025-02-21T14:50:54.096Z"
   },
   {
    "duration": 18,
    "start_time": "2025-02-21T14:50:54.108Z"
   },
   {
    "duration": 13,
    "start_time": "2025-02-21T14:50:54.128Z"
   },
   {
    "duration": 10,
    "start_time": "2025-02-21T14:50:54.143Z"
   },
   {
    "duration": 9,
    "start_time": "2025-02-21T14:50:54.157Z"
   },
   {
    "duration": 18,
    "start_time": "2025-02-21T14:50:54.168Z"
   },
   {
    "duration": 4,
    "start_time": "2025-02-21T14:50:54.188Z"
   },
   {
    "duration": 9,
    "start_time": "2025-02-21T14:50:54.194Z"
   },
   {
    "duration": 10,
    "start_time": "2025-02-21T14:50:54.204Z"
   },
   {
    "duration": 20,
    "start_time": "2025-02-21T14:50:54.215Z"
   },
   {
    "duration": 9,
    "start_time": "2025-02-21T14:50:54.236Z"
   },
   {
    "duration": 20,
    "start_time": "2025-02-21T14:50:54.247Z"
   },
   {
    "duration": 95,
    "start_time": "2025-02-21T14:50:54.269Z"
   },
   {
    "duration": 26,
    "start_time": "2025-02-21T14:50:54.367Z"
   },
   {
    "duration": 14,
    "start_time": "2025-02-21T14:50:54.395Z"
   },
   {
    "duration": 12,
    "start_time": "2025-02-21T14:50:54.411Z"
   },
   {
    "duration": 2,
    "start_time": "2025-02-21T14:50:54.425Z"
   },
   {
    "duration": 17,
    "start_time": "2025-02-21T14:50:54.428Z"
   },
   {
    "duration": 7,
    "start_time": "2025-02-21T14:50:54.448Z"
   },
   {
    "duration": 26,
    "start_time": "2025-02-21T14:50:54.457Z"
   },
   {
    "duration": 30,
    "start_time": "2025-02-21T14:50:54.485Z"
   },
   {
    "duration": 27,
    "start_time": "2025-02-21T14:50:54.517Z"
   },
   {
    "duration": 184,
    "start_time": "2025-02-21T14:50:54.545Z"
   },
   {
    "duration": 28,
    "start_time": "2025-02-21T14:50:54.731Z"
   },
   {
    "duration": 135,
    "start_time": "2025-02-21T14:50:54.761Z"
   },
   {
    "duration": 163,
    "start_time": "2025-02-21T14:50:54.898Z"
   },
   {
    "duration": 12,
    "start_time": "2025-02-21T14:50:55.063Z"
   },
   {
    "duration": 103,
    "start_time": "2025-02-21T14:50:55.076Z"
   },
   {
    "duration": 339,
    "start_time": "2025-02-21T14:50:55.181Z"
   },
   {
    "duration": 13,
    "start_time": "2025-02-21T14:50:55.522Z"
   },
   {
    "duration": 154,
    "start_time": "2025-02-21T14:50:55.537Z"
   },
   {
    "duration": 4,
    "start_time": "2025-02-21T14:50:55.693Z"
   },
   {
    "duration": 7,
    "start_time": "2025-02-21T14:50:55.698Z"
   },
   {
    "duration": 3,
    "start_time": "2025-02-21T14:50:55.707Z"
   },
   {
    "duration": 47,
    "start_time": "2025-02-21T14:50:55.712Z"
   },
   {
    "duration": 672,
    "start_time": "2025-02-21T14:51:13.441Z"
   },
   {
    "duration": 2,
    "start_time": "2025-02-21T14:51:14.115Z"
   },
   {
    "duration": 107,
    "start_time": "2025-02-21T14:51:14.118Z"
   },
   {
    "duration": 18,
    "start_time": "2025-02-21T14:51:14.227Z"
   },
   {
    "duration": 20,
    "start_time": "2025-02-21T14:51:14.251Z"
   },
   {
    "duration": 37,
    "start_time": "2025-02-21T14:51:14.273Z"
   },
   {
    "duration": 8,
    "start_time": "2025-02-21T14:51:14.312Z"
   },
   {
    "duration": 10,
    "start_time": "2025-02-21T14:51:14.321Z"
   },
   {
    "duration": 8,
    "start_time": "2025-02-21T14:51:14.332Z"
   },
   {
    "duration": 22,
    "start_time": "2025-02-21T14:51:14.341Z"
   },
   {
    "duration": 9,
    "start_time": "2025-02-21T14:51:14.365Z"
   },
   {
    "duration": 7,
    "start_time": "2025-02-21T14:51:14.376Z"
   },
   {
    "duration": 14,
    "start_time": "2025-02-21T14:51:14.384Z"
   },
   {
    "duration": 20,
    "start_time": "2025-02-21T14:51:14.401Z"
   },
   {
    "duration": 17,
    "start_time": "2025-02-21T14:51:14.422Z"
   },
   {
    "duration": 20,
    "start_time": "2025-02-21T14:51:14.440Z"
   },
   {
    "duration": 10,
    "start_time": "2025-02-21T14:51:14.461Z"
   },
   {
    "duration": 12,
    "start_time": "2025-02-21T14:51:14.472Z"
   },
   {
    "duration": 16,
    "start_time": "2025-02-21T14:51:14.485Z"
   },
   {
    "duration": 32,
    "start_time": "2025-02-21T14:51:14.502Z"
   },
   {
    "duration": 77,
    "start_time": "2025-02-21T14:51:14.536Z"
   },
   {
    "duration": 19,
    "start_time": "2025-02-21T14:51:14.615Z"
   },
   {
    "duration": 7,
    "start_time": "2025-02-21T14:51:14.636Z"
   },
   {
    "duration": 127,
    "start_time": "2025-02-21T14:51:14.651Z"
   },
   {
    "duration": 6,
    "start_time": "2025-02-21T14:51:14.779Z"
   },
   {
    "duration": 17,
    "start_time": "2025-02-21T14:51:14.786Z"
   },
   {
    "duration": 22,
    "start_time": "2025-02-21T14:51:14.804Z"
   },
   {
    "duration": 4,
    "start_time": "2025-02-21T14:51:14.827Z"
   },
   {
    "duration": 18,
    "start_time": "2025-02-21T14:51:14.849Z"
   },
   {
    "duration": 14,
    "start_time": "2025-02-21T14:51:14.868Z"
   },
   {
    "duration": 13,
    "start_time": "2025-02-21T14:51:14.884Z"
   },
   {
    "duration": 6,
    "start_time": "2025-02-21T14:51:14.898Z"
   },
   {
    "duration": 10,
    "start_time": "2025-02-21T14:51:14.905Z"
   },
   {
    "duration": 15,
    "start_time": "2025-02-21T14:51:14.917Z"
   },
   {
    "duration": 30,
    "start_time": "2025-02-21T14:51:14.933Z"
   },
   {
    "duration": 7,
    "start_time": "2025-02-21T14:51:14.964Z"
   },
   {
    "duration": 7,
    "start_time": "2025-02-21T14:51:14.972Z"
   },
   {
    "duration": 13,
    "start_time": "2025-02-21T14:51:14.980Z"
   },
   {
    "duration": 17,
    "start_time": "2025-02-21T14:51:14.994Z"
   },
   {
    "duration": 55,
    "start_time": "2025-02-21T14:51:15.013Z"
   },
   {
    "duration": 100,
    "start_time": "2025-02-21T14:51:15.072Z"
   },
   {
    "duration": 39,
    "start_time": "2025-02-21T14:51:15.173Z"
   },
   {
    "duration": 89,
    "start_time": "2025-02-21T14:51:15.213Z"
   },
   {
    "duration": 134,
    "start_time": "2025-02-21T14:51:15.304Z"
   },
   {
    "duration": 46,
    "start_time": "2025-02-21T14:51:15.439Z"
   },
   {
    "duration": 75,
    "start_time": "2025-02-21T14:51:15.487Z"
   },
   {
    "duration": 32,
    "start_time": "2025-02-21T14:51:15.564Z"
   },
   {
    "duration": 25,
    "start_time": "2025-02-21T14:51:15.597Z"
   },
   {
    "duration": 53,
    "start_time": "2025-02-21T14:51:15.624Z"
   },
   {
    "duration": 200,
    "start_time": "2025-02-21T14:51:15.679Z"
   },
   {
    "duration": 5,
    "start_time": "2025-02-21T14:51:15.880Z"
   },
   {
    "duration": 202,
    "start_time": "2025-02-21T14:51:15.887Z"
   },
   {
    "duration": 156,
    "start_time": "2025-02-21T14:51:16.090Z"
   },
   {
    "duration": 20,
    "start_time": "2025-02-21T14:51:16.247Z"
   },
   {
    "duration": 125,
    "start_time": "2025-02-21T14:51:16.268Z"
   },
   {
    "duration": 322,
    "start_time": "2025-02-21T14:51:16.394Z"
   },
   {
    "duration": 13,
    "start_time": "2025-02-21T14:51:16.718Z"
   },
   {
    "duration": 192,
    "start_time": "2025-02-21T14:51:16.733Z"
   },
   {
    "duration": 4,
    "start_time": "2025-02-21T14:51:16.926Z"
   },
   {
    "duration": 9,
    "start_time": "2025-02-21T14:51:16.932Z"
   },
   {
    "duration": 22,
    "start_time": "2025-02-21T14:51:16.942Z"
   },
   {
    "duration": 39,
    "start_time": "2025-02-21T14:51:16.966Z"
   },
   {
    "duration": 72,
    "start_time": "2025-02-21T14:51:39.737Z"
   },
   {
    "duration": 515,
    "start_time": "2025-02-21T14:52:36.643Z"
   },
   {
    "duration": 1216,
    "start_time": "2025-02-21T14:52:40.995Z"
   },
   {
    "duration": 2,
    "start_time": "2025-02-21T14:52:42.213Z"
   },
   {
    "duration": 81,
    "start_time": "2025-02-21T14:52:42.216Z"
   },
   {
    "duration": 18,
    "start_time": "2025-02-21T14:52:42.300Z"
   },
   {
    "duration": 61,
    "start_time": "2025-02-21T14:52:42.320Z"
   },
   {
    "duration": 39,
    "start_time": "2025-02-21T14:52:42.383Z"
   },
   {
    "duration": 7,
    "start_time": "2025-02-21T14:52:42.423Z"
   },
   {
    "duration": 9,
    "start_time": "2025-02-21T14:52:42.432Z"
   },
   {
    "duration": 7,
    "start_time": "2025-02-21T14:52:42.443Z"
   },
   {
    "duration": 14,
    "start_time": "2025-02-21T14:52:42.452Z"
   },
   {
    "duration": 20,
    "start_time": "2025-02-21T14:52:42.467Z"
   },
   {
    "duration": 3,
    "start_time": "2025-02-21T14:52:42.489Z"
   },
   {
    "duration": 14,
    "start_time": "2025-02-21T14:52:42.493Z"
   },
   {
    "duration": 19,
    "start_time": "2025-02-21T14:52:42.509Z"
   },
   {
    "duration": 18,
    "start_time": "2025-02-21T14:52:42.530Z"
   },
   {
    "duration": 12,
    "start_time": "2025-02-21T14:52:42.549Z"
   },
   {
    "duration": 5,
    "start_time": "2025-02-21T14:52:42.563Z"
   },
   {
    "duration": 4,
    "start_time": "2025-02-21T14:52:42.569Z"
   },
   {
    "duration": 3,
    "start_time": "2025-02-21T14:52:42.575Z"
   },
   {
    "duration": 10,
    "start_time": "2025-02-21T14:52:42.579Z"
   },
   {
    "duration": 80,
    "start_time": "2025-02-21T14:52:42.591Z"
   },
   {
    "duration": 18,
    "start_time": "2025-02-21T14:52:42.672Z"
   },
   {
    "duration": 8,
    "start_time": "2025-02-21T14:52:42.691Z"
   },
   {
    "duration": 28,
    "start_time": "2025-02-21T14:52:42.700Z"
   },
   {
    "duration": 25,
    "start_time": "2025-02-21T14:52:42.729Z"
   },
   {
    "duration": 30,
    "start_time": "2025-02-21T14:52:42.755Z"
   },
   {
    "duration": 20,
    "start_time": "2025-02-21T14:52:42.786Z"
   },
   {
    "duration": 4,
    "start_time": "2025-02-21T14:52:42.810Z"
   },
   {
    "duration": 17,
    "start_time": "2025-02-21T14:52:42.815Z"
   },
   {
    "duration": 21,
    "start_time": "2025-02-21T14:52:42.834Z"
   },
   {
    "duration": 7,
    "start_time": "2025-02-21T14:52:42.857Z"
   },
   {
    "duration": 10,
    "start_time": "2025-02-21T14:52:42.866Z"
   },
   {
    "duration": 9,
    "start_time": "2025-02-21T14:52:42.878Z"
   },
   {
    "duration": 14,
    "start_time": "2025-02-21T14:52:42.888Z"
   },
   {
    "duration": 20,
    "start_time": "2025-02-21T14:52:42.904Z"
   },
   {
    "duration": 11,
    "start_time": "2025-02-21T14:52:42.925Z"
   },
   {
    "duration": 12,
    "start_time": "2025-02-21T14:52:42.938Z"
   },
   {
    "duration": 8,
    "start_time": "2025-02-21T14:52:42.951Z"
   },
   {
    "duration": 19,
    "start_time": "2025-02-21T14:52:42.961Z"
   },
   {
    "duration": 7,
    "start_time": "2025-02-21T14:52:42.981Z"
   },
   {
    "duration": 6,
    "start_time": "2025-02-21T14:52:42.990Z"
   },
   {
    "duration": 3,
    "start_time": "2025-02-21T14:52:42.998Z"
   },
   {
    "duration": 11,
    "start_time": "2025-02-21T14:52:43.003Z"
   },
   {
    "duration": 32,
    "start_time": "2025-02-21T14:52:43.016Z"
   },
   {
    "duration": 11,
    "start_time": "2025-02-21T14:52:43.050Z"
   },
   {
    "duration": 7,
    "start_time": "2025-02-21T14:52:43.062Z"
   },
   {
    "duration": 108,
    "start_time": "2025-02-21T14:52:43.071Z"
   },
   {
    "duration": 15,
    "start_time": "2025-02-21T14:52:43.181Z"
   },
   {
    "duration": 34,
    "start_time": "2025-02-21T14:52:43.198Z"
   },
   {
    "duration": 171,
    "start_time": "2025-02-21T14:52:43.234Z"
   },
   {
    "duration": 5,
    "start_time": "2025-02-21T14:52:43.407Z"
   },
   {
    "duration": 158,
    "start_time": "2025-02-21T14:52:43.414Z"
   },
   {
    "duration": 147,
    "start_time": "2025-02-21T14:52:43.574Z"
   },
   {
    "duration": 14,
    "start_time": "2025-02-21T14:52:43.722Z"
   },
   {
    "duration": 16,
    "start_time": "2025-02-21T14:52:43.748Z"
   },
   {
    "duration": 275,
    "start_time": "2025-02-21T14:52:43.766Z"
   },
   {
    "duration": 13,
    "start_time": "2025-02-21T14:52:44.042Z"
   },
   {
    "duration": 162,
    "start_time": "2025-02-21T14:52:44.056Z"
   },
   {
    "duration": 3,
    "start_time": "2025-02-21T14:52:44.220Z"
   },
   {
    "duration": 10,
    "start_time": "2025-02-21T14:52:44.224Z"
   },
   {
    "duration": 6,
    "start_time": "2025-02-21T14:52:44.235Z"
   },
   {
    "duration": 33,
    "start_time": "2025-02-21T14:52:44.242Z"
   },
   {
    "duration": 195,
    "start_time": "2025-02-21T14:52:44.277Z"
   },
   {
    "duration": 188,
    "start_time": "2025-02-21T14:54:00.842Z"
   },
   {
    "duration": 262,
    "start_time": "2025-02-21T14:54:32.574Z"
   },
   {
    "duration": 234,
    "start_time": "2025-02-21T14:57:55.821Z"
   },
   {
    "duration": 220,
    "start_time": "2025-02-21T14:58:08.855Z"
   },
   {
    "duration": 225,
    "start_time": "2025-02-21T14:59:19.685Z"
   },
   {
    "duration": 203,
    "start_time": "2025-02-21T14:59:27.956Z"
   },
   {
    "duration": 214,
    "start_time": "2025-02-21T15:05:16.239Z"
   },
   {
    "duration": 167,
    "start_time": "2025-02-21T15:05:48.311Z"
   },
   {
    "duration": 1895,
    "start_time": "2025-02-21T15:09:44.609Z"
   },
   {
    "duration": 222,
    "start_time": "2025-02-21T15:10:24.742Z"
   },
   {
    "duration": 170,
    "start_time": "2025-02-21T15:11:11.360Z"
   },
   {
    "duration": 18,
    "start_time": "2025-02-21T15:31:58.672Z"
   },
   {
    "duration": 8,
    "start_time": "2025-02-21T15:32:16.737Z"
   },
   {
    "duration": 28,
    "start_time": "2025-02-21T15:32:32.479Z"
   },
   {
    "duration": 432,
    "start_time": "2025-02-21T15:33:14.322Z"
   },
   {
    "duration": 327,
    "start_time": "2025-02-21T15:33:17.436Z"
   },
   {
    "duration": 356,
    "start_time": "2025-02-21T15:34:18.038Z"
   },
   {
    "duration": 76,
    "start_time": "2025-02-21T15:44:43.520Z"
   },
   {
    "duration": 82,
    "start_time": "2025-02-21T15:45:05.410Z"
   },
   {
    "duration": 21,
    "start_time": "2025-02-21T15:45:21.452Z"
   },
   {
    "duration": 23,
    "start_time": "2025-02-21T16:03:41.182Z"
   },
   {
    "duration": 335,
    "start_time": "2025-02-21T16:04:44.125Z"
   },
   {
    "duration": 556,
    "start_time": "2025-02-21T16:05:52.796Z"
   },
   {
    "duration": 1203,
    "start_time": "2025-02-21T16:06:24.055Z"
   },
   {
    "duration": 2,
    "start_time": "2025-02-21T16:06:25.260Z"
   },
   {
    "duration": 94,
    "start_time": "2025-02-21T16:06:25.264Z"
   },
   {
    "duration": 20,
    "start_time": "2025-02-21T16:06:25.359Z"
   },
   {
    "duration": 16,
    "start_time": "2025-02-21T16:06:25.381Z"
   },
   {
    "duration": 56,
    "start_time": "2025-02-21T16:06:25.399Z"
   },
   {
    "duration": 7,
    "start_time": "2025-02-21T16:06:25.456Z"
   },
   {
    "duration": 61,
    "start_time": "2025-02-21T16:06:25.465Z"
   },
   {
    "duration": 19,
    "start_time": "2025-02-21T16:06:25.528Z"
   },
   {
    "duration": 117,
    "start_time": "2025-02-21T16:06:25.549Z"
   },
   {
    "duration": 13,
    "start_time": "2025-02-21T16:06:25.667Z"
   },
   {
    "duration": 8,
    "start_time": "2025-02-21T16:06:25.681Z"
   },
   {
    "duration": 27,
    "start_time": "2025-02-21T16:06:25.690Z"
   },
   {
    "duration": 15,
    "start_time": "2025-02-21T16:06:25.719Z"
   },
   {
    "duration": 23,
    "start_time": "2025-02-21T16:06:25.735Z"
   },
   {
    "duration": 14,
    "start_time": "2025-02-21T16:06:25.760Z"
   },
   {
    "duration": 5,
    "start_time": "2025-02-21T16:06:25.776Z"
   },
   {
    "duration": 6,
    "start_time": "2025-02-21T16:06:25.783Z"
   },
   {
    "duration": 23,
    "start_time": "2025-02-21T16:06:25.791Z"
   },
   {
    "duration": 26,
    "start_time": "2025-02-21T16:06:25.816Z"
   },
   {
    "duration": 63,
    "start_time": "2025-02-21T16:06:25.844Z"
   },
   {
    "duration": 20,
    "start_time": "2025-02-21T16:06:25.908Z"
   },
   {
    "duration": 23,
    "start_time": "2025-02-21T16:06:25.930Z"
   },
   {
    "duration": 40,
    "start_time": "2025-02-21T16:06:25.955Z"
   },
   {
    "duration": 8,
    "start_time": "2025-02-21T16:06:25.997Z"
   },
   {
    "duration": 27,
    "start_time": "2025-02-21T16:06:26.006Z"
   },
   {
    "duration": 30,
    "start_time": "2025-02-21T16:06:26.035Z"
   },
   {
    "duration": 4,
    "start_time": "2025-02-21T16:06:26.067Z"
   },
   {
    "duration": 26,
    "start_time": "2025-02-21T16:06:26.073Z"
   },
   {
    "duration": 15,
    "start_time": "2025-02-21T16:06:26.101Z"
   },
   {
    "duration": 188,
    "start_time": "2025-02-21T16:06:26.118Z"
   },
   {
    "duration": 105,
    "start_time": "2025-02-21T16:06:26.308Z"
   },
   {
    "duration": 17,
    "start_time": "2025-02-21T16:06:26.415Z"
   },
   {
    "duration": 17,
    "start_time": "2025-02-21T16:06:26.434Z"
   },
   {
    "duration": 16,
    "start_time": "2025-02-21T16:06:26.452Z"
   },
   {
    "duration": 5,
    "start_time": "2025-02-21T16:06:26.470Z"
   },
   {
    "duration": 17,
    "start_time": "2025-02-21T16:06:26.477Z"
   },
   {
    "duration": 19,
    "start_time": "2025-02-21T16:06:26.496Z"
   },
   {
    "duration": 21,
    "start_time": "2025-02-21T16:06:26.517Z"
   },
   {
    "duration": 13,
    "start_time": "2025-02-21T16:06:26.540Z"
   },
   {
    "duration": 7,
    "start_time": "2025-02-21T16:06:26.557Z"
   },
   {
    "duration": 4,
    "start_time": "2025-02-21T16:06:26.565Z"
   },
   {
    "duration": 13,
    "start_time": "2025-02-21T16:06:26.571Z"
   },
   {
    "duration": 22,
    "start_time": "2025-02-21T16:06:26.586Z"
   },
   {
    "duration": 25,
    "start_time": "2025-02-21T16:06:26.609Z"
   },
   {
    "duration": 31,
    "start_time": "2025-02-21T16:06:26.635Z"
   },
   {
    "duration": 100,
    "start_time": "2025-02-21T16:06:26.667Z"
   },
   {
    "duration": 16,
    "start_time": "2025-02-21T16:06:26.768Z"
   },
   {
    "duration": 28,
    "start_time": "2025-02-21T16:06:26.786Z"
   },
   {
    "duration": 188,
    "start_time": "2025-02-21T16:06:26.816Z"
   },
   {
    "duration": 5,
    "start_time": "2025-02-21T16:06:27.006Z"
   },
   {
    "duration": 227,
    "start_time": "2025-02-21T16:06:27.013Z"
   },
   {
    "duration": 167,
    "start_time": "2025-02-21T16:06:27.241Z"
   },
   {
    "duration": 13,
    "start_time": "2025-02-21T16:06:27.410Z"
   },
   {
    "duration": 32,
    "start_time": "2025-02-21T16:06:27.424Z"
   },
   {
    "duration": 328,
    "start_time": "2025-02-21T16:06:27.458Z"
   },
   {
    "duration": 14,
    "start_time": "2025-02-21T16:06:27.788Z"
   },
   {
    "duration": 161,
    "start_time": "2025-02-21T16:06:27.803Z"
   },
   {
    "duration": 4,
    "start_time": "2025-02-21T16:06:27.966Z"
   },
   {
    "duration": 5,
    "start_time": "2025-02-21T16:06:27.971Z"
   },
   {
    "duration": 4,
    "start_time": "2025-02-21T16:06:27.977Z"
   },
   {
    "duration": 30,
    "start_time": "2025-02-21T16:06:27.983Z"
   },
   {
    "duration": 265,
    "start_time": "2025-02-21T16:06:28.014Z"
   },
   {
    "duration": 215,
    "start_time": "2025-02-21T16:06:28.281Z"
   },
   {
    "duration": 250,
    "start_time": "2025-02-21T16:06:28.498Z"
   },
   {
    "duration": 26,
    "start_time": "2025-02-21T16:06:28.749Z"
   },
   {
    "duration": 336,
    "start_time": "2025-02-21T16:06:28.776Z"
   },
   {
    "duration": 35,
    "start_time": "2025-02-21T16:06:29.113Z"
   },
   {
    "duration": 574,
    "start_time": "2025-02-21T16:06:29.149Z"
   },
   {
    "duration": 509,
    "start_time": "2025-02-21T16:07:43.551Z"
   },
   {
    "duration": 520,
    "start_time": "2025-02-21T16:08:49.702Z"
   },
   {
    "duration": 165,
    "start_time": "2025-02-21T16:11:07.096Z"
   },
   {
    "duration": 24,
    "start_time": "2025-02-21T16:12:11.796Z"
   },
   {
    "duration": 366,
    "start_time": "2025-02-21T16:12:27.160Z"
   },
   {
    "duration": 299,
    "start_time": "2025-02-21T16:13:16.215Z"
   },
   {
    "duration": 31,
    "start_time": "2025-02-21T16:16:12.461Z"
   },
   {
    "duration": 1180,
    "start_time": "2025-02-21T16:16:19.090Z"
   },
   {
    "duration": 3,
    "start_time": "2025-02-21T16:16:20.272Z"
   },
   {
    "duration": 122,
    "start_time": "2025-02-21T16:16:20.276Z"
   },
   {
    "duration": 19,
    "start_time": "2025-02-21T16:16:20.400Z"
   },
   {
    "duration": 40,
    "start_time": "2025-02-21T16:16:20.422Z"
   },
   {
    "duration": 41,
    "start_time": "2025-02-21T16:16:20.464Z"
   },
   {
    "duration": 7,
    "start_time": "2025-02-21T16:16:20.506Z"
   },
   {
    "duration": 25,
    "start_time": "2025-02-21T16:16:20.515Z"
   },
   {
    "duration": 25,
    "start_time": "2025-02-21T16:16:20.542Z"
   },
   {
    "duration": 21,
    "start_time": "2025-02-21T16:16:20.568Z"
   },
   {
    "duration": 21,
    "start_time": "2025-02-21T16:16:20.591Z"
   },
   {
    "duration": 4,
    "start_time": "2025-02-21T16:16:20.613Z"
   },
   {
    "duration": 21,
    "start_time": "2025-02-21T16:16:20.619Z"
   },
   {
    "duration": 22,
    "start_time": "2025-02-21T16:16:20.642Z"
   },
   {
    "duration": 15,
    "start_time": "2025-02-21T16:16:20.665Z"
   },
   {
    "duration": 19,
    "start_time": "2025-02-21T16:16:20.681Z"
   },
   {
    "duration": 13,
    "start_time": "2025-02-21T16:16:20.702Z"
   },
   {
    "duration": 96,
    "start_time": "2025-02-21T16:16:20.716Z"
   },
   {
    "duration": 32,
    "start_time": "2025-02-21T16:16:20.814Z"
   },
   {
    "duration": 35,
    "start_time": "2025-02-21T16:16:20.847Z"
   },
   {
    "duration": 78,
    "start_time": "2025-02-21T16:16:20.883Z"
   },
   {
    "duration": 20,
    "start_time": "2025-02-21T16:16:20.962Z"
   },
   {
    "duration": 7,
    "start_time": "2025-02-21T16:16:20.983Z"
   },
   {
    "duration": 29,
    "start_time": "2025-02-21T16:16:20.992Z"
   },
   {
    "duration": 5,
    "start_time": "2025-02-21T16:16:21.023Z"
   },
   {
    "duration": 32,
    "start_time": "2025-02-21T16:16:21.029Z"
   },
   {
    "duration": 83,
    "start_time": "2025-02-21T16:16:21.062Z"
   },
   {
    "duration": 54,
    "start_time": "2025-02-21T16:16:21.148Z"
   },
   {
    "duration": 19,
    "start_time": "2025-02-21T16:16:21.204Z"
   },
   {
    "duration": 15,
    "start_time": "2025-02-21T16:16:21.225Z"
   },
   {
    "duration": 14,
    "start_time": "2025-02-21T16:16:21.242Z"
   },
   {
    "duration": 7,
    "start_time": "2025-02-21T16:16:21.260Z"
   },
   {
    "duration": 25,
    "start_time": "2025-02-21T16:16:21.268Z"
   },
   {
    "duration": 22,
    "start_time": "2025-02-21T16:16:21.294Z"
   },
   {
    "duration": 13,
    "start_time": "2025-02-21T16:16:21.318Z"
   },
   {
    "duration": 5,
    "start_time": "2025-02-21T16:16:21.333Z"
   },
   {
    "duration": 24,
    "start_time": "2025-02-21T16:16:21.340Z"
   },
   {
    "duration": 12,
    "start_time": "2025-02-21T16:16:21.366Z"
   },
   {
    "duration": 17,
    "start_time": "2025-02-21T16:16:21.379Z"
   },
   {
    "duration": 26,
    "start_time": "2025-02-21T16:16:21.398Z"
   },
   {
    "duration": 8,
    "start_time": "2025-02-21T16:16:21.428Z"
   },
   {
    "duration": 26,
    "start_time": "2025-02-21T16:16:21.437Z"
   },
   {
    "duration": 26,
    "start_time": "2025-02-21T16:16:21.464Z"
   },
   {
    "duration": 5,
    "start_time": "2025-02-21T16:16:21.491Z"
   },
   {
    "duration": 199,
    "start_time": "2025-02-21T16:16:21.498Z"
   },
   {
    "duration": 27,
    "start_time": "2025-02-21T16:16:21.698Z"
   },
   {
    "duration": 35,
    "start_time": "2025-02-21T16:16:21.727Z"
   },
   {
    "duration": 16,
    "start_time": "2025-02-21T16:16:21.764Z"
   },
   {
    "duration": 27,
    "start_time": "2025-02-21T16:16:21.781Z"
   },
   {
    "duration": 187,
    "start_time": "2025-02-21T16:16:21.810Z"
   },
   {
    "duration": 5,
    "start_time": "2025-02-21T16:16:21.999Z"
   },
   {
    "duration": 156,
    "start_time": "2025-02-21T16:16:22.006Z"
   },
   {
    "duration": 147,
    "start_time": "2025-02-21T16:16:22.163Z"
   },
   {
    "duration": 11,
    "start_time": "2025-02-21T16:16:22.312Z"
   },
   {
    "duration": 36,
    "start_time": "2025-02-21T16:16:22.325Z"
   },
   {
    "duration": 281,
    "start_time": "2025-02-21T16:16:22.363Z"
   },
   {
    "duration": 16,
    "start_time": "2025-02-21T16:16:22.646Z"
   },
   {
    "duration": 165,
    "start_time": "2025-02-21T16:16:22.663Z"
   },
   {
    "duration": 4,
    "start_time": "2025-02-21T16:16:22.829Z"
   },
   {
    "duration": 27,
    "start_time": "2025-02-21T16:16:22.834Z"
   },
   {
    "duration": 17,
    "start_time": "2025-02-21T16:16:22.863Z"
   },
   {
    "duration": 60,
    "start_time": "2025-02-21T16:16:22.882Z"
   },
   {
    "duration": 227,
    "start_time": "2025-02-21T16:16:22.944Z"
   },
   {
    "duration": 216,
    "start_time": "2025-02-21T16:16:23.173Z"
   },
   {
    "duration": 271,
    "start_time": "2025-02-21T16:16:23.391Z"
   },
   {
    "duration": 25,
    "start_time": "2025-02-21T16:16:23.664Z"
   },
   {
    "duration": 321,
    "start_time": "2025-02-21T16:16:23.691Z"
   },
   {
    "duration": 21,
    "start_time": "2025-02-21T16:16:24.014Z"
   },
   {
    "duration": 507,
    "start_time": "2025-02-21T16:16:24.056Z"
   },
   {
    "duration": 23,
    "start_time": "2025-02-21T16:16:24.565Z"
   },
   {
    "duration": 332,
    "start_time": "2025-02-21T16:16:24.590Z"
   },
   {
    "duration": 46,
    "start_time": "2025-02-21T16:16:24.924Z"
   },
   {
    "duration": 20,
    "start_time": "2025-02-21T16:18:10.618Z"
   },
   {
    "duration": 1151,
    "start_time": "2025-02-21T16:18:56.604Z"
   },
   {
    "duration": 3,
    "start_time": "2025-02-21T16:18:57.761Z"
   },
   {
    "duration": 99,
    "start_time": "2025-02-21T16:18:57.765Z"
   },
   {
    "duration": 17,
    "start_time": "2025-02-21T16:18:57.866Z"
   },
   {
    "duration": 15,
    "start_time": "2025-02-21T16:18:57.885Z"
   },
   {
    "duration": 40,
    "start_time": "2025-02-21T16:18:57.901Z"
   },
   {
    "duration": 18,
    "start_time": "2025-02-21T16:18:57.942Z"
   },
   {
    "duration": 12,
    "start_time": "2025-02-21T16:18:57.961Z"
   },
   {
    "duration": 30,
    "start_time": "2025-02-21T16:18:57.974Z"
   },
   {
    "duration": 4,
    "start_time": "2025-02-21T16:18:58.006Z"
   },
   {
    "duration": 9,
    "start_time": "2025-02-21T16:18:58.012Z"
   },
   {
    "duration": 4,
    "start_time": "2025-02-21T16:18:58.023Z"
   },
   {
    "duration": 13,
    "start_time": "2025-02-21T16:18:58.028Z"
   },
   {
    "duration": 27,
    "start_time": "2025-02-21T16:18:58.042Z"
   },
   {
    "duration": 17,
    "start_time": "2025-02-21T16:18:58.070Z"
   },
   {
    "duration": 12,
    "start_time": "2025-02-21T16:18:58.089Z"
   },
   {
    "duration": 5,
    "start_time": "2025-02-21T16:18:58.102Z"
   },
   {
    "duration": 3,
    "start_time": "2025-02-21T16:18:58.109Z"
   },
   {
    "duration": 4,
    "start_time": "2025-02-21T16:18:58.113Z"
   },
   {
    "duration": 41,
    "start_time": "2025-02-21T16:18:58.118Z"
   },
   {
    "duration": 145,
    "start_time": "2025-02-21T16:18:58.162Z"
   },
   {
    "duration": 58,
    "start_time": "2025-02-21T16:18:58.308Z"
   },
   {
    "duration": 70,
    "start_time": "2025-02-21T16:18:58.368Z"
   },
   {
    "duration": 50,
    "start_time": "2025-02-21T16:18:58.440Z"
   },
   {
    "duration": 5,
    "start_time": "2025-02-21T16:18:58.492Z"
   },
   {
    "duration": 10,
    "start_time": "2025-02-21T16:18:58.498Z"
   },
   {
    "duration": 18,
    "start_time": "2025-02-21T16:18:58.510Z"
   },
   {
    "duration": 4,
    "start_time": "2025-02-21T16:18:58.531Z"
   },
   {
    "duration": 40,
    "start_time": "2025-02-21T16:18:58.536Z"
   },
   {
    "duration": 17,
    "start_time": "2025-02-21T16:18:58.578Z"
   },
   {
    "duration": 7,
    "start_time": "2025-02-21T16:18:58.596Z"
   },
   {
    "duration": 6,
    "start_time": "2025-02-21T16:18:58.605Z"
   },
   {
    "duration": 7,
    "start_time": "2025-02-21T16:18:58.612Z"
   },
   {
    "duration": 3,
    "start_time": "2025-02-21T16:18:58.621Z"
   },
   {
    "duration": 6,
    "start_time": "2025-02-21T16:18:58.626Z"
   },
   {
    "duration": 4,
    "start_time": "2025-02-21T16:18:58.633Z"
   },
   {
    "duration": 9,
    "start_time": "2025-02-21T16:18:58.651Z"
   },
   {
    "duration": 6,
    "start_time": "2025-02-21T16:18:58.661Z"
   },
   {
    "duration": 11,
    "start_time": "2025-02-21T16:18:58.668Z"
   },
   {
    "duration": 7,
    "start_time": "2025-02-21T16:18:58.681Z"
   },
   {
    "duration": 7,
    "start_time": "2025-02-21T16:18:58.689Z"
   },
   {
    "duration": 5,
    "start_time": "2025-02-21T16:18:58.697Z"
   },
   {
    "duration": 88,
    "start_time": "2025-02-21T16:18:58.703Z"
   },
   {
    "duration": 30,
    "start_time": "2025-02-21T16:18:58.793Z"
   },
   {
    "duration": 11,
    "start_time": "2025-02-21T16:18:58.824Z"
   },
   {
    "duration": 4,
    "start_time": "2025-02-21T16:18:58.836Z"
   },
   {
    "duration": 21,
    "start_time": "2025-02-21T16:18:58.841Z"
   },
   {
    "duration": 15,
    "start_time": "2025-02-21T16:18:58.864Z"
   },
   {
    "duration": 30,
    "start_time": "2025-02-21T16:18:58.881Z"
   },
   {
    "duration": 213,
    "start_time": "2025-02-21T16:18:58.913Z"
   },
   {
    "duration": 6,
    "start_time": "2025-02-21T16:18:59.128Z"
   },
   {
    "duration": 188,
    "start_time": "2025-02-21T16:18:59.135Z"
   },
   {
    "duration": 168,
    "start_time": "2025-02-21T16:18:59.324Z"
   },
   {
    "duration": 12,
    "start_time": "2025-02-21T16:18:59.493Z"
   },
   {
    "duration": 103,
    "start_time": "2025-02-21T16:18:59.506Z"
   },
   {
    "duration": 353,
    "start_time": "2025-02-21T16:18:59.611Z"
   },
   {
    "duration": 13,
    "start_time": "2025-02-21T16:18:59.966Z"
   },
   {
    "duration": 155,
    "start_time": "2025-02-21T16:18:59.980Z"
   },
   {
    "duration": 4,
    "start_time": "2025-02-21T16:19:00.137Z"
   },
   {
    "duration": 287,
    "start_time": "2025-02-21T16:19:00.147Z"
   },
   {
    "duration": 56,
    "start_time": "2025-02-21T16:19:00.435Z"
   },
   {
    "duration": 33,
    "start_time": "2025-02-21T16:19:00.492Z"
   },
   {
    "duration": 240,
    "start_time": "2025-02-21T16:19:00.526Z"
   },
   {
    "duration": 196,
    "start_time": "2025-02-21T16:19:00.768Z"
   },
   {
    "duration": 260,
    "start_time": "2025-02-21T16:19:00.965Z"
   },
   {
    "duration": 35,
    "start_time": "2025-02-21T16:19:01.226Z"
   },
   {
    "duration": 323,
    "start_time": "2025-02-21T16:19:01.263Z"
   },
   {
    "duration": 21,
    "start_time": "2025-02-21T16:19:01.588Z"
   },
   {
    "duration": 607,
    "start_time": "2025-02-21T16:19:01.611Z"
   },
   {
    "duration": 39,
    "start_time": "2025-02-21T16:19:02.220Z"
   },
   {
    "duration": 309,
    "start_time": "2025-02-21T16:19:02.261Z"
   },
   {
    "duration": 35,
    "start_time": "2025-02-21T16:19:02.572Z"
   },
   {
    "duration": 31,
    "start_time": "2025-02-21T16:20:17.232Z"
   },
   {
    "duration": 33,
    "start_time": "2025-02-21T16:21:30.227Z"
   },
   {
    "duration": 282,
    "start_time": "2025-02-21T16:23:32.614Z"
   },
   {
    "duration": 163,
    "start_time": "2025-02-21T16:23:49.531Z"
   },
   {
    "duration": 152,
    "start_time": "2025-02-21T16:24:32.218Z"
   },
   {
    "duration": 1190,
    "start_time": "2025-02-21T16:24:50.831Z"
   },
   {
    "duration": 3,
    "start_time": "2025-02-21T16:24:52.022Z"
   },
   {
    "duration": 87,
    "start_time": "2025-02-21T16:24:52.026Z"
   },
   {
    "duration": 17,
    "start_time": "2025-02-21T16:24:52.116Z"
   },
   {
    "duration": 26,
    "start_time": "2025-02-21T16:24:52.135Z"
   },
   {
    "duration": 100,
    "start_time": "2025-02-21T16:24:52.162Z"
   },
   {
    "duration": 7,
    "start_time": "2025-02-21T16:24:52.264Z"
   },
   {
    "duration": 34,
    "start_time": "2025-02-21T16:24:52.272Z"
   },
   {
    "duration": 110,
    "start_time": "2025-02-21T16:24:52.307Z"
   },
   {
    "duration": 87,
    "start_time": "2025-02-21T16:24:52.419Z"
   },
   {
    "duration": 19,
    "start_time": "2025-02-21T16:24:52.508Z"
   },
   {
    "duration": 7,
    "start_time": "2025-02-21T16:24:52.528Z"
   },
   {
    "duration": 34,
    "start_time": "2025-02-21T16:24:52.536Z"
   },
   {
    "duration": 44,
    "start_time": "2025-02-21T16:24:52.572Z"
   },
   {
    "duration": 16,
    "start_time": "2025-02-21T16:24:52.618Z"
   },
   {
    "duration": 27,
    "start_time": "2025-02-21T16:24:52.636Z"
   },
   {
    "duration": 24,
    "start_time": "2025-02-21T16:24:52.664Z"
   },
   {
    "duration": 34,
    "start_time": "2025-02-21T16:24:52.689Z"
   },
   {
    "duration": 109,
    "start_time": "2025-02-21T16:24:52.724Z"
   },
   {
    "duration": 24,
    "start_time": "2025-02-21T16:24:52.834Z"
   },
   {
    "duration": 70,
    "start_time": "2025-02-21T16:24:52.860Z"
   },
   {
    "duration": 19,
    "start_time": "2025-02-21T16:24:52.931Z"
   },
   {
    "duration": 7,
    "start_time": "2025-02-21T16:24:52.952Z"
   },
   {
    "duration": 52,
    "start_time": "2025-02-21T16:24:52.960Z"
   },
   {
    "duration": 6,
    "start_time": "2025-02-21T16:24:53.013Z"
   },
   {
    "duration": 22,
    "start_time": "2025-02-21T16:24:53.020Z"
   },
   {
    "duration": 37,
    "start_time": "2025-02-21T16:24:53.043Z"
   },
   {
    "duration": 4,
    "start_time": "2025-02-21T16:24:53.085Z"
   },
   {
    "duration": 44,
    "start_time": "2025-02-21T16:24:53.090Z"
   },
   {
    "duration": 91,
    "start_time": "2025-02-21T16:24:53.136Z"
   },
   {
    "duration": 36,
    "start_time": "2025-02-21T16:24:53.229Z"
   },
   {
    "duration": 25,
    "start_time": "2025-02-21T16:24:53.267Z"
   },
   {
    "duration": 19,
    "start_time": "2025-02-21T16:24:53.294Z"
   },
   {
    "duration": 17,
    "start_time": "2025-02-21T16:24:53.315Z"
   },
   {
    "duration": 12,
    "start_time": "2025-02-21T16:24:53.334Z"
   },
   {
    "duration": 11,
    "start_time": "2025-02-21T16:24:53.348Z"
   },
   {
    "duration": 19,
    "start_time": "2025-02-21T16:24:53.360Z"
   },
   {
    "duration": 44,
    "start_time": "2025-02-21T16:24:53.380Z"
   },
   {
    "duration": 15,
    "start_time": "2025-02-21T16:24:53.425Z"
   },
   {
    "duration": 6,
    "start_time": "2025-02-21T16:24:53.442Z"
   },
   {
    "duration": 23,
    "start_time": "2025-02-21T16:24:53.449Z"
   },
   {
    "duration": 24,
    "start_time": "2025-02-21T16:24:53.474Z"
   },
   {
    "duration": 236,
    "start_time": "2025-02-21T16:24:53.499Z"
   },
   {
    "duration": 6,
    "start_time": "2025-02-21T16:24:53.737Z"
   },
   {
    "duration": 26,
    "start_time": "2025-02-21T16:24:53.745Z"
   },
   {
    "duration": 47,
    "start_time": "2025-02-21T16:24:53.772Z"
   },
   {
    "duration": 21,
    "start_time": "2025-02-21T16:24:53.821Z"
   },
   {
    "duration": 19,
    "start_time": "2025-02-21T16:24:53.843Z"
   },
   {
    "duration": 53,
    "start_time": "2025-02-21T16:24:53.864Z"
   },
   {
    "duration": 171,
    "start_time": "2025-02-21T16:24:53.918Z"
   },
   {
    "duration": 6,
    "start_time": "2025-02-21T16:24:54.091Z"
   },
   {
    "duration": 161,
    "start_time": "2025-02-21T16:24:54.098Z"
   },
   {
    "duration": 158,
    "start_time": "2025-02-21T16:24:54.261Z"
   },
   {
    "duration": 13,
    "start_time": "2025-02-21T16:24:54.420Z"
   },
   {
    "duration": 92,
    "start_time": "2025-02-21T16:24:54.447Z"
   },
   {
    "duration": 284,
    "start_time": "2025-02-21T16:24:54.541Z"
   },
   {
    "duration": 13,
    "start_time": "2025-02-21T16:24:54.826Z"
   },
   {
    "duration": 174,
    "start_time": "2025-02-21T16:24:54.840Z"
   },
   {
    "duration": 4,
    "start_time": "2025-02-21T16:24:55.016Z"
   },
   {
    "duration": 9,
    "start_time": "2025-02-21T16:24:55.021Z"
   },
   {
    "duration": 23,
    "start_time": "2025-02-21T16:24:55.031Z"
   },
   {
    "duration": 47,
    "start_time": "2025-02-21T16:24:55.056Z"
   },
   {
    "duration": 211,
    "start_time": "2025-02-21T16:24:55.105Z"
   },
   {
    "duration": 209,
    "start_time": "2025-02-21T16:24:55.318Z"
   },
   {
    "duration": 270,
    "start_time": "2025-02-21T16:24:55.529Z"
   },
   {
    "duration": 48,
    "start_time": "2025-02-21T16:24:55.801Z"
   },
   {
    "duration": 105,
    "start_time": "2025-02-21T16:24:55.850Z"
   },
   {
    "duration": 0,
    "start_time": "2025-02-21T16:24:55.957Z"
   },
   {
    "duration": 0,
    "start_time": "2025-02-21T16:24:55.958Z"
   },
   {
    "duration": 0,
    "start_time": "2025-02-21T16:24:55.959Z"
   },
   {
    "duration": 0,
    "start_time": "2025-02-21T16:24:55.960Z"
   },
   {
    "duration": 0,
    "start_time": "2025-02-21T16:24:55.961Z"
   },
   {
    "duration": 1180,
    "start_time": "2025-02-21T16:28:23.063Z"
   },
   {
    "duration": 3,
    "start_time": "2025-02-21T16:28:24.245Z"
   },
   {
    "duration": 82,
    "start_time": "2025-02-21T16:28:24.249Z"
   },
   {
    "duration": 18,
    "start_time": "2025-02-21T16:28:24.333Z"
   },
   {
    "duration": 70,
    "start_time": "2025-02-21T16:28:24.353Z"
   },
   {
    "duration": 66,
    "start_time": "2025-02-21T16:28:24.424Z"
   },
   {
    "duration": 40,
    "start_time": "2025-02-21T16:28:24.492Z"
   },
   {
    "duration": 17,
    "start_time": "2025-02-21T16:28:24.533Z"
   },
   {
    "duration": 9,
    "start_time": "2025-02-21T16:28:24.552Z"
   },
   {
    "duration": 4,
    "start_time": "2025-02-21T16:28:24.563Z"
   },
   {
    "duration": 18,
    "start_time": "2025-02-21T16:28:24.568Z"
   },
   {
    "duration": 20,
    "start_time": "2025-02-21T16:28:24.588Z"
   },
   {
    "duration": 12,
    "start_time": "2025-02-21T16:28:24.609Z"
   },
   {
    "duration": 13,
    "start_time": "2025-02-21T16:28:24.622Z"
   },
   {
    "duration": 18,
    "start_time": "2025-02-21T16:28:24.637Z"
   },
   {
    "duration": 12,
    "start_time": "2025-02-21T16:28:24.656Z"
   },
   {
    "duration": 12,
    "start_time": "2025-02-21T16:28:24.669Z"
   },
   {
    "duration": 20,
    "start_time": "2025-02-21T16:28:24.683Z"
   },
   {
    "duration": 6,
    "start_time": "2025-02-21T16:28:24.704Z"
   },
   {
    "duration": 11,
    "start_time": "2025-02-21T16:28:24.711Z"
   },
   {
    "duration": 52,
    "start_time": "2025-02-21T16:28:24.723Z"
   },
   {
    "duration": 18,
    "start_time": "2025-02-21T16:28:24.776Z"
   },
   {
    "duration": 145,
    "start_time": "2025-02-21T16:28:24.796Z"
   },
   {
    "duration": 27,
    "start_time": "2025-02-21T16:28:24.942Z"
   },
   {
    "duration": 5,
    "start_time": "2025-02-21T16:28:24.971Z"
   },
   {
    "duration": 10,
    "start_time": "2025-02-21T16:28:24.977Z"
   },
   {
    "duration": 24,
    "start_time": "2025-02-21T16:28:24.988Z"
   },
   {
    "duration": 4,
    "start_time": "2025-02-21T16:28:25.016Z"
   },
   {
    "duration": 36,
    "start_time": "2025-02-21T16:28:25.021Z"
   },
   {
    "duration": 14,
    "start_time": "2025-02-21T16:28:25.058Z"
   },
   {
    "duration": 7,
    "start_time": "2025-02-21T16:28:25.074Z"
   },
   {
    "duration": 6,
    "start_time": "2025-02-21T16:28:25.083Z"
   },
   {
    "duration": 24,
    "start_time": "2025-02-21T16:28:25.091Z"
   },
   {
    "duration": 7,
    "start_time": "2025-02-21T16:28:25.117Z"
   },
   {
    "duration": 106,
    "start_time": "2025-02-21T16:28:25.126Z"
   },
   {
    "duration": 14,
    "start_time": "2025-02-21T16:28:25.233Z"
   },
   {
    "duration": 5,
    "start_time": "2025-02-21T16:28:25.249Z"
   },
   {
    "duration": 5,
    "start_time": "2025-02-21T16:28:25.256Z"
   },
   {
    "duration": 11,
    "start_time": "2025-02-21T16:28:25.263Z"
   },
   {
    "duration": 7,
    "start_time": "2025-02-21T16:28:25.275Z"
   },
   {
    "duration": 6,
    "start_time": "2025-02-21T16:28:25.283Z"
   },
   {
    "duration": 5,
    "start_time": "2025-02-21T16:28:25.290Z"
   },
   {
    "duration": 10,
    "start_time": "2025-02-21T16:28:25.296Z"
   },
   {
    "duration": 2,
    "start_time": "2025-02-21T16:28:25.308Z"
   },
   {
    "duration": 43,
    "start_time": "2025-02-21T16:28:25.312Z"
   },
   {
    "duration": 15,
    "start_time": "2025-02-21T16:28:25.357Z"
   },
   {
    "duration": 33,
    "start_time": "2025-02-21T16:28:25.373Z"
   },
   {
    "duration": 23,
    "start_time": "2025-02-21T16:28:25.408Z"
   },
   {
    "duration": 33,
    "start_time": "2025-02-21T16:28:25.432Z"
   },
   {
    "duration": 172,
    "start_time": "2025-02-21T16:28:25.467Z"
   },
   {
    "duration": 10,
    "start_time": "2025-02-21T16:28:25.641Z"
   },
   {
    "duration": 237,
    "start_time": "2025-02-21T16:28:25.653Z"
   },
   {
    "duration": 168,
    "start_time": "2025-02-21T16:28:25.891Z"
   },
   {
    "duration": 14,
    "start_time": "2025-02-21T16:28:26.061Z"
   },
   {
    "duration": 18,
    "start_time": "2025-02-21T16:28:26.077Z"
   },
   {
    "duration": 283,
    "start_time": "2025-02-21T16:28:26.097Z"
   },
   {
    "duration": 12,
    "start_time": "2025-02-21T16:28:26.382Z"
   },
   {
    "duration": 163,
    "start_time": "2025-02-21T16:28:26.396Z"
   },
   {
    "duration": 5,
    "start_time": "2025-02-21T16:28:26.560Z"
   },
   {
    "duration": 6,
    "start_time": "2025-02-21T16:28:26.566Z"
   },
   {
    "duration": 9,
    "start_time": "2025-02-21T16:28:26.573Z"
   },
   {
    "duration": 28,
    "start_time": "2025-02-21T16:28:26.584Z"
   },
   {
    "duration": 234,
    "start_time": "2025-02-21T16:28:26.614Z"
   },
   {
    "duration": 205,
    "start_time": "2025-02-21T16:28:26.849Z"
   },
   {
    "duration": 258,
    "start_time": "2025-02-21T16:28:27.056Z"
   },
   {
    "duration": 41,
    "start_time": "2025-02-21T16:28:27.315Z"
   },
   {
    "duration": 106,
    "start_time": "2025-02-21T16:28:27.357Z"
   },
   {
    "duration": 0,
    "start_time": "2025-02-21T16:28:27.464Z"
   },
   {
    "duration": 0,
    "start_time": "2025-02-21T16:28:27.466Z"
   },
   {
    "duration": 0,
    "start_time": "2025-02-21T16:28:27.467Z"
   },
   {
    "duration": 0,
    "start_time": "2025-02-21T16:28:27.468Z"
   },
   {
    "duration": 0,
    "start_time": "2025-02-21T16:28:27.469Z"
   },
   {
    "duration": 13,
    "start_time": "2025-02-21T16:28:52.913Z"
   },
   {
    "duration": 1181,
    "start_time": "2025-02-21T16:29:37.274Z"
   },
   {
    "duration": 3,
    "start_time": "2025-02-21T16:29:38.456Z"
   },
   {
    "duration": 120,
    "start_time": "2025-02-21T16:29:38.460Z"
   },
   {
    "duration": 18,
    "start_time": "2025-02-21T16:29:38.582Z"
   },
   {
    "duration": 18,
    "start_time": "2025-02-21T16:29:38.601Z"
   },
   {
    "duration": 50,
    "start_time": "2025-02-21T16:29:38.620Z"
   },
   {
    "duration": 7,
    "start_time": "2025-02-21T16:29:38.672Z"
   },
   {
    "duration": 13,
    "start_time": "2025-02-21T16:29:38.681Z"
   },
   {
    "duration": 11,
    "start_time": "2025-02-21T16:29:38.696Z"
   },
   {
    "duration": 20,
    "start_time": "2025-02-21T16:29:38.709Z"
   },
   {
    "duration": 9,
    "start_time": "2025-02-21T16:29:38.730Z"
   },
   {
    "duration": 4,
    "start_time": "2025-02-21T16:29:38.740Z"
   },
   {
    "duration": 18,
    "start_time": "2025-02-21T16:29:38.745Z"
   },
   {
    "duration": 15,
    "start_time": "2025-02-21T16:29:38.764Z"
   },
   {
    "duration": 62,
    "start_time": "2025-02-21T16:29:38.780Z"
   },
   {
    "duration": 16,
    "start_time": "2025-02-21T16:29:38.844Z"
   },
   {
    "duration": 19,
    "start_time": "2025-02-21T16:29:38.862Z"
   },
   {
    "duration": 8,
    "start_time": "2025-02-21T16:29:38.882Z"
   },
   {
    "duration": 13,
    "start_time": "2025-02-21T16:29:38.891Z"
   },
   {
    "duration": 14,
    "start_time": "2025-02-21T16:29:38.906Z"
   },
   {
    "duration": 56,
    "start_time": "2025-02-21T16:29:38.921Z"
   },
   {
    "duration": 19,
    "start_time": "2025-02-21T16:29:38.979Z"
   },
   {
    "duration": 8,
    "start_time": "2025-02-21T16:29:39.000Z"
   },
   {
    "duration": 46,
    "start_time": "2025-02-21T16:29:39.010Z"
   },
   {
    "duration": 6,
    "start_time": "2025-02-21T16:29:39.058Z"
   },
   {
    "duration": 28,
    "start_time": "2025-02-21T16:29:39.065Z"
   },
   {
    "duration": 35,
    "start_time": "2025-02-21T16:29:39.095Z"
   },
   {
    "duration": 4,
    "start_time": "2025-02-21T16:29:39.134Z"
   },
   {
    "duration": 104,
    "start_time": "2025-02-21T16:29:39.139Z"
   },
   {
    "duration": 14,
    "start_time": "2025-02-21T16:29:39.244Z"
   },
   {
    "duration": 8,
    "start_time": "2025-02-21T16:29:39.259Z"
   },
   {
    "duration": 16,
    "start_time": "2025-02-21T16:29:39.268Z"
   },
   {
    "duration": 23,
    "start_time": "2025-02-21T16:29:39.285Z"
   },
   {
    "duration": 18,
    "start_time": "2025-02-21T16:29:39.309Z"
   },
   {
    "duration": 9,
    "start_time": "2025-02-21T16:29:39.328Z"
   },
   {
    "duration": 11,
    "start_time": "2025-02-21T16:29:39.338Z"
   },
   {
    "duration": 5,
    "start_time": "2025-02-21T16:29:39.351Z"
   },
   {
    "duration": 7,
    "start_time": "2025-02-21T16:29:39.357Z"
   },
   {
    "duration": 13,
    "start_time": "2025-02-21T16:29:39.366Z"
   },
   {
    "duration": 11,
    "start_time": "2025-02-21T16:29:39.381Z"
   },
   {
    "duration": 26,
    "start_time": "2025-02-21T16:29:39.393Z"
   },
   {
    "duration": 23,
    "start_time": "2025-02-21T16:29:39.420Z"
   },
   {
    "duration": 24,
    "start_time": "2025-02-21T16:29:39.444Z"
   },
   {
    "duration": 11,
    "start_time": "2025-02-21T16:29:39.469Z"
   },
   {
    "duration": 11,
    "start_time": "2025-02-21T16:29:39.481Z"
   },
   {
    "duration": 4,
    "start_time": "2025-02-21T16:29:39.494Z"
   },
   {
    "duration": 24,
    "start_time": "2025-02-21T16:29:39.500Z"
   },
   {
    "duration": 15,
    "start_time": "2025-02-21T16:29:39.526Z"
   },
   {
    "duration": 29,
    "start_time": "2025-02-21T16:29:39.543Z"
   },
   {
    "duration": 287,
    "start_time": "2025-02-21T16:29:39.574Z"
   },
   {
    "duration": 6,
    "start_time": "2025-02-21T16:29:39.863Z"
   },
   {
    "duration": 150,
    "start_time": "2025-02-21T16:29:39.871Z"
   },
   {
    "duration": 166,
    "start_time": "2025-02-21T16:29:40.023Z"
   },
   {
    "duration": 13,
    "start_time": "2025-02-21T16:29:40.191Z"
   },
   {
    "duration": 86,
    "start_time": "2025-02-21T16:29:40.206Z"
   },
   {
    "duration": 266,
    "start_time": "2025-02-21T16:29:40.294Z"
   },
   {
    "duration": 14,
    "start_time": "2025-02-21T16:29:40.563Z"
   },
   {
    "duration": 152,
    "start_time": "2025-02-21T16:29:40.579Z"
   },
   {
    "duration": 4,
    "start_time": "2025-02-21T16:29:40.733Z"
   },
   {
    "duration": 3,
    "start_time": "2025-02-21T16:29:40.747Z"
   },
   {
    "duration": 3,
    "start_time": "2025-02-21T16:29:40.752Z"
   },
   {
    "duration": 25,
    "start_time": "2025-02-21T16:29:40.757Z"
   },
   {
    "duration": 223,
    "start_time": "2025-02-21T16:29:40.783Z"
   },
   {
    "duration": 195,
    "start_time": "2025-02-21T16:29:41.008Z"
   },
   {
    "duration": 253,
    "start_time": "2025-02-21T16:29:41.204Z"
   },
   {
    "duration": 33,
    "start_time": "2025-02-21T16:29:41.458Z"
   },
   {
    "duration": 112,
    "start_time": "2025-02-21T16:29:41.492Z"
   },
   {
    "duration": 0,
    "start_time": "2025-02-21T16:29:41.605Z"
   },
   {
    "duration": 0,
    "start_time": "2025-02-21T16:29:41.606Z"
   },
   {
    "duration": 0,
    "start_time": "2025-02-21T16:29:41.608Z"
   },
   {
    "duration": 0,
    "start_time": "2025-02-21T16:29:41.609Z"
   },
   {
    "duration": 0,
    "start_time": "2025-02-21T16:29:41.610Z"
   },
   {
    "duration": 205,
    "start_time": "2025-02-21T16:31:17.085Z"
   },
   {
    "duration": 1168,
    "start_time": "2025-02-21T16:31:45.881Z"
   },
   {
    "duration": 3,
    "start_time": "2025-02-21T16:31:47.051Z"
   },
   {
    "duration": 97,
    "start_time": "2025-02-21T16:31:47.055Z"
   },
   {
    "duration": 19,
    "start_time": "2025-02-21T16:31:47.154Z"
   },
   {
    "duration": 115,
    "start_time": "2025-02-21T16:31:47.175Z"
   },
   {
    "duration": 38,
    "start_time": "2025-02-21T16:31:47.292Z"
   },
   {
    "duration": 7,
    "start_time": "2025-02-21T16:31:47.332Z"
   },
   {
    "duration": 13,
    "start_time": "2025-02-21T16:31:47.340Z"
   },
   {
    "duration": 10,
    "start_time": "2025-02-21T16:31:47.355Z"
   },
   {
    "duration": 20,
    "start_time": "2025-02-21T16:31:47.368Z"
   },
   {
    "duration": 18,
    "start_time": "2025-02-21T16:31:47.390Z"
   },
   {
    "duration": 4,
    "start_time": "2025-02-21T16:31:47.410Z"
   },
   {
    "duration": 16,
    "start_time": "2025-02-21T16:31:47.415Z"
   },
   {
    "duration": 15,
    "start_time": "2025-02-21T16:31:47.433Z"
   },
   {
    "duration": 23,
    "start_time": "2025-02-21T16:31:47.450Z"
   },
   {
    "duration": 21,
    "start_time": "2025-02-21T16:31:47.475Z"
   },
   {
    "duration": 7,
    "start_time": "2025-02-21T16:31:47.498Z"
   },
   {
    "duration": 11,
    "start_time": "2025-02-21T16:31:47.506Z"
   },
   {
    "duration": 30,
    "start_time": "2025-02-21T16:31:47.518Z"
   },
   {
    "duration": 115,
    "start_time": "2025-02-21T16:31:47.550Z"
   },
   {
    "duration": 137,
    "start_time": "2025-02-21T16:31:47.666Z"
   },
   {
    "duration": 18,
    "start_time": "2025-02-21T16:31:47.804Z"
   },
   {
    "duration": 8,
    "start_time": "2025-02-21T16:31:47.823Z"
   },
   {
    "duration": 35,
    "start_time": "2025-02-21T16:31:47.833Z"
   },
   {
    "duration": 5,
    "start_time": "2025-02-21T16:31:47.869Z"
   },
   {
    "duration": 15,
    "start_time": "2025-02-21T16:31:47.875Z"
   },
   {
    "duration": 18,
    "start_time": "2025-02-21T16:31:47.892Z"
   },
   {
    "duration": 4,
    "start_time": "2025-02-21T16:31:47.914Z"
   },
   {
    "duration": 38,
    "start_time": "2025-02-21T16:31:47.919Z"
   },
   {
    "duration": 14,
    "start_time": "2025-02-21T16:31:47.959Z"
   },
   {
    "duration": 7,
    "start_time": "2025-02-21T16:31:47.975Z"
   },
   {
    "duration": 7,
    "start_time": "2025-02-21T16:31:47.984Z"
   },
   {
    "duration": 8,
    "start_time": "2025-02-21T16:31:47.992Z"
   },
   {
    "duration": 18,
    "start_time": "2025-02-21T16:31:48.002Z"
   },
   {
    "duration": 27,
    "start_time": "2025-02-21T16:31:48.022Z"
   },
   {
    "duration": 6,
    "start_time": "2025-02-21T16:31:48.051Z"
   },
   {
    "duration": 12,
    "start_time": "2025-02-21T16:31:48.058Z"
   },
   {
    "duration": 11,
    "start_time": "2025-02-21T16:31:48.072Z"
   },
   {
    "duration": 11,
    "start_time": "2025-02-21T16:31:48.084Z"
   },
   {
    "duration": 7,
    "start_time": "2025-02-21T16:31:48.097Z"
   },
   {
    "duration": 8,
    "start_time": "2025-02-21T16:31:48.106Z"
   },
   {
    "duration": 32,
    "start_time": "2025-02-21T16:31:48.116Z"
   },
   {
    "duration": 12,
    "start_time": "2025-02-21T16:31:48.150Z"
   },
   {
    "duration": 11,
    "start_time": "2025-02-21T16:31:48.164Z"
   },
   {
    "duration": 112,
    "start_time": "2025-02-21T16:31:48.176Z"
   },
   {
    "duration": 8,
    "start_time": "2025-02-21T16:31:48.289Z"
   },
   {
    "duration": 16,
    "start_time": "2025-02-21T16:31:48.298Z"
   },
   {
    "duration": 92,
    "start_time": "2025-02-21T16:31:48.316Z"
   },
   {
    "duration": 33,
    "start_time": "2025-02-21T16:31:48.409Z"
   },
   {
    "duration": 171,
    "start_time": "2025-02-21T16:31:48.444Z"
   },
   {
    "duration": 5,
    "start_time": "2025-02-21T16:31:48.617Z"
   },
   {
    "duration": 144,
    "start_time": "2025-02-21T16:31:48.623Z"
   },
   {
    "duration": 155,
    "start_time": "2025-02-21T16:31:48.769Z"
   },
   {
    "duration": 31,
    "start_time": "2025-02-21T16:31:48.926Z"
   },
   {
    "duration": 18,
    "start_time": "2025-02-21T16:31:48.958Z"
   },
   {
    "duration": 271,
    "start_time": "2025-02-21T16:31:48.977Z"
   },
   {
    "duration": 12,
    "start_time": "2025-02-21T16:31:49.250Z"
   },
   {
    "duration": 158,
    "start_time": "2025-02-21T16:31:49.263Z"
   },
   {
    "duration": 4,
    "start_time": "2025-02-21T16:31:49.423Z"
   },
   {
    "duration": 4,
    "start_time": "2025-02-21T16:31:49.429Z"
   },
   {
    "duration": 3,
    "start_time": "2025-02-21T16:31:49.449Z"
   },
   {
    "duration": 28,
    "start_time": "2025-02-21T16:31:49.454Z"
   },
   {
    "duration": 215,
    "start_time": "2025-02-21T16:31:49.483Z"
   },
   {
    "duration": 200,
    "start_time": "2025-02-21T16:31:49.700Z"
   },
   {
    "duration": 255,
    "start_time": "2025-02-21T16:31:49.902Z"
   },
   {
    "duration": 32,
    "start_time": "2025-02-21T16:31:50.158Z"
   },
   {
    "duration": 292,
    "start_time": "2025-02-21T16:31:50.192Z"
   },
   {
    "duration": 21,
    "start_time": "2025-02-21T16:31:50.486Z"
   },
   {
    "duration": 529,
    "start_time": "2025-02-21T16:31:50.508Z"
   },
   {
    "duration": 27,
    "start_time": "2025-02-21T16:31:51.039Z"
   },
   {
    "duration": 296,
    "start_time": "2025-02-21T16:31:51.067Z"
   },
   {
    "duration": 33,
    "start_time": "2025-02-21T16:31:51.364Z"
   },
   {
    "duration": 25,
    "start_time": "2025-02-21T16:32:12.329Z"
   },
   {
    "duration": 315,
    "start_time": "2025-02-21T16:34:38.278Z"
   },
   {
    "duration": 331,
    "start_time": "2025-02-21T16:35:27.393Z"
   },
   {
    "duration": 318,
    "start_time": "2025-02-21T16:35:31.189Z"
   },
   {
    "duration": 1161,
    "start_time": "2025-02-21T16:35:49.615Z"
   },
   {
    "duration": 3,
    "start_time": "2025-02-21T16:35:50.777Z"
   },
   {
    "duration": 150,
    "start_time": "2025-02-21T16:35:50.781Z"
   },
   {
    "duration": 17,
    "start_time": "2025-02-21T16:35:50.933Z"
   },
   {
    "duration": 24,
    "start_time": "2025-02-21T16:35:50.952Z"
   },
   {
    "duration": 75,
    "start_time": "2025-02-21T16:35:50.977Z"
   },
   {
    "duration": 7,
    "start_time": "2025-02-21T16:35:51.053Z"
   },
   {
    "duration": 19,
    "start_time": "2025-02-21T16:35:51.061Z"
   },
   {
    "duration": 14,
    "start_time": "2025-02-21T16:35:51.081Z"
   },
   {
    "duration": 57,
    "start_time": "2025-02-21T16:35:51.097Z"
   },
   {
    "duration": 33,
    "start_time": "2025-02-21T16:35:51.155Z"
   },
   {
    "duration": 121,
    "start_time": "2025-02-21T16:35:51.189Z"
   },
   {
    "duration": 32,
    "start_time": "2025-02-21T16:35:51.311Z"
   },
   {
    "duration": 14,
    "start_time": "2025-02-21T16:35:51.345Z"
   },
   {
    "duration": 17,
    "start_time": "2025-02-21T16:35:51.360Z"
   },
   {
    "duration": 16,
    "start_time": "2025-02-21T16:35:51.379Z"
   },
   {
    "duration": 4,
    "start_time": "2025-02-21T16:35:51.397Z"
   },
   {
    "duration": 13,
    "start_time": "2025-02-21T16:35:51.403Z"
   },
   {
    "duration": 14,
    "start_time": "2025-02-21T16:35:51.418Z"
   },
   {
    "duration": 14,
    "start_time": "2025-02-21T16:35:51.434Z"
   },
   {
    "duration": 58,
    "start_time": "2025-02-21T16:35:51.449Z"
   },
   {
    "duration": 19,
    "start_time": "2025-02-21T16:35:51.509Z"
   },
   {
    "duration": 21,
    "start_time": "2025-02-21T16:35:51.529Z"
   },
   {
    "duration": 29,
    "start_time": "2025-02-21T16:35:51.552Z"
   },
   {
    "duration": 5,
    "start_time": "2025-02-21T16:35:51.583Z"
   },
   {
    "duration": 166,
    "start_time": "2025-02-21T16:35:51.589Z"
   },
   {
    "duration": 50,
    "start_time": "2025-02-21T16:35:51.757Z"
   },
   {
    "duration": 11,
    "start_time": "2025-02-21T16:35:51.812Z"
   },
   {
    "duration": 30,
    "start_time": "2025-02-21T16:35:51.825Z"
   },
   {
    "duration": 14,
    "start_time": "2025-02-21T16:35:51.857Z"
   },
   {
    "duration": 14,
    "start_time": "2025-02-21T16:35:51.873Z"
   },
   {
    "duration": 13,
    "start_time": "2025-02-21T16:35:51.889Z"
   },
   {
    "duration": 13,
    "start_time": "2025-02-21T16:35:51.904Z"
   },
   {
    "duration": 5,
    "start_time": "2025-02-21T16:35:51.926Z"
   },
   {
    "duration": 17,
    "start_time": "2025-02-21T16:35:51.933Z"
   },
   {
    "duration": 6,
    "start_time": "2025-02-21T16:35:51.952Z"
   },
   {
    "duration": 8,
    "start_time": "2025-02-21T16:35:51.959Z"
   },
   {
    "duration": 26,
    "start_time": "2025-02-21T16:35:51.969Z"
   },
   {
    "duration": 39,
    "start_time": "2025-02-21T16:35:51.997Z"
   },
   {
    "duration": 33,
    "start_time": "2025-02-21T16:35:52.038Z"
   },
   {
    "duration": 30,
    "start_time": "2025-02-21T16:35:52.072Z"
   },
   {
    "duration": 24,
    "start_time": "2025-02-21T16:35:52.104Z"
   },
   {
    "duration": 19,
    "start_time": "2025-02-21T16:35:52.130Z"
   },
   {
    "duration": 3,
    "start_time": "2025-02-21T16:35:52.150Z"
   },
   {
    "duration": 29,
    "start_time": "2025-02-21T16:35:52.154Z"
   },
   {
    "duration": 126,
    "start_time": "2025-02-21T16:35:52.185Z"
   },
   {
    "duration": 108,
    "start_time": "2025-02-21T16:35:52.313Z"
   },
   {
    "duration": 32,
    "start_time": "2025-02-21T16:35:52.423Z"
   },
   {
    "duration": 35,
    "start_time": "2025-02-21T16:35:52.458Z"
   },
   {
    "duration": 317,
    "start_time": "2025-02-21T16:35:52.495Z"
   },
   {
    "duration": 7,
    "start_time": "2025-02-21T16:35:52.813Z"
   },
   {
    "duration": 209,
    "start_time": "2025-02-21T16:35:52.822Z"
   },
   {
    "duration": 163,
    "start_time": "2025-02-21T16:35:53.033Z"
   },
   {
    "duration": 13,
    "start_time": "2025-02-21T16:35:53.198Z"
   },
   {
    "duration": 118,
    "start_time": "2025-02-21T16:35:53.213Z"
   },
   {
    "duration": 268,
    "start_time": "2025-02-21T16:35:53.333Z"
   },
   {
    "duration": 14,
    "start_time": "2025-02-21T16:35:53.602Z"
   },
   {
    "duration": 276,
    "start_time": "2025-02-21T16:35:53.617Z"
   },
   {
    "duration": 4,
    "start_time": "2025-02-21T16:35:53.895Z"
   },
   {
    "duration": 11,
    "start_time": "2025-02-21T16:35:53.901Z"
   },
   {
    "duration": 9,
    "start_time": "2025-02-21T16:35:53.913Z"
   },
   {
    "duration": 35,
    "start_time": "2025-02-21T16:35:53.924Z"
   },
   {
    "duration": 215,
    "start_time": "2025-02-21T16:35:53.961Z"
   },
   {
    "duration": 203,
    "start_time": "2025-02-21T16:35:54.178Z"
   },
   {
    "duration": 247,
    "start_time": "2025-02-21T16:35:54.382Z"
   },
   {
    "duration": 33,
    "start_time": "2025-02-21T16:35:54.631Z"
   },
   {
    "duration": 310,
    "start_time": "2025-02-21T16:35:54.665Z"
   },
   {
    "duration": 21,
    "start_time": "2025-02-21T16:35:54.977Z"
   },
   {
    "duration": 521,
    "start_time": "2025-02-21T16:35:55.000Z"
   },
   {
    "duration": 31,
    "start_time": "2025-02-21T16:35:55.523Z"
   },
   {
    "duration": 304,
    "start_time": "2025-02-21T16:35:55.555Z"
   },
   {
    "duration": 34,
    "start_time": "2025-02-21T16:35:55.861Z"
   },
   {
    "duration": 1148,
    "start_time": "2025-02-21T16:37:49.211Z"
   },
   {
    "duration": 3,
    "start_time": "2025-02-21T16:37:50.361Z"
   },
   {
    "duration": 168,
    "start_time": "2025-02-21T16:37:50.365Z"
   },
   {
    "duration": 19,
    "start_time": "2025-02-21T16:37:50.535Z"
   },
   {
    "duration": 44,
    "start_time": "2025-02-21T16:37:50.555Z"
   },
   {
    "duration": 39,
    "start_time": "2025-02-21T16:37:50.601Z"
   },
   {
    "duration": 8,
    "start_time": "2025-02-21T16:37:50.641Z"
   },
   {
    "duration": 21,
    "start_time": "2025-02-21T16:37:50.650Z"
   },
   {
    "duration": 12,
    "start_time": "2025-02-21T16:37:50.673Z"
   },
   {
    "duration": 20,
    "start_time": "2025-02-21T16:37:50.688Z"
   },
   {
    "duration": 9,
    "start_time": "2025-02-21T16:37:50.710Z"
   },
   {
    "duration": 4,
    "start_time": "2025-02-21T16:37:50.720Z"
   },
   {
    "duration": 13,
    "start_time": "2025-02-21T16:37:50.726Z"
   },
   {
    "duration": 20,
    "start_time": "2025-02-21T16:37:50.740Z"
   },
   {
    "duration": 39,
    "start_time": "2025-02-21T16:37:50.762Z"
   },
   {
    "duration": 98,
    "start_time": "2025-02-21T16:37:50.803Z"
   },
   {
    "duration": 7,
    "start_time": "2025-02-21T16:37:50.903Z"
   },
   {
    "duration": 6,
    "start_time": "2025-02-21T16:37:50.911Z"
   },
   {
    "duration": 9,
    "start_time": "2025-02-21T16:37:50.919Z"
   },
   {
    "duration": 14,
    "start_time": "2025-02-21T16:37:50.929Z"
   },
   {
    "duration": 60,
    "start_time": "2025-02-21T16:37:50.945Z"
   },
   {
    "duration": 19,
    "start_time": "2025-02-21T16:37:51.007Z"
   },
   {
    "duration": 20,
    "start_time": "2025-02-21T16:37:51.028Z"
   },
   {
    "duration": 66,
    "start_time": "2025-02-21T16:37:51.050Z"
   },
   {
    "duration": 5,
    "start_time": "2025-02-21T16:37:51.117Z"
   },
   {
    "duration": 12,
    "start_time": "2025-02-21T16:37:51.123Z"
   },
   {
    "duration": 29,
    "start_time": "2025-02-21T16:37:51.136Z"
   },
   {
    "duration": 10,
    "start_time": "2025-02-21T16:37:51.169Z"
   },
   {
    "duration": 154,
    "start_time": "2025-02-21T16:37:51.180Z"
   },
   {
    "duration": 34,
    "start_time": "2025-02-21T16:37:51.336Z"
   },
   {
    "duration": 8,
    "start_time": "2025-02-21T16:37:51.371Z"
   },
   {
    "duration": 7,
    "start_time": "2025-02-21T16:37:51.381Z"
   },
   {
    "duration": 8,
    "start_time": "2025-02-21T16:37:51.389Z"
   },
   {
    "duration": 45,
    "start_time": "2025-02-21T16:37:51.399Z"
   },
   {
    "duration": 10,
    "start_time": "2025-02-21T16:37:51.446Z"
   },
   {
    "duration": 6,
    "start_time": "2025-02-21T16:37:51.458Z"
   },
   {
    "duration": 6,
    "start_time": "2025-02-21T16:37:51.466Z"
   },
   {
    "duration": 11,
    "start_time": "2025-02-21T16:37:51.473Z"
   },
   {
    "duration": 33,
    "start_time": "2025-02-21T16:37:51.486Z"
   },
   {
    "duration": 6,
    "start_time": "2025-02-21T16:37:51.521Z"
   },
   {
    "duration": 6,
    "start_time": "2025-02-21T16:37:51.528Z"
   },
   {
    "duration": 4,
    "start_time": "2025-02-21T16:37:51.535Z"
   },
   {
    "duration": 14,
    "start_time": "2025-02-21T16:37:51.540Z"
   },
   {
    "duration": 2,
    "start_time": "2025-02-21T16:37:51.555Z"
   },
   {
    "duration": 10,
    "start_time": "2025-02-21T16:37:51.558Z"
   },
   {
    "duration": 84,
    "start_time": "2025-02-21T16:37:51.569Z"
   },
   {
    "duration": 128,
    "start_time": "2025-02-21T16:37:51.654Z"
   },
   {
    "duration": 15,
    "start_time": "2025-02-21T16:37:51.783Z"
   },
   {
    "duration": 28,
    "start_time": "2025-02-21T16:37:51.799Z"
   },
   {
    "duration": 164,
    "start_time": "2025-02-21T16:37:51.828Z"
   },
   {
    "duration": 5,
    "start_time": "2025-02-21T16:37:51.994Z"
   },
   {
    "duration": 140,
    "start_time": "2025-02-21T16:37:52.000Z"
   },
   {
    "duration": 143,
    "start_time": "2025-02-21T16:37:52.147Z"
   },
   {
    "duration": 11,
    "start_time": "2025-02-21T16:37:52.292Z"
   },
   {
    "duration": 150,
    "start_time": "2025-02-21T16:37:52.305Z"
   },
   {
    "duration": 260,
    "start_time": "2025-02-21T16:37:52.456Z"
   },
   {
    "duration": 13,
    "start_time": "2025-02-21T16:37:52.718Z"
   },
   {
    "duration": 155,
    "start_time": "2025-02-21T16:37:52.732Z"
   },
   {
    "duration": 4,
    "start_time": "2025-02-21T16:37:52.889Z"
   },
   {
    "duration": 24,
    "start_time": "2025-02-21T16:37:52.894Z"
   },
   {
    "duration": 5,
    "start_time": "2025-02-21T16:37:52.920Z"
   },
   {
    "duration": 26,
    "start_time": "2025-02-21T16:37:52.927Z"
   },
   {
    "duration": 231,
    "start_time": "2025-02-21T16:37:52.954Z"
   },
   {
    "duration": 210,
    "start_time": "2025-02-21T16:37:53.187Z"
   },
   {
    "duration": 250,
    "start_time": "2025-02-21T16:37:53.399Z"
   },
   {
    "duration": 28,
    "start_time": "2025-02-21T16:37:53.651Z"
   },
   {
    "duration": 373,
    "start_time": "2025-02-21T16:37:53.681Z"
   },
   {
    "duration": 21,
    "start_time": "2025-02-21T16:37:54.055Z"
   },
   {
    "duration": 478,
    "start_time": "2025-02-21T16:37:54.077Z"
   },
   {
    "duration": 21,
    "start_time": "2025-02-21T16:37:54.556Z"
   },
   {
    "duration": 331,
    "start_time": "2025-02-21T16:37:54.579Z"
   },
   {
    "duration": 40,
    "start_time": "2025-02-21T16:37:54.911Z"
   },
   {
    "duration": 6,
    "start_time": "2025-02-21T16:40:31.398Z"
   },
   {
    "duration": 1182,
    "start_time": "2025-02-21T16:40:55.709Z"
   },
   {
    "duration": 3,
    "start_time": "2025-02-21T16:40:56.893Z"
   },
   {
    "duration": 98,
    "start_time": "2025-02-21T16:40:56.897Z"
   },
   {
    "duration": 19,
    "start_time": "2025-02-21T16:40:56.997Z"
   },
   {
    "duration": 59,
    "start_time": "2025-02-21T16:40:57.019Z"
   },
   {
    "duration": 39,
    "start_time": "2025-02-21T16:40:57.080Z"
   },
   {
    "duration": 7,
    "start_time": "2025-02-21T16:40:57.121Z"
   },
   {
    "duration": 19,
    "start_time": "2025-02-21T16:40:57.129Z"
   },
   {
    "duration": 8,
    "start_time": "2025-02-21T16:40:57.150Z"
   },
   {
    "duration": 32,
    "start_time": "2025-02-21T16:40:57.160Z"
   },
   {
    "duration": 15,
    "start_time": "2025-02-21T16:40:57.193Z"
   },
   {
    "duration": 4,
    "start_time": "2025-02-21T16:40:57.210Z"
   },
   {
    "duration": 19,
    "start_time": "2025-02-21T16:40:57.216Z"
   },
   {
    "duration": 99,
    "start_time": "2025-02-21T16:40:57.240Z"
   },
   {
    "duration": 36,
    "start_time": "2025-02-21T16:40:57.342Z"
   },
   {
    "duration": 13,
    "start_time": "2025-02-21T16:40:57.381Z"
   },
   {
    "duration": 7,
    "start_time": "2025-02-21T16:40:57.395Z"
   },
   {
    "duration": 4,
    "start_time": "2025-02-21T16:40:57.403Z"
   },
   {
    "duration": 4,
    "start_time": "2025-02-21T16:40:57.408Z"
   },
   {
    "duration": 11,
    "start_time": "2025-02-21T16:40:57.413Z"
   },
   {
    "duration": 51,
    "start_time": "2025-02-21T16:40:57.448Z"
   },
   {
    "duration": 18,
    "start_time": "2025-02-21T16:40:57.501Z"
   },
   {
    "duration": 28,
    "start_time": "2025-02-21T16:40:57.520Z"
   },
   {
    "duration": 33,
    "start_time": "2025-02-21T16:40:57.550Z"
   },
   {
    "duration": 5,
    "start_time": "2025-02-21T16:40:57.584Z"
   },
   {
    "duration": 9,
    "start_time": "2025-02-21T16:40:57.590Z"
   },
   {
    "duration": 103,
    "start_time": "2025-02-21T16:40:57.601Z"
   },
   {
    "duration": 102,
    "start_time": "2025-02-21T16:40:57.706Z"
   },
   {
    "duration": 20,
    "start_time": "2025-02-21T16:40:57.809Z"
   },
   {
    "duration": 13,
    "start_time": "2025-02-21T16:40:57.830Z"
   },
   {
    "duration": 8,
    "start_time": "2025-02-21T16:40:57.844Z"
   },
   {
    "duration": 10,
    "start_time": "2025-02-21T16:40:57.853Z"
   },
   {
    "duration": 11,
    "start_time": "2025-02-21T16:40:57.864Z"
   },
   {
    "duration": 4,
    "start_time": "2025-02-21T16:40:57.876Z"
   },
   {
    "duration": 5,
    "start_time": "2025-02-21T16:40:57.881Z"
   },
   {
    "duration": 4,
    "start_time": "2025-02-21T16:40:57.887Z"
   },
   {
    "duration": 8,
    "start_time": "2025-02-21T16:40:57.892Z"
   },
   {
    "duration": 48,
    "start_time": "2025-02-21T16:40:57.901Z"
   },
   {
    "duration": 12,
    "start_time": "2025-02-21T16:40:57.950Z"
   },
   {
    "duration": 6,
    "start_time": "2025-02-21T16:40:57.964Z"
   },
   {
    "duration": 6,
    "start_time": "2025-02-21T16:40:57.974Z"
   },
   {
    "duration": 4,
    "start_time": "2025-02-21T16:40:57.982Z"
   },
   {
    "duration": 10,
    "start_time": "2025-02-21T16:40:57.987Z"
   },
   {
    "duration": 50,
    "start_time": "2025-02-21T16:40:57.998Z"
   },
   {
    "duration": 11,
    "start_time": "2025-02-21T16:40:58.050Z"
   },
   {
    "duration": 7,
    "start_time": "2025-02-21T16:40:58.062Z"
   },
   {
    "duration": 18,
    "start_time": "2025-02-21T16:40:58.070Z"
   },
   {
    "duration": 20,
    "start_time": "2025-02-21T16:40:58.090Z"
   },
   {
    "duration": 63,
    "start_time": "2025-02-21T16:40:58.112Z"
   },
   {
    "duration": 209,
    "start_time": "2025-02-21T16:40:58.176Z"
   },
   {
    "duration": 6,
    "start_time": "2025-02-21T16:40:58.386Z"
   },
   {
    "duration": 179,
    "start_time": "2025-02-21T16:40:58.394Z"
   },
   {
    "duration": 158,
    "start_time": "2025-02-21T16:40:58.574Z"
   },
   {
    "duration": 16,
    "start_time": "2025-02-21T16:40:58.734Z"
   },
   {
    "duration": 18,
    "start_time": "2025-02-21T16:40:58.752Z"
   },
   {
    "duration": 284,
    "start_time": "2025-02-21T16:40:58.772Z"
   },
   {
    "duration": 14,
    "start_time": "2025-02-21T16:40:59.058Z"
   },
   {
    "duration": 163,
    "start_time": "2025-02-21T16:40:59.074Z"
   },
   {
    "duration": 11,
    "start_time": "2025-02-21T16:40:59.239Z"
   },
   {
    "duration": 97,
    "start_time": "2025-02-21T16:40:59.252Z"
   },
   {
    "duration": 5,
    "start_time": "2025-02-21T16:40:59.351Z"
   },
   {
    "duration": 39,
    "start_time": "2025-02-21T16:40:59.358Z"
   },
   {
    "duration": 219,
    "start_time": "2025-02-21T16:40:59.399Z"
   },
   {
    "duration": 204,
    "start_time": "2025-02-21T16:40:59.620Z"
   },
   {
    "duration": 254,
    "start_time": "2025-02-21T16:40:59.825Z"
   },
   {
    "duration": 28,
    "start_time": "2025-02-21T16:41:00.081Z"
   },
   {
    "duration": 493,
    "start_time": "2025-02-21T16:41:00.111Z"
   },
   {
    "duration": 20,
    "start_time": "2025-02-21T16:41:00.606Z"
   },
   {
    "duration": 529,
    "start_time": "2025-02-21T16:41:00.627Z"
   },
   {
    "duration": 22,
    "start_time": "2025-02-21T16:41:01.157Z"
   },
   {
    "duration": 337,
    "start_time": "2025-02-21T16:41:01.182Z"
   },
   {
    "duration": 47,
    "start_time": "2025-02-21T16:41:01.521Z"
   },
   {
    "duration": 4,
    "start_time": "2025-02-21T16:42:20.626Z"
   },
   {
    "duration": 1221,
    "start_time": "2025-02-21T16:42:25.085Z"
   },
   {
    "duration": 3,
    "start_time": "2025-02-21T16:42:26.308Z"
   },
   {
    "duration": 109,
    "start_time": "2025-02-21T16:42:26.312Z"
   },
   {
    "duration": 19,
    "start_time": "2025-02-21T16:42:26.423Z"
   },
   {
    "duration": 35,
    "start_time": "2025-02-21T16:42:26.443Z"
   },
   {
    "duration": 45,
    "start_time": "2025-02-21T16:42:26.480Z"
   },
   {
    "duration": 82,
    "start_time": "2025-02-21T16:42:26.527Z"
   },
   {
    "duration": 26,
    "start_time": "2025-02-21T16:42:26.611Z"
   },
   {
    "duration": 9,
    "start_time": "2025-02-21T16:42:26.639Z"
   },
   {
    "duration": 10,
    "start_time": "2025-02-21T16:42:26.650Z"
   },
   {
    "duration": 9,
    "start_time": "2025-02-21T16:42:26.661Z"
   },
   {
    "duration": 3,
    "start_time": "2025-02-21T16:42:26.672Z"
   },
   {
    "duration": 25,
    "start_time": "2025-02-21T16:42:26.677Z"
   },
   {
    "duration": 22,
    "start_time": "2025-02-21T16:42:26.703Z"
   },
   {
    "duration": 28,
    "start_time": "2025-02-21T16:42:26.727Z"
   },
   {
    "duration": 12,
    "start_time": "2025-02-21T16:42:26.757Z"
   },
   {
    "duration": 8,
    "start_time": "2025-02-21T16:42:26.771Z"
   },
   {
    "duration": 8,
    "start_time": "2025-02-21T16:42:26.780Z"
   },
   {
    "duration": 3,
    "start_time": "2025-02-21T16:42:26.790Z"
   },
   {
    "duration": 14,
    "start_time": "2025-02-21T16:42:26.795Z"
   },
   {
    "duration": 85,
    "start_time": "2025-02-21T16:42:26.810Z"
   },
   {
    "duration": 36,
    "start_time": "2025-02-21T16:42:26.896Z"
   },
   {
    "duration": 8,
    "start_time": "2025-02-21T16:42:26.933Z"
   },
   {
    "duration": 48,
    "start_time": "2025-02-21T16:42:26.942Z"
   },
   {
    "duration": 7,
    "start_time": "2025-02-21T16:42:26.992Z"
   },
   {
    "duration": 9,
    "start_time": "2025-02-21T16:42:27.000Z"
   },
   {
    "duration": 46,
    "start_time": "2025-02-21T16:42:27.010Z"
   },
   {
    "duration": 6,
    "start_time": "2025-02-21T16:42:27.062Z"
   },
   {
    "duration": 24,
    "start_time": "2025-02-21T16:42:27.071Z"
   },
   {
    "duration": 17,
    "start_time": "2025-02-21T16:42:27.097Z"
   },
   {
    "duration": 11,
    "start_time": "2025-02-21T16:42:27.148Z"
   },
   {
    "duration": 10,
    "start_time": "2025-02-21T16:42:27.161Z"
   },
   {
    "duration": 25,
    "start_time": "2025-02-21T16:42:27.172Z"
   },
   {
    "duration": 8,
    "start_time": "2025-02-21T16:42:27.199Z"
   },
   {
    "duration": 13,
    "start_time": "2025-02-21T16:42:27.208Z"
   },
   {
    "duration": 5,
    "start_time": "2025-02-21T16:42:27.223Z"
   },
   {
    "duration": 24,
    "start_time": "2025-02-21T16:42:27.229Z"
   },
   {
    "duration": 92,
    "start_time": "2025-02-21T16:42:27.256Z"
   },
   {
    "duration": 15,
    "start_time": "2025-02-21T16:42:27.351Z"
   },
   {
    "duration": 8,
    "start_time": "2025-02-21T16:42:27.368Z"
   },
   {
    "duration": 22,
    "start_time": "2025-02-21T16:42:27.379Z"
   },
   {
    "duration": 11,
    "start_time": "2025-02-21T16:42:27.403Z"
   },
   {
    "duration": 15,
    "start_time": "2025-02-21T16:42:27.417Z"
   },
   {
    "duration": 3,
    "start_time": "2025-02-21T16:42:27.449Z"
   },
   {
    "duration": 19,
    "start_time": "2025-02-21T16:42:27.454Z"
   },
   {
    "duration": 8,
    "start_time": "2025-02-21T16:42:27.475Z"
   },
   {
    "duration": 24,
    "start_time": "2025-02-21T16:42:27.484Z"
   },
   {
    "duration": 14,
    "start_time": "2025-02-21T16:42:27.510Z"
   },
   {
    "duration": 46,
    "start_time": "2025-02-21T16:42:27.525Z"
   },
   {
    "duration": 205,
    "start_time": "2025-02-21T16:42:27.573Z"
   },
   {
    "duration": 8,
    "start_time": "2025-02-21T16:42:27.780Z"
   },
   {
    "duration": 153,
    "start_time": "2025-02-21T16:42:27.791Z"
   },
   {
    "duration": 158,
    "start_time": "2025-02-21T16:42:27.947Z"
   },
   {
    "duration": 13,
    "start_time": "2025-02-21T16:42:28.106Z"
   },
   {
    "duration": 29,
    "start_time": "2025-02-21T16:42:28.120Z"
   },
   {
    "duration": 345,
    "start_time": "2025-02-21T16:42:28.151Z"
   },
   {
    "duration": 13,
    "start_time": "2025-02-21T16:42:28.498Z"
   },
   {
    "duration": 233,
    "start_time": "2025-02-21T16:42:28.512Z"
   },
   {
    "duration": 4,
    "start_time": "2025-02-21T16:42:28.746Z"
   },
   {
    "duration": 5,
    "start_time": "2025-02-21T16:42:28.751Z"
   },
   {
    "duration": 10,
    "start_time": "2025-02-21T16:42:28.758Z"
   },
   {
    "duration": 30,
    "start_time": "2025-02-21T16:42:28.769Z"
   },
   {
    "duration": 255,
    "start_time": "2025-02-21T16:42:28.800Z"
   },
   {
    "duration": 219,
    "start_time": "2025-02-21T16:42:29.057Z"
   },
   {
    "duration": 256,
    "start_time": "2025-02-21T16:42:29.278Z"
   },
   {
    "duration": 37,
    "start_time": "2025-02-21T16:42:29.535Z"
   },
   {
    "duration": 336,
    "start_time": "2025-02-21T16:42:29.574Z"
   },
   {
    "duration": 46,
    "start_time": "2025-02-21T16:42:29.912Z"
   },
   {
    "duration": 514,
    "start_time": "2025-02-21T16:42:29.960Z"
   },
   {
    "duration": 24,
    "start_time": "2025-02-21T16:42:30.476Z"
   },
   {
    "duration": 506,
    "start_time": "2025-02-21T16:42:30.502Z"
   },
   {
    "duration": 41,
    "start_time": "2025-02-21T16:42:31.009Z"
   },
   {
    "duration": 5,
    "start_time": "2025-02-21T16:45:27.514Z"
   },
   {
    "duration": 183,
    "start_time": "2025-02-21T16:55:12.014Z"
   },
   {
    "duration": 130,
    "start_time": "2025-02-21T16:55:45.778Z"
   },
   {
    "duration": 116,
    "start_time": "2025-02-21T16:58:20.419Z"
   },
   {
    "duration": 121,
    "start_time": "2025-02-21T16:58:32.221Z"
   },
   {
    "duration": 130,
    "start_time": "2025-02-21T16:58:42.600Z"
   },
   {
    "duration": 32,
    "start_time": "2025-02-21T17:00:04.994Z"
   },
   {
    "duration": 275,
    "start_time": "2025-02-21T17:03:48.530Z"
   },
   {
    "duration": 37,
    "start_time": "2025-02-21T17:06:26.469Z"
   },
   {
    "duration": 78,
    "start_time": "2025-02-21T17:06:46.006Z"
   },
   {
    "duration": 89,
    "start_time": "2025-02-21T17:06:50.539Z"
   },
   {
    "duration": 1565,
    "start_time": "2025-02-21T17:07:03.805Z"
   },
   {
    "duration": 3,
    "start_time": "2025-02-21T17:07:05.372Z"
   },
   {
    "duration": 185,
    "start_time": "2025-02-21T17:07:05.376Z"
   },
   {
    "duration": 18,
    "start_time": "2025-02-21T17:07:05.571Z"
   },
   {
    "duration": 46,
    "start_time": "2025-02-21T17:07:05.592Z"
   },
   {
    "duration": 40,
    "start_time": "2025-02-21T17:07:05.640Z"
   },
   {
    "duration": 9,
    "start_time": "2025-02-21T17:07:05.683Z"
   },
   {
    "duration": 135,
    "start_time": "2025-02-21T17:07:05.695Z"
   },
   {
    "duration": 33,
    "start_time": "2025-02-21T17:07:05.832Z"
   },
   {
    "duration": 36,
    "start_time": "2025-02-21T17:07:05.870Z"
   },
   {
    "duration": 49,
    "start_time": "2025-02-21T17:07:05.909Z"
   },
   {
    "duration": 21,
    "start_time": "2025-02-21T17:07:05.961Z"
   },
   {
    "duration": 39,
    "start_time": "2025-02-21T17:07:05.984Z"
   },
   {
    "duration": 36,
    "start_time": "2025-02-21T17:07:06.025Z"
   },
   {
    "duration": 33,
    "start_time": "2025-02-21T17:07:06.068Z"
   },
   {
    "duration": 31,
    "start_time": "2025-02-21T17:07:06.103Z"
   },
   {
    "duration": 12,
    "start_time": "2025-02-21T17:07:06.136Z"
   },
   {
    "duration": 55,
    "start_time": "2025-02-21T17:07:06.150Z"
   },
   {
    "duration": 27,
    "start_time": "2025-02-21T17:07:06.207Z"
   },
   {
    "duration": 55,
    "start_time": "2025-02-21T17:07:06.236Z"
   },
   {
    "duration": 131,
    "start_time": "2025-02-21T17:07:06.293Z"
   },
   {
    "duration": 50,
    "start_time": "2025-02-21T17:07:06.426Z"
   },
   {
    "duration": 16,
    "start_time": "2025-02-21T17:07:06.478Z"
   },
   {
    "duration": 190,
    "start_time": "2025-02-21T17:07:06.496Z"
   },
   {
    "duration": 15,
    "start_time": "2025-02-21T17:07:06.688Z"
   },
   {
    "duration": 31,
    "start_time": "2025-02-21T17:07:06.705Z"
   },
   {
    "duration": 32,
    "start_time": "2025-02-21T17:07:06.737Z"
   },
   {
    "duration": 5,
    "start_time": "2025-02-21T17:07:06.775Z"
   },
   {
    "duration": 57,
    "start_time": "2025-02-21T17:07:06.782Z"
   },
   {
    "duration": 29,
    "start_time": "2025-02-21T17:07:06.841Z"
   },
   {
    "duration": 26,
    "start_time": "2025-02-21T17:07:06.874Z"
   },
   {
    "duration": 7,
    "start_time": "2025-02-21T17:07:06.901Z"
   },
   {
    "duration": 11,
    "start_time": "2025-02-21T17:07:06.910Z"
   },
   {
    "duration": 10,
    "start_time": "2025-02-21T17:07:06.923Z"
   },
   {
    "duration": 99,
    "start_time": "2025-02-21T17:07:06.935Z"
   },
   {
    "duration": 6,
    "start_time": "2025-02-21T17:07:07.036Z"
   },
   {
    "duration": 55,
    "start_time": "2025-02-21T17:07:07.044Z"
   },
   {
    "duration": 27,
    "start_time": "2025-02-21T17:07:07.101Z"
   },
   {
    "duration": 15,
    "start_time": "2025-02-21T17:07:07.130Z"
   },
   {
    "duration": 26,
    "start_time": "2025-02-21T17:07:07.147Z"
   },
   {
    "duration": 42,
    "start_time": "2025-02-21T17:07:07.175Z"
   },
   {
    "duration": 7,
    "start_time": "2025-02-21T17:07:07.220Z"
   },
   {
    "duration": 46,
    "start_time": "2025-02-21T17:07:07.228Z"
   },
   {
    "duration": 38,
    "start_time": "2025-02-21T17:07:07.276Z"
   },
   {
    "duration": 15,
    "start_time": "2025-02-21T17:07:07.316Z"
   },
   {
    "duration": 8,
    "start_time": "2025-02-21T17:07:07.333Z"
   },
   {
    "duration": 31,
    "start_time": "2025-02-21T17:07:07.343Z"
   },
   {
    "duration": 118,
    "start_time": "2025-02-21T17:07:07.376Z"
   },
   {
    "duration": 42,
    "start_time": "2025-02-21T17:07:07.496Z"
   },
   {
    "duration": 189,
    "start_time": "2025-02-21T17:07:07.540Z"
   },
   {
    "duration": 22,
    "start_time": "2025-02-21T17:07:07.731Z"
   },
   {
    "duration": 245,
    "start_time": "2025-02-21T17:07:07.755Z"
   },
   {
    "duration": 190,
    "start_time": "2025-02-21T17:07:08.002Z"
   },
   {
    "duration": 17,
    "start_time": "2025-02-21T17:07:08.193Z"
   },
   {
    "duration": 55,
    "start_time": "2025-02-21T17:07:08.214Z"
   },
   {
    "duration": 354,
    "start_time": "2025-02-21T17:07:08.271Z"
   },
   {
    "duration": 25,
    "start_time": "2025-02-21T17:07:08.627Z"
   },
   {
    "duration": 271,
    "start_time": "2025-02-21T17:07:08.654Z"
   },
   {
    "duration": 5,
    "start_time": "2025-02-21T17:07:08.927Z"
   },
   {
    "duration": 132,
    "start_time": "2025-02-21T17:07:08.934Z"
   },
   {
    "duration": 5,
    "start_time": "2025-02-21T17:07:09.068Z"
   },
   {
    "duration": 33,
    "start_time": "2025-02-21T17:07:09.075Z"
   },
   {
    "duration": 271,
    "start_time": "2025-02-21T17:07:09.111Z"
   },
   {
    "duration": 227,
    "start_time": "2025-02-21T17:07:09.384Z"
   },
   {
    "duration": 271,
    "start_time": "2025-02-21T17:07:09.613Z"
   },
   {
    "duration": 42,
    "start_time": "2025-02-21T17:07:09.886Z"
   },
   {
    "duration": 411,
    "start_time": "2025-02-21T17:07:09.930Z"
   },
   {
    "duration": 37,
    "start_time": "2025-02-21T17:07:10.347Z"
   },
   {
    "duration": 592,
    "start_time": "2025-02-21T17:07:10.386Z"
   },
   {
    "duration": 26,
    "start_time": "2025-02-21T17:07:10.980Z"
   },
   {
    "duration": 374,
    "start_time": "2025-02-21T17:07:11.009Z"
   },
   {
    "duration": 35,
    "start_time": "2025-02-21T17:07:11.385Z"
   },
   {
    "duration": 37,
    "start_time": "2025-02-21T17:07:11.422Z"
   },
   {
    "duration": 114,
    "start_time": "2025-02-21T17:07:11.461Z"
   },
   {
    "duration": 0,
    "start_time": "2025-02-21T17:07:11.576Z"
   },
   {
    "duration": 0,
    "start_time": "2025-02-21T17:07:11.578Z"
   },
   {
    "duration": 0,
    "start_time": "2025-02-21T17:07:11.579Z"
   },
   {
    "duration": 0,
    "start_time": "2025-02-21T17:07:11.581Z"
   },
   {
    "duration": 1374,
    "start_time": "2025-02-21T17:07:39.290Z"
   },
   {
    "duration": 3,
    "start_time": "2025-02-21T17:07:40.672Z"
   },
   {
    "duration": 186,
    "start_time": "2025-02-21T17:07:40.678Z"
   },
   {
    "duration": 31,
    "start_time": "2025-02-21T17:07:40.872Z"
   },
   {
    "duration": 25,
    "start_time": "2025-02-21T17:07:40.905Z"
   },
   {
    "duration": 39,
    "start_time": "2025-02-21T17:07:40.947Z"
   },
   {
    "duration": 77,
    "start_time": "2025-02-21T17:07:40.988Z"
   },
   {
    "duration": 15,
    "start_time": "2025-02-21T17:07:41.066Z"
   },
   {
    "duration": 24,
    "start_time": "2025-02-21T17:07:41.083Z"
   },
   {
    "duration": 7,
    "start_time": "2025-02-21T17:07:41.110Z"
   },
   {
    "duration": 22,
    "start_time": "2025-02-21T17:07:41.119Z"
   },
   {
    "duration": 6,
    "start_time": "2025-02-21T17:07:41.143Z"
   },
   {
    "duration": 34,
    "start_time": "2025-02-21T17:07:41.152Z"
   },
   {
    "duration": 18,
    "start_time": "2025-02-21T17:07:41.191Z"
   },
   {
    "duration": 21,
    "start_time": "2025-02-21T17:07:41.211Z"
   },
   {
    "duration": 54,
    "start_time": "2025-02-21T17:07:41.234Z"
   },
   {
    "duration": 8,
    "start_time": "2025-02-21T17:07:41.292Z"
   },
   {
    "duration": 20,
    "start_time": "2025-02-21T17:07:41.303Z"
   },
   {
    "duration": 15,
    "start_time": "2025-02-21T17:07:41.325Z"
   },
   {
    "duration": 33,
    "start_time": "2025-02-21T17:07:41.343Z"
   },
   {
    "duration": 197,
    "start_time": "2025-02-21T17:07:41.377Z"
   },
   {
    "duration": 29,
    "start_time": "2025-02-21T17:07:41.577Z"
   },
   {
    "duration": 9,
    "start_time": "2025-02-21T17:07:41.608Z"
   },
   {
    "duration": 58,
    "start_time": "2025-02-21T17:07:41.619Z"
   },
   {
    "duration": 6,
    "start_time": "2025-02-21T17:07:41.682Z"
   },
   {
    "duration": 12,
    "start_time": "2025-02-21T17:07:41.690Z"
   },
   {
    "duration": 21,
    "start_time": "2025-02-21T17:07:41.704Z"
   },
   {
    "duration": 79,
    "start_time": "2025-02-21T17:07:41.749Z"
   },
   {
    "duration": 26,
    "start_time": "2025-02-21T17:07:41.830Z"
   },
   {
    "duration": 32,
    "start_time": "2025-02-21T17:07:41.858Z"
   },
   {
    "duration": 11,
    "start_time": "2025-02-21T17:07:41.892Z"
   },
   {
    "duration": 9,
    "start_time": "2025-02-21T17:07:41.905Z"
   },
   {
    "duration": 17,
    "start_time": "2025-02-21T17:07:41.916Z"
   },
   {
    "duration": 38,
    "start_time": "2025-02-21T17:07:41.936Z"
   },
   {
    "duration": 17,
    "start_time": "2025-02-21T17:07:41.976Z"
   },
   {
    "duration": 6,
    "start_time": "2025-02-21T17:07:41.995Z"
   },
   {
    "duration": 21,
    "start_time": "2025-02-21T17:07:42.002Z"
   },
   {
    "duration": 9,
    "start_time": "2025-02-21T17:07:42.025Z"
   },
   {
    "duration": 13,
    "start_time": "2025-02-21T17:07:42.036Z"
   },
   {
    "duration": 18,
    "start_time": "2025-02-21T17:07:42.050Z"
   },
   {
    "duration": 14,
    "start_time": "2025-02-21T17:07:42.070Z"
   },
   {
    "duration": 11,
    "start_time": "2025-02-21T17:07:42.086Z"
   },
   {
    "duration": 25,
    "start_time": "2025-02-21T17:07:42.099Z"
   },
   {
    "duration": 4,
    "start_time": "2025-02-21T17:07:42.127Z"
   },
   {
    "duration": 30,
    "start_time": "2025-02-21T17:07:42.133Z"
   },
   {
    "duration": 29,
    "start_time": "2025-02-21T17:07:42.165Z"
   },
   {
    "duration": 32,
    "start_time": "2025-02-21T17:07:42.197Z"
   },
   {
    "duration": 30,
    "start_time": "2025-02-21T17:07:42.231Z"
   },
   {
    "duration": 51,
    "start_time": "2025-02-21T17:07:42.264Z"
   },
   {
    "duration": 324,
    "start_time": "2025-02-21T17:07:42.319Z"
   },
   {
    "duration": 10,
    "start_time": "2025-02-21T17:07:42.646Z"
   },
   {
    "duration": 251,
    "start_time": "2025-02-21T17:07:42.658Z"
   },
   {
    "duration": 221,
    "start_time": "2025-02-21T17:07:42.911Z"
   },
   {
    "duration": 37,
    "start_time": "2025-02-21T17:07:43.135Z"
   },
   {
    "duration": 27,
    "start_time": "2025-02-21T17:07:43.173Z"
   },
   {
    "duration": 430,
    "start_time": "2025-02-21T17:07:43.202Z"
   },
   {
    "duration": 18,
    "start_time": "2025-02-21T17:07:43.635Z"
   },
   {
    "duration": 247,
    "start_time": "2025-02-21T17:07:43.655Z"
   },
   {
    "duration": 5,
    "start_time": "2025-02-21T17:07:43.904Z"
   },
   {
    "duration": 10,
    "start_time": "2025-02-21T17:07:43.911Z"
   },
   {
    "duration": 7,
    "start_time": "2025-02-21T17:07:43.924Z"
   },
   {
    "duration": 76,
    "start_time": "2025-02-21T17:07:43.933Z"
   },
   {
    "duration": 341,
    "start_time": "2025-02-21T17:07:44.011Z"
   },
   {
    "duration": 343,
    "start_time": "2025-02-21T17:07:44.359Z"
   },
   {
    "duration": 346,
    "start_time": "2025-02-21T17:07:44.705Z"
   },
   {
    "duration": 53,
    "start_time": "2025-02-21T17:07:45.063Z"
   },
   {
    "duration": 553,
    "start_time": "2025-02-21T17:07:45.118Z"
   },
   {
    "duration": 33,
    "start_time": "2025-02-21T17:07:45.673Z"
   },
   {
    "duration": 730,
    "start_time": "2025-02-21T17:07:45.708Z"
   },
   {
    "duration": 45,
    "start_time": "2025-02-21T17:07:46.440Z"
   },
   {
    "duration": 400,
    "start_time": "2025-02-21T17:07:46.488Z"
   },
   {
    "duration": 73,
    "start_time": "2025-02-21T17:07:46.890Z"
   },
   {
    "duration": 8,
    "start_time": "2025-02-21T17:07:46.970Z"
   },
   {
    "duration": 203,
    "start_time": "2025-02-21T17:07:46.980Z"
   },
   {
    "duration": 0,
    "start_time": "2025-02-21T17:07:47.186Z"
   },
   {
    "duration": 0,
    "start_time": "2025-02-21T17:07:47.187Z"
   },
   {
    "duration": 0,
    "start_time": "2025-02-21T17:07:47.188Z"
   },
   {
    "duration": 0,
    "start_time": "2025-02-21T17:07:47.189Z"
   },
   {
    "duration": 122,
    "start_time": "2025-02-21T17:09:06.186Z"
   },
   {
    "duration": 1278,
    "start_time": "2025-02-21T17:09:27.125Z"
   },
   {
    "duration": 3,
    "start_time": "2025-02-21T17:09:28.405Z"
   },
   {
    "duration": 206,
    "start_time": "2025-02-21T17:09:28.409Z"
   },
   {
    "duration": 86,
    "start_time": "2025-02-21T17:09:28.617Z"
   },
   {
    "duration": 52,
    "start_time": "2025-02-21T17:09:28.704Z"
   },
   {
    "duration": 51,
    "start_time": "2025-02-21T17:09:28.758Z"
   },
   {
    "duration": 9,
    "start_time": "2025-02-21T17:09:28.811Z"
   },
   {
    "duration": 20,
    "start_time": "2025-02-21T17:09:28.822Z"
   },
   {
    "duration": 75,
    "start_time": "2025-02-21T17:09:28.844Z"
   },
   {
    "duration": 7,
    "start_time": "2025-02-21T17:09:28.923Z"
   },
   {
    "duration": 116,
    "start_time": "2025-02-21T17:09:28.933Z"
   },
   {
    "duration": 19,
    "start_time": "2025-02-21T17:09:29.051Z"
   },
   {
    "duration": 26,
    "start_time": "2025-02-21T17:09:29.073Z"
   },
   {
    "duration": 21,
    "start_time": "2025-02-21T17:09:29.101Z"
   },
   {
    "duration": 15,
    "start_time": "2025-02-21T17:09:29.124Z"
   },
   {
    "duration": 28,
    "start_time": "2025-02-21T17:09:29.141Z"
   },
   {
    "duration": 9,
    "start_time": "2025-02-21T17:09:29.171Z"
   },
   {
    "duration": 8,
    "start_time": "2025-02-21T17:09:29.182Z"
   },
   {
    "duration": 4,
    "start_time": "2025-02-21T17:09:29.193Z"
   },
   {
    "duration": 18,
    "start_time": "2025-02-21T17:09:29.199Z"
   },
   {
    "duration": 78,
    "start_time": "2025-02-21T17:09:29.219Z"
   },
   {
    "duration": 18,
    "start_time": "2025-02-21T17:09:29.299Z"
   },
   {
    "duration": 8,
    "start_time": "2025-02-21T17:09:29.318Z"
   },
   {
    "duration": 134,
    "start_time": "2025-02-21T17:09:29.327Z"
   },
   {
    "duration": 14,
    "start_time": "2025-02-21T17:09:29.464Z"
   },
   {
    "duration": 22,
    "start_time": "2025-02-21T17:09:29.480Z"
   },
   {
    "duration": 19,
    "start_time": "2025-02-21T17:09:29.504Z"
   },
   {
    "duration": 9,
    "start_time": "2025-02-21T17:09:29.528Z"
   },
   {
    "duration": 64,
    "start_time": "2025-02-21T17:09:29.538Z"
   },
   {
    "duration": 22,
    "start_time": "2025-02-21T17:09:29.604Z"
   },
   {
    "duration": 16,
    "start_time": "2025-02-21T17:09:29.627Z"
   },
   {
    "duration": 26,
    "start_time": "2025-02-21T17:09:29.645Z"
   },
   {
    "duration": 10,
    "start_time": "2025-02-21T17:09:29.673Z"
   },
   {
    "duration": 15,
    "start_time": "2025-02-21T17:09:29.685Z"
   },
   {
    "duration": 14,
    "start_time": "2025-02-21T17:09:29.701Z"
   },
   {
    "duration": 9,
    "start_time": "2025-02-21T17:09:29.717Z"
   },
   {
    "duration": 117,
    "start_time": "2025-02-21T17:09:29.728Z"
   },
   {
    "duration": 11,
    "start_time": "2025-02-21T17:09:29.847Z"
   },
   {
    "duration": 27,
    "start_time": "2025-02-21T17:09:29.859Z"
   },
   {
    "duration": 26,
    "start_time": "2025-02-21T17:09:29.888Z"
   },
   {
    "duration": 13,
    "start_time": "2025-02-21T17:09:29.916Z"
   },
   {
    "duration": 37,
    "start_time": "2025-02-21T17:09:29.931Z"
   },
   {
    "duration": 22,
    "start_time": "2025-02-21T17:09:29.970Z"
   },
   {
    "duration": 3,
    "start_time": "2025-02-21T17:09:29.994Z"
   },
   {
    "duration": 55,
    "start_time": "2025-02-21T17:09:29.999Z"
   },
   {
    "duration": 67,
    "start_time": "2025-02-21T17:09:30.061Z"
   },
   {
    "duration": 70,
    "start_time": "2025-02-21T17:09:30.130Z"
   },
   {
    "duration": 51,
    "start_time": "2025-02-21T17:09:30.202Z"
   },
   {
    "duration": 78,
    "start_time": "2025-02-21T17:09:30.255Z"
   },
   {
    "duration": 235,
    "start_time": "2025-02-21T17:09:30.335Z"
   },
   {
    "duration": 8,
    "start_time": "2025-02-21T17:09:30.572Z"
   },
   {
    "duration": 333,
    "start_time": "2025-02-21T17:09:30.581Z"
   },
   {
    "duration": 170,
    "start_time": "2025-02-21T17:09:30.915Z"
   },
   {
    "duration": 16,
    "start_time": "2025-02-21T17:09:31.086Z"
   },
   {
    "duration": 34,
    "start_time": "2025-02-21T17:09:31.104Z"
   },
   {
    "duration": 364,
    "start_time": "2025-02-21T17:09:31.140Z"
   },
   {
    "duration": 19,
    "start_time": "2025-02-21T17:09:31.507Z"
   },
   {
    "duration": 172,
    "start_time": "2025-02-21T17:09:31.528Z"
   },
   {
    "duration": 5,
    "start_time": "2025-02-21T17:09:31.702Z"
   },
   {
    "duration": 14,
    "start_time": "2025-02-21T17:09:31.709Z"
   },
   {
    "duration": 140,
    "start_time": "2025-02-21T17:09:31.725Z"
   },
   {
    "duration": 67,
    "start_time": "2025-02-21T17:09:31.868Z"
   },
   {
    "duration": 242,
    "start_time": "2025-02-21T17:09:31.937Z"
   },
   {
    "duration": 221,
    "start_time": "2025-02-21T17:09:32.180Z"
   },
   {
    "duration": 284,
    "start_time": "2025-02-21T17:09:32.403Z"
   },
   {
    "duration": 90,
    "start_time": "2025-02-21T17:09:32.689Z"
   },
   {
    "duration": 436,
    "start_time": "2025-02-21T17:09:32.781Z"
   },
   {
    "duration": 46,
    "start_time": "2025-02-21T17:09:33.219Z"
   },
   {
    "duration": 632,
    "start_time": "2025-02-21T17:09:33.270Z"
   },
   {
    "duration": 24,
    "start_time": "2025-02-21T17:09:33.904Z"
   },
   {
    "duration": 288,
    "start_time": "2025-02-21T17:09:33.947Z"
   },
   {
    "duration": 61,
    "start_time": "2025-02-21T17:09:34.237Z"
   },
   {
    "duration": 6,
    "start_time": "2025-02-21T17:09:34.300Z"
   },
   {
    "duration": 175,
    "start_time": "2025-02-21T17:09:34.308Z"
   },
   {
    "duration": 30,
    "start_time": "2025-02-21T17:09:34.485Z"
   },
   {
    "duration": 241,
    "start_time": "2025-02-21T17:09:34.517Z"
   },
   {
    "duration": 81,
    "start_time": "2025-02-21T17:09:34.759Z"
   },
   {
    "duration": 0,
    "start_time": "2025-02-21T17:09:34.842Z"
   },
   {
    "duration": 98,
    "start_time": "2025-02-21T17:10:06.156Z"
   },
   {
    "duration": 28,
    "start_time": "2025-02-21T17:11:39.665Z"
   },
   {
    "duration": 32,
    "start_time": "2025-02-21T17:11:54.994Z"
   },
   {
    "duration": 33,
    "start_time": "2025-02-21T17:14:21.369Z"
   },
   {
    "duration": 31,
    "start_time": "2025-02-21T17:14:31.691Z"
   },
   {
    "duration": 15,
    "start_time": "2025-02-21T17:16:07.345Z"
   },
   {
    "duration": 9,
    "start_time": "2025-02-21T17:16:09.340Z"
   },
   {
    "duration": 26,
    "start_time": "2025-02-21T17:16:22.504Z"
   },
   {
    "duration": 37,
    "start_time": "2025-02-21T17:16:25.464Z"
   },
   {
    "duration": 530,
    "start_time": "2025-02-21T17:16:52.249Z"
   },
   {
    "duration": 9,
    "start_time": "2025-02-21T17:17:17.105Z"
   },
   {
    "duration": 11,
    "start_time": "2025-02-21T17:17:59.354Z"
   },
   {
    "duration": 23,
    "start_time": "2025-02-21T17:18:15.245Z"
   },
   {
    "duration": 18,
    "start_time": "2025-02-21T17:18:18.200Z"
   },
   {
    "duration": 18,
    "start_time": "2025-02-21T17:18:26.518Z"
   },
   {
    "duration": 21,
    "start_time": "2025-02-21T17:18:30.133Z"
   },
   {
    "duration": 1220,
    "start_time": "2025-02-21T17:19:14.968Z"
   },
   {
    "duration": 3,
    "start_time": "2025-02-21T17:19:16.190Z"
   },
   {
    "duration": 90,
    "start_time": "2025-02-21T17:19:16.195Z"
   },
   {
    "duration": 22,
    "start_time": "2025-02-21T17:19:16.286Z"
   },
   {
    "duration": 44,
    "start_time": "2025-02-21T17:19:16.311Z"
   },
   {
    "duration": 41,
    "start_time": "2025-02-21T17:19:16.363Z"
   },
   {
    "duration": 45,
    "start_time": "2025-02-21T17:19:16.406Z"
   },
   {
    "duration": 18,
    "start_time": "2025-02-21T17:19:16.456Z"
   },
   {
    "duration": 12,
    "start_time": "2025-02-21T17:19:16.476Z"
   },
   {
    "duration": 10,
    "start_time": "2025-02-21T17:19:16.490Z"
   },
   {
    "duration": 30,
    "start_time": "2025-02-21T17:19:16.502Z"
   },
   {
    "duration": 104,
    "start_time": "2025-02-21T17:19:16.533Z"
   },
   {
    "duration": 101,
    "start_time": "2025-02-21T17:19:16.638Z"
   },
   {
    "duration": 20,
    "start_time": "2025-02-21T17:19:16.743Z"
   },
   {
    "duration": 55,
    "start_time": "2025-02-21T17:19:16.764Z"
   },
   {
    "duration": 19,
    "start_time": "2025-02-21T17:19:16.821Z"
   },
   {
    "duration": 23,
    "start_time": "2025-02-21T17:19:16.842Z"
   },
   {
    "duration": 19,
    "start_time": "2025-02-21T17:19:16.867Z"
   },
   {
    "duration": 3,
    "start_time": "2025-02-21T17:19:16.888Z"
   },
   {
    "duration": 13,
    "start_time": "2025-02-21T17:19:16.892Z"
   },
   {
    "duration": 74,
    "start_time": "2025-02-21T17:19:16.906Z"
   },
   {
    "duration": 18,
    "start_time": "2025-02-21T17:19:16.982Z"
   },
   {
    "duration": 101,
    "start_time": "2025-02-21T17:19:17.001Z"
   },
   {
    "duration": 29,
    "start_time": "2025-02-21T17:19:17.104Z"
   },
   {
    "duration": 8,
    "start_time": "2025-02-21T17:19:17.135Z"
   },
   {
    "duration": 16,
    "start_time": "2025-02-21T17:19:17.145Z"
   },
   {
    "duration": 27,
    "start_time": "2025-02-21T17:19:17.167Z"
   },
   {
    "duration": 6,
    "start_time": "2025-02-21T17:19:17.196Z"
   },
   {
    "duration": 22,
    "start_time": "2025-02-21T17:19:17.204Z"
   },
   {
    "duration": 21,
    "start_time": "2025-02-21T17:19:17.255Z"
   },
   {
    "duration": 11,
    "start_time": "2025-02-21T17:19:17.279Z"
   },
   {
    "duration": 10,
    "start_time": "2025-02-21T17:19:17.292Z"
   },
   {
    "duration": 11,
    "start_time": "2025-02-21T17:19:17.303Z"
   },
   {
    "duration": 36,
    "start_time": "2025-02-21T17:19:17.316Z"
   },
   {
    "duration": 23,
    "start_time": "2025-02-21T17:19:17.353Z"
   },
   {
    "duration": 18,
    "start_time": "2025-02-21T17:19:17.378Z"
   },
   {
    "duration": 6,
    "start_time": "2025-02-21T17:19:17.397Z"
   },
   {
    "duration": 109,
    "start_time": "2025-02-21T17:19:17.404Z"
   },
   {
    "duration": 13,
    "start_time": "2025-02-21T17:19:17.514Z"
   },
   {
    "duration": 8,
    "start_time": "2025-02-21T17:19:17.529Z"
   },
   {
    "duration": 29,
    "start_time": "2025-02-21T17:19:17.542Z"
   },
   {
    "duration": 14,
    "start_time": "2025-02-21T17:19:17.573Z"
   },
   {
    "duration": 14,
    "start_time": "2025-02-21T17:19:17.588Z"
   },
   {
    "duration": 4,
    "start_time": "2025-02-21T17:19:17.604Z"
   },
   {
    "duration": 12,
    "start_time": "2025-02-21T17:19:17.609Z"
   },
   {
    "duration": 21,
    "start_time": "2025-02-21T17:19:17.623Z"
   },
   {
    "duration": 27,
    "start_time": "2025-02-21T17:19:17.645Z"
   },
   {
    "duration": 26,
    "start_time": "2025-02-21T17:19:17.673Z"
   },
   {
    "duration": 30,
    "start_time": "2025-02-21T17:19:17.701Z"
   },
   {
    "duration": 190,
    "start_time": "2025-02-21T17:19:17.733Z"
   },
   {
    "duration": 6,
    "start_time": "2025-02-21T17:19:17.925Z"
   },
   {
    "duration": 156,
    "start_time": "2025-02-21T17:19:17.933Z"
   },
   {
    "duration": 191,
    "start_time": "2025-02-21T17:19:18.091Z"
   },
   {
    "duration": 18,
    "start_time": "2025-02-21T17:19:18.284Z"
   },
   {
    "duration": 23,
    "start_time": "2025-02-21T17:19:18.305Z"
   },
   {
    "duration": 311,
    "start_time": "2025-02-21T17:19:18.348Z"
   },
   {
    "duration": 18,
    "start_time": "2025-02-21T17:19:18.661Z"
   },
   {
    "duration": 216,
    "start_time": "2025-02-21T17:19:18.681Z"
   },
   {
    "duration": 4,
    "start_time": "2025-02-21T17:19:18.898Z"
   },
   {
    "duration": 6,
    "start_time": "2025-02-21T17:19:18.904Z"
   },
   {
    "duration": 3,
    "start_time": "2025-02-21T17:19:18.912Z"
   },
   {
    "duration": 62,
    "start_time": "2025-02-21T17:19:18.917Z"
   },
   {
    "duration": 238,
    "start_time": "2025-02-21T17:19:18.980Z"
   },
   {
    "duration": 218,
    "start_time": "2025-02-21T17:19:19.220Z"
   },
   {
    "duration": 265,
    "start_time": "2025-02-21T17:19:19.440Z"
   },
   {
    "duration": 53,
    "start_time": "2025-02-21T17:19:19.706Z"
   },
   {
    "duration": 342,
    "start_time": "2025-02-21T17:19:19.761Z"
   },
   {
    "duration": 31,
    "start_time": "2025-02-21T17:19:20.105Z"
   },
   {
    "duration": 515,
    "start_time": "2025-02-21T17:19:20.151Z"
   },
   {
    "duration": 22,
    "start_time": "2025-02-21T17:19:20.671Z"
   },
   {
    "duration": 343,
    "start_time": "2025-02-21T17:19:20.695Z"
   },
   {
    "duration": 39,
    "start_time": "2025-02-21T17:19:21.039Z"
   },
   {
    "duration": 25,
    "start_time": "2025-02-21T17:19:21.080Z"
   },
   {
    "duration": 130,
    "start_time": "2025-02-21T17:19:21.107Z"
   },
   {
    "duration": 44,
    "start_time": "2025-02-21T17:19:21.238Z"
   },
   {
    "duration": 177,
    "start_time": "2025-02-21T17:19:21.284Z"
   },
   {
    "duration": 8,
    "start_time": "2025-02-21T17:19:21.468Z"
   },
   {
    "duration": 56,
    "start_time": "2025-02-21T17:19:21.477Z"
   },
   {
    "duration": 25,
    "start_time": "2025-02-21T17:19:21.535Z"
   },
   {
    "duration": 1244,
    "start_time": "2025-02-21T17:21:24.963Z"
   },
   {
    "duration": 3,
    "start_time": "2025-02-21T17:21:26.209Z"
   },
   {
    "duration": 104,
    "start_time": "2025-02-21T17:21:26.213Z"
   },
   {
    "duration": 36,
    "start_time": "2025-02-21T17:21:26.319Z"
   },
   {
    "duration": 28,
    "start_time": "2025-02-21T17:21:26.360Z"
   },
   {
    "duration": 91,
    "start_time": "2025-02-21T17:21:26.391Z"
   },
   {
    "duration": 7,
    "start_time": "2025-02-21T17:21:26.483Z"
   },
   {
    "duration": 12,
    "start_time": "2025-02-21T17:21:26.491Z"
   },
   {
    "duration": 16,
    "start_time": "2025-02-21T17:21:26.504Z"
   },
   {
    "duration": 13,
    "start_time": "2025-02-21T17:21:26.521Z"
   },
   {
    "duration": 10,
    "start_time": "2025-02-21T17:21:26.536Z"
   },
   {
    "duration": 87,
    "start_time": "2025-02-21T17:21:26.550Z"
   },
   {
    "duration": 15,
    "start_time": "2025-02-21T17:21:26.639Z"
   },
   {
    "duration": 123,
    "start_time": "2025-02-21T17:21:26.658Z"
   },
   {
    "duration": 15,
    "start_time": "2025-02-21T17:21:26.783Z"
   },
   {
    "duration": 12,
    "start_time": "2025-02-21T17:21:26.800Z"
   },
   {
    "duration": 6,
    "start_time": "2025-02-21T17:21:26.813Z"
   },
   {
    "duration": 13,
    "start_time": "2025-02-21T17:21:26.820Z"
   },
   {
    "duration": 3,
    "start_time": "2025-02-21T17:21:26.835Z"
   },
   {
    "duration": 24,
    "start_time": "2025-02-21T17:21:26.839Z"
   },
   {
    "duration": 58,
    "start_time": "2025-02-21T17:21:26.872Z"
   },
   {
    "duration": 32,
    "start_time": "2025-02-21T17:21:26.931Z"
   },
   {
    "duration": 13,
    "start_time": "2025-02-21T17:21:26.969Z"
   },
   {
    "duration": 31,
    "start_time": "2025-02-21T17:21:26.984Z"
   },
   {
    "duration": 72,
    "start_time": "2025-02-21T17:21:27.017Z"
   },
   {
    "duration": 22,
    "start_time": "2025-02-21T17:21:27.090Z"
   },
   {
    "duration": 18,
    "start_time": "2025-02-21T17:21:27.113Z"
   },
   {
    "duration": 4,
    "start_time": "2025-02-21T17:21:27.133Z"
   },
   {
    "duration": 21,
    "start_time": "2025-02-21T17:21:27.138Z"
   },
   {
    "duration": 18,
    "start_time": "2025-02-21T17:21:27.160Z"
   },
   {
    "duration": 7,
    "start_time": "2025-02-21T17:21:27.180Z"
   },
   {
    "duration": 6,
    "start_time": "2025-02-21T17:21:27.189Z"
   },
   {
    "duration": 8,
    "start_time": "2025-02-21T17:21:27.196Z"
   },
   {
    "duration": 4,
    "start_time": "2025-02-21T17:21:27.206Z"
   },
   {
    "duration": 4,
    "start_time": "2025-02-21T17:21:27.211Z"
   },
   {
    "duration": 41,
    "start_time": "2025-02-21T17:21:27.217Z"
   },
   {
    "duration": 14,
    "start_time": "2025-02-21T17:21:27.259Z"
   },
   {
    "duration": 7,
    "start_time": "2025-02-21T17:21:27.275Z"
   },
   {
    "duration": 12,
    "start_time": "2025-02-21T17:21:27.284Z"
   },
   {
    "duration": 6,
    "start_time": "2025-02-21T17:21:27.297Z"
   },
   {
    "duration": 5,
    "start_time": "2025-02-21T17:21:27.308Z"
   },
   {
    "duration": 14,
    "start_time": "2025-02-21T17:21:27.314Z"
   },
   {
    "duration": 13,
    "start_time": "2025-02-21T17:21:27.330Z"
   },
   {
    "duration": 14,
    "start_time": "2025-02-21T17:21:27.347Z"
   },
   {
    "duration": 22,
    "start_time": "2025-02-21T17:21:27.363Z"
   },
   {
    "duration": 5,
    "start_time": "2025-02-21T17:21:27.386Z"
   },
   {
    "duration": 19,
    "start_time": "2025-02-21T17:21:27.393Z"
   },
   {
    "duration": 114,
    "start_time": "2025-02-21T17:21:27.413Z"
   },
   {
    "duration": 48,
    "start_time": "2025-02-21T17:21:27.529Z"
   },
   {
    "duration": 204,
    "start_time": "2025-02-21T17:21:27.578Z"
   },
   {
    "duration": 5,
    "start_time": "2025-02-21T17:21:27.784Z"
   },
   {
    "duration": 245,
    "start_time": "2025-02-21T17:21:27.791Z"
   },
   {
    "duration": 180,
    "start_time": "2025-02-21T17:21:28.038Z"
   },
   {
    "duration": 19,
    "start_time": "2025-02-21T17:21:28.253Z"
   },
   {
    "duration": 26,
    "start_time": "2025-02-21T17:21:28.274Z"
   },
   {
    "duration": 623,
    "start_time": "2025-02-21T17:21:28.302Z"
   },
   {
    "duration": 51,
    "start_time": "2025-02-21T17:21:28.932Z"
   },
   {
    "duration": 462,
    "start_time": "2025-02-21T17:21:28.987Z"
   },
   {
    "duration": 6,
    "start_time": "2025-02-21T17:21:29.451Z"
   },
   {
    "duration": 47,
    "start_time": "2025-02-21T17:21:29.458Z"
   },
   {
    "duration": 46,
    "start_time": "2025-02-21T17:21:29.507Z"
   },
   {
    "duration": 105,
    "start_time": "2025-02-21T17:21:29.559Z"
   },
   {
    "duration": 336,
    "start_time": "2025-02-21T17:21:29.665Z"
   },
   {
    "duration": 331,
    "start_time": "2025-02-21T17:21:30.003Z"
   },
   {
    "duration": 275,
    "start_time": "2025-02-21T17:21:30.336Z"
   },
   {
    "duration": 26,
    "start_time": "2025-02-21T17:21:30.613Z"
   },
   {
    "duration": 464,
    "start_time": "2025-02-21T17:21:30.652Z"
   },
   {
    "duration": 35,
    "start_time": "2025-02-21T17:21:31.117Z"
   },
   {
    "duration": 525,
    "start_time": "2025-02-21T17:21:31.154Z"
   },
   {
    "duration": 22,
    "start_time": "2025-02-21T17:21:31.680Z"
   },
   {
    "duration": 315,
    "start_time": "2025-02-21T17:21:31.704Z"
   },
   {
    "duration": 61,
    "start_time": "2025-02-21T17:21:32.020Z"
   },
   {
    "duration": 5,
    "start_time": "2025-02-21T17:21:32.083Z"
   },
   {
    "duration": 127,
    "start_time": "2025-02-21T17:21:32.090Z"
   },
   {
    "duration": 50,
    "start_time": "2025-02-21T17:21:32.218Z"
   },
   {
    "duration": 166,
    "start_time": "2025-02-21T17:21:32.276Z"
   },
   {
    "duration": 16,
    "start_time": "2025-02-21T17:21:32.449Z"
   },
   {
    "duration": 38,
    "start_time": "2025-02-21T17:21:32.476Z"
   },
   {
    "duration": 21,
    "start_time": "2025-02-21T17:21:32.516Z"
   },
   {
    "duration": 32,
    "start_time": "2025-02-21T17:22:24.031Z"
   },
   {
    "duration": 31,
    "start_time": "2025-02-21T17:22:36.127Z"
   },
   {
    "duration": 21,
    "start_time": "2025-02-21T17:22:45.511Z"
   },
   {
    "duration": 28,
    "start_time": "2025-02-21T17:22:54.036Z"
   },
   {
    "duration": 1282,
    "start_time": "2025-02-21T17:23:34.772Z"
   },
   {
    "duration": 2,
    "start_time": "2025-02-21T17:23:36.056Z"
   },
   {
    "duration": 128,
    "start_time": "2025-02-21T17:23:36.059Z"
   },
   {
    "duration": 19,
    "start_time": "2025-02-21T17:23:36.188Z"
   },
   {
    "duration": 15,
    "start_time": "2025-02-21T17:23:36.208Z"
   },
   {
    "duration": 50,
    "start_time": "2025-02-21T17:23:36.225Z"
   },
   {
    "duration": 6,
    "start_time": "2025-02-21T17:23:36.279Z"
   },
   {
    "duration": 28,
    "start_time": "2025-02-21T17:23:36.287Z"
   },
   {
    "duration": 12,
    "start_time": "2025-02-21T17:23:36.317Z"
   },
   {
    "duration": 7,
    "start_time": "2025-02-21T17:23:36.332Z"
   },
   {
    "duration": 34,
    "start_time": "2025-02-21T17:23:36.341Z"
   },
   {
    "duration": 147,
    "start_time": "2025-02-21T17:23:36.377Z"
   },
   {
    "duration": 19,
    "start_time": "2025-02-21T17:23:36.526Z"
   },
   {
    "duration": 24,
    "start_time": "2025-02-21T17:23:36.546Z"
   },
   {
    "duration": 34,
    "start_time": "2025-02-21T17:23:36.571Z"
   },
   {
    "duration": 181,
    "start_time": "2025-02-21T17:23:36.607Z"
   },
   {
    "duration": 16,
    "start_time": "2025-02-21T17:23:36.790Z"
   },
   {
    "duration": 5,
    "start_time": "2025-02-21T17:23:36.808Z"
   },
   {
    "duration": 23,
    "start_time": "2025-02-21T17:23:36.814Z"
   },
   {
    "duration": 9,
    "start_time": "2025-02-21T17:23:36.839Z"
   },
   {
    "duration": 75,
    "start_time": "2025-02-21T17:23:36.850Z"
   },
   {
    "duration": 19,
    "start_time": "2025-02-21T17:23:36.926Z"
   },
   {
    "duration": 16,
    "start_time": "2025-02-21T17:23:36.946Z"
   },
   {
    "duration": 34,
    "start_time": "2025-02-21T17:23:36.963Z"
   },
   {
    "duration": 5,
    "start_time": "2025-02-21T17:23:36.998Z"
   },
   {
    "duration": 102,
    "start_time": "2025-02-21T17:23:37.005Z"
   },
   {
    "duration": 19,
    "start_time": "2025-02-21T17:23:37.109Z"
   },
   {
    "duration": 3,
    "start_time": "2025-02-21T17:23:37.133Z"
   },
   {
    "duration": 25,
    "start_time": "2025-02-21T17:23:37.138Z"
   },
   {
    "duration": 18,
    "start_time": "2025-02-21T17:23:37.164Z"
   },
   {
    "duration": 34,
    "start_time": "2025-02-21T17:23:37.184Z"
   },
   {
    "duration": 15,
    "start_time": "2025-02-21T17:23:37.219Z"
   },
   {
    "duration": 28,
    "start_time": "2025-02-21T17:23:37.236Z"
   },
   {
    "duration": 34,
    "start_time": "2025-02-21T17:23:37.266Z"
   },
   {
    "duration": 23,
    "start_time": "2025-02-21T17:23:37.302Z"
   },
   {
    "duration": 5,
    "start_time": "2025-02-21T17:23:37.326Z"
   },
   {
    "duration": 48,
    "start_time": "2025-02-21T17:23:37.332Z"
   },
   {
    "duration": 13,
    "start_time": "2025-02-21T17:23:37.381Z"
   },
   {
    "duration": 28,
    "start_time": "2025-02-21T17:23:37.396Z"
   },
   {
    "duration": 149,
    "start_time": "2025-02-21T17:23:37.426Z"
   },
   {
    "duration": 8,
    "start_time": "2025-02-21T17:23:37.578Z"
   },
   {
    "duration": 12,
    "start_time": "2025-02-21T17:23:37.588Z"
   },
   {
    "duration": 19,
    "start_time": "2025-02-21T17:23:37.602Z"
   },
   {
    "duration": 4,
    "start_time": "2025-02-21T17:23:37.622Z"
   },
   {
    "duration": 12,
    "start_time": "2025-02-21T17:23:37.627Z"
   },
   {
    "duration": 5,
    "start_time": "2025-02-21T17:23:37.640Z"
   },
   {
    "duration": 28,
    "start_time": "2025-02-21T17:23:37.649Z"
   },
   {
    "duration": 19,
    "start_time": "2025-02-21T17:23:37.679Z"
   },
   {
    "duration": 34,
    "start_time": "2025-02-21T17:23:37.700Z"
   },
   {
    "duration": 204,
    "start_time": "2025-02-21T17:23:37.736Z"
   },
   {
    "duration": 21,
    "start_time": "2025-02-21T17:23:37.947Z"
   },
   {
    "duration": 151,
    "start_time": "2025-02-21T17:23:37.973Z"
   },
   {
    "duration": 202,
    "start_time": "2025-02-21T17:23:38.125Z"
   },
   {
    "duration": 45,
    "start_time": "2025-02-21T17:23:38.328Z"
   },
   {
    "duration": 18,
    "start_time": "2025-02-21T17:23:38.380Z"
   },
   {
    "duration": 381,
    "start_time": "2025-02-21T17:23:38.399Z"
   },
   {
    "duration": 14,
    "start_time": "2025-02-21T17:23:38.782Z"
   },
   {
    "duration": 220,
    "start_time": "2025-02-21T17:23:38.797Z"
   },
   {
    "duration": 4,
    "start_time": "2025-02-21T17:23:39.019Z"
   },
   {
    "duration": 86,
    "start_time": "2025-02-21T17:23:39.024Z"
   },
   {
    "duration": 6,
    "start_time": "2025-02-21T17:23:39.112Z"
   },
   {
    "duration": 61,
    "start_time": "2025-02-21T17:23:39.120Z"
   },
   {
    "duration": 237,
    "start_time": "2025-02-21T17:23:39.182Z"
   },
   {
    "duration": 232,
    "start_time": "2025-02-21T17:23:39.421Z"
   },
   {
    "duration": 267,
    "start_time": "2025-02-21T17:23:39.662Z"
   },
   {
    "duration": 39,
    "start_time": "2025-02-21T17:23:39.930Z"
   },
   {
    "duration": 361,
    "start_time": "2025-02-21T17:23:39.970Z"
   },
   {
    "duration": 47,
    "start_time": "2025-02-21T17:23:40.332Z"
   },
   {
    "duration": 510,
    "start_time": "2025-02-21T17:23:40.381Z"
   },
   {
    "duration": 23,
    "start_time": "2025-02-21T17:23:40.893Z"
   },
   {
    "duration": 315,
    "start_time": "2025-02-21T17:23:40.918Z"
   },
   {
    "duration": 56,
    "start_time": "2025-02-21T17:23:41.235Z"
   },
   {
    "duration": 5,
    "start_time": "2025-02-21T17:23:41.293Z"
   },
   {
    "duration": 138,
    "start_time": "2025-02-21T17:23:41.299Z"
   },
   {
    "duration": 42,
    "start_time": "2025-02-21T17:23:41.438Z"
   },
   {
    "duration": 222,
    "start_time": "2025-02-21T17:23:41.481Z"
   },
   {
    "duration": 27,
    "start_time": "2025-02-21T17:23:41.705Z"
   },
   {
    "duration": 50,
    "start_time": "2025-02-21T17:23:41.734Z"
   },
   {
    "duration": 126,
    "start_time": "2025-02-21T17:23:41.785Z"
   },
   {
    "duration": 19,
    "start_time": "2025-02-21T17:23:41.912Z"
   },
   {
    "duration": 7,
    "start_time": "2025-02-21T17:23:41.932Z"
   },
   {
    "duration": 40,
    "start_time": "2025-02-21T17:23:41.944Z"
   },
   {
    "duration": 46,
    "start_time": "2025-02-21T17:23:41.986Z"
   },
   {
    "duration": 1542,
    "start_time": "2025-02-24T15:42:23.170Z"
   },
   {
    "duration": 3,
    "start_time": "2025-02-24T15:42:24.714Z"
   },
   {
    "duration": 102,
    "start_time": "2025-02-24T15:42:24.719Z"
   },
   {
    "duration": 21,
    "start_time": "2025-02-24T15:42:24.823Z"
   },
   {
    "duration": 24,
    "start_time": "2025-02-24T15:42:24.860Z"
   },
   {
    "duration": 67,
    "start_time": "2025-02-24T15:42:24.886Z"
   },
   {
    "duration": 9,
    "start_time": "2025-02-24T15:42:24.955Z"
   },
   {
    "duration": 48,
    "start_time": "2025-02-24T15:42:24.966Z"
   },
   {
    "duration": 40,
    "start_time": "2025-02-24T15:42:25.015Z"
   },
   {
    "duration": 22,
    "start_time": "2025-02-24T15:42:25.057Z"
   },
   {
    "duration": 8,
    "start_time": "2025-02-24T15:42:25.081Z"
   },
   {
    "duration": 4,
    "start_time": "2025-02-24T15:42:25.091Z"
   },
   {
    "duration": 29,
    "start_time": "2025-02-24T15:42:25.097Z"
   },
   {
    "duration": 14,
    "start_time": "2025-02-24T15:42:25.129Z"
   },
   {
    "duration": 31,
    "start_time": "2025-02-24T15:42:25.145Z"
   },
   {
    "duration": 13,
    "start_time": "2025-02-24T15:42:25.179Z"
   },
   {
    "duration": 11,
    "start_time": "2025-02-24T15:42:25.194Z"
   },
   {
    "duration": 9,
    "start_time": "2025-02-24T15:42:25.207Z"
   },
   {
    "duration": 4,
    "start_time": "2025-02-24T15:42:25.218Z"
   },
   {
    "duration": 15,
    "start_time": "2025-02-24T15:42:25.223Z"
   },
   {
    "duration": 78,
    "start_time": "2025-02-24T15:42:25.240Z"
   },
   {
    "duration": 20,
    "start_time": "2025-02-24T15:42:25.319Z"
   },
   {
    "duration": 28,
    "start_time": "2025-02-24T15:42:25.341Z"
   },
   {
    "duration": 45,
    "start_time": "2025-02-24T15:42:25.371Z"
   },
   {
    "duration": 53,
    "start_time": "2025-02-24T15:42:25.418Z"
   },
   {
    "duration": 12,
    "start_time": "2025-02-24T15:42:25.473Z"
   },
   {
    "duration": 20,
    "start_time": "2025-02-24T15:42:25.486Z"
   },
   {
    "duration": 6,
    "start_time": "2025-02-24T15:42:25.508Z"
   },
   {
    "duration": 27,
    "start_time": "2025-02-24T15:42:25.516Z"
   },
   {
    "duration": 31,
    "start_time": "2025-02-24T15:42:25.545Z"
   },
   {
    "duration": 9,
    "start_time": "2025-02-24T15:42:25.578Z"
   },
   {
    "duration": 6,
    "start_time": "2025-02-24T15:42:25.589Z"
   },
   {
    "duration": 9,
    "start_time": "2025-02-24T15:42:25.597Z"
   },
   {
    "duration": 16,
    "start_time": "2025-02-24T15:42:25.607Z"
   },
   {
    "duration": 16,
    "start_time": "2025-02-24T15:42:25.625Z"
   },
   {
    "duration": 21,
    "start_time": "2025-02-24T15:42:25.643Z"
   },
   {
    "duration": 12,
    "start_time": "2025-02-24T15:42:25.666Z"
   },
   {
    "duration": 30,
    "start_time": "2025-02-24T15:42:25.680Z"
   },
   {
    "duration": 17,
    "start_time": "2025-02-24T15:42:25.712Z"
   },
   {
    "duration": 13,
    "start_time": "2025-02-24T15:42:25.731Z"
   },
   {
    "duration": 6,
    "start_time": "2025-02-24T15:42:25.749Z"
   },
   {
    "duration": 9,
    "start_time": "2025-02-24T15:42:25.757Z"
   },
   {
    "duration": 19,
    "start_time": "2025-02-24T15:42:25.768Z"
   },
   {
    "duration": 4,
    "start_time": "2025-02-24T15:42:25.791Z"
   },
   {
    "duration": 15,
    "start_time": "2025-02-24T15:42:25.797Z"
   },
   {
    "duration": 8,
    "start_time": "2025-02-24T15:42:25.814Z"
   },
   {
    "duration": 22,
    "start_time": "2025-02-24T15:42:25.824Z"
   },
   {
    "duration": 38,
    "start_time": "2025-02-24T15:42:25.848Z"
   },
   {
    "duration": 34,
    "start_time": "2025-02-24T15:42:25.888Z"
   },
   {
    "duration": 237,
    "start_time": "2025-02-24T15:42:25.924Z"
   },
   {
    "duration": 14,
    "start_time": "2025-02-24T15:42:26.164Z"
   },
   {
    "duration": 167,
    "start_time": "2025-02-24T15:42:26.180Z"
   },
   {
    "duration": 188,
    "start_time": "2025-02-24T15:42:26.348Z"
   },
   {
    "duration": 12,
    "start_time": "2025-02-24T15:42:26.538Z"
   },
   {
    "duration": 30,
    "start_time": "2025-02-24T15:42:26.560Z"
   },
   {
    "duration": 322,
    "start_time": "2025-02-24T15:42:26.592Z"
   },
   {
    "duration": 18,
    "start_time": "2025-02-24T15:42:26.916Z"
   },
   {
    "duration": 183,
    "start_time": "2025-02-24T15:42:26.936Z"
   },
   {
    "duration": 4,
    "start_time": "2025-02-24T15:42:27.121Z"
   },
   {
    "duration": 6,
    "start_time": "2025-02-24T15:42:27.126Z"
   },
   {
    "duration": 5,
    "start_time": "2025-02-24T15:42:27.134Z"
   },
   {
    "duration": 49,
    "start_time": "2025-02-24T15:42:27.141Z"
   },
   {
    "duration": 251,
    "start_time": "2025-02-24T15:42:27.192Z"
   },
   {
    "duration": 254,
    "start_time": "2025-02-24T15:42:27.444Z"
   },
   {
    "duration": 286,
    "start_time": "2025-02-24T15:42:27.700Z"
   },
   {
    "duration": 28,
    "start_time": "2025-02-24T15:42:27.988Z"
   },
   {
    "duration": 469,
    "start_time": "2025-02-24T15:42:28.018Z"
   },
   {
    "duration": 25,
    "start_time": "2025-02-24T15:42:28.489Z"
   },
   {
    "duration": 639,
    "start_time": "2025-02-24T15:42:28.516Z"
   },
   {
    "duration": 35,
    "start_time": "2025-02-24T15:42:29.156Z"
   },
   {
    "duration": 372,
    "start_time": "2025-02-24T15:42:29.193Z"
   },
   {
    "duration": 41,
    "start_time": "2025-02-24T15:42:29.567Z"
   },
   {
    "duration": 5,
    "start_time": "2025-02-24T15:42:29.609Z"
   },
   {
    "duration": 141,
    "start_time": "2025-02-24T15:42:29.615Z"
   },
   {
    "duration": 38,
    "start_time": "2025-02-24T15:42:29.768Z"
   },
   {
    "duration": 210,
    "start_time": "2025-02-24T15:42:29.807Z"
   },
   {
    "duration": 27,
    "start_time": "2025-02-24T15:42:30.019Z"
   },
   {
    "duration": 105,
    "start_time": "2025-02-24T15:42:30.061Z"
   },
   {
    "duration": 28,
    "start_time": "2025-02-24T15:42:30.168Z"
   },
   {
    "duration": 24,
    "start_time": "2025-02-24T15:42:30.198Z"
   },
   {
    "duration": 1239,
    "start_time": "2025-02-24T16:01:12.977Z"
   },
   {
    "duration": 2,
    "start_time": "2025-02-24T16:01:14.218Z"
   },
   {
    "duration": 117,
    "start_time": "2025-02-24T16:01:14.222Z"
   },
   {
    "duration": 38,
    "start_time": "2025-02-24T16:01:14.341Z"
   },
   {
    "duration": 22,
    "start_time": "2025-02-24T16:01:14.382Z"
   },
   {
    "duration": 39,
    "start_time": "2025-02-24T16:01:14.405Z"
   },
   {
    "duration": 7,
    "start_time": "2025-02-24T16:01:14.446Z"
   },
   {
    "duration": 31,
    "start_time": "2025-02-24T16:01:14.455Z"
   },
   {
    "duration": 11,
    "start_time": "2025-02-24T16:01:14.489Z"
   },
   {
    "duration": 6,
    "start_time": "2025-02-24T16:01:14.503Z"
   },
   {
    "duration": 10,
    "start_time": "2025-02-24T16:01:14.510Z"
   },
   {
    "duration": 16,
    "start_time": "2025-02-24T16:01:14.521Z"
   },
   {
    "duration": 25,
    "start_time": "2025-02-24T16:01:14.539Z"
   },
   {
    "duration": 18,
    "start_time": "2025-02-24T16:01:14.571Z"
   },
   {
    "duration": 23,
    "start_time": "2025-02-24T16:01:14.591Z"
   },
   {
    "duration": 16,
    "start_time": "2025-02-24T16:01:14.616Z"
   },
   {
    "duration": 5,
    "start_time": "2025-02-24T16:01:14.634Z"
   },
   {
    "duration": 5,
    "start_time": "2025-02-24T16:01:14.641Z"
   },
   {
    "duration": 3,
    "start_time": "2025-02-24T16:01:14.648Z"
   },
   {
    "duration": 15,
    "start_time": "2025-02-24T16:01:14.653Z"
   },
   {
    "duration": 76,
    "start_time": "2025-02-24T16:01:14.670Z"
   },
   {
    "duration": 29,
    "start_time": "2025-02-24T16:01:14.748Z"
   },
   {
    "duration": 7,
    "start_time": "2025-02-24T16:01:14.780Z"
   },
   {
    "duration": 38,
    "start_time": "2025-02-24T16:01:14.789Z"
   },
   {
    "duration": 5,
    "start_time": "2025-02-24T16:01:14.829Z"
   },
   {
    "duration": 26,
    "start_time": "2025-02-24T16:01:14.836Z"
   },
   {
    "duration": 27,
    "start_time": "2025-02-24T16:01:14.870Z"
   },
   {
    "duration": 5,
    "start_time": "2025-02-24T16:01:14.903Z"
   },
   {
    "duration": 24,
    "start_time": "2025-02-24T16:01:14.962Z"
   },
   {
    "duration": 19,
    "start_time": "2025-02-24T16:01:14.988Z"
   },
   {
    "duration": 60,
    "start_time": "2025-02-24T16:01:15.009Z"
   },
   {
    "duration": 10,
    "start_time": "2025-02-24T16:01:15.071Z"
   },
   {
    "duration": 48,
    "start_time": "2025-02-24T16:01:15.082Z"
   },
   {
    "duration": 74,
    "start_time": "2025-02-24T16:01:15.131Z"
   },
   {
    "duration": 48,
    "start_time": "2025-02-24T16:01:15.207Z"
   },
   {
    "duration": 37,
    "start_time": "2025-02-24T16:01:15.257Z"
   },
   {
    "duration": 23,
    "start_time": "2025-02-24T16:01:15.296Z"
   },
   {
    "duration": 16,
    "start_time": "2025-02-24T16:01:15.321Z"
   },
   {
    "duration": 15,
    "start_time": "2025-02-24T16:01:15.339Z"
   },
   {
    "duration": 27,
    "start_time": "2025-02-24T16:01:15.356Z"
   },
   {
    "duration": 14,
    "start_time": "2025-02-24T16:01:15.385Z"
   },
   {
    "duration": 20,
    "start_time": "2025-02-24T16:01:15.401Z"
   },
   {
    "duration": 20,
    "start_time": "2025-02-24T16:01:15.423Z"
   },
   {
    "duration": 78,
    "start_time": "2025-02-24T16:01:15.445Z"
   },
   {
    "duration": 31,
    "start_time": "2025-02-24T16:01:15.525Z"
   },
   {
    "duration": 25,
    "start_time": "2025-02-24T16:01:15.558Z"
   },
   {
    "duration": 17,
    "start_time": "2025-02-24T16:01:15.585Z"
   },
   {
    "duration": 22,
    "start_time": "2025-02-24T16:01:15.603Z"
   },
   {
    "duration": 31,
    "start_time": "2025-02-24T16:01:15.626Z"
   },
   {
    "duration": 199,
    "start_time": "2025-02-24T16:01:15.666Z"
   },
   {
    "duration": 18,
    "start_time": "2025-02-24T16:01:15.867Z"
   },
   {
    "duration": 152,
    "start_time": "2025-02-24T16:01:15.887Z"
   },
   {
    "duration": 179,
    "start_time": "2025-02-24T16:01:16.040Z"
   },
   {
    "duration": 11,
    "start_time": "2025-02-24T16:01:16.221Z"
   },
   {
    "duration": 47,
    "start_time": "2025-02-24T16:01:16.234Z"
   },
   {
    "duration": 305,
    "start_time": "2025-02-24T16:01:16.283Z"
   },
   {
    "duration": 18,
    "start_time": "2025-02-24T16:01:16.593Z"
   },
   {
    "duration": 200,
    "start_time": "2025-02-24T16:01:16.613Z"
   },
   {
    "duration": 4,
    "start_time": "2025-02-24T16:01:16.815Z"
   },
   {
    "duration": 6,
    "start_time": "2025-02-24T16:01:16.821Z"
   },
   {
    "duration": 4,
    "start_time": "2025-02-24T16:01:16.829Z"
   },
   {
    "duration": 61,
    "start_time": "2025-02-24T16:01:16.835Z"
   },
   {
    "duration": 266,
    "start_time": "2025-02-24T16:01:16.898Z"
   },
   {
    "duration": 231,
    "start_time": "2025-02-24T16:01:17.166Z"
   },
   {
    "duration": 310,
    "start_time": "2025-02-24T16:01:17.399Z"
   },
   {
    "duration": 28,
    "start_time": "2025-02-24T16:01:17.711Z"
   },
   {
    "duration": 397,
    "start_time": "2025-02-24T16:01:17.741Z"
   },
   {
    "duration": 34,
    "start_time": "2025-02-24T16:01:18.140Z"
   },
   {
    "duration": 638,
    "start_time": "2025-02-24T16:01:18.176Z"
   },
   {
    "duration": 48,
    "start_time": "2025-02-24T16:01:18.816Z"
   },
   {
    "duration": 320,
    "start_time": "2025-02-24T16:01:18.868Z"
   },
   {
    "duration": 35,
    "start_time": "2025-02-24T16:01:19.191Z"
   },
   {
    "duration": 5,
    "start_time": "2025-02-24T16:01:19.228Z"
   },
   {
    "duration": 152,
    "start_time": "2025-02-24T16:01:19.234Z"
   },
   {
    "duration": 27,
    "start_time": "2025-02-24T16:01:19.388Z"
   },
   {
    "duration": 200,
    "start_time": "2025-02-24T16:01:19.417Z"
   },
   {
    "duration": 25,
    "start_time": "2025-02-24T16:01:19.619Z"
   },
   {
    "duration": 49,
    "start_time": "2025-02-24T16:01:19.645Z"
   },
   {
    "duration": 23,
    "start_time": "2025-02-24T16:01:19.696Z"
   },
   {
    "duration": 49,
    "start_time": "2025-02-24T16:01:19.720Z"
   },
   {
    "duration": 258,
    "start_time": "2025-02-24T16:03:44.210Z"
   },
   {
    "duration": 239,
    "start_time": "2025-02-24T16:03:47.590Z"
   },
   {
    "duration": 209,
    "start_time": "2025-02-24T16:03:50.584Z"
   },
   {
    "duration": 485,
    "start_time": "2025-02-24T16:03:55.194Z"
   },
   {
    "duration": 24,
    "start_time": "2025-02-24T16:03:59.393Z"
   },
   {
    "duration": 1365,
    "start_time": "2025-02-24T16:04:41.250Z"
   },
   {
    "duration": 3,
    "start_time": "2025-02-24T16:04:42.616Z"
   },
   {
    "duration": 108,
    "start_time": "2025-02-24T16:04:42.620Z"
   },
   {
    "duration": 19,
    "start_time": "2025-02-24T16:04:42.730Z"
   },
   {
    "duration": 38,
    "start_time": "2025-02-24T16:04:42.750Z"
   },
   {
    "duration": 38,
    "start_time": "2025-02-24T16:04:42.794Z"
   },
   {
    "duration": 6,
    "start_time": "2025-02-24T16:04:42.834Z"
   },
   {
    "duration": 12,
    "start_time": "2025-02-24T16:04:42.842Z"
   },
   {
    "duration": 22,
    "start_time": "2025-02-24T16:04:42.855Z"
   },
   {
    "duration": 20,
    "start_time": "2025-02-24T16:04:42.880Z"
   },
   {
    "duration": 21,
    "start_time": "2025-02-24T16:04:42.902Z"
   },
   {
    "duration": 4,
    "start_time": "2025-02-24T16:04:42.925Z"
   },
   {
    "duration": 12,
    "start_time": "2025-02-24T16:04:42.930Z"
   },
   {
    "duration": 15,
    "start_time": "2025-02-24T16:04:42.944Z"
   },
   {
    "duration": 30,
    "start_time": "2025-02-24T16:04:42.963Z"
   },
   {
    "duration": 13,
    "start_time": "2025-02-24T16:04:42.996Z"
   },
   {
    "duration": 5,
    "start_time": "2025-02-24T16:04:43.011Z"
   },
   {
    "duration": 5,
    "start_time": "2025-02-24T16:04:43.017Z"
   },
   {
    "duration": 3,
    "start_time": "2025-02-24T16:04:43.024Z"
   },
   {
    "duration": 11,
    "start_time": "2025-02-24T16:04:43.029Z"
   },
   {
    "duration": 82,
    "start_time": "2025-02-24T16:04:43.042Z"
   },
   {
    "duration": 22,
    "start_time": "2025-02-24T16:04:43.127Z"
   },
   {
    "duration": 19,
    "start_time": "2025-02-24T16:04:43.165Z"
   },
   {
    "duration": 32,
    "start_time": "2025-02-24T16:04:43.186Z"
   },
   {
    "duration": 5,
    "start_time": "2025-02-24T16:04:43.220Z"
   },
   {
    "duration": 9,
    "start_time": "2025-02-24T16:04:43.227Z"
   },
   {
    "duration": 47,
    "start_time": "2025-02-24T16:04:43.237Z"
   },
   {
    "duration": 6,
    "start_time": "2025-02-24T16:04:43.294Z"
   },
   {
    "duration": 17,
    "start_time": "2025-02-24T16:04:43.301Z"
   },
   {
    "duration": 14,
    "start_time": "2025-02-24T16:04:43.320Z"
   },
   {
    "duration": 42,
    "start_time": "2025-02-24T16:04:43.335Z"
   },
   {
    "duration": 14,
    "start_time": "2025-02-24T16:04:43.379Z"
   },
   {
    "duration": 8,
    "start_time": "2025-02-24T16:04:43.394Z"
   },
   {
    "duration": 12,
    "start_time": "2025-02-24T16:04:43.404Z"
   },
   {
    "duration": 12,
    "start_time": "2025-02-24T16:04:43.417Z"
   },
   {
    "duration": 15,
    "start_time": "2025-02-24T16:04:43.431Z"
   },
   {
    "duration": 43,
    "start_time": "2025-02-24T16:04:43.447Z"
   },
   {
    "duration": 10,
    "start_time": "2025-02-24T16:04:43.492Z"
   },
   {
    "duration": 15,
    "start_time": "2025-02-24T16:04:43.503Z"
   },
   {
    "duration": 8,
    "start_time": "2025-02-24T16:04:43.519Z"
   },
   {
    "duration": 9,
    "start_time": "2025-02-24T16:04:43.528Z"
   },
   {
    "duration": 10,
    "start_time": "2025-02-24T16:04:43.538Z"
   },
   {
    "duration": 13,
    "start_time": "2025-02-24T16:04:43.549Z"
   },
   {
    "duration": 3,
    "start_time": "2025-02-24T16:04:43.564Z"
   },
   {
    "duration": 35,
    "start_time": "2025-02-24T16:04:43.569Z"
   },
   {
    "duration": 7,
    "start_time": "2025-02-24T16:04:43.606Z"
   },
   {
    "duration": 21,
    "start_time": "2025-02-24T16:04:43.614Z"
   },
   {
    "duration": 20,
    "start_time": "2025-02-24T16:04:43.637Z"
   },
   {
    "duration": 52,
    "start_time": "2025-02-24T16:04:43.659Z"
   },
   {
    "duration": 238,
    "start_time": "2025-02-24T16:04:43.714Z"
   },
   {
    "duration": 12,
    "start_time": "2025-02-24T16:04:43.954Z"
   },
   {
    "duration": 182,
    "start_time": "2025-02-24T16:04:43.969Z"
   },
   {
    "duration": 180,
    "start_time": "2025-02-24T16:04:44.153Z"
   },
   {
    "duration": 13,
    "start_time": "2025-02-24T16:04:44.334Z"
   },
   {
    "duration": 34,
    "start_time": "2025-02-24T16:04:44.362Z"
   },
   {
    "duration": 320,
    "start_time": "2025-02-24T16:04:44.397Z"
   },
   {
    "duration": 12,
    "start_time": "2025-02-24T16:04:44.719Z"
   },
   {
    "duration": 190,
    "start_time": "2025-02-24T16:04:44.732Z"
   },
   {
    "duration": 4,
    "start_time": "2025-02-24T16:04:44.924Z"
   },
   {
    "duration": 6,
    "start_time": "2025-02-24T16:04:44.929Z"
   },
   {
    "duration": 6,
    "start_time": "2025-02-24T16:04:44.937Z"
   },
   {
    "duration": 52,
    "start_time": "2025-02-24T16:04:44.945Z"
   },
   {
    "duration": 247,
    "start_time": "2025-02-24T16:04:44.998Z"
   },
   {
    "duration": 252,
    "start_time": "2025-02-24T16:04:45.247Z"
   },
   {
    "duration": 292,
    "start_time": "2025-02-24T16:04:45.501Z"
   },
   {
    "duration": 29,
    "start_time": "2025-02-24T16:04:45.795Z"
   },
   {
    "duration": 678,
    "start_time": "2025-02-24T16:04:45.827Z"
   },
   {
    "duration": 77,
    "start_time": "2025-02-24T16:04:46.508Z"
   },
   {
    "duration": 1206,
    "start_time": "2025-02-24T16:04:46.592Z"
   },
   {
    "duration": 82,
    "start_time": "2025-02-24T16:04:47.800Z"
   },
   {
    "duration": 466,
    "start_time": "2025-02-24T16:04:47.884Z"
   },
   {
    "duration": 44,
    "start_time": "2025-02-24T16:04:48.352Z"
   },
   {
    "duration": 26,
    "start_time": "2025-02-24T16:04:48.397Z"
   },
   {
    "duration": 129,
    "start_time": "2025-02-24T16:04:48.425Z"
   },
   {
    "duration": 46,
    "start_time": "2025-02-24T16:04:48.555Z"
   },
   {
    "duration": 204,
    "start_time": "2025-02-24T16:04:48.603Z"
   },
   {
    "duration": 26,
    "start_time": "2025-02-24T16:04:48.809Z"
   },
   {
    "duration": 54,
    "start_time": "2025-02-24T16:04:48.837Z"
   },
   {
    "duration": 25,
    "start_time": "2025-02-24T16:04:48.893Z"
   },
   {
    "duration": 19,
    "start_time": "2025-02-24T16:04:48.919Z"
   },
   {
    "duration": 340,
    "start_time": "2025-02-24T16:05:40.180Z"
   }
  ],
  "kernelspec": {
   "display_name": "Python 3 (ipykernel)",
   "language": "python",
   "name": "python3"
  },
  "language_info": {
   "codemirror_mode": {
    "name": "ipython",
    "version": 3
   },
   "file_extension": ".py",
   "mimetype": "text/x-python",
   "name": "python",
   "nbconvert_exporter": "python",
   "pygments_lexer": "ipython3",
   "version": "3.9.5"
  },
  "toc": {
   "base_numbering": 1,
   "nav_menu": {},
   "number_sections": true,
   "sideBar": true,
   "skip_h1_title": true,
   "title_cell": "Table of Contents",
   "title_sidebar": "Contents",
   "toc_cell": false,
   "toc_position": {
    "height": "calc(100% - 180px)",
    "left": "10px",
    "top": "150px",
    "width": "288px"
   },
   "toc_section_display": true,
   "toc_window_display": true
  }
 },
 "nbformat": 4,
 "nbformat_minor": 5
}
